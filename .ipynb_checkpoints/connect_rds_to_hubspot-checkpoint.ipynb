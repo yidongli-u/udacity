{
 "cells": [
  {
   "cell_type": "code",
   "execution_count": 1,
   "metadata": {
    "collapsed": true
   },
   "outputs": [],
   "source": [
    "import psycopg2\n",
    "import pandas as pd\n",
    "#import numpy as np"
   ]
  },
  {
   "cell_type": "code",
   "execution_count": 2,
   "metadata": {},
   "outputs": [],
   "source": [
    "conn_hardy = psycopg2.connect(\"dbname='analytics' user='u_yidong' host='udacity-segment.c2zpsqalam7o.us-west-2.redshift.amazonaws.com' port='5439' password='Lyd580809?!'\")"
   ]
  },
  {
   "cell_type": "code",
   "execution_count": null,
   "metadata": {},
   "outputs": [],
   "source": [
    "connection = \"dbname='analytics' \\\n",
    "             user='awsdatapipeline' \\\n",
    "             host='udacity-segment.c2zpsqalam7o.us-west-2.redshift.amazonaws.com' \\\n",
    "             port='5439' \\\n",
    "             password='Know.it.13818'\"\n",
    "conn_hardy = psycopg2.connect(connection)"
   ]
  },
  {
   "cell_type": "code",
   "execution_count": 3,
   "metadata": {
    "collapsed": true
   },
   "outputs": [],
   "source": [
    "sql = \"SELECT distinct anonymous_id,email,udacity_id,firstname,lastname,phone,zip\\\n",
    "             ,nanodegree_interested,location_interested,startdate_interested\\\n",
    "       FROM analytics_tables.uconnect_lead_form\\\n",
    "       WHERE createdate >= '2017-12-01'\""
   ]
  },
  {
   "cell_type": "code",
   "execution_count": 4,
   "metadata": {},
   "outputs": [],
   "source": [
    "df = pd.read_sql(sql,conn_hardy)"
   ]
  },
  {
   "cell_type": "code",
   "execution_count": null,
   "metadata": {},
   "outputs": [],
   "source": [
    "df"
   ]
  },
  {
   "cell_type": "code",
   "execution_count": null,
   "metadata": {},
   "outputs": [],
   "source": [
    "df1 = df.set_index('anonymous_id')"
   ]
  },
  {
   "cell_type": "code",
   "execution_count": null,
   "metadata": {},
   "outputs": [],
   "source": [
    "df1"
   ]
  },
  {
   "cell_type": "code",
   "execution_count": null,
   "metadata": {
    "collapsed": true
   },
   "outputs": [],
   "source": []
  },
  {
   "cell_type": "code",
   "execution_count": null,
   "metadata": {},
   "outputs": [],
   "source": [
    "df1.to_dict(orient='index')"
   ]
  },
  {
   "cell_type": "code",
   "execution_count": null,
   "metadata": {
    "scrolled": true
   },
   "outputs": [],
   "source": [
    "df1.to_json(orient='index')"
   ]
  },
  {
   "cell_type": "code",
   "execution_count": null,
   "metadata": {},
   "outputs": [],
   "source": [
    "dict1 = {}\n",
    "\n",
    "for index,row in zip(df1.index,df1.values):\n",
    "    dict1[index] = [dict([(colname, row[i]) for i,colname in enumerate(df1.columns)])]\n"
   ]
  },
  {
   "cell_type": "code",
   "execution_count": null,
   "metadata": {},
   "outputs": [],
   "source": [
    "dict1+{'aida.hmlo@gmail.com': [{'firstname': 'Aida',\n",
    "   'lastname': 'Hashemlou',\n",
    "   'location_interested': 'LA',\n",
    "   'nanodegre_name': 'Android Developement',\n",
    "   'phone': None,\n",
    "   'start_date_interested': 'nov',\n",
    "   'udacity_id': '10129844605',\n",
    "   'zip': None}]}"
   ]
  },
  {
   "cell_type": "code",
   "execution_count": null,
   "metadata": {
    "collapsed": true
   },
   "outputs": [],
   "source": [
    "def merge_two_dicts(x, y):\n",
    "    z = x.copy()\n",
    "    z.update(y)\n",
    "    return z"
   ]
  },
  {
   "cell_type": "code",
   "execution_count": null,
   "metadata": {},
   "outputs": [],
   "source": [
    "import requests\n",
    "dict1 = {}\n",
    "\n",
    "for index,row in zip(df1.index,df1.values):\n",
    "    dict2 = []\n",
    "    for i,colname in enumerate(df1.columns):\n",
    "        dict2 = dict2 + [dict([(\"property\",colname),(\"value\",row[i])])]\n",
    "    dict1 = dict([(\"anonymous_id\",index),(\"properties\",dict2)])\n",
    "    requests.post('https://api.hubapi.com/contacts/v1/contact/', json=dict1, params={'hapikey': 'eac5b831-4bd2-4bd4-9783-84b561dcf791'})\n"
   ]
  },
  {
   "cell_type": "code",
   "execution_count": null,
   "metadata": {},
   "outputs": [],
   "source": [
    "dict1"
   ]
  },
  {
   "cell_type": "code",
   "execution_count": null,
   "metadata": {
    "collapsed": true
   },
   "outputs": [],
   "source": []
  },
  {
   "cell_type": "code",
   "execution_count": null,
   "metadata": {},
   "outputs": [],
   "source": [
    "d = [ \n",
    "    dict([\n",
    "        dict([(colname, row[i])]) for i,colname in enumerate(df1.columns)\n",
    "             \n",
    "         ])\n",
    "    for row in df1.values\n",
    "]"
   ]
  },
  {
   "cell_type": "code",
   "execution_count": null,
   "metadata": {
    "collapsed": true
   },
   "outputs": [],
   "source": []
  },
  {
   "cell_type": "code",
   "execution_count": null,
   "metadata": {},
   "outputs": [],
   "source": [
    "[row for index,row in zip(df1.index,df1.values)]"
   ]
  },
  {
   "cell_type": "code",
   "execution_count": null,
   "metadata": {},
   "outputs": [],
   "source": [
    "d"
   ]
  },
  {
   "cell_type": "code",
   "execution_count": null,
   "metadata": {
    "collapsed": true
   },
   "outputs": [],
   "source": [
    "#return json.dumps(d)"
   ]
  },
  {
   "cell_type": "code",
   "execution_count": null,
   "metadata": {
    "collapsed": true
   },
   "outputs": [],
   "source": []
  },
  {
   "cell_type": "code",
   "execution_count": null,
   "metadata": {
    "collapsed": true
   },
   "outputs": [],
   "source": []
  },
  {
   "cell_type": "code",
   "execution_count": null,
   "metadata": {},
   "outputs": [],
   "source": [
    "import json\n",
    "dict_of_df = df.to_dict(orient='records')"
   ]
  },
  {
   "cell_type": "code",
   "execution_count": null,
   "metadata": {},
   "outputs": [],
   "source": [
    "dict_of_df"
   ]
  },
  {
   "cell_type": "code",
   "execution_count": null,
   "metadata": {},
   "outputs": [],
   "source": [
    "df.reset_index().T.to_dict().values()"
   ]
  },
  {
   "cell_type": "code",
   "execution_count": null,
   "metadata": {
    "collapsed": true
   },
   "outputs": [],
   "source": []
  },
  {
   "cell_type": "code",
   "execution_count": null,
   "metadata": {
    "collapsed": true
   },
   "outputs": [],
   "source": []
  },
  {
   "cell_type": "code",
   "execution_count": 7,
   "metadata": {},
   "outputs": [
    {
     "data": {
      "text/plain": [
       "<Response [200]>"
      ]
     },
     "execution_count": 7,
     "metadata": {},
     "output_type": "execute_result"
    }
   ],
   "source": [
    "import requests\n",
    "\n",
    "\n",
    "contact_form = {\n",
    "  \"properties\": [\n",
    "    {\n",
    "      \"property\": \"email\",\n",
    "      \"value\": \"yidong@udacity.com\"\n",
    "    },\n",
    "    {\n",
    "      \"property\": \"udacity_id\",\n",
    "      \"value\": \"testing\"\n",
    "    },\n",
    "    {\n",
    "      \"property\": \"firstname\",\n",
    "      \"value\": \"Yidong\"\n",
    "    },\n",
    "    {\n",
    "      \"property\": \"lastname\",\n",
    "      \"value\": \"Li\"\n",
    "    },\n",
    "    {\n",
    "      \"property\": \"phone\",\n",
    "      \"value\": \"202-677-8791\"\n",
    "    },\n",
    "    {\n",
    "      \"property\": \"zip\",\n",
    "      \"value\": \"95051\"\n",
    "    },\n",
    "    {\n",
    "      \"property\": \"nanodegree_interested\",\n",
    "      \"value\": \"mlnd\"\n",
    "    },\n",
    "    {\n",
    "      \"property\": \"location_interested\",\n",
    "      \"value\": \"SF\"\n",
    "    },\n",
    "    {\n",
    "      \"property\": \"startdate_interested\",\n",
    "      \"value\": \"jan\"\n",
    "    }\n",
    "  ]\n",
    "}\n",
    "\n",
    "requests.post('https://api.hubapi.com/contacts/v1/contact/', json=contact_form, params={'hapikey': 'eac5b831-4bd2-4bd4-9783-84b561dcf791'})"
   ]
  },
  {
   "cell_type": "code",
   "execution_count": null,
   "metadata": {
    "collapsed": true
   },
   "outputs": [],
   "source": []
  },
  {
   "cell_type": "code",
   "execution_count": null,
   "metadata": {},
   "outputs": [],
   "source": [
    "import requests\n",
    "\n",
    "contact_form = {}\n",
    "\n",
    "for index,row in zip(df1.index,df1.values):\n",
    "    _dict = []\n",
    "    for i,colname in enumerate(df1.columns):\n",
    "        _dict = _dict + [dict([(\"property\",colname),(\"value\",row[i])])]\n",
    "    contact_form[index] = dict([(\"anonymous_id\",index),(\"properties\",_dict)])\n",
    "\n",
    "requests.post('https://api.hubapi.com/contacts/v1/contact/', json=contact_form, params={'hapikey': 'eac5b831-4bd2-4bd4-9783-84b561dcf791'})"
   ]
  },
  {
   "cell_type": "code",
   "execution_count": null,
   "metadata": {
    "scrolled": true
   },
   "outputs": [],
   "source": [
    "contact_form"
   ]
  },
  {
   "cell_type": "code",
   "execution_count": null,
   "metadata": {
    "collapsed": true
   },
   "outputs": [],
   "source": []
  },
  {
   "cell_type": "code",
   "execution_count": null,
   "metadata": {},
   "outputs": [],
   "source": [
    "import requests\n",
    "\n",
    "contact_form = [{'anonymous_id': 'test',\n",
    "  'properties': [{'property': 'email', 'value': 'yidong@udacity.com'},\n",
    "   {'property': 'udacity_id', 'value': 'test'},\n",
    "   {'property': 'firstname', 'value': 'Yidong'},\n",
    "   {'property': 'lastname', 'value': 'Li'},\n",
    "   {'property': 'phone', 'value': '2026778791'},\n",
    "   {'property': 'zip', 'value': '95051'},\n",
    "   {'property': 'nanodegree_interested', 'value': 'ipnd'},\n",
    "   {'property': 'location_interested', 'value': 'SF'},\n",
    "   {'property': 'startdate_interested', 'value': 'jan'}]}\n",
    "  ,\n",
    " {'anonymous_id': 'test2',\n",
    "  'properties': [{'property': 'email', 'value': 'yidong@udacity.com2'},\n",
    "   {'property': 'udacity_id', 'value': 'test2'},\n",
    "   {'property': 'firstname', 'value': 'Yidong2'},\n",
    "   {'property': 'lastname', 'value': 'Li2'},\n",
    "   {'property': 'phone', 'value': '20267787912'},\n",
    "   {'property': 'zip', 'value': '950512'},\n",
    "   {'property': 'nanodegree_interested', 'value': 'ipnd2'},\n",
    "   {'property': 'location_interested', 'value': 'SF2'},\n",
    "   {'property': 'startdate_interested', 'value': 'jan2'}]}]\n",
    "\n",
    "requests.post('https://api.hubapi.com/contacts/v1/contact/batch'\n",
    "              ,json=contact_form\n",
    "              ,params={'hapikey': 'eac5b831-4bd2-4bd4-9783-84b561dcf791'})"
   ]
  },
  {
   "cell_type": "code",
   "execution_count": null,
   "metadata": {
    "collapsed": true
   },
   "outputs": [],
   "source": []
  },
  {
   "cell_type": "code",
   "execution_count": null,
   "metadata": {
    "collapsed": true
   },
   "outputs": [],
   "source": []
  },
  {
   "cell_type": "code",
   "execution_count": null,
   "metadata": {
    "collapsed": true
   },
   "outputs": [],
   "source": []
  },
  {
   "cell_type": "code",
   "execution_count": 5,
   "metadata": {
    "collapsed": true
   },
   "outputs": [],
   "source": [
    "def send_hubspot_events(df, hubspot_write_key, event_type='contact'):\n",
    "    \"\"\"\n",
    "    Input is a dataframe with anonymous_id in it. If no anonymous_id, error is raised.\n",
    "    It converts the dataframe into a list of dictionaries and sends events to hubspot.\n",
    "    arguments:\n",
    "        df: Input DataFrame.\n",
    "        hubspot_write_key: Key to communicate with hubspot source.\n",
    "        event_type: By default it is set to 'contact' indicating that it will transfer data into Contacts.\n",
    "        In order to transfer data into Deal, set it to 'deal'.\n",
    "    \"\"\"\n",
    "\n",
    "    import requests\n",
    "    import pandas as pd\n",
    "\n",
    "    assert 'anonymous_id' in list(df.columns)\n",
    "    link = 'https://api.hubapi.com/contacts/v1/'+event_type+'/'\n",
    "\n",
    "    i = 0\n",
    "    max_queue_size = 10000\n",
    "    if event_type not in ('contact', 'deal'):\n",
    "        raise Exception('event_type must be one of: contact, deal')\n",
    "\n",
    "    form = df.set_index('anonymous_id')\n",
    "    contact_form = {}\n",
    "\n",
    "    for index,row in zip(form.index,form.values):\n",
    "        i += 1\n",
    "        properties = []\n",
    "        for a,colname in enumerate(form.columns):\n",
    "            properties = properties + [dict([(\"property\",colname),(\"value\",row[a])])]\n",
    "            contact_form = dict([(\"anonymous_id\",index),(\"properties\",properties)])\n",
    "            requests.post(link, json=contact_form, params={'hapikey': hubspot_write_key})\n",
    "        if i % max_queue_size == 0:\n",
    "            raise Exception('max_queue_size exceeded')"
   ]
  },
  {
   "cell_type": "code",
   "execution_count": 6,
   "metadata": {},
   "outputs": [],
   "source": [
    "send_hubspot_events(df, 'eac5b831-4bd2-4bd4-9783-84b561dcf791', event_type='contact')"
   ]
  },
  {
   "cell_type": "code",
   "execution_count": null,
   "metadata": {
    "collapsed": true
   },
   "outputs": [],
   "source": []
  },
  {
   "cell_type": "code",
   "execution_count": null,
   "metadata": {
    "collapsed": true
   },
   "outputs": [],
   "source": []
  },
  {
   "cell_type": "code",
   "execution_count": 10,
   "metadata": {},
   "outputs": [],
   "source": [
    "d = requests.get('https://api.hubapi.com/contacts/v1/contact/emails/batch/?email=yidong@udacity.com&hapikey=eac5b831-4bd2-4bd4-9783-84b561dcf791')"
   ]
  },
  {
   "cell_type": "code",
   "execution_count": 49,
   "metadata": {},
   "outputs": [
    {
     "data": {
      "text/plain": [
       "dict_keys(['12201'])"
      ]
     },
     "execution_count": 49,
     "metadata": {},
     "output_type": "execute_result"
    }
   ],
   "source": [
    "d.json().keys()"
   ]
  },
  {
   "cell_type": "code",
   "execution_count": null,
   "metadata": {
    "collapsed": true
   },
   "outputs": [],
   "source": []
  }
 ],
 "metadata": {
  "kernelspec": {
   "display_name": "Python 3",
   "language": "python",
   "name": "python3"
  },
  "language_info": {
   "codemirror_mode": {
    "name": "ipython",
    "version": 3
   },
   "file_extension": ".py",
   "mimetype": "text/x-python",
   "name": "python",
   "nbconvert_exporter": "python",
   "pygments_lexer": "ipython3",
   "version": "3.6.1"
  }
 },
 "nbformat": 4,
 "nbformat_minor": 2
}
