{
 "cells": [
  {
   "cell_type": "markdown",
   "metadata": {},
   "source": [
    "# what are the features influencing students successfully finish ND"
   ]
  },
  {
   "cell_type": "code",
   "execution_count": 1,
   "metadata": {},
   "outputs": [
    {
     "name": "stderr",
     "output_type": "stream",
     "text": [
      "/anaconda/lib/python3.6/site-packages/statsmodels/compat/pandas.py:56: FutureWarning: The pandas.core.datetools module is deprecated and will be removed in a future version. Please use the pandas.tseries module instead.\n",
      "  from pandas.core import datetools\n"
     ]
    }
   ],
   "source": [
    "import psycopg2\n",
    "import pandas as pd\n",
    "import numpy as np\n",
    "import seaborn as sns\n",
    "import statsmodels.api as sm\n",
    "import random\n",
    "import re\n",
    "import matplotlib.pyplot as plt\n",
    "%matplotlib inline"
   ]
  },
  {
   "cell_type": "code",
   "execution_count": 2,
   "metadata": {
    "collapsed": true
   },
   "outputs": [],
   "source": [
    "conn_laurel = psycopg2.connect(\"dbname='analytics' user='analytics' host='analytics.cv90snkxh2gd.us-west-2.rds.amazonaws.com' password='!TgP$Ol9Z&6QhKW0tmn9mOW5rYT2J8'\")\n",
    "conn_hardy = psycopg2.connect(\"dbname='analytics' user='u_yidong' host='udacity-segment.c2zpsqalam7o.us-west-2.redshift.amazonaws.com' port='5439' password='Lyd580809?!'\")"
   ]
  },
  {
   "cell_type": "code",
   "execution_count": 3,
   "metadata": {
    "collapsed": true,
    "scrolled": false
   },
   "outputs": [],
   "source": [
    "sql_apps = \"SELECT distinct a.id as application_id,a.cohort_id,a.applicant_id,a.nd_key,a.application_type\\\n",
    "      ,coalesce(a.applicant_country,'Unknown') as applicant_country\\\n",
    "      ,coalesce(a.applicant_geo,'Unknown') as applicant_geo\\\n",
    "      ,case when b.user_id is not null then 'term completed'\\\n",
    "            when a.first_charge_created_at is not null and a.accepted_at is not null then 'paid'\\\n",
    "            when a.accepted_at is not null then 'accepted'\\\n",
    "            when a.rejected_at is not null then 'rejected'\\\n",
    "            when a.submitted_at is not null then 'submitted'\\\n",
    "       else 'applied' end as application_status\\\n",
    "      ,current_date - a.applicant_created_at::date as user_age\\\n",
    "      ,a.cohort_notify_at::date - a.cohort_open_at::date as cohort_open_to_notify\\\n",
    "      ,a.cohort_close_at::date - a.cohort_open_at::date as cohort_open_to_close\\\n",
    "      ,date_part('month',a.cohort_open_at) as cohort_open_month\\\n",
    "      ,date_part('month',a.application_created_at) as application_month\\\n",
    "      ,a.application_created_at::date - a.cohort_open_at::date as apply_before_start\\\n",
    "      ,a.submitted_at::date - a.application_created_at::date as apply_to_submit\\\n",
    "      ,coalesce(a.accepted_at,a.rejected_at)::date - a.submitted_at::date as submit_to_decision\\\n",
    "      ,a.first_charge_created_at::date - a.accepted_at::date as accepted_to_pay\\\n",
    "      ,coalesce(a.price,0)::int as price\\\n",
    "       FROM admissions.applications as a\\\n",
    "       LEFT JOIN enrollments.term_completions as b ON a.applicant_id = b.user_id and a.nd_key = b.nd_key\\\n",
    "       WHERE accepted_at is not null and first_charge_created_at is not null\\\n",
    "         AND email not like '%@udacity%';\""
   ]
  },
  {
   "cell_type": "code",
   "execution_count": 4,
   "metadata": {},
   "outputs": [
    {
     "data": {
      "text/html": [
       "<div>\n",
       "<style>\n",
       "    .dataframe thead tr:only-child th {\n",
       "        text-align: right;\n",
       "    }\n",
       "\n",
       "    .dataframe thead th {\n",
       "        text-align: left;\n",
       "    }\n",
       "\n",
       "    .dataframe tbody tr th {\n",
       "        vertical-align: top;\n",
       "    }\n",
       "</style>\n",
       "<table border=\"1\" class=\"dataframe\">\n",
       "  <thead>\n",
       "    <tr style=\"text-align: right;\">\n",
       "      <th></th>\n",
       "      <th>application_id</th>\n",
       "      <th>cohort_id</th>\n",
       "      <th>applicant_id</th>\n",
       "      <th>nd_key</th>\n",
       "      <th>application_type</th>\n",
       "      <th>applicant_country</th>\n",
       "      <th>applicant_geo</th>\n",
       "      <th>application_status</th>\n",
       "      <th>user_age</th>\n",
       "      <th>cohort_open_to_notify</th>\n",
       "      <th>cohort_open_to_close</th>\n",
       "      <th>cohort_open_month</th>\n",
       "      <th>application_month</th>\n",
       "      <th>apply_before_start</th>\n",
       "      <th>apply_to_submit</th>\n",
       "      <th>submit_to_decision</th>\n",
       "      <th>accepted_to_pay</th>\n",
       "      <th>price</th>\n",
       "    </tr>\n",
       "  </thead>\n",
       "  <tbody>\n",
       "    <tr>\n",
       "      <th>0</th>\n",
       "      <td>d6ab011d-6073-4c35-a4c7-308ef8deec60</td>\n",
       "      <td>129</td>\n",
       "      <td>4594339126</td>\n",
       "      <td>nd889</td>\n",
       "      <td>term</td>\n",
       "      <td>IN</td>\n",
       "      <td>APAC</td>\n",
       "      <td>paid</td>\n",
       "      <td>42</td>\n",
       "      <td>70</td>\n",
       "      <td>50</td>\n",
       "      <td>8.0</td>\n",
       "      <td>9.0</td>\n",
       "      <td>48</td>\n",
       "      <td>0.0</td>\n",
       "      <td>22.0</td>\n",
       "      <td>10</td>\n",
       "      <td>800</td>\n",
       "    </tr>\n",
       "    <tr>\n",
       "      <th>1</th>\n",
       "      <td>1164203b-b70f-40ad-b9ad-3ae2b3440eec</td>\n",
       "      <td>18</td>\n",
       "      <td>5508058818</td>\n",
       "      <td>nd013</td>\n",
       "      <td>term</td>\n",
       "      <td>ES</td>\n",
       "      <td>EMEA</td>\n",
       "      <td>paid</td>\n",
       "      <td>228</td>\n",
       "      <td>88</td>\n",
       "      <td>70</td>\n",
       "      <td>2.0</td>\n",
       "      <td>4.0</td>\n",
       "      <td>64</td>\n",
       "      <td>1.0</td>\n",
       "      <td>21.0</td>\n",
       "      <td>1</td>\n",
       "      <td>700</td>\n",
       "    </tr>\n",
       "    <tr>\n",
       "      <th>2</th>\n",
       "      <td>bb5419e5-89be-452a-86b1-8242a69447f8</td>\n",
       "      <td>111</td>\n",
       "      <td>u21068647</td>\n",
       "      <td>nd889</td>\n",
       "      <td>term</td>\n",
       "      <td>US</td>\n",
       "      <td>US</td>\n",
       "      <td>paid</td>\n",
       "      <td>106</td>\n",
       "      <td>63</td>\n",
       "      <td>42</td>\n",
       "      <td>6.0</td>\n",
       "      <td>7.0</td>\n",
       "      <td>26</td>\n",
       "      <td>0.0</td>\n",
       "      <td>37.0</td>\n",
       "      <td>0</td>\n",
       "      <td>800</td>\n",
       "    </tr>\n",
       "    <tr>\n",
       "      <th>3</th>\n",
       "      <td>08a623ad-b8b8-430a-a061-8e12e3649527</td>\n",
       "      <td>88</td>\n",
       "      <td>10453193092</td>\n",
       "      <td>nd013</td>\n",
       "      <td>term</td>\n",
       "      <td>DE</td>\n",
       "      <td>EMEA</td>\n",
       "      <td>paid</td>\n",
       "      <td>94</td>\n",
       "      <td>70</td>\n",
       "      <td>56</td>\n",
       "      <td>6.0</td>\n",
       "      <td>7.0</td>\n",
       "      <td>38</td>\n",
       "      <td>0.0</td>\n",
       "      <td>33.0</td>\n",
       "      <td>0</td>\n",
       "      <td>800</td>\n",
       "    </tr>\n",
       "    <tr>\n",
       "      <th>4</th>\n",
       "      <td>1f804be5-2d1c-40c8-ada4-b10ddbfa5ff1</td>\n",
       "      <td>89</td>\n",
       "      <td>10361159465</td>\n",
       "      <td>nd013</td>\n",
       "      <td>term</td>\n",
       "      <td>US</td>\n",
       "      <td>US</td>\n",
       "      <td>paid</td>\n",
       "      <td>44</td>\n",
       "      <td>43</td>\n",
       "      <td>35</td>\n",
       "      <td>8.0</td>\n",
       "      <td>9.0</td>\n",
       "      <td>32</td>\n",
       "      <td>0.0</td>\n",
       "      <td>12.0</td>\n",
       "      <td>4</td>\n",
       "      <td>800</td>\n",
       "    </tr>\n",
       "  </tbody>\n",
       "</table>\n",
       "</div>"
      ],
      "text/plain": [
       "                         application_id cohort_id applicant_id nd_key  \\\n",
       "0  d6ab011d-6073-4c35-a4c7-308ef8deec60       129   4594339126  nd889   \n",
       "1  1164203b-b70f-40ad-b9ad-3ae2b3440eec        18   5508058818  nd013   \n",
       "2  bb5419e5-89be-452a-86b1-8242a69447f8       111    u21068647  nd889   \n",
       "3  08a623ad-b8b8-430a-a061-8e12e3649527        88  10453193092  nd013   \n",
       "4  1f804be5-2d1c-40c8-ada4-b10ddbfa5ff1        89  10361159465  nd013   \n",
       "\n",
       "  application_type applicant_country applicant_geo application_status  \\\n",
       "0             term                IN          APAC               paid   \n",
       "1             term                ES          EMEA               paid   \n",
       "2             term                US            US               paid   \n",
       "3             term                DE          EMEA               paid   \n",
       "4             term                US            US               paid   \n",
       "\n",
       "   user_age  cohort_open_to_notify  cohort_open_to_close  cohort_open_month  \\\n",
       "0        42                     70                    50                8.0   \n",
       "1       228                     88                    70                2.0   \n",
       "2       106                     63                    42                6.0   \n",
       "3        94                     70                    56                6.0   \n",
       "4        44                     43                    35                8.0   \n",
       "\n",
       "   application_month  apply_before_start  apply_to_submit  submit_to_decision  \\\n",
       "0                9.0                  48              0.0                22.0   \n",
       "1                4.0                  64              1.0                21.0   \n",
       "2                7.0                  26              0.0                37.0   \n",
       "3                7.0                  38              0.0                33.0   \n",
       "4                9.0                  32              0.0                12.0   \n",
       "\n",
       "   accepted_to_pay  price  \n",
       "0               10    800  \n",
       "1                1    700  \n",
       "2                0    800  \n",
       "3                0    800  \n",
       "4                4    800  "
      ]
     },
     "execution_count": 4,
     "metadata": {},
     "output_type": "execute_result"
    }
   ],
   "source": [
    "df_apps = pd.read_sql(sql_apps,conn_laurel)\n",
    "df_apps.head()"
   ]
  },
  {
   "cell_type": "code",
   "execution_count": null,
   "metadata": {
    "collapsed": true
   },
   "outputs": [],
   "source": [
    "sql_course = \"select application_id,cohort_id,user_id AS applicant_id,nanodegree_key AS nd_key\\\n",
    "       ,count(distinct course_key) as num_courses\\\n",
    "       ,count(distinct case when course_finished = 2 then course_key else null end) as num_course_finished\\\n",
    "       ,count(distinct case when course_finished = 1 then course_key else null end) as num_course_enrolled\\\n",
    "       ,current_date - first_course_started_at::date AS user_study_age\\\n",
    " from (select distinct b.application_id,b.cohort_id,a.user_id,b.nanodegree_key,course_key,join_time,leave_time\\\n",
    "             ,first_value(join_time) over (partition by a.user_id order by join_time rows between unbounded preceding and unbounded following) as first_course_started_at\\\n",
    "             ,case when a.leave_time::Date <= b.received_at::Date then 2\\\n",
    "                   when a.leave_time is not null then 1 \\\n",
    "              else 0 end as course_finished\\\n",
    "       from analytics_tables.course_enrollments as a\\\n",
    "       inner join backend_admissions.application_received as b on a.user_id = b.user_id\\\n",
    "       where a.join_time <= b.received_at\\\n",
    "      ) group by application_id,cohort_id,user_id,nanodegree_key,current_date - first_course_started_at::date\""
   ]
  },
  {
   "cell_type": "code",
   "execution_count": null,
   "metadata": {
    "scrolled": true
   },
   "outputs": [],
   "source": [
    "df_course = pd.read_sql(sql_course,conn_hardy)\n",
    "df_course.head()"
   ]
  },
  {
   "cell_type": "code",
   "execution_count": null,
   "metadata": {
    "scrolled": true
   },
   "outputs": [],
   "source": [
    "df = pd.merge(df_apps,df_course,on=['application_id','cohort_id','applicant_id','nd_key'],how='inner')\n",
    "df.head()"
   ]
  },
  {
   "cell_type": "markdown",
   "metadata": {},
   "source": [
    "# paid students only"
   ]
  },
  {
   "cell_type": "code",
   "execution_count": null,
   "metadata": {},
   "outputs": [],
   "source": [
    "#nd013 and nd209 has most examples\n",
    "data = df.loc[df['application_status'].isin(['paid','term completed'])]\n",
    "data.shape"
   ]
  },
  {
   "cell_type": "code",
   "execution_count": null,
   "metadata": {},
   "outputs": [],
   "source": [
    "data.groupby('nd_key')['application_id'].count()"
   ]
  },
  {
   "cell_type": "code",
   "execution_count": null,
   "metadata": {},
   "outputs": [],
   "source": [
    "data.groupby('cohort_id')['application_id'].count()"
   ]
  },
  {
   "cell_type": "code",
   "execution_count": null,
   "metadata": {},
   "outputs": [],
   "source": [
    "data.groupby(['application_status'])['application_id'].count()"
   ]
  },
  {
   "cell_type": "code",
   "execution_count": null,
   "metadata": {
    "collapsed": true
   },
   "outputs": [],
   "source": [
    "data['application_status'] = data['application_status'].map({'paid':0,'term completed':1})"
   ]
  },
  {
   "cell_type": "code",
   "execution_count": null,
   "metadata": {},
   "outputs": [],
   "source": [
    "data.columns"
   ]
  },
  {
   "cell_type": "code",
   "execution_count": null,
   "metadata": {},
   "outputs": [],
   "source": [
    "dat = data.iloc[:,4:23]\n",
    "dat['price'].astype(str).astype(float)\n",
    "dat.columns"
   ]
  },
  {
   "cell_type": "code",
   "execution_count": null,
   "metadata": {
    "scrolled": false
   },
   "outputs": [],
   "source": [
    "corrmat = dat.corr()\n",
    "f, ax = plt.subplots(figsize=(12, 9))\n",
    "sns.heatmap(corrmat, vmax=.8, square=True)"
   ]
  },
  {
   "cell_type": "markdown",
   "metadata": {},
   "source": [
    "# seems like most correlated features: user_age, cohort_open_to_notify, cohort_open_to_close, cohort_open_month, application_month, apply_before_start"
   ]
  },
  {
   "cell_type": "code",
   "execution_count": null,
   "metadata": {
    "collapsed": true
   },
   "outputs": [],
   "source": [
    "#nd_key = pd.get_dummies(dat['nd_key'])\n",
    "application_type = pd.get_dummies(dat['application_type'])\n",
    "applicant_geo = pd.get_dummies(dat['applicant_geo'])\n",
    "df_1 = dat.iloc[:,3:19]\n",
    "df_2 = pd.concat([df_1,application_type,applicant_geo],axis=1)"
   ]
  },
  {
   "cell_type": "code",
   "execution_count": null,
   "metadata": {},
   "outputs": [],
   "source": [
    "df_2.columns"
   ]
  },
  {
   "cell_type": "code",
   "execution_count": null,
   "metadata": {
    "scrolled": true
   },
   "outputs": [],
   "source": [
    "sns.pairplot(df_2,hue=\"application_status\")"
   ]
  },
  {
   "cell_type": "markdown",
   "metadata": {},
   "source": [
    "# cohort-related features (cohort_open_to_close, cohort_open_to_notify) seems having an obvious pattern in clusters, could be due to diff. cohorts.\n",
    "# hence try one cohort : 45 (nd209)"
   ]
  },
  {
   "cell_type": "code",
   "execution_count": null,
   "metadata": {
    "scrolled": true
   },
   "outputs": [],
   "source": [
    "# cohort 45 only\n",
    "data_45 = data[data['cohort_id']=='45']\n",
    "data_45 = data_45.iloc[:,4:23]\n",
    "data_45['price'].astype(str).astype(float)\n",
    "application_type_45 = pd.get_dummies(data_45['application_type'])\n",
    "applicant_geo_45 = pd.get_dummies(data_45['applicant_geo'])\n",
    "df_45 = pd.concat([data_45.iloc[:,3:19],application_type_45,applicant_geo_45],axis=1)\n",
    "sns.pairplot(df_45,hue=\"application_status\")"
   ]
  },
  {
   "cell_type": "code",
   "execution_count": null,
   "metadata": {
    "scrolled": false
   },
   "outputs": [],
   "source": [
    "cols = df_2.columns[1:]\n",
    "logit = sm.Logit(df_2['application_status'], df_2[cols])\n",
    "result = logit.fit()\n",
    "print(result.summary())"
   ]
  },
  {
   "cell_type": "markdown",
   "metadata": {},
   "source": [
    "# Logistics Regression Result: price, courses taken history, study length with udacity, geo are not sig."
   ]
  },
  {
   "cell_type": "code",
   "execution_count": null,
   "metadata": {},
   "outputs": [],
   "source": [
    "data.groupby('application_type')['application_id'].count()"
   ]
  },
  {
   "cell_type": "code",
   "execution_count": null,
   "metadata": {},
   "outputs": [],
   "source": [
    "data.groupby('applicant_geo')['application_id'].count()"
   ]
  },
  {
   "cell_type": "code",
   "execution_count": null,
   "metadata": {},
   "outputs": [],
   "source": [
    "data.groupby('nd_key')['application_id'].count()"
   ]
  },
  {
   "cell_type": "code",
   "execution_count": null,
   "metadata": {
    "collapsed": true
   },
   "outputs": [],
   "source": []
  },
  {
   "cell_type": "code",
   "execution_count": null,
   "metadata": {},
   "outputs": [],
   "source": [
    "# questions\n",
    "sql_questions = \"select distinct application_id,cohort_id,applicant_id,nd_key\\\n",
    "                        ,question_id,question_prompt,response,question_prompt||' A:'||response as q_r\\\n",
    "                from admissions.question_responses\\\n",
    "                where application_type != 'scholarship' and response is not null\\\n",
    "                  and question_id in ('question_id','48e7b492-62b4-4d99-b596-80d68f2966ae','cad2565e-8176-44b5-9080-14cfc67ea9b4','fba3666b-db04-46e9-8f3d-2a303f13e0a5','26330483-09a3-444a-b534-e9cd7021ec1c','42b96348-56c4-4e3b-b0f9-8d3911969e48','516737fe-4567-48d2-8645-08d335e21b0c','0c22dbaa-bf1d-4c67-be34-a61014591d6f','2ad03aaa-1b35-4381-9c43-907b1b4eba67','6afe0061-746b-4bd7-807c-393fe5c7599d','779c3b6c-3648-423b-8d3f-8a4f36f23e2a','1346c396-a687-4082-a10e-d3556ac50b4b','1cfe0061-746b-4bd7-807c-393fe5c7599d','ed06fc88-6a59-40a8-b7ea-ece90d83c333','fa332682-b62e-4791-b95f-c528b532a754','e42e1049-e459-4602-ae4b-cb78098dcf89','01f28833-152f-438d-a831-51e33583bde5','7c55f3cc-1c0b-4d95-97f9-cc3409e3145f','a633a338-9726-472a-a0ff-0d8695b30638','f1a93ec7-e2cd-46b6-ba28-2f36b30539a9','6967091c-09c6-4455-9f1e-d0de318bacc5','011ef02c-abea-476d-afdc-d1aa8a456b94','0f617540-5680-480c-aaf3-0663c17c3c7d','1dfe0061-746b-4bd7-807c-393fe5c7599d','20f21bd0-eb3e-4898-ae1f-eb994f9ce823','45781b84-093b-41c7-b5a4-c521f343bf21','47d35057-b1fb-4106-8218-7e551497420e','491b500b-26a2-425b-b142-00773f1d1938','5cf34496-6bc3-4c8d-9c6a-7c037f48669f','70ffc637-2162-484a-b863-3a1a1469f106','7a09e78a-8000-459e-9d79-aa21db135138','823a8248-b7d7-4dbe-a619-2969ca453f1e','8afe0061-746b-4bd7-807c-393fe5c7599d','8ea6732d-0ef9-489d-bf11-20673183a0c2','9481dc6b-c4e9-4207-a30c-65c3ac302bf5','995331ea-092b-4b71-8122-a0c65214c765','9d5c6390-a690-4d6d-8aaa-c60a772b4550','a26ac91f-c263-49f1-8171-9821bc4d2da5','a71ff6e3-1b33-4e11-94f1-5b94d786b5ab','a7b7f95b-1924-4189-840e-b5c407545908','ae155453-72b2-4247-8da5-dced5270f29b','bdc024d8-7712-48ff-b86e-292be1df0d9f','d3b0e6c7-0601-4651-851f-7ef4bea1aa6d','d8f9089c-c3a5-4d77-9c37-ae248e134e42','d9af077d-b729-4971-84b8-f86f390789c1','da04a859-199c-42cf-ab5d-6132bc529161','dc898f2e-1810-4d93-9db0-f381778d45e1','f254514a-26f4-4d29-83af-711c27d4862d','f34c024a-b446-464e-add0-558c9eb8a3c8','fa537969-017a-4816-a317-b5883305c723')\"\n",
    "df_questions = pd.read_sql(sql_questions,conn_laurel)\n",
    "df_questions.head()"
   ]
  },
  {
   "cell_type": "code",
   "execution_count": null,
   "metadata": {},
   "outputs": [],
   "source": [
    "df_questions.shape"
   ]
  },
  {
   "cell_type": "code",
   "execution_count": null,
   "metadata": {},
   "outputs": [],
   "source": [
    "# merge data first\n",
    "cols = ['application_id','cohort_id','applicant_id','nd_key','application_status']\n",
    "df_qr = pd.merge(data[cols],df_questions,on=['application_id','cohort_id','applicant_id','nd_key'],how='inner')\n",
    "df_qr.shape"
   ]
  },
  {
   "cell_type": "code",
   "execution_count": null,
   "metadata": {},
   "outputs": [],
   "source": [
    "# random sample and force paid and term_completed be 1:1\n",
    "df_qr_0 = df_qr[df_qr['application_status']==0].reset_index()\n",
    "df_qr_1 = df_qr[df_qr['application_status']==1].reset_index()\n",
    "num = df_qr_1.shape[0]\n",
    "df_qr_2 = df_qr_0.iloc[random.sample(range(df_qr_0.shape[0]),num),:]\n",
    "df_qr_s = pd.concat([df_qr_1,df_qr_2],axis=0)\n",
    "df_qr_s.groupby(['application_status'])['application_id'].count()"
   ]
  },
  {
   "cell_type": "code",
   "execution_count": null,
   "metadata": {
    "collapsed": true
   },
   "outputs": [],
   "source": []
  },
  {
   "cell_type": "code",
   "execution_count": null,
   "metadata": {
    "collapsed": true
   },
   "outputs": [],
   "source": []
  },
  {
   "cell_type": "markdown",
   "metadata": {},
   "source": [
    "# education: Master and PhD have higher graduation rate"
   ]
  },
  {
   "cell_type": "code",
   "execution_count": null,
   "metadata": {},
   "outputs": [],
   "source": [
    "df_qr_edu = df_qr_s[df_qr_s['question_id']=='48e7b492-62b4-4d99-b596-80d68f2966ae']\n",
    "d = pd.DataFrame(df_qr_edu.groupby(['response','application_status'])['application_id'].count()).reset_index()\n",
    "sns.barplot(data=d,x='response',y='application_id',hue='application_status')"
   ]
  },
  {
   "cell_type": "markdown",
   "metadata": {},
   "source": [
    "# employment: full time, student and self employed have higher graduation rate; part time has almost equal graduation rate"
   ]
  },
  {
   "cell_type": "code",
   "execution_count": null,
   "metadata": {},
   "outputs": [],
   "source": [
    "df_qr_emp = df_qr_s[df_qr_s['question_id']=='fba3666b-db04-46e9-8f3d-2a303f13e0a5']\n",
    "d = pd.DataFrame(df_qr_emp.groupby(['response','application_status'])['application_id'].count()).reset_index()\n",
    "sns.barplot(data=d,x='response',y='application_id',hue='application_status')"
   ]
  },
  {
   "cell_type": "markdown",
   "metadata": {},
   "source": [
    "# Professional Experience: 5+ and 1-2+ years in industry have higher graduation rate"
   ]
  },
  {
   "cell_type": "code",
   "execution_count": null,
   "metadata": {},
   "outputs": [],
   "source": [
    "df_qr_pe = df_qr_s[df_qr_s['question_id']=='6967091c-09c6-4455-9f1e-d0de318bacc5']\n",
    "d = pd.DataFrame(df_qr_pe.groupby(['response','application_status'])['application_id'].count()).reset_index()\n",
    "sns.barplot(data=d,x='response',y='application_id',hue='application_status')"
   ]
  },
  {
   "cell_type": "markdown",
   "metadata": {},
   "source": [
    "# Python : sig. for students who already know python"
   ]
  },
  {
   "cell_type": "code",
   "execution_count": null,
   "metadata": {
    "collapsed": true,
    "scrolled": true
   },
   "outputs": [],
   "source": [
    "df_qr_s['python'] = 0\n",
    "df_qr_s['python'] = np.where(df_qr_s['response'].str.contains('Python'),1,df_qr_s['python'])\n",
    "df_qr_s['python'] = np.where(df_qr_s['question_prompt'].str.contains('Python')\n",
    "                             &df_qr_s['response'].str.match('.*[1-9].*'),1,df_qr_s['python'])"
   ]
  },
  {
   "cell_type": "code",
   "execution_count": null,
   "metadata": {},
   "outputs": [],
   "source": [
    "df_qr_python = df_qr_s.groupby(['application_id','application_status']).agg({'python':'max'}).reset_index()\n",
    "df_qr_python = df_qr_python.groupby(['python','application_status'])['application_id'].count().reset_index()\n",
    "sns.barplot(data=df_qr_python,x='python',y='application_id',hue='application_status')"
   ]
  },
  {
   "cell_type": "markdown",
   "metadata": {},
   "source": [
    "# Java : not sig."
   ]
  },
  {
   "cell_type": "code",
   "execution_count": null,
   "metadata": {},
   "outputs": [],
   "source": [
    "df_qr_s['java'] = 0\n",
    "df_qr_s['java'] = np.where(df_qr_s['response'].str.contains('Java'),1,df_qr_s['java'])\n",
    "df_qr_s['java'] = np.where(df_qr_s['question_prompt'].str.contains('Java')\n",
    "                             &df_qr_s['response'].str.match('.*[1-9].*'),1,df_qr_s['java'])\n",
    "df_qr_java = df_qr_s.groupby(['application_id','application_status']).agg({'java':'max'}).reset_index()\n",
    "df_qr_java = df_qr_java.groupby(['java','application_status'])['application_id'].count().reset_index()\n",
    "sns.barplot(data=df_qr_java,x='java',y='application_id',hue='application_status')"
   ]
  },
  {
   "cell_type": "markdown",
   "metadata": {},
   "source": [
    "# C++ : sig. for students who already know c++"
   ]
  },
  {
   "cell_type": "code",
   "execution_count": null,
   "metadata": {},
   "outputs": [],
   "source": [
    "df_qr_s['c++'] = 0\n",
    "df_qr_s['c++'] = np.where(df_qr_s['response'].str.contains('C\\+\\+'),1,df_qr_s['c++'])\n",
    "df_qr_s['c++'] = np.where(df_qr_s['question_prompt'].str.contains('C\\+\\+')\n",
    "                             &df_qr_s['response'].str.match('.*[1-9].*'),1,df_qr_s['c++'])\n",
    "df_qr_cplus = df_qr_s.groupby(['application_id','application_status']).agg({'c++':'max'}).reset_index()\n",
    "df_qr_cplus = df_qr_cplus.groupby(['c++','application_status'])['application_id'].count().reset_index()\n",
    "sns.barplot(data=df_qr_cplus,x='c++',y='application_id',hue='application_status')"
   ]
  },
  {
   "cell_type": "markdown",
   "metadata": {},
   "source": [
    "# Probability: sig."
   ]
  },
  {
   "cell_type": "code",
   "execution_count": null,
   "metadata": {
    "scrolled": true
   },
   "outputs": [],
   "source": [
    "df_qr_s['probability'] = 0\n",
    "df_qr_s['probability'] = np.where(df_qr_s['response'].str.lower().str.contains('probability'),1,df_qr_s['probability'])\n",
    "df_qr_s['probability'] = np.where(df_qr_s['question_prompt'].str.lower().str.contains('probability')\n",
    "                             &df_qr_s['response'].str.match('.*[1-9].*'),1,df_qr_s['probability'])\n",
    "df_qr_probability = df_qr_s.groupby(['application_id','application_status']).agg({'probability':'max'}).reset_index()\n",
    "df_qr_probability = df_qr_probability.groupby(['probability','application_status'])['application_id'].count().reset_index()\n",
    "sns.barplot(data=df_qr_probability,x='probability',y='application_id',hue='application_status')"
   ]
  },
  {
   "cell_type": "markdown",
   "metadata": {},
   "source": [
    "# Statistics : sig."
   ]
  },
  {
   "cell_type": "code",
   "execution_count": null,
   "metadata": {},
   "outputs": [],
   "source": [
    "df_qr_s['statistics'] = 0\n",
    "df_qr_s['statistics'] = np.where(df_qr_s['response'].str.lower().str.contains('statistics'),1,df_qr_s['statistics'])\n",
    "df_qr_s['statistics'] = np.where(df_qr_s['question_prompt'].str.lower().str.contains('statistics')\n",
    "                             &df_qr_s['response'].str.match('.*[1-9].*'),1,df_qr_s['statistics'])\n",
    "df_qr_statistics = df_qr_s.groupby(['application_id','application_status']).agg({'statistics':'max'}).reset_index()\n",
    "df_qr_statistics = df_qr_statistics.groupby(['statistics','application_status'])['application_id'].count().reset_index()\n",
    "sns.barplot(data=df_qr_statistics,x='statistics',y='application_id',hue='application_status')"
   ]
  },
  {
   "cell_type": "markdown",
   "metadata": {},
   "source": [
    "# Linear algebra: sig."
   ]
  },
  {
   "cell_type": "code",
   "execution_count": null,
   "metadata": {},
   "outputs": [],
   "source": [
    "df_qr_s['la'] = 0\n",
    "df_qr_s['la'] = np.where(df_qr_s['response'].str.lower().str.contains('linear algebra'),1,df_qr_s['la'])\n",
    "df_qr_s['la'] = np.where(df_qr_s['question_prompt'].str.lower().str.contains('linear algebra')\n",
    "                             &df_qr_s['response'].str.match('.*[1-9].*'),1,df_qr_s['la'])\n",
    "df_qr_la = df_qr_s.groupby(['application_id','application_status']).agg({'la':'max'}).reset_index()\n",
    "df_qr_la = df_qr_la.groupby(['la','application_status'])['application_id'].count().reset_index()\n",
    "sns.barplot(data=df_qr_la,x='la',y='application_id',hue='application_status')"
   ]
  },
  {
   "cell_type": "markdown",
   "metadata": {},
   "source": [
    "# Computer Science: not sig."
   ]
  },
  {
   "cell_type": "code",
   "execution_count": null,
   "metadata": {},
   "outputs": [],
   "source": [
    "df_qr_s['cs'] = 0\n",
    "df_qr_s['cs'] = np.where(df_qr_s['response'].str.lower().str.contains('computer science'),1,df_qr_s['cs'])\n",
    "df_qr_s['cs'] = np.where(df_qr_s['question_prompt'].str.lower().str.contains('computer science')\n",
    "                             &df_qr_s['response'].str.match('.*[1-9].*'),1,df_qr_s['cs'])\n",
    "df_qr_cs = df_qr_s.groupby(['application_id','application_status']).agg({'cs':'max'}).reset_index()\n",
    "df_qr_cs = df_qr_cs.groupby(['cs','application_status'])['application_id'].count().reset_index()\n",
    "sns.barplot(data=df_qr_cs,x='cs',y='application_id',hue='application_status')"
   ]
  },
  {
   "cell_type": "markdown",
   "metadata": {},
   "source": [
    "# Machine Learning: kind of sig."
   ]
  },
  {
   "cell_type": "code",
   "execution_count": null,
   "metadata": {},
   "outputs": [],
   "source": [
    "df_qr_s['ml'] = 0\n",
    "df_qr_s['ml'] = np.where(df_qr_s['response'].str.lower().str.contains('machine learning'),1,df_qr_s['ml'])\n",
    "df_qr_s['ml'] = np.where(df_qr_s['question_prompt'].str.lower().str.contains('machine learning')\n",
    "                             &df_qr_s['response'].str.match('.*[1-9].*'),1,df_qr_s['ml'])\n",
    "df_qr_ml = df_qr_s.groupby(['application_id','application_status']).agg({'ml':'max'}).reset_index()\n",
    "df_qr_ml = df_qr_ml.groupby(['ml','application_status'])['application_id'].count().reset_index()\n",
    "sns.barplot(data=df_qr_ml,x='ml',y='application_id',hue='application_status')"
   ]
  },
  {
   "cell_type": "code",
   "execution_count": null,
   "metadata": {
    "collapsed": true
   },
   "outputs": [],
   "source": []
  },
  {
   "cell_type": "markdown",
   "metadata": {},
   "source": [
    "# merge data to do another logistics regression with question responses"
   ]
  },
  {
   "cell_type": "code",
   "execution_count": null,
   "metadata": {
    "collapsed": true
   },
   "outputs": [],
   "source": [
    "df_q = df_qr"
   ]
  },
  {
   "cell_type": "code",
   "execution_count": null,
   "metadata": {
    "collapsed": true
   },
   "outputs": [],
   "source": [
    "#education\n",
    "df_q = df_q.assign(education = '0')\n",
    "df_q['education'] = np.where(df_q['question_id']=='48e7b492-62b4-4d99-b596-80d68f2966ae',df_q['response'],'0')\n",
    "education = df_q.groupby('application_id').agg({'education':'max'}).reset_index()"
   ]
  },
  {
   "cell_type": "code",
   "execution_count": null,
   "metadata": {
    "collapsed": true
   },
   "outputs": [],
   "source": [
    "#employment\n",
    "df_q = df_q.assign(employment = '0')\n",
    "df_q['employment'] = np.where(df_q['question_id']=='fba3666b-db04-46e9-8f3d-2a303f13e0a5',df_q['response'],'0')\n",
    "employment = df_q.groupby('application_id').agg({'employment':'max'}).reset_index()"
   ]
  },
  {
   "cell_type": "code",
   "execution_count": null,
   "metadata": {
    "collapsed": true
   },
   "outputs": [],
   "source": [
    "#professional experience\n",
    "df_q = df_q.assign(professional_experience = '0')\n",
    "df_q['professional_experience'] = np.where(df_q['question_id']=='6967091c-09c6-4455-9f1e-d0de318bacc5',df_q['response'],'0')\n",
    "professional_experience = df_q.groupby('application_id').agg({'professional_experience':'max'}).reset_index()"
   ]
  },
  {
   "cell_type": "code",
   "execution_count": null,
   "metadata": {
    "collapsed": true
   },
   "outputs": [],
   "source": [
    "#python\n",
    "df_q = df_q.assign(python = 0)\n",
    "df_q['python'] = np.where(df_q['response'].str.lower().str.contains('python'),1,df_q['python'])\n",
    "df_q['python'] = np.where(df_q['question_prompt'].str.lower().str.contains('python')\n",
    "                             &df_q['response'].str.match('.*[1-9].*'),1,df_q['python'])\n",
    "python = df_q.groupby('application_id').agg({'python':'max'}).reset_index()"
   ]
  },
  {
   "cell_type": "code",
   "execution_count": null,
   "metadata": {
    "collapsed": true
   },
   "outputs": [],
   "source": [
    "#java\n",
    "df_q = df_q.assign(java = 0)\n",
    "df_q['java'] = np.where(df_q['response'].str.lower().str.contains('java'),1,df_q['java'])\n",
    "df_q['java'] = np.where(df_q['question_prompt'].str.lower().str.contains('java')\n",
    "                             &df_q['response'].str.match('.*[1-9].*'),1,df_q['java'])\n",
    "java = df_q.groupby('application_id').agg({'java':'max'}).reset_index()"
   ]
  },
  {
   "cell_type": "code",
   "execution_count": null,
   "metadata": {
    "collapsed": true
   },
   "outputs": [],
   "source": [
    "#C++\n",
    "df_q = df_q.assign(cplus = 0)\n",
    "df_q['cplus'] = np.where(df_q['response'].str.lower().str.contains('c\\+\\+'),1,df_q['cplus'])\n",
    "df_q['cplus'] = np.where(df_q['question_prompt'].str.lower().str.contains('c\\+\\+')\n",
    "                             &df_q['response'].str.match('.*[1-9].*'),1,df_q['cplus'])\n",
    "cplus = df_q.groupby('application_id').agg({'cplus':'max'}).reset_index()"
   ]
  },
  {
   "cell_type": "code",
   "execution_count": null,
   "metadata": {
    "collapsed": true
   },
   "outputs": [],
   "source": [
    "#probability\n",
    "df_q = df_q.assign(probability = 0)\n",
    "df_q['probability'] = np.where(df_q['response'].str.lower().str.contains('probability'),1,df_q['probability'])\n",
    "df_q['probability'] = np.where(df_q['question_prompt'].str.lower().str.contains('probability')\n",
    "                             &df_q['response'].str.match('.*[1-9].*'),1,df_q['probability'])\n",
    "probability = df_q.groupby('application_id').agg({'probability':'max'}).reset_index()"
   ]
  },
  {
   "cell_type": "code",
   "execution_count": null,
   "metadata": {
    "collapsed": true
   },
   "outputs": [],
   "source": [
    "#statistics\n",
    "df_q = df_q.assign(statistics = 0)\n",
    "df_q['statistics'] = np.where(df_q['response'].str.lower().str.contains('statistics'),1,df_q['statistics'])\n",
    "df_q['statistics'] = np.where(df_q['question_prompt'].str.lower().str.contains('statistics')\n",
    "                             &df_q['response'].str.match('.*[1-9].*'),1,df_q['statistics'])\n",
    "statistics = df_q.groupby('application_id').agg({'statistics':'max'}).reset_index()"
   ]
  },
  {
   "cell_type": "code",
   "execution_count": null,
   "metadata": {
    "collapsed": true
   },
   "outputs": [],
   "source": [
    "#linear algebra\n",
    "df_q = df_q.assign(linear_algebra = 0)\n",
    "df_q['linear_algebra'] = np.where(df_q['response'].str.lower().str.contains('linear algebra'),1,df_q['linear_algebra'])\n",
    "df_q['linear_algebra'] = np.where(df_q['question_prompt'].str.lower().str.contains('linear algebra')\n",
    "                             &df_q['response'].str.match('.*[1-9].*'),1,df_q['linear_algebra'])\n",
    "linear_algebra = df_q.groupby('application_id').agg({'linear_algebra':'max'}).reset_index()"
   ]
  },
  {
   "cell_type": "code",
   "execution_count": null,
   "metadata": {
    "collapsed": true
   },
   "outputs": [],
   "source": [
    "#computer science\n",
    "df_q = df_q.assign(computer_science = 0)\n",
    "df_q['computer_science'] = np.where(df_q['response'].str.lower().str.contains('computer science'),1,df_q['computer_science'])\n",
    "df_q['computer_science'] = np.where(df_q['question_prompt'].str.lower().str.contains('computer science')\n",
    "                             &df_q['response'].str.match('.*[1-9].*'),1,df_q['computer_science'])\n",
    "computer_science = df_q.groupby('application_id').agg({'computer_science':'max'}).reset_index()"
   ]
  },
  {
   "cell_type": "code",
   "execution_count": null,
   "metadata": {
    "collapsed": true
   },
   "outputs": [],
   "source": [
    "#machine learning\n",
    "df_q = df_q.assign(machine_learning = 0)\n",
    "df_q['machine_learning'] = np.where(df_q['response'].str.lower().str.contains('machine learning'),1,df_q['machine_learning'])\n",
    "df_q['machine_learning'] = np.where(df_q['question_prompt'].str.lower().str.contains('machine learning')\n",
    "                             &df_q['response'].str.match('.*[1-9].*'),1,df_q['machine_learning'])\n",
    "machine_learning = df_q.groupby('application_id').agg({'machine_learning':'max'}).reset_index()"
   ]
  },
  {
   "cell_type": "code",
   "execution_count": null,
   "metadata": {
    "collapsed": true
   },
   "outputs": [],
   "source": [
    "d_education = pd.get_dummies(education['education'])\n",
    "d_edu = pd.concat([education['application_id'],d_education],axis=1)\n",
    "d_employment = pd.get_dummies(employment['employment'])\n",
    "d_emp = pd.concat([employment['application_id'],d_employment],axis=1)\n",
    "d_professional_experience = pd.get_dummies(professional_experience['professional_experience'])\n",
    "d_prof_exp = pd.concat([professional_experience['application_id'],d_professional_experience],axis=1)"
   ]
  },
  {
   "cell_type": "code",
   "execution_count": null,
   "metadata": {
    "collapsed": true
   },
   "outputs": [],
   "source": [
    "import functools\n",
    "dfs = [df_q,d_edu,d_emp,d_prof_exp]#,python,java,cplus,probability,statistics,linear_algebra,computer_science,machine_learning]\n",
    "df_qq = functools.reduce(lambda left,right: pd.merge(left,right,on='application_id'), dfs)"
   ]
  },
  {
   "cell_type": "code",
   "execution_count": null,
   "metadata": {},
   "outputs": [],
   "source": [
    "cols = df_qq.columns[12:36]\n",
    "logit = sm.Logit(df_qq['application_status'],df_qq[cols].astype(float))\n",
    "result = logit.fit()\n",
    "print(result.summary())"
   ]
  },
  {
   "cell_type": "code",
   "execution_count": null,
   "metadata": {
    "collapsed": true
   },
   "outputs": [],
   "source": []
  },
  {
   "cell_type": "code",
   "execution_count": null,
   "metadata": {
    "collapsed": true
   },
   "outputs": [],
   "source": []
  },
  {
   "cell_type": "code",
   "execution_count": null,
   "metadata": {
    "collapsed": true
   },
   "outputs": [],
   "source": []
  },
  {
   "cell_type": "code",
   "execution_count": null,
   "metadata": {
    "collapsed": true
   },
   "outputs": [],
   "source": []
  },
  {
   "cell_type": "code",
   "execution_count": null,
   "metadata": {
    "collapsed": true
   },
   "outputs": [],
   "source": []
  },
  {
   "cell_type": "code",
   "execution_count": null,
   "metadata": {
    "collapsed": true
   },
   "outputs": [],
   "source": []
  },
  {
   "cell_type": "code",
   "execution_count": null,
   "metadata": {
    "collapsed": true
   },
   "outputs": [],
   "source": []
  },
  {
   "cell_type": "code",
   "execution_count": null,
   "metadata": {
    "collapsed": true
   },
   "outputs": [],
   "source": []
  },
  {
   "cell_type": "code",
   "execution_count": null,
   "metadata": {
    "collapsed": true
   },
   "outputs": [],
   "source": []
  },
  {
   "cell_type": "code",
   "execution_count": null,
   "metadata": {
    "collapsed": true
   },
   "outputs": [],
   "source": []
  }
 ],
 "metadata": {
  "kernelspec": {
   "display_name": "Python 3",
   "language": "python",
   "name": "python3"
  },
  "language_info": {
   "codemirror_mode": {
    "name": "ipython",
    "version": 3
   },
   "file_extension": ".py",
   "mimetype": "text/x-python",
   "name": "python",
   "nbconvert_exporter": "python",
   "pygments_lexer": "ipython3",
   "version": "3.6.1"
  }
 },
 "nbformat": 4,
 "nbformat_minor": 2
}
