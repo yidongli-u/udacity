{
 "cells": [
  {
   "cell_type": "markdown",
   "metadata": {},
   "source": [
    "# Background: \n",
    "* We sent emails to DL student with project completion status >= 3 for an auto-admissions in AI/SDC/Robo on 6/5, 9/25 and 10/13.\n",
    "* There're 5 projects in DL.\n",
    "\n",
    "# 2 Questions to answer in this analysis:\n",
    "* Are the conversion rates of email groups different between Grad.(project = 5) and not-yet-grad (project = 3/4) groups? - 6/5 data\n",
    "* Is sending emails improving conversion rate? (overall, active, graduated) - 9/25 data"
   ]
  },
  {
   "cell_type": "code",
   "execution_count": 145,
   "metadata": {
    "collapsed": true
   },
   "outputs": [],
   "source": [
    "import pandas as pd\n",
    "import numpy as np\n",
    "import psycopg2\n",
    "import seaborn as sns\n",
    "from scipy import stats\n",
    "import statsmodels.discrete.discrete_model as sm\n",
    "from sklearn.linear_model import LogisticRegression\n",
    "import pymc3 as pm\n",
    "import matplotlib.pyplot as plt\n",
    "%matplotlib inline"
   ]
  },
  {
   "cell_type": "code",
   "execution_count": 77,
   "metadata": {
    "collapsed": true
   },
   "outputs": [],
   "source": [
    "# import 6/5 and 9/25 data\n",
    "df_0605_raw = pd.read_csv('DLND-06-05.csv')\n",
    "df_0925_raw = pd.read_csv('DLND-09-25.csv')"
   ]
  },
  {
   "cell_type": "markdown",
   "metadata": {
    "collapsed": true
   },
   "source": [
    "## Question1. Are the conversion rates of email groups different between Grad. (project = 5) and not-yet-grad (project = 3/4) groups? - 6/5 data"
   ]
  },
  {
   "cell_type": "code",
   "execution_count": 3,
   "metadata": {},
   "outputs": [
    {
     "data": {
      "text/html": [
       "<div>\n",
       "<style>\n",
       "    .dataframe thead tr:only-child th {\n",
       "        text-align: right;\n",
       "    }\n",
       "\n",
       "    .dataframe thead th {\n",
       "        text-align: left;\n",
       "    }\n",
       "\n",
       "    .dataframe tbody tr th {\n",
       "        vertical-align: top;\n",
       "    }\n",
       "</style>\n",
       "<table border=\"1\" class=\"dataframe\">\n",
       "  <thead>\n",
       "    <tr style=\"text-align: right;\">\n",
       "      <th></th>\n",
       "      <th>Projects Passed</th>\n",
       "      <th>Status</th>\n",
       "      <th>User</th>\n",
       "      <th>First Name</th>\n",
       "      <th>Last Name</th>\n",
       "      <th>Email</th>\n",
       "      <th>ip_country_code</th>\n",
       "      <th>Mentor</th>\n",
       "      <th>Profile</th>\n",
       "    </tr>\n",
       "  </thead>\n",
       "  <tbody>\n",
       "    <tr>\n",
       "      <th>0</th>\n",
       "      <td>3</td>\n",
       "      <td>Active</td>\n",
       "      <td>10089403351</td>\n",
       "      <td>é‘«</td>\n",
       "      <td>é‡‘</td>\n",
       "      <td>2120100202@email.szu.edu.cn</td>\n",
       "      <td>NaN</td>\n",
       "      <td>NaN</td>\n",
       "      <td>https://profiles.udacity.com/u/2267</td>\n",
       "    </tr>\n",
       "    <tr>\n",
       "      <th>1</th>\n",
       "      <td>3</td>\n",
       "      <td>Active</td>\n",
       "      <td>10157053022</td>\n",
       "      <td>Lijun</td>\n",
       "      <td>WANG</td>\n",
       "      <td>wljjlu@163.com</td>\n",
       "      <td>NaN</td>\n",
       "      <td>NaN</td>\n",
       "      <td>https://profiles.udacity.com/u/lijunwang</td>\n",
       "    </tr>\n",
       "    <tr>\n",
       "      <th>2</th>\n",
       "      <td>3</td>\n",
       "      <td>Active</td>\n",
       "      <td>10369378814</td>\n",
       "      <td>Deborah</td>\n",
       "      <td>Mesquita</td>\n",
       "      <td>mesquita.deh@gmail.com</td>\n",
       "      <td>NaN</td>\n",
       "      <td>NaN</td>\n",
       "      <td>NaN</td>\n",
       "    </tr>\n",
       "    <tr>\n",
       "      <th>3</th>\n",
       "      <td>3</td>\n",
       "      <td>Active</td>\n",
       "      <td>10183345181</td>\n",
       "      <td>meiyan</td>\n",
       "      <td>lin</td>\n",
       "      <td>1017806276@qq.com</td>\n",
       "      <td>NaN</td>\n",
       "      <td>NaN</td>\n",
       "      <td>NaN</td>\n",
       "    </tr>\n",
       "    <tr>\n",
       "      <th>4</th>\n",
       "      <td>3</td>\n",
       "      <td>Active</td>\n",
       "      <td>204065671</td>\n",
       "      <td>Daniel</td>\n",
       "      <td>Dubats</td>\n",
       "      <td>ddd5ye@virginia.edu</td>\n",
       "      <td>US</td>\n",
       "      <td>NaN</td>\n",
       "      <td>NaN</td>\n",
       "    </tr>\n",
       "  </tbody>\n",
       "</table>\n",
       "</div>"
      ],
      "text/plain": [
       "   Projects Passed  Status         User First Name Last Name  \\\n",
       "0                3  Active  10089403351        é‘«       é‡‘   \n",
       "1                3  Active  10157053022      Lijun      WANG   \n",
       "2                3  Active  10369378814    Deborah  Mesquita   \n",
       "3                3  Active  10183345181     meiyan       lin   \n",
       "4                3  Active    204065671     Daniel    Dubats   \n",
       "\n",
       "                         Email ip_country_code Mentor  \\\n",
       "0  2120100202@email.szu.edu.cn             NaN    NaN   \n",
       "1               wljjlu@163.com             NaN    NaN   \n",
       "2       mesquita.deh@gmail.com             NaN    NaN   \n",
       "3            1017806276@qq.com             NaN    NaN   \n",
       "4          ddd5ye@virginia.edu              US    NaN   \n",
       "\n",
       "                                    Profile  \n",
       "0       https://profiles.udacity.com/u/2267  \n",
       "1  https://profiles.udacity.com/u/lijunwang  \n",
       "2                                       NaN  \n",
       "3                                       NaN  \n",
       "4                                       NaN  "
      ]
     },
     "execution_count": 3,
     "metadata": {},
     "output_type": "execute_result"
    }
   ],
   "source": [
    "df_0605_raw.head()"
   ]
  },
  {
   "cell_type": "code",
   "execution_count": 5,
   "metadata": {
    "scrolled": true
   },
   "outputs": [
    {
     "data": {
      "text/plain": [
       "Projects Passed  Status   \n",
       "3                Active        295\n",
       "4                Active        480\n",
       "5                Completed    1263\n",
       "Name: User, dtype: int64"
      ]
     },
     "execution_count": 5,
     "metadata": {},
     "output_type": "execute_result"
    }
   ],
   "source": [
    "df_0605_raw.groupby(['Projects Passed','Status'])['User'].count()"
   ]
  },
  {
   "cell_type": "code",
   "execution_count": 162,
   "metadata": {},
   "outputs": [],
   "source": [
    "user_list = []\n",
    "for u in df_0605_raw['User']:\n",
    "    user_list.append(u)\n",
    "user_list = ','.join(\"'\"+str(e)+\"'\" for e in user_list)"
   ]
  },
  {
   "cell_type": "code",
   "execution_count": 36,
   "metadata": {},
   "outputs": [],
   "source": [
    "conn_laurel = psycopg2.connect(\"dbname='analytics' user='analytics' host='analytics.cv90snkxh2gd.us-west-2.rds.amazonaws.com' password='!TgP$Ol9Z&6QhKW0tmn9mOW5rYT2J8'\")\n",
    "sql = \"select distinct user_id,nd_key\\\n",
    "       from nd_enrolls a\\\n",
    "       where has_payment and nd_key in ('nd889','nd013','nd209')\\\n",
    "         and user_id in ({0})\".format(user_list)\n",
    "df_0605_convert = pd.read_sql(sql,conn_laurel)"
   ]
  },
  {
   "cell_type": "code",
   "execution_count": 37,
   "metadata": {},
   "outputs": [
    {
     "data": {
      "text/html": [
       "<div>\n",
       "<style>\n",
       "    .dataframe thead tr:only-child th {\n",
       "        text-align: right;\n",
       "    }\n",
       "\n",
       "    .dataframe thead th {\n",
       "        text-align: left;\n",
       "    }\n",
       "\n",
       "    .dataframe tbody tr th {\n",
       "        vertical-align: top;\n",
       "    }\n",
       "</style>\n",
       "<table border=\"1\" class=\"dataframe\">\n",
       "  <thead>\n",
       "    <tr style=\"text-align: right;\">\n",
       "      <th></th>\n",
       "      <th>User</th>\n",
       "      <th>nd_key</th>\n",
       "    </tr>\n",
       "  </thead>\n",
       "  <tbody>\n",
       "    <tr>\n",
       "      <th>0</th>\n",
       "      <td>u5232340</td>\n",
       "      <td>nd013</td>\n",
       "    </tr>\n",
       "    <tr>\n",
       "      <th>1</th>\n",
       "      <td>u2011049</td>\n",
       "      <td>nd209</td>\n",
       "    </tr>\n",
       "    <tr>\n",
       "      <th>2</th>\n",
       "      <td>u6724</td>\n",
       "      <td>nd013</td>\n",
       "    </tr>\n",
       "    <tr>\n",
       "      <th>3</th>\n",
       "      <td>8489035320</td>\n",
       "      <td>nd889</td>\n",
       "    </tr>\n",
       "    <tr>\n",
       "      <th>4</th>\n",
       "      <td>6791689572</td>\n",
       "      <td>nd013</td>\n",
       "    </tr>\n",
       "  </tbody>\n",
       "</table>\n",
       "</div>"
      ],
      "text/plain": [
       "         User nd_key\n",
       "0    u5232340  nd013\n",
       "1    u2011049  nd209\n",
       "2       u6724  nd013\n",
       "3  8489035320  nd889\n",
       "4  6791689572  nd013"
      ]
     },
     "execution_count": 37,
     "metadata": {},
     "output_type": "execute_result"
    }
   ],
   "source": [
    "df_0605_convert.columns = ['User','nd_key']\n",
    "df_0605_convert.head()"
   ]
  },
  {
   "cell_type": "code",
   "execution_count": 38,
   "metadata": {},
   "outputs": [
    {
     "data": {
      "text/html": [
       "<div>\n",
       "<style>\n",
       "    .dataframe thead tr:only-child th {\n",
       "        text-align: right;\n",
       "    }\n",
       "\n",
       "    .dataframe thead th {\n",
       "        text-align: left;\n",
       "    }\n",
       "\n",
       "    .dataframe tbody tr th {\n",
       "        vertical-align: top;\n",
       "    }\n",
       "</style>\n",
       "<table border=\"1\" class=\"dataframe\">\n",
       "  <thead>\n",
       "    <tr style=\"text-align: right;\">\n",
       "      <th></th>\n",
       "      <th>Projects Passed</th>\n",
       "      <th>Status</th>\n",
       "      <th>User</th>\n",
       "      <th>First Name</th>\n",
       "      <th>Last Name</th>\n",
       "      <th>Email</th>\n",
       "      <th>ip_country_code</th>\n",
       "      <th>Mentor</th>\n",
       "      <th>Profile</th>\n",
       "      <th>nd_key</th>\n",
       "    </tr>\n",
       "  </thead>\n",
       "  <tbody>\n",
       "    <tr>\n",
       "      <th>0</th>\n",
       "      <td>3</td>\n",
       "      <td>Active</td>\n",
       "      <td>10089403351</td>\n",
       "      <td>é‘«</td>\n",
       "      <td>é‡‘</td>\n",
       "      <td>2120100202@email.szu.edu.cn</td>\n",
       "      <td>NaN</td>\n",
       "      <td>NaN</td>\n",
       "      <td>https://profiles.udacity.com/u/2267</td>\n",
       "      <td>NaN</td>\n",
       "    </tr>\n",
       "    <tr>\n",
       "      <th>1</th>\n",
       "      <td>3</td>\n",
       "      <td>Active</td>\n",
       "      <td>10157053022</td>\n",
       "      <td>Lijun</td>\n",
       "      <td>WANG</td>\n",
       "      <td>wljjlu@163.com</td>\n",
       "      <td>NaN</td>\n",
       "      <td>NaN</td>\n",
       "      <td>https://profiles.udacity.com/u/lijunwang</td>\n",
       "      <td>nd013</td>\n",
       "    </tr>\n",
       "    <tr>\n",
       "      <th>2</th>\n",
       "      <td>3</td>\n",
       "      <td>Active</td>\n",
       "      <td>10369378814</td>\n",
       "      <td>Deborah</td>\n",
       "      <td>Mesquita</td>\n",
       "      <td>mesquita.deh@gmail.com</td>\n",
       "      <td>NaN</td>\n",
       "      <td>NaN</td>\n",
       "      <td>NaN</td>\n",
       "      <td>NaN</td>\n",
       "    </tr>\n",
       "    <tr>\n",
       "      <th>3</th>\n",
       "      <td>3</td>\n",
       "      <td>Active</td>\n",
       "      <td>10183345181</td>\n",
       "      <td>meiyan</td>\n",
       "      <td>lin</td>\n",
       "      <td>1017806276@qq.com</td>\n",
       "      <td>NaN</td>\n",
       "      <td>NaN</td>\n",
       "      <td>NaN</td>\n",
       "      <td>NaN</td>\n",
       "    </tr>\n",
       "    <tr>\n",
       "      <th>4</th>\n",
       "      <td>3</td>\n",
       "      <td>Active</td>\n",
       "      <td>204065671</td>\n",
       "      <td>Daniel</td>\n",
       "      <td>Dubats</td>\n",
       "      <td>ddd5ye@virginia.edu</td>\n",
       "      <td>US</td>\n",
       "      <td>NaN</td>\n",
       "      <td>NaN</td>\n",
       "      <td>NaN</td>\n",
       "    </tr>\n",
       "  </tbody>\n",
       "</table>\n",
       "</div>"
      ],
      "text/plain": [
       "   Projects Passed  Status         User First Name Last Name  \\\n",
       "0                3  Active  10089403351        é‘«       é‡‘   \n",
       "1                3  Active  10157053022      Lijun      WANG   \n",
       "2                3  Active  10369378814    Deborah  Mesquita   \n",
       "3                3  Active  10183345181     meiyan       lin   \n",
       "4                3  Active    204065671     Daniel    Dubats   \n",
       "\n",
       "                         Email ip_country_code Mentor  \\\n",
       "0  2120100202@email.szu.edu.cn             NaN    NaN   \n",
       "1               wljjlu@163.com             NaN    NaN   \n",
       "2       mesquita.deh@gmail.com             NaN    NaN   \n",
       "3            1017806276@qq.com             NaN    NaN   \n",
       "4          ddd5ye@virginia.edu              US    NaN   \n",
       "\n",
       "                                    Profile nd_key  \n",
       "0       https://profiles.udacity.com/u/2267    NaN  \n",
       "1  https://profiles.udacity.com/u/lijunwang  nd013  \n",
       "2                                       NaN    NaN  \n",
       "3                                       NaN    NaN  \n",
       "4                                       NaN    NaN  "
      ]
     },
     "execution_count": 38,
     "metadata": {},
     "output_type": "execute_result"
    }
   ],
   "source": [
    "df_0605 = pd.merge(df_0605_raw,df_0605_convert,on='User',how='left')\n",
    "df_0605.head()"
   ]
  },
  {
   "cell_type": "code",
   "execution_count": 40,
   "metadata": {},
   "outputs": [
    {
     "data": {
      "text/html": [
       "<div>\n",
       "<style>\n",
       "    .dataframe thead tr:only-child th {\n",
       "        text-align: right;\n",
       "    }\n",
       "\n",
       "    .dataframe thead th {\n",
       "        text-align: left;\n",
       "    }\n",
       "\n",
       "    .dataframe tbody tr th {\n",
       "        vertical-align: top;\n",
       "    }\n",
       "</style>\n",
       "<table border=\"1\" class=\"dataframe\">\n",
       "  <thead>\n",
       "    <tr style=\"text-align: right;\">\n",
       "      <th></th>\n",
       "      <th>Projects Passed</th>\n",
       "      <th>Status</th>\n",
       "      <th>User</th>\n",
       "      <th>First Name</th>\n",
       "      <th>Last Name</th>\n",
       "      <th>Email</th>\n",
       "      <th>ip_country_code</th>\n",
       "      <th>Mentor</th>\n",
       "      <th>Profile</th>\n",
       "      <th>nd_key</th>\n",
       "      <th>convert</th>\n",
       "    </tr>\n",
       "  </thead>\n",
       "  <tbody>\n",
       "    <tr>\n",
       "      <th>0</th>\n",
       "      <td>3</td>\n",
       "      <td>Active</td>\n",
       "      <td>10089403351</td>\n",
       "      <td>é‘«</td>\n",
       "      <td>é‡‘</td>\n",
       "      <td>2120100202@email.szu.edu.cn</td>\n",
       "      <td>NaN</td>\n",
       "      <td>NaN</td>\n",
       "      <td>https://profiles.udacity.com/u/2267</td>\n",
       "      <td>NaN</td>\n",
       "      <td>0</td>\n",
       "    </tr>\n",
       "    <tr>\n",
       "      <th>1</th>\n",
       "      <td>3</td>\n",
       "      <td>Active</td>\n",
       "      <td>10157053022</td>\n",
       "      <td>Lijun</td>\n",
       "      <td>WANG</td>\n",
       "      <td>wljjlu@163.com</td>\n",
       "      <td>NaN</td>\n",
       "      <td>NaN</td>\n",
       "      <td>https://profiles.udacity.com/u/lijunwang</td>\n",
       "      <td>nd013</td>\n",
       "      <td>1</td>\n",
       "    </tr>\n",
       "    <tr>\n",
       "      <th>2</th>\n",
       "      <td>3</td>\n",
       "      <td>Active</td>\n",
       "      <td>10369378814</td>\n",
       "      <td>Deborah</td>\n",
       "      <td>Mesquita</td>\n",
       "      <td>mesquita.deh@gmail.com</td>\n",
       "      <td>NaN</td>\n",
       "      <td>NaN</td>\n",
       "      <td>NaN</td>\n",
       "      <td>NaN</td>\n",
       "      <td>0</td>\n",
       "    </tr>\n",
       "    <tr>\n",
       "      <th>3</th>\n",
       "      <td>3</td>\n",
       "      <td>Active</td>\n",
       "      <td>10183345181</td>\n",
       "      <td>meiyan</td>\n",
       "      <td>lin</td>\n",
       "      <td>1017806276@qq.com</td>\n",
       "      <td>NaN</td>\n",
       "      <td>NaN</td>\n",
       "      <td>NaN</td>\n",
       "      <td>NaN</td>\n",
       "      <td>0</td>\n",
       "    </tr>\n",
       "    <tr>\n",
       "      <th>4</th>\n",
       "      <td>3</td>\n",
       "      <td>Active</td>\n",
       "      <td>204065671</td>\n",
       "      <td>Daniel</td>\n",
       "      <td>Dubats</td>\n",
       "      <td>ddd5ye@virginia.edu</td>\n",
       "      <td>US</td>\n",
       "      <td>NaN</td>\n",
       "      <td>NaN</td>\n",
       "      <td>NaN</td>\n",
       "      <td>0</td>\n",
       "    </tr>\n",
       "  </tbody>\n",
       "</table>\n",
       "</div>"
      ],
      "text/plain": [
       "   Projects Passed  Status         User First Name Last Name  \\\n",
       "0                3  Active  10089403351        é‘«       é‡‘   \n",
       "1                3  Active  10157053022      Lijun      WANG   \n",
       "2                3  Active  10369378814    Deborah  Mesquita   \n",
       "3                3  Active  10183345181     meiyan       lin   \n",
       "4                3  Active    204065671     Daniel    Dubats   \n",
       "\n",
       "                         Email ip_country_code Mentor  \\\n",
       "0  2120100202@email.szu.edu.cn             NaN    NaN   \n",
       "1               wljjlu@163.com             NaN    NaN   \n",
       "2       mesquita.deh@gmail.com             NaN    NaN   \n",
       "3            1017806276@qq.com             NaN    NaN   \n",
       "4          ddd5ye@virginia.edu              US    NaN   \n",
       "\n",
       "                                    Profile nd_key  convert  \n",
       "0       https://profiles.udacity.com/u/2267    NaN        0  \n",
       "1  https://profiles.udacity.com/u/lijunwang  nd013        1  \n",
       "2                                       NaN    NaN        0  \n",
       "3                                       NaN    NaN        0  \n",
       "4                                       NaN    NaN        0  "
      ]
     },
     "execution_count": 40,
     "metadata": {},
     "output_type": "execute_result"
    }
   ],
   "source": [
    "df_0605 = df_0605.assign(convert = df_0605['nd_key'].apply(lambda x: 1 if x == 'nd013' or x == 'nd209' or x == 'nd889' else 0))\n",
    "df_0605.head()"
   ]
  },
  {
   "cell_type": "code",
   "execution_count": 47,
   "metadata": {},
   "outputs": [
    {
     "name": "stdout",
     "output_type": "stream",
     "text": [
      "807 students received emails when active, 325 of them enrolled in AI/SDC/Robo. (0.40272614622057)\n",
      "1386 students received emails when completed, 827 of them enrolled in AI/SDC/Robo. (0.5966810966810967)\n"
     ]
    }
   ],
   "source": [
    "df_0605_active = df_0605.query(\"Status == 'Active'\")\n",
    "df_0605_active_c = df_0605_active.query('convert == 1')\n",
    "n1 = df_0605_active.shape[0]\n",
    "obs_v1 = df_0605_active_c.shape[0]\n",
    "\n",
    "df_0605_complete = df_0605.query(\"Status == 'Completed'\")\n",
    "df_0605_complete_c = df_0605_complete.query('convert == 1')\n",
    "n2 = df_0605_complete.shape[0]\n",
    "obs_v2 = df_0605_complete_c.shape[0]\n",
    "\n",
    "print(\"{0} students received emails when active, {1} of them enrolled in AI/SDC/Robo. ({2})\".format(n1,obs_v1,obs_v1/n1))\n",
    "print(\"{0} students received emails when completed, {1} of them enrolled in AI/SDC/Robo. ({2})\".format(n2,obs_v2,obs_v2/n2))"
   ]
  },
  {
   "cell_type": "code",
   "execution_count": 48,
   "metadata": {},
   "outputs": [
    {
     "name": "stdout",
     "output_type": "stream",
     "text": [
      "Pool mean: 0.5253077975376197; Pool variance: 0.00011370702935877558\n"
     ]
    }
   ],
   "source": [
    "m = (obs_v1+obs_v2)/(n1+n2)\n",
    "sd = (obs_v1+obs_v2)/(n1+n2)*(1-(obs_v1+obs_v2)/(n1+n2))/(n1+n2)\n",
    "print(\"Pool mean: {0}; Pool variance: {1}\".format(m,sd))"
   ]
  },
  {
   "cell_type": "code",
   "execution_count": 49,
   "metadata": {},
   "outputs": [
    {
     "name": "stdout",
     "output_type": "stream",
     "text": [
      "Students received emails when active: mean is 0.5966810966810967 and variance is 0.0001736311439715299\n",
      "Students received emails when completed: mean is 0.40272614622057 and variance is 0.0002980641850940497\n"
     ]
    }
   ],
   "source": [
    "m1 = obs_v1/n1\n",
    "m2 = obs_v2/n2\n",
    "sd1 = obs_v1/n1*(1-obs_v1/n1)/n1\n",
    "sd2 = obs_v2/n2*(1-obs_v2/n2)/n2\n",
    "print(\"Students received emails when active: mean is {0} and variance is {1}\".format(m2,sd2))\n",
    "print(\"Students received emails when completed: mean is {0} and variance is {1}\".format(m1,sd1))"
   ]
  },
  {
   "cell_type": "code",
   "execution_count": 50,
   "metadata": {},
   "outputs": [
    {
     "name": "stdout",
     "output_type": "stream",
     "text": [
      "for student received emails when active, 95% of CI conversion rate: [0.5959873702052499,0.5973748231569435]\n",
      "for student received emails when complete, 95% of CI conversion rate: [0.40153497497401947,0.40391731746712056]\n"
     ]
    }
   ],
   "source": [
    "# 95% CI:\n",
    "g1_lower = m1-1.96*np.sqrt(sd1/n1)\n",
    "g1_upper = m1+1.96*np.sqrt(sd1/n1)\n",
    "g2_lower = m2-1.96*np.sqrt(sd2/n2)\n",
    "g2_upper = m2+1.96*np.sqrt(sd2/n2)\n",
    "print(\"for student received emails when active, 95% of CI conversion rate: [{0},{1}]\".format(g2_lower,g2_upper))\n",
    "print(\"for student received emails when complete, 95% of CI conversion rate: [{0},{1}]\".format(g1_lower,g1_upper))"
   ]
  },
  {
   "cell_type": "code",
   "execution_count": 53,
   "metadata": {},
   "outputs": [
    {
     "name": "stdout",
     "output_type": "stream",
     "text": [
      "z stats is 8.771764490067964; 90% z score is 1.6448536269514722\n"
     ]
    }
   ],
   "source": [
    "# z test\n",
    "s = m*(1-m)*(1/n1+1/n2)\n",
    "z = (m2-m1)/np.sqrt(s)\n",
    "zscore = stats.norm.ppf(.95)\n",
    "print(\"z stats is {0}; 90% z score is {1}\".format(z,zscore))"
   ]
  },
  {
   "cell_type": "code",
   "execution_count": 55,
   "metadata": {},
   "outputs": [
    {
     "name": "stderr",
     "output_type": "stream",
     "text": [
      "logp = -48.011, ||grad|| = 155.3: 100%|██████████| 8/8 [00:00<00:00, 73.84it/s]   \n",
      "100%|██████████| 50500/50500 [00:10<00:00, 4599.41it/s]\n"
     ]
    }
   ],
   "source": [
    "# bayesian ab testing\n",
    "with pm.Model() as model: # context management\n",
    "    # define priors\n",
    "    prior_v1 = pm.Beta('prior_v1', alpha=2, beta=2)\n",
    "    prior_v2 = pm.Beta('prior_v2', alpha=2, beta=2)\n",
    "    #prior_v1 = pm.Normal('prior_v1', mu=m1, sd=sd1)\n",
    "    #prior_v2 = pm.Normal('prior_v2', mu=m2, sd=sd2)\n",
    "\n",
    "    # define likelihood\n",
    "    like_v1 = pm.Binomial('like_v1', n=n1, p=prior_v1, observed=obs_v1)\n",
    "    like_v2 = pm.Binomial('like_v2', n=n2, p=prior_v2, observed=obs_v2)\n",
    "    \n",
    "    ## define metrics\n",
    "    pm.Deterministic('difference', prior_v2 - prior_v1)\n",
    "    pm.Deterministic('relation', (prior_v2/prior_v1) - 1)\n",
    "    \n",
    "    # inference\n",
    "    trace = pm.sample(draws=50000, step=pm.Metropolis(), start=pm.find_MAP(), progressbar=True)"
   ]
  },
  {
   "cell_type": "code",
   "execution_count": 56,
   "metadata": {},
   "outputs": [
    {
     "data": {
      "image/png": "[encoded data removed]",
      "text/plain": [
       "<matplotlib.figure.Figure at 0x123ea6dd8>"
      ]
     },
     "metadata": {},
     "output_type": "display_data"
    }
   ],
   "source": [
    "_ = pm.traceplot(trace[1000:], grid=True)"
   ]
  },
  {
   "cell_type": "code",
   "execution_count": 57,
   "metadata": {},
   "outputs": [
    {
     "data": {
      "image/png": "[encoded data removed]",
      "text/plain": [
       "<matplotlib.figure.Figure at 0x1204d5a20>"
      ]
     },
     "metadata": {},
     "output_type": "display_data"
    }
   ],
   "source": [
    "_ = pm.plot_posterior(trace[1000:], varnames=['difference', 'relation'], \n",
    "                      ref_val=0, color='#87ceeb')"
   ]
  },
  {
   "cell_type": "markdown",
   "metadata": {},
   "source": [
    "### Result: Conversion Rate in DL Graduate Students are higher than DL Active Students."
   ]
  },
  {
   "cell_type": "markdown",
   "metadata": {},
   "source": [
    "### to be fair with 09/25 data, we pick the time 09/25 as stop time for 6/5 campaign"
   ]
  },
  {
   "cell_type": "code",
   "execution_count": 163,
   "metadata": {
    "collapsed": true
   },
   "outputs": [],
   "source": [
    "conn_laurel = psycopg2.connect(\"dbname='analytics' user='analytics' host='analytics.cv90snkxh2gd.us-west-2.rds.amazonaws.com' password='!TgP$Ol9Z&6QhKW0tmn9mOW5rYT2J8'\")\n",
    "sql = \"select distinct user_id,nd_key\\\n",
    "       from nd_enrolls a\\\n",
    "       where has_payment and nd_key in ('nd889','nd013','nd209')\\\n",
    "         and access_started_at < '2017-09-25'\\\n",
    "         and user_id in ({0})\".format(user_list)\n",
    "df_0605_convert_time = pd.read_sql(sql,conn_laurel)"
   ]
  },
  {
   "cell_type": "code",
   "execution_count": 165,
   "metadata": {},
   "outputs": [
    {
     "data": {
      "text/html": [
       "<div>\n",
       "<style>\n",
       "    .dataframe thead tr:only-child th {\n",
       "        text-align: right;\n",
       "    }\n",
       "\n",
       "    .dataframe thead th {\n",
       "        text-align: left;\n",
       "    }\n",
       "\n",
       "    .dataframe tbody tr th {\n",
       "        vertical-align: top;\n",
       "    }\n",
       "</style>\n",
       "<table border=\"1\" class=\"dataframe\">\n",
       "  <thead>\n",
       "    <tr style=\"text-align: right;\">\n",
       "      <th></th>\n",
       "      <th>User</th>\n",
       "      <th>nd_key</th>\n",
       "    </tr>\n",
       "  </thead>\n",
       "  <tbody>\n",
       "    <tr>\n",
       "      <th>0</th>\n",
       "      <td>u5232340</td>\n",
       "      <td>nd013</td>\n",
       "    </tr>\n",
       "    <tr>\n",
       "      <th>1</th>\n",
       "      <td>u2011049</td>\n",
       "      <td>nd209</td>\n",
       "    </tr>\n",
       "    <tr>\n",
       "      <th>2</th>\n",
       "      <td>u6724</td>\n",
       "      <td>nd013</td>\n",
       "    </tr>\n",
       "    <tr>\n",
       "      <th>3</th>\n",
       "      <td>6791689572</td>\n",
       "      <td>nd013</td>\n",
       "    </tr>\n",
       "    <tr>\n",
       "      <th>4</th>\n",
       "      <td>7662419265</td>\n",
       "      <td>nd889</td>\n",
       "    </tr>\n",
       "  </tbody>\n",
       "</table>\n",
       "</div>"
      ],
      "text/plain": [
       "         User nd_key\n",
       "0    u5232340  nd013\n",
       "1    u2011049  nd209\n",
       "2       u6724  nd013\n",
       "3  6791689572  nd013\n",
       "4  7662419265  nd889"
      ]
     },
     "execution_count": 165,
     "metadata": {},
     "output_type": "execute_result"
    }
   ],
   "source": [
    "df_0605_convert_time.columns = ['User','nd_key']\n",
    "df_0605_convert_time.head()"
   ]
  },
  {
   "cell_type": "code",
   "execution_count": 166,
   "metadata": {},
   "outputs": [
    {
     "data": {
      "text/html": [
       "<div>\n",
       "<style>\n",
       "    .dataframe thead tr:only-child th {\n",
       "        text-align: right;\n",
       "    }\n",
       "\n",
       "    .dataframe thead th {\n",
       "        text-align: left;\n",
       "    }\n",
       "\n",
       "    .dataframe tbody tr th {\n",
       "        vertical-align: top;\n",
       "    }\n",
       "</style>\n",
       "<table border=\"1\" class=\"dataframe\">\n",
       "  <thead>\n",
       "    <tr style=\"text-align: right;\">\n",
       "      <th></th>\n",
       "      <th>Projects Passed</th>\n",
       "      <th>Status</th>\n",
       "      <th>User</th>\n",
       "      <th>First Name</th>\n",
       "      <th>Last Name</th>\n",
       "      <th>Email</th>\n",
       "      <th>ip_country_code</th>\n",
       "      <th>Mentor</th>\n",
       "      <th>Profile</th>\n",
       "      <th>nd_key</th>\n",
       "    </tr>\n",
       "  </thead>\n",
       "  <tbody>\n",
       "    <tr>\n",
       "      <th>0</th>\n",
       "      <td>3</td>\n",
       "      <td>Active</td>\n",
       "      <td>10089403351</td>\n",
       "      <td>é‘«</td>\n",
       "      <td>é‡‘</td>\n",
       "      <td>2120100202@email.szu.edu.cn</td>\n",
       "      <td>NaN</td>\n",
       "      <td>NaN</td>\n",
       "      <td>https://profiles.udacity.com/u/2267</td>\n",
       "      <td>NaN</td>\n",
       "    </tr>\n",
       "    <tr>\n",
       "      <th>1</th>\n",
       "      <td>3</td>\n",
       "      <td>Active</td>\n",
       "      <td>10157053022</td>\n",
       "      <td>Lijun</td>\n",
       "      <td>WANG</td>\n",
       "      <td>wljjlu@163.com</td>\n",
       "      <td>NaN</td>\n",
       "      <td>NaN</td>\n",
       "      <td>https://profiles.udacity.com/u/lijunwang</td>\n",
       "      <td>nd013</td>\n",
       "    </tr>\n",
       "    <tr>\n",
       "      <th>2</th>\n",
       "      <td>3</td>\n",
       "      <td>Active</td>\n",
       "      <td>10369378814</td>\n",
       "      <td>Deborah</td>\n",
       "      <td>Mesquita</td>\n",
       "      <td>mesquita.deh@gmail.com</td>\n",
       "      <td>NaN</td>\n",
       "      <td>NaN</td>\n",
       "      <td>NaN</td>\n",
       "      <td>NaN</td>\n",
       "    </tr>\n",
       "    <tr>\n",
       "      <th>3</th>\n",
       "      <td>3</td>\n",
       "      <td>Active</td>\n",
       "      <td>10183345181</td>\n",
       "      <td>meiyan</td>\n",
       "      <td>lin</td>\n",
       "      <td>1017806276@qq.com</td>\n",
       "      <td>NaN</td>\n",
       "      <td>NaN</td>\n",
       "      <td>NaN</td>\n",
       "      <td>NaN</td>\n",
       "    </tr>\n",
       "    <tr>\n",
       "      <th>4</th>\n",
       "      <td>3</td>\n",
       "      <td>Active</td>\n",
       "      <td>204065671</td>\n",
       "      <td>Daniel</td>\n",
       "      <td>Dubats</td>\n",
       "      <td>ddd5ye@virginia.edu</td>\n",
       "      <td>US</td>\n",
       "      <td>NaN</td>\n",
       "      <td>NaN</td>\n",
       "      <td>NaN</td>\n",
       "    </tr>\n",
       "  </tbody>\n",
       "</table>\n",
       "</div>"
      ],
      "text/plain": [
       "   Projects Passed  Status         User First Name Last Name  \\\n",
       "0                3  Active  10089403351        é‘«       é‡‘   \n",
       "1                3  Active  10157053022      Lijun      WANG   \n",
       "2                3  Active  10369378814    Deborah  Mesquita   \n",
       "3                3  Active  10183345181     meiyan       lin   \n",
       "4                3  Active    204065671     Daniel    Dubats   \n",
       "\n",
       "                         Email ip_country_code Mentor  \\\n",
       "0  2120100202@email.szu.edu.cn             NaN    NaN   \n",
       "1               wljjlu@163.com             NaN    NaN   \n",
       "2       mesquita.deh@gmail.com             NaN    NaN   \n",
       "3            1017806276@qq.com             NaN    NaN   \n",
       "4          ddd5ye@virginia.edu              US    NaN   \n",
       "\n",
       "                                    Profile nd_key  \n",
       "0       https://profiles.udacity.com/u/2267    NaN  \n",
       "1  https://profiles.udacity.com/u/lijunwang  nd013  \n",
       "2                                       NaN    NaN  \n",
       "3                                       NaN    NaN  \n",
       "4                                       NaN    NaN  "
      ]
     },
     "execution_count": 166,
     "metadata": {},
     "output_type": "execute_result"
    }
   ],
   "source": [
    "df_0605_t = pd.merge(df_0605_raw,df_0605_convert_time,on='User',how='left')\n",
    "df_0605_t.head()"
   ]
  },
  {
   "cell_type": "code",
   "execution_count": 167,
   "metadata": {},
   "outputs": [
    {
     "data": {
      "text/html": [
       "<div>\n",
       "<style>\n",
       "    .dataframe thead tr:only-child th {\n",
       "        text-align: right;\n",
       "    }\n",
       "\n",
       "    .dataframe thead th {\n",
       "        text-align: left;\n",
       "    }\n",
       "\n",
       "    .dataframe tbody tr th {\n",
       "        vertical-align: top;\n",
       "    }\n",
       "</style>\n",
       "<table border=\"1\" class=\"dataframe\">\n",
       "  <thead>\n",
       "    <tr style=\"text-align: right;\">\n",
       "      <th></th>\n",
       "      <th>Projects Passed</th>\n",
       "      <th>Status</th>\n",
       "      <th>User</th>\n",
       "      <th>First Name</th>\n",
       "      <th>Last Name</th>\n",
       "      <th>Email</th>\n",
       "      <th>ip_country_code</th>\n",
       "      <th>Mentor</th>\n",
       "      <th>Profile</th>\n",
       "      <th>nd_key</th>\n",
       "      <th>convert</th>\n",
       "    </tr>\n",
       "  </thead>\n",
       "  <tbody>\n",
       "    <tr>\n",
       "      <th>0</th>\n",
       "      <td>3</td>\n",
       "      <td>Active</td>\n",
       "      <td>10089403351</td>\n",
       "      <td>é‘«</td>\n",
       "      <td>é‡‘</td>\n",
       "      <td>2120100202@email.szu.edu.cn</td>\n",
       "      <td>NaN</td>\n",
       "      <td>NaN</td>\n",
       "      <td>https://profiles.udacity.com/u/2267</td>\n",
       "      <td>NaN</td>\n",
       "      <td>0</td>\n",
       "    </tr>\n",
       "    <tr>\n",
       "      <th>1</th>\n",
       "      <td>3</td>\n",
       "      <td>Active</td>\n",
       "      <td>10157053022</td>\n",
       "      <td>Lijun</td>\n",
       "      <td>WANG</td>\n",
       "      <td>wljjlu@163.com</td>\n",
       "      <td>NaN</td>\n",
       "      <td>NaN</td>\n",
       "      <td>https://profiles.udacity.com/u/lijunwang</td>\n",
       "      <td>nd013</td>\n",
       "      <td>1</td>\n",
       "    </tr>\n",
       "    <tr>\n",
       "      <th>2</th>\n",
       "      <td>3</td>\n",
       "      <td>Active</td>\n",
       "      <td>10369378814</td>\n",
       "      <td>Deborah</td>\n",
       "      <td>Mesquita</td>\n",
       "      <td>mesquita.deh@gmail.com</td>\n",
       "      <td>NaN</td>\n",
       "      <td>NaN</td>\n",
       "      <td>NaN</td>\n",
       "      <td>NaN</td>\n",
       "      <td>0</td>\n",
       "    </tr>\n",
       "    <tr>\n",
       "      <th>3</th>\n",
       "      <td>3</td>\n",
       "      <td>Active</td>\n",
       "      <td>10183345181</td>\n",
       "      <td>meiyan</td>\n",
       "      <td>lin</td>\n",
       "      <td>1017806276@qq.com</td>\n",
       "      <td>NaN</td>\n",
       "      <td>NaN</td>\n",
       "      <td>NaN</td>\n",
       "      <td>NaN</td>\n",
       "      <td>0</td>\n",
       "    </tr>\n",
       "    <tr>\n",
       "      <th>4</th>\n",
       "      <td>3</td>\n",
       "      <td>Active</td>\n",
       "      <td>204065671</td>\n",
       "      <td>Daniel</td>\n",
       "      <td>Dubats</td>\n",
       "      <td>ddd5ye@virginia.edu</td>\n",
       "      <td>US</td>\n",
       "      <td>NaN</td>\n",
       "      <td>NaN</td>\n",
       "      <td>NaN</td>\n",
       "      <td>0</td>\n",
       "    </tr>\n",
       "  </tbody>\n",
       "</table>\n",
       "</div>"
      ],
      "text/plain": [
       "   Projects Passed  Status         User First Name Last Name  \\\n",
       "0                3  Active  10089403351        é‘«       é‡‘   \n",
       "1                3  Active  10157053022      Lijun      WANG   \n",
       "2                3  Active  10369378814    Deborah  Mesquita   \n",
       "3                3  Active  10183345181     meiyan       lin   \n",
       "4                3  Active    204065671     Daniel    Dubats   \n",
       "\n",
       "                         Email ip_country_code Mentor  \\\n",
       "0  2120100202@email.szu.edu.cn             NaN    NaN   \n",
       "1               wljjlu@163.com             NaN    NaN   \n",
       "2       mesquita.deh@gmail.com             NaN    NaN   \n",
       "3            1017806276@qq.com             NaN    NaN   \n",
       "4          ddd5ye@virginia.edu              US    NaN   \n",
       "\n",
       "                                    Profile nd_key  convert  \n",
       "0       https://profiles.udacity.com/u/2267    NaN        0  \n",
       "1  https://profiles.udacity.com/u/lijunwang  nd013        1  \n",
       "2                                       NaN    NaN        0  \n",
       "3                                       NaN    NaN        0  \n",
       "4                                       NaN    NaN        0  "
      ]
     },
     "execution_count": 167,
     "metadata": {},
     "output_type": "execute_result"
    }
   ],
   "source": [
    "df_0605_t = df_0605_t.assign(convert = df_0605_t['nd_key'].apply(lambda x: 1 if x == 'nd013' or x == 'nd209' or x == 'nd889' else 0))\n",
    "df_0605_t.head()"
   ]
  },
  {
   "cell_type": "code",
   "execution_count": 168,
   "metadata": {},
   "outputs": [
    {
     "name": "stdout",
     "output_type": "stream",
     "text": [
      "802 students received emails when active, 294 of them enrolled in AI/SDC/Robo. (0.36658354114713215)\n",
      "1372 students received emails when completed, 781 of them enrolled in AI/SDC/Robo. (0.5692419825072886)\n"
     ]
    }
   ],
   "source": [
    "df_0605_active = df_0605_t.query(\"Status == 'Active'\")\n",
    "df_0605_active_c = df_0605_active.query('convert == 1')\n",
    "n1 = df_0605_active.shape[0]\n",
    "obs_v1 = df_0605_active_c.shape[0]\n",
    "\n",
    "df_0605_complete = df_0605_t.query(\"Status == 'Completed'\")\n",
    "df_0605_complete_c = df_0605_complete.query('convert == 1')\n",
    "n2 = df_0605_complete.shape[0]\n",
    "obs_v2 = df_0605_complete_c.shape[0]\n",
    "\n",
    "print(\"{0} students received emails when active, {1} of them enrolled in AI/SDC/Robo. ({2})\".format(n1,obs_v1,obs_v1/n1))\n",
    "print(\"{0} students received emails when completed, {1} of them enrolled in AI/SDC/Robo. ({2})\".format(n2,obs_v2,obs_v2/n2))"
   ]
  },
  {
   "cell_type": "code",
   "execution_count": 169,
   "metadata": {},
   "outputs": [
    {
     "name": "stdout",
     "output_type": "stream",
     "text": [
      "Pool mean: 0.4944802207911684; Pool variance: 0.00011498138548182417\n"
     ]
    }
   ],
   "source": [
    "m = (obs_v1+obs_v2)/(n1+n2)\n",
    "sd = (obs_v1+obs_v2)/(n1+n2)*(1-(obs_v1+obs_v2)/(n1+n2))/(n1+n2)\n",
    "print(\"Pool mean: {0}; Pool variance: {1}\".format(m,sd))"
   ]
  },
  {
   "cell_type": "code",
   "execution_count": 170,
   "metadata": {},
   "outputs": [
    {
     "name": "stdout",
     "output_type": "stream",
     "text": [
      "Students received emails when active: mean is 0.5692419825072886 and variance is 0.00017872124479479615\n",
      "Students received emails when completed: mean is 0.36658354114713215 and variance is 0.0002895262450213978\n"
     ]
    }
   ],
   "source": [
    "m1 = obs_v1/n1\n",
    "m2 = obs_v2/n2\n",
    "sd1 = obs_v1/n1*(1-obs_v1/n1)/n1\n",
    "sd2 = obs_v2/n2*(1-obs_v2/n2)/n2\n",
    "print(\"Students received emails when active: mean is {0} and variance is {1}\".format(m2,sd2))\n",
    "print(\"Students received emails when completed: mean is {0} and variance is {1}\".format(m1,sd1))"
   ]
  },
  {
   "cell_type": "code",
   "execution_count": 171,
   "metadata": {},
   "outputs": [
    {
     "name": "stdout",
     "output_type": "stream",
     "text": [
      "z stats is 9.119176669395355; 90% z score is 1.6448536269514722\n"
     ]
    }
   ],
   "source": [
    "# z test\n",
    "s = m*(1-m)*(1/n1+1/n2)\n",
    "z = (m2-m1)/np.sqrt(s)\n",
    "zscore = stats.norm.ppf(.95)\n",
    "print(\"z stats is {0}; 90% z score is {1}\".format(z,zscore))"
   ]
  },
  {
   "cell_type": "code",
   "execution_count": null,
   "metadata": {
    "collapsed": true
   },
   "outputs": [],
   "source": []
  },
  {
   "cell_type": "markdown",
   "metadata": {},
   "source": [
    "## Question2. Is sending emails improving conversion rate? (overall, active, graduated) - 9/25 data"
   ]
  },
  {
   "cell_type": "code",
   "execution_count": 78,
   "metadata": {},
   "outputs": [
    {
     "data": {
      "text/html": [
       "<div>\n",
       "<style>\n",
       "    .dataframe thead tr:only-child th {\n",
       "        text-align: right;\n",
       "    }\n",
       "\n",
       "    .dataframe thead th {\n",
       "        text-align: left;\n",
       "    }\n",
       "\n",
       "    .dataframe tbody tr th {\n",
       "        vertical-align: top;\n",
       "    }\n",
       "</style>\n",
       "<table border=\"1\" class=\"dataframe\">\n",
       "  <thead>\n",
       "    <tr style=\"text-align: right;\">\n",
       "      <th></th>\n",
       "      <th>user_id</th>\n",
       "      <th>email</th>\n",
       "      <th>version</th>\n",
       "      <th>locale</th>\n",
       "      <th>term_id</th>\n",
       "      <th>access_started_at</th>\n",
       "      <th>count_projects_completed</th>\n",
       "      <th>project_completed</th>\n",
       "      <th>cohort_id</th>\n",
       "      <th>nd013_purchase_date</th>\n",
       "      <th>nd013_after_nd101_started</th>\n",
       "      <th>nd889_purchase_date</th>\n",
       "      <th>nd889_after_nd101_started</th>\n",
       "      <th>nd209_purchase_date</th>\n",
       "      <th>nd209_after_nd101_started</th>\n",
       "      <th>emailed</th>\n",
       "    </tr>\n",
       "  </thead>\n",
       "  <tbody>\n",
       "    <tr>\n",
       "      <th>0</th>\n",
       "      <td>u95848</td>\n",
       "      <td>jrenzhile@gmail.com</td>\n",
       "      <td>1.0.0</td>\n",
       "      <td>en-us</td>\n",
       "      <td>5.0</td>\n",
       "      <td>2017-01-27 22:00:00</td>\n",
       "      <td>5.0</td>\n",
       "      <td>Translation Project, Generate TV Scripts, Gene...</td>\n",
       "      <td>17.0</td>\n",
       "      <td>2017-06-05</td>\n",
       "      <td>TRUE</td>\n",
       "      <td>NaN</td>\n",
       "      <td>FALSE</td>\n",
       "      <td>NaN</td>\n",
       "      <td>FALSE</td>\n",
       "      <td>Yes</td>\n",
       "    </tr>\n",
       "    <tr>\n",
       "      <th>1</th>\n",
       "      <td>8244503642</td>\n",
       "      <td>wyllmein2000@21cn.com</td>\n",
       "      <td>1.0.0</td>\n",
       "      <td>en-us</td>\n",
       "      <td>5.0</td>\n",
       "      <td>2017-01-27 22:00:00</td>\n",
       "      <td>5.0</td>\n",
       "      <td>Generate Faces, Image Classification, Your fir...</td>\n",
       "      <td>17.0</td>\n",
       "      <td>2017-07-03</td>\n",
       "      <td>TRUE</td>\n",
       "      <td>NaN</td>\n",
       "      <td>FALSE</td>\n",
       "      <td>2017-05-10</td>\n",
       "      <td>TRUE</td>\n",
       "      <td>No</td>\n",
       "    </tr>\n",
       "    <tr>\n",
       "      <th>2</th>\n",
       "      <td>380288663</td>\n",
       "      <td>xia.fei09@gmail.com</td>\n",
       "      <td>1.0.0</td>\n",
       "      <td>en-us</td>\n",
       "      <td>5.0</td>\n",
       "      <td>2017-01-27 22:00:00</td>\n",
       "      <td>5.0</td>\n",
       "      <td>Generate TV Scripts, Image Classification, Tra...</td>\n",
       "      <td>17.0</td>\n",
       "      <td>2017-01-06</td>\n",
       "      <td>FALSE</td>\n",
       "      <td>2016-12-02</td>\n",
       "      <td>FALSE</td>\n",
       "      <td>NaN</td>\n",
       "      <td>FALSE</td>\n",
       "      <td>No</td>\n",
       "    </tr>\n",
       "    <tr>\n",
       "      <th>3</th>\n",
       "      <td>10161001520</td>\n",
       "      <td>alexpanasucla@gmail.com</td>\n",
       "      <td>1.0.0</td>\n",
       "      <td>en-us</td>\n",
       "      <td>5.0</td>\n",
       "      <td>2017-01-27 22:00:00</td>\n",
       "      <td>5.0</td>\n",
       "      <td>Generate TV Scripts, Translation Project, Imag...</td>\n",
       "      <td>17.0</td>\n",
       "      <td>2017-06-09</td>\n",
       "      <td>TRUE</td>\n",
       "      <td>NaN</td>\n",
       "      <td>FALSE</td>\n",
       "      <td>NaN</td>\n",
       "      <td>FALSE</td>\n",
       "      <td>Yes</td>\n",
       "    </tr>\n",
       "    <tr>\n",
       "      <th>4</th>\n",
       "      <td>304937546</td>\n",
       "      <td>gaston.farina@gmail.com</td>\n",
       "      <td>1.0.0</td>\n",
       "      <td>en-us</td>\n",
       "      <td>5.0</td>\n",
       "      <td>2017-01-27 22:00:00</td>\n",
       "      <td>5.0</td>\n",
       "      <td>Generate TV Scripts, Translation Project, Your...</td>\n",
       "      <td>17.0</td>\n",
       "      <td>2017-02-06</td>\n",
       "      <td>TRUE</td>\n",
       "      <td>2017-06-05</td>\n",
       "      <td>TRUE</td>\n",
       "      <td>NaN</td>\n",
       "      <td>FALSE</td>\n",
       "      <td>Yes</td>\n",
       "    </tr>\n",
       "  </tbody>\n",
       "</table>\n",
       "</div>"
      ],
      "text/plain": [
       "       user_id                    email version locale  term_id  \\\n",
       "0       u95848      jrenzhile@gmail.com   1.0.0  en-us      5.0   \n",
       "1   8244503642    wyllmein2000@21cn.com   1.0.0  en-us      5.0   \n",
       "2    380288663      xia.fei09@gmail.com   1.0.0  en-us      5.0   \n",
       "3  10161001520  alexpanasucla@gmail.com   1.0.0  en-us      5.0   \n",
       "4    304937546  gaston.farina@gmail.com   1.0.0  en-us      5.0   \n",
       "\n",
       "     access_started_at  count_projects_completed  \\\n",
       "0  2017-01-27 22:00:00                       5.0   \n",
       "1  2017-01-27 22:00:00                       5.0   \n",
       "2  2017-01-27 22:00:00                       5.0   \n",
       "3  2017-01-27 22:00:00                       5.0   \n",
       "4  2017-01-27 22:00:00                       5.0   \n",
       "\n",
       "                                   project_completed  cohort_id  \\\n",
       "0  Translation Project, Generate TV Scripts, Gene...       17.0   \n",
       "1  Generate Faces, Image Classification, Your fir...       17.0   \n",
       "2  Generate TV Scripts, Image Classification, Tra...       17.0   \n",
       "3  Generate TV Scripts, Translation Project, Imag...       17.0   \n",
       "4  Generate TV Scripts, Translation Project, Your...       17.0   \n",
       "\n",
       "  nd013_purchase_date nd013_after_nd101_started nd889_purchase_date  \\\n",
       "0          2017-06-05                      TRUE                 NaN   \n",
       "1          2017-07-03                      TRUE                 NaN   \n",
       "2          2017-01-06                     FALSE          2016-12-02   \n",
       "3          2017-06-09                      TRUE                 NaN   \n",
       "4          2017-02-06                      TRUE          2017-06-05   \n",
       "\n",
       "  nd889_after_nd101_started nd209_purchase_date nd209_after_nd101_started  \\\n",
       "0                     FALSE                 NaN                     FALSE   \n",
       "1                     FALSE          2017-05-10                      TRUE   \n",
       "2                     FALSE                 NaN                     FALSE   \n",
       "3                     FALSE                 NaN                     FALSE   \n",
       "4                      TRUE                 NaN                     FALSE   \n",
       "\n",
       "  emailed  \n",
       "0     Yes  \n",
       "1      No  \n",
       "2      No  \n",
       "3     Yes  \n",
       "4     Yes  "
      ]
     },
     "execution_count": 78,
     "metadata": {},
     "output_type": "execute_result"
    }
   ],
   "source": [
    "df_0925_raw = df_0925_raw[:4185]\n",
    "df_0925_raw.head()"
   ]
  },
  {
   "cell_type": "code",
   "execution_count": 80,
   "metadata": {},
   "outputs": [],
   "source": [
    "# exclude those already purchased\n",
    "df_0925_raw = df_0925_raw.assign(purchased = 0)\n",
    "df_0925_raw['purchased'] = np.where((df_0925_raw['nd013_after_nd101_started']==\"TRUE\")\n",
    "                                   |(df_0925_raw['nd889_after_nd101_started']==\"TRUE\")\n",
    "                                   |(df_0925_raw['nd209_after_nd101_started']==\"TRUE\"),1,0)"
   ]
  },
  {
   "cell_type": "code",
   "execution_count": 86,
   "metadata": {},
   "outputs": [
    {
     "data": {
      "text/plain": [
       "purchased  emailed  count_projects_completed\n",
       "0          No       3.0                          166\n",
       "                    4.0                          162\n",
       "                    5.0                         1012\n",
       "           Yes      3.0                          128\n",
       "                    4.0                           72\n",
       "                    5.0                         1293\n",
       "1          No       3.0                           13\n",
       "                    4.0                           18\n",
       "                    5.0                          546\n",
       "           Yes      3.0                           16\n",
       "                    4.0                           17\n",
       "                    5.0                          742\n",
       "Name: user_id, dtype: int64"
      ]
     },
     "execution_count": 86,
     "metadata": {},
     "output_type": "execute_result"
    }
   ],
   "source": [
    "df_0925_raw.groupby(['purchased','emailed','count_projects_completed'])['user_id'].count()"
   ]
  },
  {
   "cell_type": "code",
   "execution_count": 87,
   "metadata": {},
   "outputs": [],
   "source": [
    "user_list = []\n",
    "for u in df_0925_raw['user_id']:\n",
    "    user_list.append(u)\n",
    "user_list = ','.join(\"'\"+str(e)+\"'\" for e in user_list)"
   ]
  },
  {
   "cell_type": "code",
   "execution_count": 88,
   "metadata": {
    "collapsed": true
   },
   "outputs": [],
   "source": [
    "conn_laurel = psycopg2.connect(\"dbname='analytics' user='analytics' host='analytics.cv90snkxh2gd.us-west-2.rds.amazonaws.com' password='!TgP$Ol9Z&6QhKW0tmn9mOW5rYT2J8'\")\n",
    "sql = \"select distinct user_id,nd_key\\\n",
    "       from nd_enrolls a\\\n",
    "       where has_payment and nd_key in ('nd889','nd013','nd209')\\\n",
    "         and user_id in ({0})\".format(user_list)\n",
    "df_0925_convert = pd.read_sql(sql,conn_laurel)"
   ]
  },
  {
   "cell_type": "code",
   "execution_count": 131,
   "metadata": {},
   "outputs": [
    {
     "data": {
      "text/html": [
       "<div>\n",
       "<style>\n",
       "    .dataframe thead tr:only-child th {\n",
       "        text-align: right;\n",
       "    }\n",
       "\n",
       "    .dataframe thead th {\n",
       "        text-align: left;\n",
       "    }\n",
       "\n",
       "    .dataframe tbody tr th {\n",
       "        vertical-align: top;\n",
       "    }\n",
       "</style>\n",
       "<table border=\"1\" class=\"dataframe\">\n",
       "  <thead>\n",
       "    <tr style=\"text-align: right;\">\n",
       "      <th></th>\n",
       "      <th>user_id</th>\n",
       "      <th>email</th>\n",
       "      <th>version</th>\n",
       "      <th>locale</th>\n",
       "      <th>term_id</th>\n",
       "      <th>access_started_at</th>\n",
       "      <th>count_projects_completed</th>\n",
       "      <th>project_completed</th>\n",
       "      <th>cohort_id</th>\n",
       "      <th>nd013_purchase_date</th>\n",
       "      <th>nd013_after_nd101_started</th>\n",
       "      <th>nd889_purchase_date</th>\n",
       "      <th>nd889_after_nd101_started</th>\n",
       "      <th>nd209_purchase_date</th>\n",
       "      <th>nd209_after_nd101_started</th>\n",
       "      <th>emailed</th>\n",
       "      <th>purchased</th>\n",
       "      <th>nd_key</th>\n",
       "    </tr>\n",
       "  </thead>\n",
       "  <tbody>\n",
       "    <tr>\n",
       "      <th>0</th>\n",
       "      <td>u95848</td>\n",
       "      <td>jrenzhile@gmail.com</td>\n",
       "      <td>1.0.0</td>\n",
       "      <td>en-us</td>\n",
       "      <td>5.0</td>\n",
       "      <td>2017-01-27 22:00:00</td>\n",
       "      <td>5.0</td>\n",
       "      <td>Translation Project, Generate TV Scripts, Gene...</td>\n",
       "      <td>17.0</td>\n",
       "      <td>2017-06-05</td>\n",
       "      <td>TRUE</td>\n",
       "      <td>NaN</td>\n",
       "      <td>FALSE</td>\n",
       "      <td>NaN</td>\n",
       "      <td>FALSE</td>\n",
       "      <td>Yes</td>\n",
       "      <td>1</td>\n",
       "      <td>nd013</td>\n",
       "    </tr>\n",
       "    <tr>\n",
       "      <th>1</th>\n",
       "      <td>8244503642</td>\n",
       "      <td>wyllmein2000@21cn.com</td>\n",
       "      <td>1.0.0</td>\n",
       "      <td>en-us</td>\n",
       "      <td>5.0</td>\n",
       "      <td>2017-01-27 22:00:00</td>\n",
       "      <td>5.0</td>\n",
       "      <td>Generate Faces, Image Classification, Your fir...</td>\n",
       "      <td>17.0</td>\n",
       "      <td>2017-07-03</td>\n",
       "      <td>TRUE</td>\n",
       "      <td>NaN</td>\n",
       "      <td>FALSE</td>\n",
       "      <td>2017-05-10</td>\n",
       "      <td>TRUE</td>\n",
       "      <td>No</td>\n",
       "      <td>1</td>\n",
       "      <td>nd013</td>\n",
       "    </tr>\n",
       "    <tr>\n",
       "      <th>2</th>\n",
       "      <td>8244503642</td>\n",
       "      <td>wyllmein2000@21cn.com</td>\n",
       "      <td>1.0.0</td>\n",
       "      <td>en-us</td>\n",
       "      <td>5.0</td>\n",
       "      <td>2017-01-27 22:00:00</td>\n",
       "      <td>5.0</td>\n",
       "      <td>Generate Faces, Image Classification, Your fir...</td>\n",
       "      <td>17.0</td>\n",
       "      <td>2017-07-03</td>\n",
       "      <td>TRUE</td>\n",
       "      <td>NaN</td>\n",
       "      <td>FALSE</td>\n",
       "      <td>2017-05-10</td>\n",
       "      <td>TRUE</td>\n",
       "      <td>No</td>\n",
       "      <td>1</td>\n",
       "      <td>nd209</td>\n",
       "    </tr>\n",
       "    <tr>\n",
       "      <th>3</th>\n",
       "      <td>380288663</td>\n",
       "      <td>xia.fei09@gmail.com</td>\n",
       "      <td>1.0.0</td>\n",
       "      <td>en-us</td>\n",
       "      <td>5.0</td>\n",
       "      <td>2017-01-27 22:00:00</td>\n",
       "      <td>5.0</td>\n",
       "      <td>Generate TV Scripts, Image Classification, Tra...</td>\n",
       "      <td>17.0</td>\n",
       "      <td>2017-01-06</td>\n",
       "      <td>FALSE</td>\n",
       "      <td>2016-12-02</td>\n",
       "      <td>FALSE</td>\n",
       "      <td>NaN</td>\n",
       "      <td>FALSE</td>\n",
       "      <td>No</td>\n",
       "      <td>0</td>\n",
       "      <td>nd013</td>\n",
       "    </tr>\n",
       "    <tr>\n",
       "      <th>4</th>\n",
       "      <td>380288663</td>\n",
       "      <td>xia.fei09@gmail.com</td>\n",
       "      <td>1.0.0</td>\n",
       "      <td>en-us</td>\n",
       "      <td>5.0</td>\n",
       "      <td>2017-01-27 22:00:00</td>\n",
       "      <td>5.0</td>\n",
       "      <td>Generate TV Scripts, Image Classification, Tra...</td>\n",
       "      <td>17.0</td>\n",
       "      <td>2017-01-06</td>\n",
       "      <td>FALSE</td>\n",
       "      <td>2016-12-02</td>\n",
       "      <td>FALSE</td>\n",
       "      <td>NaN</td>\n",
       "      <td>FALSE</td>\n",
       "      <td>No</td>\n",
       "      <td>0</td>\n",
       "      <td>nd889</td>\n",
       "    </tr>\n",
       "  </tbody>\n",
       "</table>\n",
       "</div>"
      ],
      "text/plain": [
       "      user_id                  email version locale  term_id  \\\n",
       "0      u95848    jrenzhile@gmail.com   1.0.0  en-us      5.0   \n",
       "1  8244503642  wyllmein2000@21cn.com   1.0.0  en-us      5.0   \n",
       "2  8244503642  wyllmein2000@21cn.com   1.0.0  en-us      5.0   \n",
       "3   380288663    xia.fei09@gmail.com   1.0.0  en-us      5.0   \n",
       "4   380288663    xia.fei09@gmail.com   1.0.0  en-us      5.0   \n",
       "\n",
       "     access_started_at  count_projects_completed  \\\n",
       "0  2017-01-27 22:00:00                       5.0   \n",
       "1  2017-01-27 22:00:00                       5.0   \n",
       "2  2017-01-27 22:00:00                       5.0   \n",
       "3  2017-01-27 22:00:00                       5.0   \n",
       "4  2017-01-27 22:00:00                       5.0   \n",
       "\n",
       "                                   project_completed  cohort_id  \\\n",
       "0  Translation Project, Generate TV Scripts, Gene...       17.0   \n",
       "1  Generate Faces, Image Classification, Your fir...       17.0   \n",
       "2  Generate Faces, Image Classification, Your fir...       17.0   \n",
       "3  Generate TV Scripts, Image Classification, Tra...       17.0   \n",
       "4  Generate TV Scripts, Image Classification, Tra...       17.0   \n",
       "\n",
       "  nd013_purchase_date nd013_after_nd101_started nd889_purchase_date  \\\n",
       "0          2017-06-05                      TRUE                 NaN   \n",
       "1          2017-07-03                      TRUE                 NaN   \n",
       "2          2017-07-03                      TRUE                 NaN   \n",
       "3          2017-01-06                     FALSE          2016-12-02   \n",
       "4          2017-01-06                     FALSE          2016-12-02   \n",
       "\n",
       "  nd889_after_nd101_started nd209_purchase_date nd209_after_nd101_started  \\\n",
       "0                     FALSE                 NaN                     FALSE   \n",
       "1                     FALSE          2017-05-10                      TRUE   \n",
       "2                     FALSE          2017-05-10                      TRUE   \n",
       "3                     FALSE                 NaN                     FALSE   \n",
       "4                     FALSE                 NaN                     FALSE   \n",
       "\n",
       "  emailed  purchased nd_key  \n",
       "0     Yes          1  nd013  \n",
       "1      No          1  nd013  \n",
       "2      No          1  nd209  \n",
       "3      No          0  nd013  \n",
       "4      No          0  nd889  "
      ]
     },
     "execution_count": 131,
     "metadata": {},
     "output_type": "execute_result"
    }
   ],
   "source": [
    "df_0925 = pd.merge(df_0925_raw,df_0925_convert,on='user_id',how='left')\n",
    "df_0925.head()"
   ]
  },
  {
   "cell_type": "code",
   "execution_count": 132,
   "metadata": {
    "scrolled": true
   },
   "outputs": [
    {
     "data": {
      "text/html": [
       "<div>\n",
       "<style>\n",
       "    .dataframe thead tr:only-child th {\n",
       "        text-align: right;\n",
       "    }\n",
       "\n",
       "    .dataframe thead th {\n",
       "        text-align: left;\n",
       "    }\n",
       "\n",
       "    .dataframe tbody tr th {\n",
       "        vertical-align: top;\n",
       "    }\n",
       "</style>\n",
       "<table border=\"1\" class=\"dataframe\">\n",
       "  <thead>\n",
       "    <tr style=\"text-align: right;\">\n",
       "      <th></th>\n",
       "      <th>user_id</th>\n",
       "      <th>email</th>\n",
       "      <th>version</th>\n",
       "      <th>locale</th>\n",
       "      <th>term_id</th>\n",
       "      <th>access_started_at</th>\n",
       "      <th>count_projects_completed</th>\n",
       "      <th>project_completed</th>\n",
       "      <th>cohort_id</th>\n",
       "      <th>nd013_purchase_date</th>\n",
       "      <th>nd013_after_nd101_started</th>\n",
       "      <th>nd889_purchase_date</th>\n",
       "      <th>nd889_after_nd101_started</th>\n",
       "      <th>nd209_purchase_date</th>\n",
       "      <th>nd209_after_nd101_started</th>\n",
       "      <th>emailed</th>\n",
       "      <th>purchased</th>\n",
       "      <th>nd_key</th>\n",
       "      <th>convert</th>\n",
       "    </tr>\n",
       "  </thead>\n",
       "  <tbody>\n",
       "    <tr>\n",
       "      <th>0</th>\n",
       "      <td>u95848</td>\n",
       "      <td>jrenzhile@gmail.com</td>\n",
       "      <td>1.0.0</td>\n",
       "      <td>en-us</td>\n",
       "      <td>5.0</td>\n",
       "      <td>2017-01-27 22:00:00</td>\n",
       "      <td>5.0</td>\n",
       "      <td>Translation Project, Generate TV Scripts, Gene...</td>\n",
       "      <td>17.0</td>\n",
       "      <td>2017-06-05</td>\n",
       "      <td>TRUE</td>\n",
       "      <td>NaN</td>\n",
       "      <td>FALSE</td>\n",
       "      <td>NaN</td>\n",
       "      <td>FALSE</td>\n",
       "      <td>Yes</td>\n",
       "      <td>1</td>\n",
       "      <td>nd013</td>\n",
       "      <td>1</td>\n",
       "    </tr>\n",
       "    <tr>\n",
       "      <th>1</th>\n",
       "      <td>8244503642</td>\n",
       "      <td>wyllmein2000@21cn.com</td>\n",
       "      <td>1.0.0</td>\n",
       "      <td>en-us</td>\n",
       "      <td>5.0</td>\n",
       "      <td>2017-01-27 22:00:00</td>\n",
       "      <td>5.0</td>\n",
       "      <td>Generate Faces, Image Classification, Your fir...</td>\n",
       "      <td>17.0</td>\n",
       "      <td>2017-07-03</td>\n",
       "      <td>TRUE</td>\n",
       "      <td>NaN</td>\n",
       "      <td>FALSE</td>\n",
       "      <td>2017-05-10</td>\n",
       "      <td>TRUE</td>\n",
       "      <td>No</td>\n",
       "      <td>1</td>\n",
       "      <td>nd013</td>\n",
       "      <td>1</td>\n",
       "    </tr>\n",
       "    <tr>\n",
       "      <th>2</th>\n",
       "      <td>8244503642</td>\n",
       "      <td>wyllmein2000@21cn.com</td>\n",
       "      <td>1.0.0</td>\n",
       "      <td>en-us</td>\n",
       "      <td>5.0</td>\n",
       "      <td>2017-01-27 22:00:00</td>\n",
       "      <td>5.0</td>\n",
       "      <td>Generate Faces, Image Classification, Your fir...</td>\n",
       "      <td>17.0</td>\n",
       "      <td>2017-07-03</td>\n",
       "      <td>TRUE</td>\n",
       "      <td>NaN</td>\n",
       "      <td>FALSE</td>\n",
       "      <td>2017-05-10</td>\n",
       "      <td>TRUE</td>\n",
       "      <td>No</td>\n",
       "      <td>1</td>\n",
       "      <td>nd209</td>\n",
       "      <td>1</td>\n",
       "    </tr>\n",
       "    <tr>\n",
       "      <th>3</th>\n",
       "      <td>380288663</td>\n",
       "      <td>xia.fei09@gmail.com</td>\n",
       "      <td>1.0.0</td>\n",
       "      <td>en-us</td>\n",
       "      <td>5.0</td>\n",
       "      <td>2017-01-27 22:00:00</td>\n",
       "      <td>5.0</td>\n",
       "      <td>Generate TV Scripts, Image Classification, Tra...</td>\n",
       "      <td>17.0</td>\n",
       "      <td>2017-01-06</td>\n",
       "      <td>FALSE</td>\n",
       "      <td>2016-12-02</td>\n",
       "      <td>FALSE</td>\n",
       "      <td>NaN</td>\n",
       "      <td>FALSE</td>\n",
       "      <td>No</td>\n",
       "      <td>0</td>\n",
       "      <td>nd013</td>\n",
       "      <td>1</td>\n",
       "    </tr>\n",
       "    <tr>\n",
       "      <th>4</th>\n",
       "      <td>380288663</td>\n",
       "      <td>xia.fei09@gmail.com</td>\n",
       "      <td>1.0.0</td>\n",
       "      <td>en-us</td>\n",
       "      <td>5.0</td>\n",
       "      <td>2017-01-27 22:00:00</td>\n",
       "      <td>5.0</td>\n",
       "      <td>Generate TV Scripts, Image Classification, Tra...</td>\n",
       "      <td>17.0</td>\n",
       "      <td>2017-01-06</td>\n",
       "      <td>FALSE</td>\n",
       "      <td>2016-12-02</td>\n",
       "      <td>FALSE</td>\n",
       "      <td>NaN</td>\n",
       "      <td>FALSE</td>\n",
       "      <td>No</td>\n",
       "      <td>0</td>\n",
       "      <td>nd889</td>\n",
       "      <td>1</td>\n",
       "    </tr>\n",
       "  </tbody>\n",
       "</table>\n",
       "</div>"
      ],
      "text/plain": [
       "      user_id                  email version locale  term_id  \\\n",
       "0      u95848    jrenzhile@gmail.com   1.0.0  en-us      5.0   \n",
       "1  8244503642  wyllmein2000@21cn.com   1.0.0  en-us      5.0   \n",
       "2  8244503642  wyllmein2000@21cn.com   1.0.0  en-us      5.0   \n",
       "3   380288663    xia.fei09@gmail.com   1.0.0  en-us      5.0   \n",
       "4   380288663    xia.fei09@gmail.com   1.0.0  en-us      5.0   \n",
       "\n",
       "     access_started_at  count_projects_completed  \\\n",
       "0  2017-01-27 22:00:00                       5.0   \n",
       "1  2017-01-27 22:00:00                       5.0   \n",
       "2  2017-01-27 22:00:00                       5.0   \n",
       "3  2017-01-27 22:00:00                       5.0   \n",
       "4  2017-01-27 22:00:00                       5.0   \n",
       "\n",
       "                                   project_completed  cohort_id  \\\n",
       "0  Translation Project, Generate TV Scripts, Gene...       17.0   \n",
       "1  Generate Faces, Image Classification, Your fir...       17.0   \n",
       "2  Generate Faces, Image Classification, Your fir...       17.0   \n",
       "3  Generate TV Scripts, Image Classification, Tra...       17.0   \n",
       "4  Generate TV Scripts, Image Classification, Tra...       17.0   \n",
       "\n",
       "  nd013_purchase_date nd013_after_nd101_started nd889_purchase_date  \\\n",
       "0          2017-06-05                      TRUE                 NaN   \n",
       "1          2017-07-03                      TRUE                 NaN   \n",
       "2          2017-07-03                      TRUE                 NaN   \n",
       "3          2017-01-06                     FALSE          2016-12-02   \n",
       "4          2017-01-06                     FALSE          2016-12-02   \n",
       "\n",
       "  nd889_after_nd101_started nd209_purchase_date nd209_after_nd101_started  \\\n",
       "0                     FALSE                 NaN                     FALSE   \n",
       "1                     FALSE          2017-05-10                      TRUE   \n",
       "2                     FALSE          2017-05-10                      TRUE   \n",
       "3                     FALSE                 NaN                     FALSE   \n",
       "4                     FALSE                 NaN                     FALSE   \n",
       "\n",
       "  emailed  purchased nd_key  convert  \n",
       "0     Yes          1  nd013        1  \n",
       "1      No          1  nd013        1  \n",
       "2      No          1  nd209        1  \n",
       "3      No          0  nd013        1  \n",
       "4      No          0  nd889        1  "
      ]
     },
     "execution_count": 132,
     "metadata": {},
     "output_type": "execute_result"
    }
   ],
   "source": [
    "df_0925 = df_0925.assign(convert = df_0925['nd_key'].apply(lambda x: 1 if x == 'nd013' or x == 'nd209' or x == 'nd889' else 0))\n",
    "df_0925.head()"
   ]
  },
  {
   "cell_type": "code",
   "execution_count": 133,
   "metadata": {},
   "outputs": [
    {
     "data": {
      "text/plain": [
       "cohort_id\n",
       "17.0     2760\n",
       "19.0      174\n",
       "40.0      844\n",
       "70.0       56\n",
       "81.0       42\n",
       "108.0      49\n",
       "109.0     358\n",
       "146.0       3\n",
       "150.0       5\n",
       "161.0     139\n",
       "176.0       2\n",
       "194.0       7\n",
       "214.0       5\n",
       "250.0       2\n",
       "Name: user_id, dtype: int64"
      ]
     },
     "execution_count": 133,
     "metadata": {},
     "output_type": "execute_result"
    }
   ],
   "source": [
    "df_0925.groupby(['cohort_id'])['user_id'].count()"
   ]
  },
  {
   "cell_type": "code",
   "execution_count": 107,
   "metadata": {
    "collapsed": true
   },
   "outputs": [],
   "source": [
    "# exclude previous cohorts since we ran one campaign on 6/5 which is impacting cohort 17\n",
    "# only look at cohort 109, 161 and 214\n",
    "df_0925 = df_0925.loc[(df_0925['cohort_id']==109)|(df_0925['cohort_id']==161)|(df_0925['cohort_id']==214)]"
   ]
  },
  {
   "cell_type": "code",
   "execution_count": 108,
   "metadata": {},
   "outputs": [
    {
     "data": {
      "text/plain": [
       "cohort_id\n",
       "109.0    358\n",
       "161.0    139\n",
       "214.0      5\n",
       "Name: user_id, dtype: int64"
      ]
     },
     "execution_count": 108,
     "metadata": {},
     "output_type": "execute_result"
    }
   ],
   "source": [
    "df_0925.groupby(['cohort_id'])['user_id'].count()"
   ]
  },
  {
   "cell_type": "code",
   "execution_count": 109,
   "metadata": {},
   "outputs": [
    {
     "data": {
      "text/plain": [
       "purchased  convert\n",
       "0          0          304\n",
       "           1           86\n",
       "1          1          112\n",
       "Name: user_id, dtype: int64"
      ]
     },
     "execution_count": 109,
     "metadata": {},
     "output_type": "execute_result"
    }
   ],
   "source": [
    "df_0925.groupby(['purchased','convert'])['user_id'].count()"
   ]
  },
  {
   "cell_type": "code",
   "execution_count": 110,
   "metadata": {
    "collapsed": true
   },
   "outputs": [],
   "source": [
    "# only look at not-yet-converted students\n",
    "df_0925_p = df_0925.query('purchased==0')"
   ]
  },
  {
   "cell_type": "markdown",
   "metadata": {},
   "source": [
    "### overall : does sending emails improve conversion rate?"
   ]
  },
  {
   "cell_type": "code",
   "execution_count": 111,
   "metadata": {},
   "outputs": [
    {
     "data": {
      "text/plain": [
       "emailed\n",
       "No     218\n",
       "Yes    172\n",
       "Name: user_id, dtype: int64"
      ]
     },
     "execution_count": 111,
     "metadata": {},
     "output_type": "execute_result"
    }
   ],
   "source": [
    "df_0925_p.groupby(['emailed'])['user_id'].count()"
   ]
  },
  {
   "cell_type": "code",
   "execution_count": 112,
   "metadata": {},
   "outputs": [
    {
     "name": "stdout",
     "output_type": "stream",
     "text": [
      "172 students received emails, 30 of them enrolled in AI/SDC/Robo. (0.1744186046511628)\n",
      "218 students didn't receive emails, 56 of them enrolled in AI/SDC/Robo. (0.25688073394495414)\n"
     ]
    }
   ],
   "source": [
    "df_0925_s = df_0925_p.query(\"emailed == 'Yes'\")\n",
    "df_0925_s_c = df_0925_s.query('convert == 1')\n",
    "n1 = df_0925_s.shape[0]\n",
    "obs_v1 = df_0925_s_c.shape[0]\n",
    "\n",
    "df_0925_n = df_0925_p.query(\"emailed == 'No'\")\n",
    "df_0925_n_c = df_0925_n.query('convert == 1')\n",
    "n2 = df_0925_n.shape[0]\n",
    "obs_v2 = df_0925_n_c.shape[0]\n",
    "\n",
    "print(\"{0} students received emails, {1} of them enrolled in AI/SDC/Robo. ({2})\".format(n1,obs_v1,obs_v1/n1))\n",
    "print(\"{0} students didn't receive emails, {1} of them enrolled in AI/SDC/Robo. ({2})\".format(n2,obs_v2,obs_v2/n2))"
   ]
  },
  {
   "cell_type": "markdown",
   "metadata": {},
   "source": [
    "### Result: I guess these students, some of them might already received emails at 6/5 campaign.. hence the assumption is not quite true."
   ]
  },
  {
   "cell_type": "markdown",
   "metadata": {},
   "source": [
    "### grad. student: project = 5"
   ]
  },
  {
   "cell_type": "code",
   "execution_count": 113,
   "metadata": {},
   "outputs": [
    {
     "name": "stdout",
     "output_type": "stream",
     "text": [
      "[ 5.]\n"
     ]
    },
    {
     "data": {
      "text/plain": [
       "emailed\n",
       "No      88\n",
       "Yes    129\n",
       "Name: user_id, dtype: int64"
      ]
     },
     "execution_count": 113,
     "metadata": {},
     "output_type": "execute_result"
    }
   ],
   "source": [
    "df_0925_c = df_0925_p.query('count_projects_completed == 5')\n",
    "print(df_0925_c['count_projects_completed'].unique())\n",
    "df_0925_c.groupby(['emailed'])['user_id'].count()"
   ]
  },
  {
   "cell_type": "code",
   "execution_count": 114,
   "metadata": {},
   "outputs": [
    {
     "name": "stdout",
     "output_type": "stream",
     "text": [
      "129 students received emails, 50 of them enrolled in AI/SDC/Robo. (0.3875968992248062)\n",
      "88 students didn't receive emails, 50 of them enrolled in AI/SDC/Robo. (0.5681818181818182)\n"
     ]
    }
   ],
   "source": [
    "df_0925_s = df_0925_c.query(\"emailed == 'Yes'\")\n",
    "df_0925_s_c = df_0925_c.query('convert == 1')\n",
    "n1 = df_0925_s.shape[0]\n",
    "obs_v1 = df_0925_s_c.shape[0]\n",
    "\n",
    "df_0925_n = df_0925_c.query(\"emailed == 'No'\")\n",
    "df_0925_n_c = df_0925_c.query('convert == 1')\n",
    "n2 = df_0925_n.shape[0]\n",
    "obs_v2 = df_0925_n_c.shape[0]\n",
    "\n",
    "print(\"{0} students received emails, {1} of them enrolled in AI/SDC/Robo. ({2})\".format(n1,obs_v1,obs_v1/n1))\n",
    "print(\"{0} students didn't receive emails, {1} of them enrolled in AI/SDC/Robo. ({2})\".format(n2,obs_v2,obs_v2/n2))"
   ]
  },
  {
   "cell_type": "markdown",
   "metadata": {},
   "source": [
    "### active student: project < 5"
   ]
  },
  {
   "cell_type": "code",
   "execution_count": 115,
   "metadata": {},
   "outputs": [
    {
     "name": "stdout",
     "output_type": "stream",
     "text": [
      "[ 3.  4.]\n"
     ]
    },
    {
     "data": {
      "text/plain": [
       "emailed\n",
       "No     130\n",
       "Yes     43\n",
       "Name: user_id, dtype: int64"
      ]
     },
     "execution_count": 115,
     "metadata": {},
     "output_type": "execute_result"
    }
   ],
   "source": [
    "df_0925_a = df_0925_p.query('count_projects_completed < 5')\n",
    "print(df_0925_a['count_projects_completed'].unique())\n",
    "df_0925_a.groupby(['emailed'])['user_id'].count()"
   ]
  },
  {
   "cell_type": "code",
   "execution_count": 116,
   "metadata": {},
   "outputs": [
    {
     "name": "stdout",
     "output_type": "stream",
     "text": [
      "43 students received emails, 36 of them enrolled in AI/SDC/Robo. (0.8372093023255814)\n",
      "130 students didn't receive emails, 36 of them enrolled in AI/SDC/Robo. (0.27692307692307694)\n"
     ]
    }
   ],
   "source": [
    "df_0925_s = df_0925_a.query(\"emailed == 'Yes'\")\n",
    "df_0925_s_c = df_0925_a.query('convert == 1')\n",
    "n1 = df_0925_s.shape[0]\n",
    "obs_v1 = df_0925_s_c.shape[0]\n",
    "\n",
    "df_0925_n = df_0925_a.query(\"emailed == 'No'\")\n",
    "df_0925_n_c = df_0925_a.query('convert == 1')\n",
    "n2 = df_0925_n.shape[0]\n",
    "obs_v2 = df_0925_n_c.shape[0]\n",
    "\n",
    "print(\"{0} students received emails, {1} of them enrolled in AI/SDC/Robo. ({2})\".format(n1,obs_v1,obs_v1/n1))\n",
    "print(\"{0} students didn't receive emails, {1} of them enrolled in AI/SDC/Robo. ({2})\".format(n2,obs_v2,obs_v2/n2))"
   ]
  },
  {
   "cell_type": "code",
   "execution_count": 117,
   "metadata": {},
   "outputs": [
    {
     "name": "stdout",
     "output_type": "stream",
     "text": [
      "Pool mean: 0.4161849710982659; Pool variance: 0.0014044800053768871\n"
     ]
    }
   ],
   "source": [
    "m = (obs_v1+obs_v2)/(n1+n2)\n",
    "sd = (obs_v1+obs_v2)/(n1+n2)*(1-(obs_v1+obs_v2)/(n1+n2))/(n1+n2)\n",
    "print(\"Pool mean: {0}; Pool variance: {1}\".format(m,sd))"
   ]
  },
  {
   "cell_type": "code",
   "execution_count": 118,
   "metadata": {},
   "outputs": [
    {
     "name": "stdout",
     "output_type": "stream",
     "text": [
      "Students received emails: mean is 0.27692307692307694 and variance is 0.0015402822030040966\n",
      "Students didn't receive emails: mean is 0.8372093023255814 and variance is 0.003169532242444061\n"
     ]
    }
   ],
   "source": [
    "m1 = obs_v1/n1\n",
    "m2 = obs_v2/n2\n",
    "sd1 = obs_v1/n1*(1-obs_v1/n1)/n1\n",
    "sd2 = obs_v2/n2*(1-obs_v2/n2)/n2\n",
    "print(\"Students received emails: mean is {0} and variance is {1}\".format(m2,sd2))\n",
    "print(\"Students didn't receive emails: mean is {0} and variance is {1}\".format(m1,sd1))"
   ]
  },
  {
   "cell_type": "code",
   "execution_count": 119,
   "metadata": {},
   "outputs": [
    {
     "name": "stdout",
     "output_type": "stream",
     "text": [
      "z stats is -6.461181871829403; 90% z score is 1.6448536269514722\n"
     ]
    }
   ],
   "source": [
    "# z test\n",
    "s = m*(1-m)*(1/n1+1/n2)\n",
    "z = (m2-m1)/np.sqrt(s)\n",
    "zscore = stats.norm.ppf(.95)\n",
    "print(\"z stats is {0}; 90% z score is {1}\".format(z,zscore))"
   ]
  },
  {
   "cell_type": "markdown",
   "metadata": {},
   "source": [
    "### for emailed students:"
   ]
  },
  {
   "cell_type": "code",
   "execution_count": 123,
   "metadata": {},
   "outputs": [
    {
     "data": {
      "text/plain": [
       "emailed  status\n",
       "Yes      0          53\n",
       "         1         178\n",
       "Name: user_id, dtype: int64"
      ]
     },
     "execution_count": 123,
     "metadata": {},
     "output_type": "execute_result"
    }
   ],
   "source": [
    "df_0925_p_c = df_0925.query(\"emailed=='Yes'\")\n",
    "df_0925_p_c = df_0925_p_c.assign(status = df_0925_p_c['count_projects_completed'].apply(lambda x: 1 if x == 5 else 0))\n",
    "df_0925_p_c.groupby(['emailed','status'])['user_id'].count()"
   ]
  },
  {
   "cell_type": "code",
   "execution_count": 124,
   "metadata": {},
   "outputs": [
    {
     "name": "stdout",
     "output_type": "stream",
     "text": [
      "53 students received emails when active, 17 of them enrolled in AI/SDC/Robo. (0.32075471698113206)\n",
      "178 students received emails when completed, 72 of them enrolled in AI/SDC/Robo. (0.4044943820224719)\n"
     ]
    }
   ],
   "source": [
    "df_0925_active = df_0925_p_c.query(\"status == 0\")\n",
    "df_0925_active_c = df_0925_active.query('convert == 1')\n",
    "n1 = df_0925_active.shape[0]\n",
    "obs_v1 = df_0925_active_c.shape[0]\n",
    "\n",
    "df_0925_complete = df_0925_p_c.query(\"status == 1\")\n",
    "df_0925_complete_c = df_0925_complete.query('convert == 1')\n",
    "n2 = df_0925_complete.shape[0]\n",
    "obs_v2 = df_0925_complete_c.shape[0]\n",
    "\n",
    "print(\"{0} students received emails when active, {1} of them enrolled in AI/SDC/Robo. ({2})\".format(n1,obs_v1,obs_v1/n1))\n",
    "print(\"{0} students received emails when completed, {1} of them enrolled in AI/SDC/Robo. ({2})\".format(n2,obs_v2,obs_v2/n2))"
   ]
  },
  {
   "cell_type": "code",
   "execution_count": 125,
   "metadata": {},
   "outputs": [
    {
     "name": "stdout",
     "output_type": "stream",
     "text": [
      "Pool mean: 0.3852813852813853; Pool variance: 0.0010252798244027796\n"
     ]
    }
   ],
   "source": [
    "m = (obs_v1+obs_v2)/(n1+n2)\n",
    "sd = (obs_v1+obs_v2)/(n1+n2)*(1-(obs_v1+obs_v2)/(n1+n2))/(n1+n2)\n",
    "print(\"Pool mean: {0}; Pool variance: {1}\".format(m,sd))"
   ]
  },
  {
   "cell_type": "code",
   "execution_count": 126,
   "metadata": {},
   "outputs": [
    {
     "name": "stdout",
     "output_type": "stream",
     "text": [
      "Students received emails when active: mean is 0.4044943820224719 and variance is 0.0013532509940153397\n",
      "Students received emails when completed: mean is 0.32075471698113206 and variance is 0.0041107760097261505\n"
     ]
    }
   ],
   "source": [
    "m1 = obs_v1/n1\n",
    "m2 = obs_v2/n2\n",
    "sd1 = obs_v1/n1*(1-obs_v1/n1)/n1\n",
    "sd2 = obs_v2/n2*(1-obs_v2/n2)/n2\n",
    "print(\"Students received emails when active: mean is {0} and variance is {1}\".format(m2,sd2))\n",
    "print(\"Students received emails when completed: mean is {0} and variance is {1}\".format(m1,sd1))"
   ]
  },
  {
   "cell_type": "code",
   "execution_count": 127,
   "metadata": {},
   "outputs": [
    {
     "name": "stdout",
     "output_type": "stream",
     "text": [
      "z stats is 1.0996284556236808; 90% z score is 1.6448536269514722\n"
     ]
    }
   ],
   "source": [
    "# z test\n",
    "s = m*(1-m)*(1/n1+1/n2)\n",
    "z = (m2-m1)/np.sqrt(s)\n",
    "zscore = stats.norm.ppf(.95)\n",
    "print(\"z stats is {0}; 90% z score is {1}\".format(z,zscore))"
   ]
  },
  {
   "cell_type": "markdown",
   "metadata": {},
   "source": [
    "### result: student are becoming more aggressive than before....\n",
    "* for cohort 17 (campaign at 6/5), graduation group has higher conversion rate (60% vs. 40%) (1386 students vs. 807)\n",
    "* for cohort 109, 161 and 214 (campaign 9/25), graduation group has lower conversion rate (50/129) than active group (36/43)... In emailed group, the conversion rate between 2 groups are not significantly different."
   ]
  },
  {
   "cell_type": "markdown",
   "metadata": {},
   "source": [
    "## if that's the case, is the conversion rate different when student finish 3 projects and students finish 4?? -- when is the right time to send out this email?\n",
    "## or just let me do a logistic regression on count_projects_completed, locale, version, purchased, emailed"
   ]
  },
  {
   "cell_type": "code",
   "execution_count": 136,
   "metadata": {},
   "outputs": [],
   "source": [
    "cols = ['convert','count_projects_completed','locale','version','purchased','emailed']\n",
    "df_0925_df = df_0925[cols]\n",
    "df_0925_df = pd.get_dummies(df_0925_df)"
   ]
  },
  {
   "cell_type": "code",
   "execution_count": 144,
   "metadata": {},
   "outputs": [
    {
     "name": "stdout",
     "output_type": "stream",
     "text": [
      "Warning: Maximum number of iterations has been exceeded.\n",
      "         Current function value: 0.279303\n",
      "         Iterations: 35\n"
     ]
    },
    {
     "name": "stderr",
     "output_type": "stream",
     "text": [
      "/anaconda/lib/python3.6/site-packages/statsmodels/base/model.py:496: ConvergenceWarning: Maximum Likelihood optimization failed to converge. Check mle_retvals\n",
      "  \"Check mle_retvals\", ConvergenceWarning)\n"
     ]
    },
    {
     "data": {
      "text/html": [
       "<table class=\"simpletable\">\n",
       "<caption>Logit Regression Results</caption>\n",
       "<tr>\n",
       "  <th>Dep. Variable:</th>      <td>convert</td>     <th>  No. Observations:  </th>  <td>  4447</td> \n",
       "</tr>\n",
       "<tr>\n",
       "  <th>Model:</th>               <td>Logit</td>      <th>  Df Residuals:      </th>  <td>  4436</td> \n",
       "</tr>\n",
       "<tr>\n",
       "  <th>Method:</th>               <td>MLE</td>       <th>  Df Model:          </th>  <td>    10</td> \n",
       "</tr>\n",
       "<tr>\n",
       "  <th>Date:</th>          <td>Fri, 17 Nov 2017</td> <th>  Pseudo R-squ.:     </th>  <td>0.5953</td> \n",
       "</tr>\n",
       "<tr>\n",
       "  <th>Time:</th>              <td>16:38:54</td>     <th>  Log-Likelihood:    </th> <td> -1242.1</td>\n",
       "</tr>\n",
       "<tr>\n",
       "  <th>converged:</th>           <td>False</td>      <th>  LL-Null:           </th> <td> -3069.2</td>\n",
       "</tr>\n",
       "<tr>\n",
       "  <th> </th>                      <td> </td>        <th>  LLR p-value:       </th>  <td> 0.000</td> \n",
       "</tr>\n",
       "</table>\n",
       "<table class=\"simpletable\">\n",
       "<tr>\n",
       "              <td></td>                <th>coef</th>     <th>std err</th>      <th>z</th>      <th>P>|z|</th>  <th>[0.025</th>    <th>0.975]</th>  \n",
       "</tr>\n",
       "<tr>\n",
       "  <th>count_projects_completed</th> <td>    0.0779</td> <td>    0.087</td> <td>    0.898</td> <td> 0.369</td> <td>   -0.092</td> <td>    0.248</td>\n",
       "</tr>\n",
       "<tr>\n",
       "  <th>purchased</th>                <td>   23.9009</td> <td> 1612.587</td> <td>    0.015</td> <td> 0.988</td> <td>-3136.713</td> <td> 3184.514</td>\n",
       "</tr>\n",
       "<tr>\n",
       "  <th>locale_en-us</th>             <td>   -2.1064</td> <td>      nan</td> <td>      nan</td> <td>   nan</td> <td>      nan</td> <td>      nan</td>\n",
       "</tr>\n",
       "<tr>\n",
       "  <th>locale_pt-br</th>             <td>   -3.7342</td> <td>      nan</td> <td>      nan</td> <td>   nan</td> <td>      nan</td> <td>      nan</td>\n",
       "</tr>\n",
       "<tr>\n",
       "  <th>locale_zh-cn</th>             <td>   -2.9060</td> <td>      nan</td> <td>      nan</td> <td>   nan</td> <td>      nan</td> <td>      nan</td>\n",
       "</tr>\n",
       "<tr>\n",
       "  <th>version_1.0.0</th>            <td>    3.9348</td> <td>      nan</td> <td>      nan</td> <td>   nan</td> <td>      nan</td> <td>      nan</td>\n",
       "</tr>\n",
       "<tr>\n",
       "  <th>version_2.0.0</th>            <td>    4.1178</td> <td>      nan</td> <td>      nan</td> <td>   nan</td> <td>      nan</td> <td>      nan</td>\n",
       "</tr>\n",
       "<tr>\n",
       "  <th>version_3.0.0</th>            <td>    4.2008</td> <td>      nan</td> <td>      nan</td> <td>   nan</td> <td>      nan</td> <td>      nan</td>\n",
       "</tr>\n",
       "<tr>\n",
       "  <th>version_4.0.0</th>            <td>    5.4664</td> <td>      nan</td> <td>      nan</td> <td>   nan</td> <td>      nan</td> <td>      nan</td>\n",
       "</tr>\n",
       "<tr>\n",
       "  <th>version_5.0.0</th>            <td>  -29.5641</td> <td> 4.01e+07</td> <td>-7.37e-07</td> <td> 1.000</td> <td>-7.86e+07</td> <td> 7.86e+07</td>\n",
       "</tr>\n",
       "<tr>\n",
       "  <th>version_6.0.0</th>            <td>    6.1206</td> <td>      nan</td> <td>      nan</td> <td>   nan</td> <td>      nan</td> <td>      nan</td>\n",
       "</tr>\n",
       "<tr>\n",
       "  <th>emailed_No</th>               <td>   -3.4872</td> <td>      nan</td> <td>      nan</td> <td>   nan</td> <td>      nan</td> <td>      nan</td>\n",
       "</tr>\n",
       "<tr>\n",
       "  <th>emailed_Yes</th>              <td>   -4.2518</td> <td>      nan</td> <td>      nan</td> <td>   nan</td> <td>      nan</td> <td>      nan</td>\n",
       "</tr>\n",
       "</table>"
      ],
      "text/plain": [
       "<class 'statsmodels.iolib.summary.Summary'>\n",
       "\"\"\"\n",
       "                           Logit Regression Results                           \n",
       "==============================================================================\n",
       "Dep. Variable:                convert   No. Observations:                 4447\n",
       "Model:                          Logit   Df Residuals:                     4436\n",
       "Method:                           MLE   Df Model:                           10\n",
       "Date:                Fri, 17 Nov 2017   Pseudo R-squ.:                  0.5953\n",
       "Time:                        16:38:54   Log-Likelihood:                -1242.1\n",
       "converged:                      False   LL-Null:                       -3069.2\n",
       "                                        LLR p-value:                     0.000\n",
       "============================================================================================\n",
       "                               coef    std err          z      P>|z|      [0.025      0.975]\n",
       "--------------------------------------------------------------------------------------------\n",
       "count_projects_completed     0.0779      0.087      0.898      0.369      -0.092       0.248\n",
       "purchased                   23.9009   1612.587      0.015      0.988   -3136.713    3184.514\n",
       "locale_en-us                -2.1064        nan        nan        nan         nan         nan\n",
       "locale_pt-br                -3.7342        nan        nan        nan         nan         nan\n",
       "locale_zh-cn                -2.9060        nan        nan        nan         nan         nan\n",
       "version_1.0.0                3.9348        nan        nan        nan         nan         nan\n",
       "version_2.0.0                4.1178        nan        nan        nan         nan         nan\n",
       "version_3.0.0                4.2008        nan        nan        nan         nan         nan\n",
       "version_4.0.0                5.4664        nan        nan        nan         nan         nan\n",
       "version_5.0.0              -29.5641   4.01e+07  -7.37e-07      1.000   -7.86e+07    7.86e+07\n",
       "version_6.0.0                6.1206        nan        nan        nan         nan         nan\n",
       "emailed_No                  -3.4872        nan        nan        nan         nan         nan\n",
       "emailed_Yes                 -4.2518        nan        nan        nan         nan         nan\n",
       "============================================================================================\n",
       "\n",
       "Possibly complete quasi-separation: A fraction 0.36 of observations can be\n",
       "perfectly predicted. This might indicate that there is complete\n",
       "quasi-separation. In this case some parameters will not be identified.\n",
       "\"\"\""
      ]
     },
     "execution_count": 144,
     "metadata": {},
     "output_type": "execute_result"
    }
   ],
   "source": [
    "smlogit = sm.Logit(df_0925_df['convert'],df_0925_df.iloc[:,1:])\n",
    "smlogit.fit().summary()"
   ]
  },
  {
   "cell_type": "code",
   "execution_count": 158,
   "metadata": {},
   "outputs": [
    {
     "data": {
      "text/html": [
       "<div>\n",
       "<style>\n",
       "    .dataframe thead tr:only-child th {\n",
       "        text-align: right;\n",
       "    }\n",
       "\n",
       "    .dataframe thead th {\n",
       "        text-align: left;\n",
       "    }\n",
       "\n",
       "    .dataframe tbody tr th {\n",
       "        vertical-align: top;\n",
       "    }\n",
       "</style>\n",
       "<table border=\"1\" class=\"dataframe\">\n",
       "  <thead>\n",
       "    <tr style=\"text-align: right;\">\n",
       "      <th></th>\n",
       "      <th>0</th>\n",
       "      <th>0</th>\n",
       "    </tr>\n",
       "  </thead>\n",
       "  <tbody>\n",
       "    <tr>\n",
       "      <th>0</th>\n",
       "      <td>count_projects_completed</td>\n",
       "      <td>0.048913</td>\n",
       "    </tr>\n",
       "    <tr>\n",
       "      <th>1</th>\n",
       "      <td>purchased</td>\n",
       "      <td>7.128441</td>\n",
       "    </tr>\n",
       "    <tr>\n",
       "      <th>2</th>\n",
       "      <td>locale_en-us</td>\n",
       "      <td>0.318036</td>\n",
       "    </tr>\n",
       "    <tr>\n",
       "      <th>3</th>\n",
       "      <td>locale_pt-br</td>\n",
       "      <td>-0.919301</td>\n",
       "    </tr>\n",
       "    <tr>\n",
       "      <th>4</th>\n",
       "      <td>locale_zh-cn</td>\n",
       "      <td>-0.436886</td>\n",
       "    </tr>\n",
       "    <tr>\n",
       "      <th>5</th>\n",
       "      <td>version_1.0.0</td>\n",
       "      <td>-0.633771</td>\n",
       "    </tr>\n",
       "    <tr>\n",
       "      <th>6</th>\n",
       "      <td>version_2.0.0</td>\n",
       "      <td>-0.468695</td>\n",
       "    </tr>\n",
       "    <tr>\n",
       "      <th>7</th>\n",
       "      <td>version_3.0.0</td>\n",
       "      <td>-0.402691</td>\n",
       "    </tr>\n",
       "    <tr>\n",
       "      <th>8</th>\n",
       "      <td>version_4.0.0</td>\n",
       "      <td>0.295193</td>\n",
       "    </tr>\n",
       "    <tr>\n",
       "      <th>9</th>\n",
       "      <td>version_5.0.0</td>\n",
       "      <td>-0.286203</td>\n",
       "    </tr>\n",
       "    <tr>\n",
       "      <th>10</th>\n",
       "      <td>version_6.0.0</td>\n",
       "      <td>0.458015</td>\n",
       "    </tr>\n",
       "    <tr>\n",
       "      <th>11</th>\n",
       "      <td>emailed_No</td>\n",
       "      <td>-0.152922</td>\n",
       "    </tr>\n",
       "    <tr>\n",
       "      <th>12</th>\n",
       "      <td>emailed_Yes</td>\n",
       "      <td>-0.885229</td>\n",
       "    </tr>\n",
       "  </tbody>\n",
       "</table>\n",
       "</div>"
      ],
      "text/plain": [
       "                           0         0\n",
       "0   count_projects_completed  0.048913\n",
       "1                  purchased  7.128441\n",
       "2               locale_en-us  0.318036\n",
       "3               locale_pt-br -0.919301\n",
       "4               locale_zh-cn -0.436886\n",
       "5              version_1.0.0 -0.633771\n",
       "6              version_2.0.0 -0.468695\n",
       "7              version_3.0.0 -0.402691\n",
       "8              version_4.0.0  0.295193\n",
       "9              version_5.0.0 -0.286203\n",
       "10             version_6.0.0  0.458015\n",
       "11                emailed_No -0.152922\n",
       "12               emailed_Yes -0.885229"
      ]
     },
     "execution_count": 158,
     "metadata": {},
     "output_type": "execute_result"
    }
   ],
   "source": [
    "sklearnlogit = LogisticRegression()\n",
    "sklearnlogit.fit(df_0925_df.iloc[:,1:],df_0925_df['convert'])\n",
    "pd.concat([pd.DataFrame(df_0925_df.iloc[:,1:].columns),pd.DataFrame(sklearnlogit.coef_).T],axis=1)"
   ]
  },
  {
   "cell_type": "markdown",
   "metadata": {},
   "source": [
    "### if we only look at non-purchased students"
   ]
  },
  {
   "cell_type": "code",
   "execution_count": 159,
   "metadata": {
    "collapsed": true
   },
   "outputs": [],
   "source": [
    "cols = ['convert','count_projects_completed','locale','version','emailed']\n",
    "df_0925_df = df_0925.query('purchased==0')[cols]\n",
    "df_0925_df = pd.get_dummies(df_0925_df)"
   ]
  },
  {
   "cell_type": "code",
   "execution_count": 160,
   "metadata": {},
   "outputs": [
    {
     "data": {
      "text/html": [
       "<div>\n",
       "<style>\n",
       "    .dataframe thead tr:only-child th {\n",
       "        text-align: right;\n",
       "    }\n",
       "\n",
       "    .dataframe thead th {\n",
       "        text-align: left;\n",
       "    }\n",
       "\n",
       "    .dataframe tbody tr th {\n",
       "        vertical-align: top;\n",
       "    }\n",
       "</style>\n",
       "<table border=\"1\" class=\"dataframe\">\n",
       "  <thead>\n",
       "    <tr style=\"text-align: right;\">\n",
       "      <th></th>\n",
       "      <th>0</th>\n",
       "      <th>0</th>\n",
       "    </tr>\n",
       "  </thead>\n",
       "  <tbody>\n",
       "    <tr>\n",
       "      <th>0</th>\n",
       "      <td>count_projects_completed</td>\n",
       "      <td>0.042714</td>\n",
       "    </tr>\n",
       "    <tr>\n",
       "      <th>1</th>\n",
       "      <td>locale_en-us</td>\n",
       "      <td>0.323011</td>\n",
       "    </tr>\n",
       "    <tr>\n",
       "      <th>2</th>\n",
       "      <td>locale_pt-br</td>\n",
       "      <td>-0.918497</td>\n",
       "    </tr>\n",
       "    <tr>\n",
       "      <th>3</th>\n",
       "      <td>locale_zh-cn</td>\n",
       "      <td>-0.436730</td>\n",
       "    </tr>\n",
       "    <tr>\n",
       "      <th>4</th>\n",
       "      <td>version_1.0.0</td>\n",
       "      <td>-0.646035</td>\n",
       "    </tr>\n",
       "    <tr>\n",
       "      <th>5</th>\n",
       "      <td>version_2.0.0</td>\n",
       "      <td>-0.463966</td>\n",
       "    </tr>\n",
       "    <tr>\n",
       "      <th>6</th>\n",
       "      <td>version_3.0.0</td>\n",
       "      <td>-0.399266</td>\n",
       "    </tr>\n",
       "    <tr>\n",
       "      <th>7</th>\n",
       "      <td>version_4.0.0</td>\n",
       "      <td>0.300026</td>\n",
       "    </tr>\n",
       "    <tr>\n",
       "      <th>8</th>\n",
       "      <td>version_5.0.0</td>\n",
       "      <td>-0.286242</td>\n",
       "    </tr>\n",
       "    <tr>\n",
       "      <th>9</th>\n",
       "      <td>version_6.0.0</td>\n",
       "      <td>0.463267</td>\n",
       "    </tr>\n",
       "    <tr>\n",
       "      <th>10</th>\n",
       "      <td>emailed_No</td>\n",
       "      <td>-0.140770</td>\n",
       "    </tr>\n",
       "    <tr>\n",
       "      <th>11</th>\n",
       "      <td>emailed_Yes</td>\n",
       "      <td>-0.891446</td>\n",
       "    </tr>\n",
       "  </tbody>\n",
       "</table>\n",
       "</div>"
      ],
      "text/plain": [
       "                           0         0\n",
       "0   count_projects_completed  0.042714\n",
       "1               locale_en-us  0.323011\n",
       "2               locale_pt-br -0.918497\n",
       "3               locale_zh-cn -0.436730\n",
       "4              version_1.0.0 -0.646035\n",
       "5              version_2.0.0 -0.463966\n",
       "6              version_3.0.0 -0.399266\n",
       "7              version_4.0.0  0.300026\n",
       "8              version_5.0.0 -0.286242\n",
       "9              version_6.0.0  0.463267\n",
       "10                emailed_No -0.140770\n",
       "11               emailed_Yes -0.891446"
      ]
     },
     "execution_count": 160,
     "metadata": {},
     "output_type": "execute_result"
    }
   ],
   "source": [
    "sklearnlogit = LogisticRegression()\n",
    "sklearnlogit.fit(df_0925_df.iloc[:,1:],df_0925_df['convert'])\n",
    "pd.concat([pd.DataFrame(df_0925_df.iloc[:,1:].columns),pd.DataFrame(sklearnlogit.coef_).T],axis=1)"
   ]
  },
  {
   "cell_type": "markdown",
   "metadata": {},
   "source": [
    "### result shows that more projects the student complete, higher prob. they are going to convert. US student higher prob. to convert. higher version higher prob. to convert. email not helping"
   ]
  },
  {
   "cell_type": "code",
   "execution_count": null,
   "metadata": {
    "collapsed": true
   },
   "outputs": [],
   "source": []
  },
  {
   "cell_type": "markdown",
   "metadata": {},
   "source": [
    "### for now the result is:\n",
    "* for students who graduated DL, they have high prob. to convert to AI/SDC/Robo, with or without sending an email.\n",
    "* for students who finished 3-4 projects, sending them emails to auto admit them helps increase conversion rate."
   ]
  },
  {
   "cell_type": "code",
   "execution_count": null,
   "metadata": {
    "collapsed": true
   },
   "outputs": [],
   "source": []
  },
  {
   "cell_type": "code",
   "execution_count": null,
   "metadata": {
    "collapsed": true
   },
   "outputs": [],
   "source": []
  },
  {
   "cell_type": "code",
   "execution_count": null,
   "metadata": {
    "collapsed": true
   },
   "outputs": [],
   "source": []
  }
 ],
 "metadata": {
  "kernelspec": {
   "display_name": "Python 3",
   "language": "python",
   "name": "python3"
  },
  "language_info": {
   "codemirror_mode": {
    "name": "ipython",
    "version": 3
   },
   "file_extension": ".py",
   "mimetype": "text/x-python",
   "name": "python",
   "nbconvert_exporter": "python",
   "pygments_lexer": "ipython3",
   "version": "3.6.1"
  }
 },
 "nbformat": 4,
 "nbformat_minor": 2
}
