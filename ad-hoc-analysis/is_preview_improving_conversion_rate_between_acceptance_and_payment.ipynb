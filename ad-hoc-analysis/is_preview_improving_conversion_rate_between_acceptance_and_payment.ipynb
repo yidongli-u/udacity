{
 "cells": [
  {
   "cell_type": "markdown",
   "metadata": {},
   "source": [
    "# Is Preview Improving Conversion Rate between Acceptance and Payment?"
   ]
  },
  {
   "cell_type": "markdown",
   "metadata": {},
   "source": [
    "* We sent preview emails to all students been accepted to cohorts:\n",
    "    * 495: nd209; cohort notify at 2017-12-22, start at 2018-01-10; preview course: ud208\n",
    "    * 326: nd889; cohort notify at 2018-01-04, start at 2018-01-25; preview course: ud889-preview\n",
    "    * 293: nd013; cohort notify at 2017-12-05, start at 2017-12-14; preview course: ud013-preview"
   ]
  },
  {
   "cell_type": "code",
   "execution_count": 75,
   "metadata": {
    "collapsed": true
   },
   "outputs": [],
   "source": [
    "import psycopg2\n",
    "import pandas as pd\n",
    "import numpy as np\n",
    "from scipy import stats\n",
    "from math import sqrt"
   ]
  },
  {
   "cell_type": "code",
   "execution_count": 92,
   "metadata": {
    "collapsed": true
   },
   "outputs": [],
   "source": [
    "laurel = open('conn_laurel.txt','r')\n",
    "hardy = open('conn_hardy.txt','r')\n",
    "conn_laurel = psycopg2.connect(laurel.read())\n",
    "conn_hardy = psycopg2.connect(hardy.read())"
   ]
  },
  {
   "cell_type": "markdown",
   "metadata": {},
   "source": [
    "## Cohort 495"
   ]
  },
  {
   "cell_type": "code",
   "execution_count": 8,
   "metadata": {},
   "outputs": [
    {
     "data": {
      "text/html": [
       "<div>\n",
       "<style>\n",
       "    .dataframe thead tr:only-child th {\n",
       "        text-align: right;\n",
       "    }\n",
       "\n",
       "    .dataframe thead th {\n",
       "        text-align: left;\n",
       "    }\n",
       "\n",
       "    .dataframe tbody tr th {\n",
       "        vertical-align: top;\n",
       "    }\n",
       "</style>\n",
       "<table border=\"1\" class=\"dataframe\">\n",
       "  <thead>\n",
       "    <tr style=\"text-align: right;\">\n",
       "      <th></th>\n",
       "      <th>Phases</th>\n",
       "      <th>Values</th>\n",
       "    </tr>\n",
       "  </thead>\n",
       "  <tbody>\n",
       "    <tr>\n",
       "      <th>0</th>\n",
       "      <td>Apps Created</td>\n",
       "      <td>2928</td>\n",
       "    </tr>\n",
       "    <tr>\n",
       "      <th>3</th>\n",
       "      <td>Apps Submitted</td>\n",
       "      <td>554</td>\n",
       "    </tr>\n",
       "    <tr>\n",
       "      <th>1</th>\n",
       "      <td>Apps Accepted</td>\n",
       "      <td>437</td>\n",
       "    </tr>\n",
       "    <tr>\n",
       "      <th>2</th>\n",
       "      <td>Apps Paid</td>\n",
       "      <td>41</td>\n",
       "    </tr>\n",
       "  </tbody>\n",
       "</table>\n",
       "</div>"
      ],
      "text/plain": [
       "           Phases  Values\n",
       "0    Apps Created    2928\n",
       "3  Apps Submitted     554\n",
       "1   Apps Accepted     437\n",
       "2       Apps Paid      41"
      ]
     },
     "execution_count": 8,
     "metadata": {},
     "output_type": "execute_result"
    }
   ],
   "source": [
    "sql_495_table = '''select 'Apps Created' AS \"Phases\",count(distinct id) AS \"Values\"\n",
    "                   from applications\n",
    "                   where cohort_id = '495'\n",
    "                   UNION\n",
    "                   select 'Apps Submitted' AS \"Phases\",count(distinct id) AS \"Values\"\n",
    "                   from applications\n",
    "                   where cohort_id = '495' and submitted_at is not null\n",
    "                   UNION\n",
    "                   select 'Apps Accepted' AS \"Phases\",count(distinct id) AS \"Values\"\n",
    "                   from applications\n",
    "                   where cohort_id = '495' and accepted_at is not null\n",
    "                   UNION\n",
    "                   select 'Apps Paid' AS \"Phases\",count(distinct id) AS \"Values\"\n",
    "                   from applications\n",
    "                   where cohort_id = '495' and first_charge_created_at is not null\n",
    "                '''\n",
    "df_495_table = pd.read_sql(sql_495_table,conn_laurel)\n",
    "df_495_table.sort_values(by='Values',ascending=False)"
   ]
  },
  {
   "cell_type": "code",
   "execution_count": 50,
   "metadata": {},
   "outputs": [
    {
     "data": {
      "text/html": [
       "<div>\n",
       "<style>\n",
       "    .dataframe thead tr:only-child th {\n",
       "        text-align: right;\n",
       "    }\n",
       "\n",
       "    .dataframe thead th {\n",
       "        text-align: left;\n",
       "    }\n",
       "\n",
       "    .dataframe tbody tr th {\n",
       "        vertical-align: top;\n",
       "    }\n",
       "</style>\n",
       "<table border=\"1\" class=\"dataframe\">\n",
       "  <thead>\n",
       "    <tr style=\"text-align: right;\">\n",
       "      <th></th>\n",
       "      <th></th>\n",
       "      <th></th>\n",
       "      <th>preview_finished</th>\n",
       "      <th>N</th>\n",
       "    </tr>\n",
       "    <tr>\n",
       "      <th>accepted</th>\n",
       "      <th>paid</th>\n",
       "      <th>preview_clicked</th>\n",
       "      <th>preview_watched</th>\n",
       "      <th></th>\n",
       "    </tr>\n",
       "  </thead>\n",
       "  <tbody>\n",
       "    <tr>\n",
       "      <th rowspan=\"2\" valign=\"top\">Y</th>\n",
       "      <th>N</th>\n",
       "      <th>N</th>\n",
       "      <th>N</th>\n",
       "      <td>400</td>\n",
       "    </tr>\n",
       "    <tr>\n",
       "      <th>Y</th>\n",
       "      <th>N</th>\n",
       "      <th>N</th>\n",
       "      <td>37</td>\n",
       "    </tr>\n",
       "  </tbody>\n",
       "</table>\n",
       "</div>"
      ],
      "text/plain": [
       "preview_finished                                 N\n",
       "accepted paid preview_clicked preview_watched     \n",
       "Y        N    N               N                400\n",
       "         Y    N               N                 37"
      ]
     },
     "execution_count": 50,
     "metadata": {},
     "output_type": "execute_result"
    }
   ],
   "source": [
    "sql_495 = '''select distinct a.applicant_id,a.cohort_notify_at,a.cohort_start_at\n",
    "                   ,a.application_created_at,a.submitted_at,a.accepted_at,a.first_charge_created_at\n",
    "                   ,case when a.accepted_at is not null then 'Y' else 'N' end as accepted\n",
    "                   ,case when a.first_charge_created_at is not null then 'Y' else 'N' end as paid\n",
    "                   ,b.join_time,b.leave_time\n",
    "                   ,case when b.join_time is not null then 'Y' else 'N' end as preview_clicked\n",
    "                   ,case when b.leave_time is not null then 'Y' else 'N' end as preview_finished\n",
    "                   ,c.day_of,c.completed_concepts\n",
    "                   ,case when c.day_of is not null then 'Y' else 'N' end as preview_watched\n",
    "             from applications a\n",
    "             left join enrollments.course_enrollments b\n",
    "               on a.applicant_id = b.user_id and b.course_key = 'ud208'\n",
    "             left join daily_course_progress c\n",
    "               on a.applicant_id = c.user_id and c.course_key = 'ud208'\n",
    "             where a.cohort_id = '495' and a.accepted_at is not null\n",
    "          '''\n",
    "df_495 = pd.read_sql(sql_495,conn_laurel)\n",
    "df_495.groupby(['accepted','paid','preview_clicked','preview_watched','preview_finished'])['applicant_id'].count().unstack().fillna(0)"
   ]
  },
  {
   "cell_type": "code",
   "execution_count": 62,
   "metadata": {},
   "outputs": [
    {
     "data": {
      "text/plain": [
       "course_enrolled  course_enrollment                      converted  \n",
       "not_viewed       not enrolled                           convert         12\n",
       "                                                        not_convert    231\n",
       "viewed           enroll after accept                    convert         10\n",
       "                                                        not_convert    100\n",
       "                 enroll before apply                    convert          5\n",
       "                                                        not_convert     32\n",
       "                 enroll bewteen application and accept  convert         10\n",
       "                                                        not_convert     37\n",
       "Name: applicant_id, dtype: int64"
      ]
     },
     "execution_count": 62,
     "metadata": {},
     "output_type": "execute_result"
    }
   ],
   "source": [
    "sql_ud208 = '''\n",
    "select *\n",
    "      ,case when concept_completed > 0 then 'viewed' else 'not_viewed' end as course_enrolled\n",
    "      ,case when concept_completed = 0 then 'not enrolled'\n",
    "            when concept_completed_before_application > 0 then 'enroll before apply'\n",
    "            when concept_completed_before_application = 0 and concept_completed_before_accepted > 0 then 'enroll bewteen application and accept'\n",
    "            when concept_completed_before_accepted = 0 and concept_completed_after_accepted > 0 then 'enroll after accept'\n",
    "       else 'others'\n",
    "       end as course_enrollment\n",
    "from (select a.applicant_id,case when a.first_charge_created_at is not null then 'convert' else 'not_convert' end as converted\n",
    "            ,count(distinct b.concept_key) AS concept_completed\n",
    "            ,count(distinct case when b.original_timestamp < a.application_created_at then b.concept_key end) as concept_completed_before_application\n",
    "            ,count(distinct case when b.original_timestamp < a.accepted_at then b.concept_key end) as concept_completed_before_accepted\n",
    "            ,count(distinct case when b.original_timestamp >= a.accepted_at then b.concept_key end) as concept_completed_after_accepted\n",
    "      from analytics_tables.applications a\n",
    "      left join classroom.course_concept_completed b on a.applicant_id = b.user_id and b.course_key = 'ud208'\n",
    "      where a.cohort_id = '495' and accepted_at is not null\n",
    "      group by a.applicant_id,case when a.first_charge_created_at is not null then 'convert' else 'not_convert' end\n",
    "     )\n",
    "     '''\n",
    "df_ud208 = pd.read_sql(sql_ud208,conn_hardy)\n",
    "df_ud208.groupby(['course_enrolled','course_enrollment','converted'])['applicant_id'].count()"
   ]
  },
  {
   "cell_type": "code",
   "execution_count": 71,
   "metadata": {},
   "outputs": [
    {
     "name": "stdout",
     "output_type": "stream",
     "text": [
      "Out of 437 accepted students, 243 of them didn't access preview. (55.6%)\n",
      "Out of 437 accepted students, 194 of them accessed preview. (44.4%)\n",
      "Out of 243 student didn't access preview, 12 of them converted. (4.9%)\n",
      "Out of 194 student accessed preview, 25 of them converted. (12.9%)\n"
     ]
    }
   ],
   "source": [
    "accepted_student = df_ud208.shape[0]\n",
    "not_accessed_preview = df_ud208[df_ud208['course_enrolled']=='not_viewed'].shape[0]\n",
    "accessed_preview = df_ud208[df_ud208['course_enrolled']=='viewed'].shape[0]\n",
    "not_accessed_preview_converted = df_ud208[(df_ud208['course_enrolled']=='not_viewed')&(df_ud208['converted']=='convert')].shape[0]\n",
    "accessed_preview_converted = df_ud208[(df_ud208['course_enrolled']=='viewed')&(df_ud208['converted']=='convert')].shape[0]\n",
    "\n",
    "print('Out of {0} accepted students, {1} of them didn\\'t access preview. ({2:.1%})'.format(accepted_student,not_accessed_preview,not_accessed_preview/accepted_student))\n",
    "print('Out of {0} accepted students, {1} of them accessed preview. ({2:.1%})'.format(accepted_student,accessed_preview,accessed_preview/accepted_student))\n",
    "\n",
    "print('Out of {0} student didn\\'t access preview, {1} of them converted. ({2:.1%})'.format(not_accessed_preview,not_accessed_preview_converted,not_accessed_preview_converted/not_accessed_preview))\n",
    "print('Out of {0} student accessed preview, {1} of them converted. ({2:.1%})'.format(accessed_preview,accessed_preview_converted,accessed_preview_converted/accessed_preview))"
   ]
  },
  {
   "cell_type": "markdown",
   "metadata": {},
   "source": [
    "### Question 1: Is accessing preview improving conversion?"
   ]
  },
  {
   "cell_type": "code",
   "execution_count": 76,
   "metadata": {},
   "outputs": [
    {
     "name": "stdout",
     "output_type": "stream",
     "text": [
      "t stats is 2.9960700856380216; 95% t score is 1.6483640618530113\n"
     ]
    }
   ],
   "source": [
    "obs_v1 = not_accessed_preview_converted\n",
    "obs_v2 = accessed_preview_converted\n",
    "n1 = not_accessed_preview\n",
    "n2 = accessed_preview\n",
    "\n",
    "m1 = obs_v1/n1\n",
    "m2 = obs_v2/n2\n",
    "sd1 = (obs_v1/n1*(1-obs_v1/n1))/n1\n",
    "sd2 = (obs_v2/n2*(1-obs_v2/n2))/n2\n",
    "s_t = np.sqrt(((n1-1)*n1*sd1+(n2-1)*n2*sd2)/(n1+n2-2))\n",
    "t = (m2-m1)/(s_t*np.sqrt(1/n1+1/n2))\n",
    "tscore = stats.t.ppf(.95,n1+n2-2)\n",
    "print(\"t stats is {0}; 95% t score is {1}\".format(t,tscore))"
   ]
  },
  {
   "cell_type": "markdown",
   "metadata": {},
   "source": [
    "### Result: Accessing preview helps improve conversion."
   ]
  },
  {
   "cell_type": "markdown",
   "metadata": {},
   "source": [
    "### Question 2: Which timing is influencing conversion: Before application? During application? After accepted?"
   ]
  },
  {
   "cell_type": "code",
   "execution_count": 82,
   "metadata": {},
   "outputs": [
    {
     "name": "stdout",
     "output_type": "stream",
     "text": [
      "Out of 37 students who enroll before apply, 5 of them converted. 13.5%\n",
      "Out of 47 students who enroll bewteen application and accept, 10 of them converted. 21.3%\n",
      "Out of 110 students who enroll after accept, 10 of them converted. 9.1%\n"
     ]
    }
   ],
   "source": [
    "obs_v1 = df_ud208[(df_ud208['course_enrollment']=='enroll before apply')&(df_ud208['converted']=='convert')].shape[0]\n",
    "obs_v2 = df_ud208[(df_ud208['course_enrollment']=='enroll bewteen application and accept')&(df_ud208['converted']=='convert')].shape[0]\n",
    "obs_v3 = df_ud208[(df_ud208['course_enrollment']=='enroll after accept')&(df_ud208['converted']=='convert')].shape[0]\n",
    "n1 = df_ud208[df_ud208['course_enrollment']=='enroll before apply'].shape[0]\n",
    "n2 = df_ud208[df_ud208['course_enrollment']=='enroll bewteen application and accept'].shape[0]\n",
    "n3 = df_ud208[df_ud208['course_enrollment']=='enroll after accept'].shape[0]\n",
    "\n",
    "enrollments = ['enroll before apply','enroll bewteen application and accept','enroll after accept']\n",
    "obs_v = [obs_v1,obs_v2,obs_v3]\n",
    "n = [n1,n2,n3]\n",
    "for i in range(len(enrollments)):\n",
    "    print('Out of {0} students who {1}, {2} of them converted. {3:.1%}'.format(n[i],enrollments[i],obs_v[i],obs_v[i]/n[i]))\n",
    "\n",
    "m1 = obs_v1/n1\n",
    "m2 = obs_v2/n2\n",
    "m3 = obs_v3/n3\n",
    "sd1 = (obs_v1/n1*(1-obs_v1/n1))/n1\n",
    "sd2 = (obs_v2/n2*(1-obs_v2/n2))/n2\n",
    "sd3 = (obs_v3/n3*(1-obs_v3/n3))/n3"
   ]
  },
  {
   "cell_type": "code",
   "execution_count": 83,
   "metadata": {},
   "outputs": [
    {
     "name": "stdout",
     "output_type": "stream",
     "text": [
      "t stats is 0.9267306985795078; 95% t score is 1.6636491839760918\n"
     ]
    }
   ],
   "source": [
    "s_t = np.sqrt(((n1-1)*n1*sd1+(n2-1)*n2*sd2)/(n1+n2-2))\n",
    "t = (m2-m1)/(s_t*np.sqrt(1/n1+1/n2))\n",
    "tscore = stats.t.ppf(.95,n1+n2-2)\n",
    "print(\"t stats is {0}; 95% t score is {1}\".format(t,tscore))"
   ]
  },
  {
   "cell_type": "code",
   "execution_count": 84,
   "metadata": {},
   "outputs": [
    {
     "name": "stdout",
     "output_type": "stream",
     "text": [
      "t stats is -2.1295247272486875; 95% t score is 1.6547437739175987\n"
     ]
    }
   ],
   "source": [
    "s_t = np.sqrt(((n2-1)*n2*sd2+(n3-1)*n3*sd3)/(n2+n3-2))\n",
    "t = (m3-m2)/(s_t*np.sqrt(1/n2+1/n3))\n",
    "tscore = stats.t.ppf(.95,n2+n3-2)\n",
    "print(\"t stats is {0}; 95% t score is {1}\".format(t,tscore))"
   ]
  },
  {
   "cell_type": "code",
   "execution_count": 85,
   "metadata": {},
   "outputs": [
    {
     "name": "stdout",
     "output_type": "stream",
     "text": [
      "t stats is -0.7708241265072567; 95% t score is 1.6554302514146266\n"
     ]
    }
   ],
   "source": [
    "s_t = np.sqrt(((n1-1)*n1*sd1+(n3-1)*n3*sd3)/(n1+n3-2))\n",
    "t = (m3-m1)/(s_t*np.sqrt(1/n1+1/n3))\n",
    "tscore = stats.t.ppf(.95,n1+n3-2)\n",
    "print(\"t stats is {0}; 95% t score is {1}\".format(t,tscore))"
   ]
  },
  {
   "cell_type": "markdown",
   "metadata": {},
   "source": [
    "### Result: It's hard to tell which timing is best to send out preview notice. Only we can say students who enroll in preview during application have slightly better conversion rate than students enrolled after accepted."
   ]
  },
  {
   "cell_type": "markdown",
   "metadata": {},
   "source": [
    "## Cohort 326"
   ]
  },
  {
   "cell_type": "code",
   "execution_count": 23,
   "metadata": {},
   "outputs": [
    {
     "data": {
      "text/html": [
       "<div>\n",
       "<style>\n",
       "    .dataframe thead tr:only-child th {\n",
       "        text-align: right;\n",
       "    }\n",
       "\n",
       "    .dataframe thead th {\n",
       "        text-align: left;\n",
       "    }\n",
       "\n",
       "    .dataframe tbody tr th {\n",
       "        vertical-align: top;\n",
       "    }\n",
       "</style>\n",
       "<table border=\"1\" class=\"dataframe\">\n",
       "  <thead>\n",
       "    <tr style=\"text-align: right;\">\n",
       "      <th></th>\n",
       "      <th>Phases</th>\n",
       "      <th>Values</th>\n",
       "    </tr>\n",
       "  </thead>\n",
       "  <tbody>\n",
       "    <tr>\n",
       "      <th>0</th>\n",
       "      <td>Apps Created</td>\n",
       "      <td>4825</td>\n",
       "    </tr>\n",
       "    <tr>\n",
       "      <th>1</th>\n",
       "      <td>Apps Submitted</td>\n",
       "      <td>937</td>\n",
       "    </tr>\n",
       "    <tr>\n",
       "      <th>2</th>\n",
       "      <td>Apps Accepted</td>\n",
       "      <td>747</td>\n",
       "    </tr>\n",
       "    <tr>\n",
       "      <th>3</th>\n",
       "      <td>Apps Paid</td>\n",
       "      <td>161</td>\n",
       "    </tr>\n",
       "  </tbody>\n",
       "</table>\n",
       "</div>"
      ],
      "text/plain": [
       "           Phases  Values\n",
       "0    Apps Created    4825\n",
       "1  Apps Submitted     937\n",
       "2   Apps Accepted     747\n",
       "3       Apps Paid     161"
      ]
     },
     "execution_count": 23,
     "metadata": {},
     "output_type": "execute_result"
    }
   ],
   "source": [
    "sql_326_table = '''select 'Apps Created' AS \"Phases\",count(distinct id) AS \"Values\"\n",
    "                   from applications\n",
    "                   where cohort_id = '326'\n",
    "                   UNION\n",
    "                   select 'Apps Submitted' AS \"Phases\",count(distinct id) AS \"Values\"\n",
    "                   from applications\n",
    "                   where cohort_id = '326' and submitted_at is not null\n",
    "                   UNION\n",
    "                   select 'Apps Accepted' AS \"Phases\",count(distinct id) AS \"Values\"\n",
    "                   from applications\n",
    "                   where cohort_id = '326' and accepted_at is not null\n",
    "                   UNION\n",
    "                   select 'Apps Paid' AS \"Phases\",count(distinct id) AS \"Values\"\n",
    "                   from applications\n",
    "                   where cohort_id = '326' and first_charge_created_at is not null\n",
    "                '''\n",
    "df_326_table = pd.read_sql(sql_326_table,conn_laurel)\n",
    "df_326_table.sort_values(by='Values',ascending=False)"
   ]
  },
  {
   "cell_type": "code",
   "execution_count": 31,
   "metadata": {},
   "outputs": [
    {
     "data": {
      "text/html": [
       "<div>\n",
       "<style>\n",
       "    .dataframe thead tr:only-child th {\n",
       "        text-align: right;\n",
       "    }\n",
       "\n",
       "    .dataframe thead th {\n",
       "        text-align: left;\n",
       "    }\n",
       "\n",
       "    .dataframe tbody tr th {\n",
       "        vertical-align: top;\n",
       "    }\n",
       "</style>\n",
       "<table border=\"1\" class=\"dataframe\">\n",
       "  <thead>\n",
       "    <tr style=\"text-align: right;\">\n",
       "      <th></th>\n",
       "      <th></th>\n",
       "      <th></th>\n",
       "      <th>preview_finished</th>\n",
       "      <th>N</th>\n",
       "    </tr>\n",
       "    <tr>\n",
       "      <th>accepted</th>\n",
       "      <th>paid</th>\n",
       "      <th>preview_clicked</th>\n",
       "      <th>preview_watched</th>\n",
       "      <th></th>\n",
       "    </tr>\n",
       "  </thead>\n",
       "  <tbody>\n",
       "    <tr>\n",
       "      <th rowspan=\"2\" valign=\"top\">Y</th>\n",
       "      <th>N</th>\n",
       "      <th>N</th>\n",
       "      <th>N</th>\n",
       "      <td>593</td>\n",
       "    </tr>\n",
       "    <tr>\n",
       "      <th>Y</th>\n",
       "      <th>N</th>\n",
       "      <th>N</th>\n",
       "      <td>154</td>\n",
       "    </tr>\n",
       "  </tbody>\n",
       "</table>\n",
       "</div>"
      ],
      "text/plain": [
       "preview_finished                                 N\n",
       "accepted paid preview_clicked preview_watched     \n",
       "Y        N    N               N                593\n",
       "         Y    N               N                154"
      ]
     },
     "execution_count": 31,
     "metadata": {},
     "output_type": "execute_result"
    }
   ],
   "source": [
    "sql_326 = '''select distinct a.applicant_id,a.cohort_notify_at,a.cohort_start_at\n",
    "                   ,a.application_created_at,a.submitted_at,a.accepted_at,a.first_charge_created_at\n",
    "                   ,case when a.accepted_at is not null then 'Y' else 'N' end as accepted\n",
    "                   ,case when a.first_charge_created_at is not null then 'Y' else 'N' end as paid\n",
    "                   ,b.join_time,b.leave_time\n",
    "                   ,case when b.join_time is not null then 'Y' else 'N' end as preview_clicked\n",
    "                   ,case when b.leave_time is not null then 'Y' else 'N' end as preview_finished\n",
    "                   ,c.day_of,c.completed_concepts\n",
    "                   ,case when c.day_of is not null then 'Y' else 'N' end as preview_watched\n",
    "             from applications a\n",
    "             left join enrollments.course_enrollments b\n",
    "               on a.applicant_id = b.user_id and b.course_key = 'ud889-preview'\n",
    "             left join daily_course_progress c\n",
    "               on a.applicant_id = c.user_id and c.course_key = 'ud889-preview'\n",
    "             where a.cohort_id = '326' and a.accepted_at is not null\n",
    "          '''\n",
    "df_326 = pd.read_sql(sql_326,conn_laurel)\n",
    "df_326.groupby(['accepted','paid','preview_clicked','preview_watched','preview_finished'])['applicant_id'].count().unstack().fillna(0)"
   ]
  },
  {
   "cell_type": "code",
   "execution_count": 63,
   "metadata": {},
   "outputs": [
    {
     "data": {
      "text/plain": [
       "course_enrolled  course_enrollment                      converted  \n",
       "not_viewed       not enrolled                           convert        139\n",
       "                                                        not_convert    561\n",
       "viewed           enroll after accept                    convert          6\n",
       "                                                        not_convert      4\n",
       "                 enroll before apply                    convert          7\n",
       "                                                        not_convert     22\n",
       "                 enroll bewteen application and accept  convert          2\n",
       "                                                        not_convert      6\n",
       "Name: applicant_id, dtype: int64"
      ]
     },
     "execution_count": 63,
     "metadata": {},
     "output_type": "execute_result"
    }
   ],
   "source": [
    "sql_ud889 = '''\n",
    "select *\n",
    "      ,case when concept_completed > 0 then 'viewed' else 'not_viewed' end as course_enrolled\n",
    "      ,case when concept_completed = 0 then 'not enrolled'\n",
    "            when concept_completed_before_application > 0 then 'enroll before apply'\n",
    "            when concept_completed_before_application = 0 and concept_completed_before_accepted > 0 then 'enroll bewteen application and accept'\n",
    "            when concept_completed_before_accepted = 0 and concept_completed_after_accepted > 0 then 'enroll after accept'\n",
    "       else 'others'\n",
    "       end as course_enrollment\n",
    "from (select a.applicant_id,case when a.first_charge_created_at is not null then 'convert' else 'not_convert' end as converted\n",
    "            ,count(distinct b.concept_key) AS concept_completed\n",
    "            ,count(distinct case when b.original_timestamp < a.application_created_at then b.concept_key end) as concept_completed_before_application\n",
    "            ,count(distinct case when b.original_timestamp < a.accepted_at then b.concept_key end) as concept_completed_before_accepted\n",
    "            ,count(distinct case when b.original_timestamp >= a.accepted_at then b.concept_key end) as concept_completed_after_accepted\n",
    "      from analytics_tables.applications a\n",
    "      left join classroom.course_concept_completed b on a.applicant_id = b.user_id and b.course_key = 'ud889-preview'\n",
    "      where a.cohort_id = '326' and accepted_at is not null\n",
    "      group by a.applicant_id,case when a.first_charge_created_at is not null then 'convert' else 'not_convert' end\n",
    "     )\n",
    "     '''\n",
    "df_ud889 = pd.read_sql(sql_ud889,conn_hardy)\n",
    "df_ud889.groupby(['course_enrolled','course_enrollment','converted'])['applicant_id'].count()"
   ]
  },
  {
   "cell_type": "code",
   "execution_count": 86,
   "metadata": {},
   "outputs": [
    {
     "name": "stdout",
     "output_type": "stream",
     "text": [
      "Out of 747 accepted students, 700 of them didn't access preview. (93.7%)\n",
      "Out of 747 accepted students, 47 of them accessed preview. (6.3%)\n",
      "Out of 700 student didn't access preview, 139 of them converted. (19.9%)\n",
      "Out of 47 student accessed preview, 15 of them converted. (31.9%)\n"
     ]
    }
   ],
   "source": [
    "accepted_student = df_ud889.shape[0]\n",
    "not_accessed_preview = df_ud889[df_ud889['course_enrolled']=='not_viewed'].shape[0]\n",
    "accessed_preview = df_ud889[df_ud889['course_enrolled']=='viewed'].shape[0]\n",
    "not_accessed_preview_converted = df_ud889[(df_ud889['course_enrolled']=='not_viewed')&(df_ud889['converted']=='convert')].shape[0]\n",
    "accessed_preview_converted = df_ud889[(df_ud889['course_enrolled']=='viewed')&(df_ud889['converted']=='convert')].shape[0]\n",
    "\n",
    "print('Out of {0} accepted students, {1} of them didn\\'t access preview. ({2:.1%})'.format(accepted_student,not_accessed_preview,not_accessed_preview/accepted_student))\n",
    "print('Out of {0} accepted students, {1} of them accessed preview. ({2:.1%})'.format(accepted_student,accessed_preview,accessed_preview/accepted_student))\n",
    "\n",
    "print('Out of {0} student didn\\'t access preview, {1} of them converted. ({2:.1%})'.format(not_accessed_preview,not_accessed_preview_converted,not_accessed_preview_converted/not_accessed_preview))\n",
    "print('Out of {0} student accessed preview, {1} of them converted. ({2:.1%})'.format(accessed_preview,accessed_preview_converted,accessed_preview_converted/accessed_preview))"
   ]
  },
  {
   "cell_type": "markdown",
   "metadata": {},
   "source": [
    "### Question 1: Is accessing preview improving conversion?"
   ]
  },
  {
   "cell_type": "code",
   "execution_count": 87,
   "metadata": {},
   "outputs": [
    {
     "name": "stdout",
     "output_type": "stream",
     "text": [
      "t stats is 1.983664636606534; 95% t score is 1.6469015158540836\n"
     ]
    }
   ],
   "source": [
    "obs_v1 = not_accessed_preview_converted\n",
    "obs_v2 = accessed_preview_converted\n",
    "n1 = not_accessed_preview\n",
    "n2 = accessed_preview\n",
    "\n",
    "m1 = obs_v1/n1\n",
    "m2 = obs_v2/n2\n",
    "sd1 = (obs_v1/n1*(1-obs_v1/n1))/n1\n",
    "sd2 = (obs_v2/n2*(1-obs_v2/n2))/n2\n",
    "s_t = np.sqrt(((n1-1)*n1*sd1+(n2-1)*n2*sd2)/(n1+n2-2))\n",
    "t = (m2-m1)/(s_t*np.sqrt(1/n1+1/n2))\n",
    "tscore = stats.t.ppf(.95,n1+n2-2)\n",
    "print(\"t stats is {0}; 95% t score is {1}\".format(t,tscore))"
   ]
  },
  {
   "cell_type": "markdown",
   "metadata": {},
   "source": [
    "### Result: Accessing preview helps improve conversion."
   ]
  },
  {
   "cell_type": "markdown",
   "metadata": {},
   "source": [
    "### Question 2: Which timing is influencing conversion: Before application? During application? After accepted?"
   ]
  },
  {
   "cell_type": "code",
   "execution_count": 88,
   "metadata": {},
   "outputs": [
    {
     "name": "stdout",
     "output_type": "stream",
     "text": [
      "Out of 29 students who enroll before apply, 7 of them converted. 24.1%\n",
      "Out of 8 students who enroll bewteen application and accept, 2 of them converted. 25.0%\n",
      "Out of 10 students who enroll after accept, 6 of them converted. 60.0%\n"
     ]
    }
   ],
   "source": [
    "obs_v1 = df_ud889[(df_ud889['course_enrollment']=='enroll before apply')&(df_ud889['converted']=='convert')].shape[0]\n",
    "obs_v2 = df_ud889[(df_ud889['course_enrollment']=='enroll bewteen application and accept')&(df_ud889['converted']=='convert')].shape[0]\n",
    "obs_v3 = df_ud889[(df_ud889['course_enrollment']=='enroll after accept')&(df_ud889['converted']=='convert')].shape[0]\n",
    "n1 = df_ud889[df_ud889['course_enrollment']=='enroll before apply'].shape[0]\n",
    "n2 = df_ud889[df_ud889['course_enrollment']=='enroll bewteen application and accept'].shape[0]\n",
    "n3 = df_ud889[df_ud889['course_enrollment']=='enroll after accept'].shape[0]\n",
    "\n",
    "enrollments = ['enroll before apply','enroll bewteen application and accept','enroll after accept']\n",
    "obs_v = [obs_v1,obs_v2,obs_v3]\n",
    "n = [n1,n2,n3]\n",
    "for i in range(len(enrollments)):\n",
    "    print('Out of {0} students who {1}, {2} of them converted. {3:.1%}'.format(n[i],enrollments[i],obs_v[i],obs_v[i]/n[i]))\n",
    "\n",
    "m1 = obs_v1/n1\n",
    "m2 = obs_v2/n2\n",
    "m3 = obs_v3/n3\n",
    "sd1 = (obs_v1/n1*(1-obs_v1/n1))/n1\n",
    "sd2 = (obs_v2/n2*(1-obs_v2/n2))/n2\n",
    "sd3 = (obs_v3/n3*(1-obs_v3/n3))/n3"
   ]
  },
  {
   "cell_type": "code",
   "execution_count": 89,
   "metadata": {},
   "outputs": [
    {
     "name": "stdout",
     "output_type": "stream",
     "text": [
      "t stats is 0.05032518164431224; 95% t score is 1.6895724539637709\n"
     ]
    }
   ],
   "source": [
    "s_t = np.sqrt(((n1-1)*n1*sd1+(n2-1)*n2*sd2)/(n1+n2-2))\n",
    "t = (m2-m1)/(s_t*np.sqrt(1/n1+1/n2))\n",
    "tscore = stats.t.ppf(.95,n1+n2-2)\n",
    "print(\"t stats is {0}; 95% t score is {1}\".format(t,tscore))"
   ]
  },
  {
   "cell_type": "code",
   "execution_count": 90,
   "metadata": {},
   "outputs": [
    {
     "name": "stdout",
     "output_type": "stream",
     "text": [
      "t stats is 1.5838558368914246; 95% t score is 1.74588367627624\n"
     ]
    }
   ],
   "source": [
    "s_t = np.sqrt(((n2-1)*n2*sd2+(n3-1)*n3*sd3)/(n2+n3-2))\n",
    "t = (m3-m2)/(s_t*np.sqrt(1/n2+1/n3))\n",
    "tscore = stats.t.ppf(.95,n2+n3-2)\n",
    "print(\"t stats is {0}; 95% t score is {1}\".format(t,tscore))"
   ]
  },
  {
   "cell_type": "code",
   "execution_count": 91,
   "metadata": {},
   "outputs": [
    {
     "name": "stdout",
     "output_type": "stream",
     "text": [
      "t stats is 2.203543740055378; 95% t score is 1.6870936167109873\n"
     ]
    }
   ],
   "source": [
    "s_t = np.sqrt(((n1-1)*n1*sd1+(n3-1)*n3*sd3)/(n1+n3-2))\n",
    "t = (m3-m1)/(s_t*np.sqrt(1/n1+1/n3))\n",
    "tscore = stats.t.ppf(.95,n1+n3-2)\n",
    "print(\"t stats is {0}; 95% t score is {1}\".format(t,tscore))"
   ]
  },
  {
   "cell_type": "markdown",
   "metadata": {},
   "source": [
    "### Result: It's hard to tell which timing is best to send out preview notice. Only we can say students who enroll in preview after accepted have slightly better conversion rate than students enrolled before application."
   ]
  },
  {
   "cell_type": "markdown",
   "metadata": {},
   "source": [
    "## Cohort 293"
   ]
  },
  {
   "cell_type": "code",
   "execution_count": 32,
   "metadata": {},
   "outputs": [
    {
     "data": {
      "text/html": [
       "<div>\n",
       "<style>\n",
       "    .dataframe thead tr:only-child th {\n",
       "        text-align: right;\n",
       "    }\n",
       "\n",
       "    .dataframe thead th {\n",
       "        text-align: left;\n",
       "    }\n",
       "\n",
       "    .dataframe tbody tr th {\n",
       "        vertical-align: top;\n",
       "    }\n",
       "</style>\n",
       "<table border=\"1\" class=\"dataframe\">\n",
       "  <thead>\n",
       "    <tr style=\"text-align: right;\">\n",
       "      <th></th>\n",
       "      <th>Phases</th>\n",
       "      <th>Values</th>\n",
       "    </tr>\n",
       "  </thead>\n",
       "  <tbody>\n",
       "    <tr>\n",
       "      <th>0</th>\n",
       "      <td>Apps Created</td>\n",
       "      <td>4291</td>\n",
       "    </tr>\n",
       "    <tr>\n",
       "      <th>3</th>\n",
       "      <td>Apps Submitted</td>\n",
       "      <td>1129</td>\n",
       "    </tr>\n",
       "    <tr>\n",
       "      <th>1</th>\n",
       "      <td>Apps Accepted</td>\n",
       "      <td>877</td>\n",
       "    </tr>\n",
       "    <tr>\n",
       "      <th>2</th>\n",
       "      <td>Apps Paid</td>\n",
       "      <td>324</td>\n",
       "    </tr>\n",
       "  </tbody>\n",
       "</table>\n",
       "</div>"
      ],
      "text/plain": [
       "           Phases  Values\n",
       "0    Apps Created    4291\n",
       "3  Apps Submitted    1129\n",
       "1   Apps Accepted     877\n",
       "2       Apps Paid     324"
      ]
     },
     "execution_count": 32,
     "metadata": {},
     "output_type": "execute_result"
    }
   ],
   "source": [
    "sql_293_table = '''select 'Apps Created' AS \"Phases\",count(distinct id) AS \"Values\"\n",
    "                   from applications\n",
    "                   where cohort_id = '293'\n",
    "                   UNION\n",
    "                   select 'Apps Submitted' AS \"Phases\",count(distinct id) AS \"Values\"\n",
    "                   from applications\n",
    "                   where cohort_id = '293' and submitted_at is not null\n",
    "                   UNION\n",
    "                   select 'Apps Accepted' AS \"Phases\",count(distinct id) AS \"Values\"\n",
    "                   from applications\n",
    "                   where cohort_id = '293' and accepted_at is not null\n",
    "                   UNION\n",
    "                   select 'Apps Paid' AS \"Phases\",count(distinct id) AS \"Values\"\n",
    "                   from applications\n",
    "                   where cohort_id = '293' and first_charge_created_at is not null\n",
    "                '''\n",
    "df_293_table = pd.read_sql(sql_293_table,conn_laurel)\n",
    "df_293_table.sort_values(by='Values',ascending=False)"
   ]
  },
  {
   "cell_type": "code",
   "execution_count": 33,
   "metadata": {
    "scrolled": true
   },
   "outputs": [
    {
     "data": {
      "text/html": [
       "<div>\n",
       "<style>\n",
       "    .dataframe thead tr:only-child th {\n",
       "        text-align: right;\n",
       "    }\n",
       "\n",
       "    .dataframe thead th {\n",
       "        text-align: left;\n",
       "    }\n",
       "\n",
       "    .dataframe tbody tr th {\n",
       "        vertical-align: top;\n",
       "    }\n",
       "</style>\n",
       "<table border=\"1\" class=\"dataframe\">\n",
       "  <thead>\n",
       "    <tr style=\"text-align: right;\">\n",
       "      <th></th>\n",
       "      <th></th>\n",
       "      <th></th>\n",
       "      <th>preview_finished</th>\n",
       "      <th>N</th>\n",
       "    </tr>\n",
       "    <tr>\n",
       "      <th>accepted</th>\n",
       "      <th>paid</th>\n",
       "      <th>preview_clicked</th>\n",
       "      <th>preview_watched</th>\n",
       "      <th></th>\n",
       "    </tr>\n",
       "  </thead>\n",
       "  <tbody>\n",
       "    <tr>\n",
       "      <th rowspan=\"2\" valign=\"top\">Y</th>\n",
       "      <th>N</th>\n",
       "      <th>N</th>\n",
       "      <th>N</th>\n",
       "      <td>565</td>\n",
       "    </tr>\n",
       "    <tr>\n",
       "      <th>Y</th>\n",
       "      <th>N</th>\n",
       "      <th>N</th>\n",
       "      <td>312</td>\n",
       "    </tr>\n",
       "  </tbody>\n",
       "</table>\n",
       "</div>"
      ],
      "text/plain": [
       "preview_finished                                 N\n",
       "accepted paid preview_clicked preview_watched     \n",
       "Y        N    N               N                565\n",
       "         Y    N               N                312"
      ]
     },
     "execution_count": 33,
     "metadata": {},
     "output_type": "execute_result"
    }
   ],
   "source": [
    "sql_293 = '''select distinct a.applicant_id,a.cohort_notify_at,a.cohort_start_at\n",
    "                   ,a.application_created_at,a.submitted_at,a.accepted_at,a.first_charge_created_at\n",
    "                   ,case when a.accepted_at is not null then 'Y' else 'N' end as accepted\n",
    "                   ,case when a.first_charge_created_at is not null then 'Y' else 'N' end as paid\n",
    "                   ,b.join_time,b.leave_time\n",
    "                   ,case when b.join_time is not null then 'Y' else 'N' end as preview_clicked\n",
    "                   ,case when b.leave_time is not null then 'Y' else 'N' end as preview_finished\n",
    "                   ,c.day_of,c.completed_concepts\n",
    "                   ,case when c.day_of is not null then 'Y' else 'N' end as preview_watched\n",
    "             from applications a\n",
    "             left join enrollments.course_enrollments b\n",
    "               on a.applicant_id = b.user_id and b.course_key = 'ud013-preview'\n",
    "             left join daily_course_progress c\n",
    "               on a.applicant_id = c.user_id and c.course_key = 'ud013-preview'\n",
    "             where a.cohort_id = '293' and a.accepted_at is not null\n",
    "          '''\n",
    "df_293 = pd.read_sql(sql_293,conn_laurel)\n",
    "df_293.groupby(['accepted','paid','preview_clicked','preview_watched','preview_finished'])['applicant_id'].count().unstack().fillna(0)"
   ]
  },
  {
   "cell_type": "code",
   "execution_count": 94,
   "metadata": {},
   "outputs": [
    {
     "data": {
      "text/plain": [
       "course_enrolled  course_enrollment                      converted  \n",
       "not_viewed       not enrolled                           convert        140\n",
       "                                                        not_convert    388\n",
       "viewed           enroll after accept                    convert        119\n",
       "                                                        not_convert    100\n",
       "                 enroll before apply                    convert         14\n",
       "                                                        not_convert     28\n",
       "                 enroll bewteen application and accept  convert         39\n",
       "                                                        not_convert     49\n",
       "Name: applicant_id, dtype: int64"
      ]
     },
     "execution_count": 94,
     "metadata": {},
     "output_type": "execute_result"
    }
   ],
   "source": [
    "sql_ud013 = '''\n",
    "select *\n",
    "      ,case when concept_completed > 0 then 'viewed' else 'not_viewed' end as course_enrolled\n",
    "      ,case when concept_completed = 0 then 'not enrolled'\n",
    "            when concept_completed_before_application > 0 then 'enroll before apply'\n",
    "            when concept_completed_before_application = 0 and concept_completed_before_accepted > 0 then 'enroll bewteen application and accept'\n",
    "            when concept_completed_before_accepted = 0 and concept_completed_after_accepted > 0 then 'enroll after accept'\n",
    "       else 'others'\n",
    "       end as course_enrollment\n",
    "from (select a.applicant_id,case when a.first_charge_created_at is not null then 'convert' else 'not_convert' end as converted\n",
    "            ,count(distinct b.concept_key) AS concept_completed\n",
    "            ,count(distinct case when b.original_timestamp < a.application_created_at then b.concept_key end) as concept_completed_before_application\n",
    "            ,count(distinct case when b.original_timestamp < a.accepted_at then b.concept_key end) as concept_completed_before_accepted\n",
    "            ,count(distinct case when b.original_timestamp >= a.accepted_at then b.concept_key end) as concept_completed_after_accepted\n",
    "      from analytics_tables.applications a\n",
    "      left join classroom.course_concept_completed b on a.applicant_id = b.user_id and b.course_key = 'ud013-preview'\n",
    "      where a.cohort_id = '293' and accepted_at is not null\n",
    "      group by a.applicant_id,case when a.first_charge_created_at is not null then 'convert' else 'not_convert' end\n",
    "     )\n",
    "     '''\n",
    "df_ud013 = pd.read_sql(sql_ud013,conn_hardy)\n",
    "df_ud013.groupby(['course_enrolled','course_enrollment','converted'])['applicant_id'].count()"
   ]
  },
  {
   "cell_type": "code",
   "execution_count": 95,
   "metadata": {},
   "outputs": [
    {
     "name": "stdout",
     "output_type": "stream",
     "text": [
      "Out of 877 accepted students, 528 of them didn't access preview. (60.2%)\n",
      "Out of 877 accepted students, 349 of them accessed preview. (39.8%)\n",
      "Out of 528 student didn't access preview, 140 of them converted. (26.5%)\n",
      "Out of 349 student accessed preview, 172 of them converted. (49.3%)\n"
     ]
    }
   ],
   "source": [
    "accepted_student = df_ud013.shape[0]\n",
    "not_accessed_preview = df_ud013[df_ud013['course_enrolled']=='not_viewed'].shape[0]\n",
    "accessed_preview = df_ud013[df_ud013['course_enrolled']=='viewed'].shape[0]\n",
    "not_accessed_preview_converted = df_ud013[(df_ud013['course_enrolled']=='not_viewed')&(df_ud013['converted']=='convert')].shape[0]\n",
    "accessed_preview_converted = df_ud013[(df_ud013['course_enrolled']=='viewed')&(df_ud013['converted']=='convert')].shape[0]\n",
    "\n",
    "print('Out of {0} accepted students, {1} of them didn\\'t access preview. ({2:.1%})'.format(accepted_student,not_accessed_preview,not_accessed_preview/accepted_student))\n",
    "print('Out of {0} accepted students, {1} of them accessed preview. ({2:.1%})'.format(accepted_student,accessed_preview,accessed_preview/accepted_student))\n",
    "\n",
    "print('Out of {0} student didn\\'t access preview, {1} of them converted. ({2:.1%})'.format(not_accessed_preview,not_accessed_preview_converted,not_accessed_preview_converted/not_accessed_preview))\n",
    "print('Out of {0} student accessed preview, {1} of them converted. ({2:.1%})'.format(accessed_preview,accessed_preview_converted,accessed_preview_converted/accessed_preview))"
   ]
  },
  {
   "cell_type": "markdown",
   "metadata": {},
   "source": [
    "### Question 1: Is accessing preview improving conversion?"
   ]
  },
  {
   "cell_type": "code",
   "execution_count": 96,
   "metadata": {},
   "outputs": [
    {
     "name": "stdout",
     "output_type": "stream",
     "text": [
      "t stats is 7.088817444441026; 95% t score is 1.6465969338329176\n"
     ]
    }
   ],
   "source": [
    "obs_v1 = not_accessed_preview_converted\n",
    "obs_v2 = accessed_preview_converted\n",
    "n1 = not_accessed_preview\n",
    "n2 = accessed_preview\n",
    "\n",
    "m1 = obs_v1/n1\n",
    "m2 = obs_v2/n2\n",
    "sd1 = (obs_v1/n1*(1-obs_v1/n1))/n1\n",
    "sd2 = (obs_v2/n2*(1-obs_v2/n2))/n2\n",
    "s_t = np.sqrt(((n1-1)*n1*sd1+(n2-1)*n2*sd2)/(n1+n2-2))\n",
    "t = (m2-m1)/(s_t*np.sqrt(1/n1+1/n2))\n",
    "tscore = stats.t.ppf(.95,n1+n2-2)\n",
    "print(\"t stats is {0}; 95% t score is {1}\".format(t,tscore))"
   ]
  },
  {
   "cell_type": "markdown",
   "metadata": {},
   "source": [
    "### Result: Accessing preview helps improve conversion."
   ]
  },
  {
   "cell_type": "markdown",
   "metadata": {},
   "source": [
    "### Question 2: Which timing is influencing conversion: Before application? During application? After accepted?"
   ]
  },
  {
   "cell_type": "code",
   "execution_count": 97,
   "metadata": {},
   "outputs": [
    {
     "name": "stdout",
     "output_type": "stream",
     "text": [
      "Out of 42 students who enroll before apply, 14 of them converted. 33.3%\n",
      "Out of 88 students who enroll bewteen application and accept, 39 of them converted. 44.3%\n",
      "Out of 219 students who enroll after accept, 119 of them converted. 54.3%\n"
     ]
    }
   ],
   "source": [
    "obs_v1 = df_ud013[(df_ud013['course_enrollment']=='enroll before apply')&(df_ud013['converted']=='convert')].shape[0]\n",
    "obs_v2 = df_ud013[(df_ud013['course_enrollment']=='enroll bewteen application and accept')&(df_ud013['converted']=='convert')].shape[0]\n",
    "obs_v3 = df_ud013[(df_ud013['course_enrollment']=='enroll after accept')&(df_ud013['converted']=='convert')].shape[0]\n",
    "n1 = df_ud013[df_ud013['course_enrollment']=='enroll before apply'].shape[0]\n",
    "n2 = df_ud013[df_ud013['course_enrollment']=='enroll bewteen application and accept'].shape[0]\n",
    "n3 = df_ud013[df_ud013['course_enrollment']=='enroll after accept'].shape[0]\n",
    "\n",
    "enrollments = ['enroll before apply','enroll bewteen application and accept','enroll after accept']\n",
    "obs_v = [obs_v1,obs_v2,obs_v3]\n",
    "n = [n1,n2,n3]\n",
    "for i in range(len(enrollments)):\n",
    "    print('Out of {0} students who {1}, {2} of them converted. {3:.1%}'.format(n[i],enrollments[i],obs_v[i],obs_v[i]/n[i]))\n",
    "\n",
    "m1 = obs_v1/n1\n",
    "m2 = obs_v2/n2\n",
    "m3 = obs_v3/n3\n",
    "sd1 = (obs_v1/n1*(1-obs_v1/n1))/n1\n",
    "sd2 = (obs_v2/n2*(1-obs_v2/n2))/n2\n",
    "sd3 = (obs_v3/n3*(1-obs_v3/n3))/n3"
   ]
  },
  {
   "cell_type": "code",
   "execution_count": 98,
   "metadata": {},
   "outputs": [
    {
     "name": "stdout",
     "output_type": "stream",
     "text": [
      "t stats is 1.1983201325341042; 95% t score is 1.6568452260758075\n"
     ]
    }
   ],
   "source": [
    "s_t = np.sqrt(((n1-1)*n1*sd1+(n2-1)*n2*sd2)/(n1+n2-2))\n",
    "t = (m2-m1)/(s_t*np.sqrt(1/n1+1/n2))\n",
    "tscore = stats.t.ppf(.95,n1+n2-2)\n",
    "print(\"t stats is {0}; 95% t score is {1}\".format(t,tscore))"
   ]
  },
  {
   "cell_type": "code",
   "execution_count": 99,
   "metadata": {},
   "outputs": [
    {
     "name": "stdout",
     "output_type": "stream",
     "text": [
      "t stats is 1.5949855217402589; 95% t score is 1.649864892961819\n"
     ]
    }
   ],
   "source": [
    "s_t = np.sqrt(((n2-1)*n2*sd2+(n3-1)*n3*sd3)/(n2+n3-2))\n",
    "t = (m3-m2)/(s_t*np.sqrt(1/n2+1/n3))\n",
    "tscore = stats.t.ppf(.95,n2+n3-2)\n",
    "print(\"t stats is {0}; 95% t score is {1}\".format(t,tscore))"
   ]
  },
  {
   "cell_type": "code",
   "execution_count": 100,
   "metadata": {},
   "outputs": [
    {
     "name": "stdout",
     "output_type": "stream",
     "text": [
      "t stats is 2.5242272021394117; 95% t score is 1.6507581336529946\n"
     ]
    }
   ],
   "source": [
    "s_t = np.sqrt(((n1-1)*n1*sd1+(n3-1)*n3*sd3)/(n1+n3-2))\n",
    "t = (m3-m1)/(s_t*np.sqrt(1/n1+1/n3))\n",
    "tscore = stats.t.ppf(.95,n1+n3-2)\n",
    "print(\"t stats is {0}; 95% t score is {1}\".format(t,tscore))"
   ]
  },
  {
   "cell_type": "markdown",
   "metadata": {},
   "source": [
    "### Result: Students who enroll in preview after accepted have better conversion rate than students enrolled before application and students enrolled during application."
   ]
  },
  {
   "cell_type": "code",
   "execution_count": null,
   "metadata": {
    "collapsed": true
   },
   "outputs": [],
   "source": []
  },
  {
   "cell_type": "code",
   "execution_count": null,
   "metadata": {
    "collapsed": true
   },
   "outputs": [],
   "source": []
  },
  {
   "cell_type": "code",
   "execution_count": null,
   "metadata": {
    "collapsed": true
   },
   "outputs": [],
   "source": []
  }
 ],
 "metadata": {
  "kernelspec": {
   "display_name": "Python 3",
   "language": "python",
   "name": "python3"
  },
  "language_info": {
   "codemirror_mode": {
    "name": "ipython",
    "version": 3
   },
   "file_extension": ".py",
   "mimetype": "text/x-python",
   "name": "python",
   "nbconvert_exporter": "python",
   "pygments_lexer": "ipython3",
   "version": "3.6.1"
  }
 },
 "nbformat": 4,
 "nbformat_minor": 2
}
