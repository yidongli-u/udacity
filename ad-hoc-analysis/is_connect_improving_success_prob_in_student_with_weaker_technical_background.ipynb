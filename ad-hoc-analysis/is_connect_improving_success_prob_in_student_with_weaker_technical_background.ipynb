{
 "cells": [
  {
   "cell_type": "markdown",
   "metadata": {},
   "source": [
    "# Is connect improving success prob in student with weaker technical background?"
   ]
  },
  {
   "cell_type": "markdown",
   "metadata": {},
   "source": [
    "### Method: \n",
    "* Extract programming skills on each students; separate general and connect, then do a logistic regression on both to see p value (smaller p value means stronger reliance on programming skills). ideally in connect the p value supposed to be bigger (less sig.);\n",
    "* Do a viz? x-axis: programming skill level; y-axis: graducation"
   ]
  },
  {
   "cell_type": "code",
   "execution_count": 16,
   "metadata": {},
   "outputs": [],
   "source": [
    "# read data from Laurel (ud208 is from Hardy, but imported into Laurel before this)\n",
    "import psycopg2\n",
    "import pandas as pd\n",
    "import seaborn as sns\n",
    "import pymc3 as pm\n",
    "import numpy as np\n",
    "import random\n",
    "from scipy import stats\n",
    "import matplotlib.pyplot as plt\n",
    "import statsmodels.api as sm\n",
    "import statsmodels.formula.api as smf\n",
    "%matplotlib inline"
   ]
  },
  {
   "cell_type": "code",
   "execution_count": 2,
   "metadata": {
    "collapsed": true
   },
   "outputs": [],
   "source": [
    "conn_laurel = psycopg2.connect(\"dbname='analytics' user='analytics' host='analytics.cv90snkxh2gd.us-west-2.rds.amazonaws.com' password='!TgP$Ol9Z&6QhKW0tmn9mOW5rYT2J8'\")\n",
    "#conn_hardy = psycopg2.connect(\"dbname='analytics' user='u_yidong' host='udacity-segment.c2zpsqalam7o.us-west-2.redshift.amazonaws.com' port='5439' password='Lyd580809?!'\")\n",
    "\n",
    "sql_apps = \"SELECT distinct a.id as application_id,a.cohort_id,a.applicant_id,a.nd_key,a.application_type\\\n",
    "      ,coalesce(a.applicant_country,'Unknown') as applicant_country\\\n",
    "      ,coalesce(a.applicant_geo,'Unknown') as applicant_geo\\\n",
    "      ,case when reg.state = 'GRADUATED' or grad.graduated_at is not null then 'graduated'\\\n",
    "            when b.user_id is not null then 'term completed'\\\n",
    "            when a.first_charge_created_at is not null and a.accepted_at is not null then 'paid'\\\n",
    "            when a.accepted_at is not null then 'accepted'\\\n",
    "            when a.rejected_at is not null then 'rejected'\\\n",
    "            when a.submitted_at is not null then 'submitted'\\\n",
    "       else 'applied' end as application_status\\\n",
    "      ,current_date - a.applicant_created_at::date as user_age\\\n",
    "      ,a.cohort_notify_at::date - a.cohort_open_at::date as cohort_open_to_notify\\\n",
    "      ,a.cohort_close_at::date - a.cohort_open_at::date as cohort_open_to_close\\\n",
    "      ,date_part('month',a.cohort_open_at) as cohort_open_month\\\n",
    "      ,date_part('month',a.application_created_at) as application_month\\\n",
    "      ,a.application_created_at::date - a.cohort_open_at::date as apply_before_start\\\n",
    "      ,a.submitted_at::date - a.application_created_at::date as apply_to_submit\\\n",
    "      ,coalesce(a.accepted_at,a.rejected_at)::date - a.submitted_at::date as submit_to_decision\\\n",
    "      ,a.cohort_notify_at::date - a.submitted_at::date as submit_to_notify\\\n",
    "      ,greatest(coalesce(c.first_charge_attempt::date\\\n",
    "      ,a.first_charge_created_at::date) - a.cohort_notify_at::date,0) as notify_to_pay\\\n",
    "      ,coalesce(a.price,0)::int as price\\\n",
    "       FROM admissions.applications as a\\\n",
    "       LEFT JOIN enrollments.term_completions as b ON a.applicant_id = b.user_id and a.nd_key = b.nd_key\\\n",
    "       LEFT JOIN (select distinct account_key,nd_key,cohort_id,min(charge_created_at) as first_charge_attempt\\\n",
    "                  from payments.charges\\\n",
    "                  group by account_key,nd_key,cohort_id) as c\\\n",
    "             ON a.applicant_id = c.account_key and substring(a.nd_key,0,6) = substring(c.nd_key,0,6) \\\n",
    "            and (case when a.application_type = 'term' then a.cohort_id::int else 0 end) = coalesce(c.cohort_id,0)\\\n",
    "       LEFT JOIN enrollments.nanodegree_graduations_segment AS grad\\\n",
    "         ON a.applicant_id = grad.user_id AND substring(a.nd_key,0,6) = substring(grad.nanodegree,0,6)\\\n",
    "       LEFT JOIN enrollments.nanodegree_enrollments_registrar AS reg\\\n",
    "         ON a.applicant_id = reg.user_id and substring(a.nd_key,0,6) = substring(reg.course_key,0,6)\\\n",
    "       WHERE accepted_at is not null and first_charge_created_at is not null\\\n",
    "         AND email not like '%@udacity%';\"\n",
    "sql_questions = \"select distinct application_id,cohort_id,applicant_id,nd_key\\\n",
    "                        ,question_id,question_prompt,response,question_prompt||' A:'||response as q_r\\\n",
    "                from admissions.question_responses\\\n",
    "                where application_type != 'scholarship' and response is not null\\\n",
    "                  and question_id in ('question_id','48e7b492-62b4-4d99-b596-80d68f2966ae','cad2565e-8176-44b5-9080-14cfc67ea9b4','fba3666b-db04-46e9-8f3d-2a303f13e0a5','26330483-09a3-444a-b534-e9cd7021ec1c','42b96348-56c4-4e3b-b0f9-8d3911969e48','516737fe-4567-48d2-8645-08d335e21b0c','0c22dbaa-bf1d-4c67-be34-a61014591d6f','2ad03aaa-1b35-4381-9c43-907b1b4eba67','6afe0061-746b-4bd7-807c-393fe5c7599d','779c3b6c-3648-423b-8d3f-8a4f36f23e2a','1346c396-a687-4082-a10e-d3556ac50b4b','1cfe0061-746b-4bd7-807c-393fe5c7599d','ed06fc88-6a59-40a8-b7ea-ece90d83c333','fa332682-b62e-4791-b95f-c528b532a754','e42e1049-e459-4602-ae4b-cb78098dcf89','01f28833-152f-438d-a831-51e33583bde5','7c55f3cc-1c0b-4d95-97f9-cc3409e3145f','a633a338-9726-472a-a0ff-0d8695b30638','f1a93ec7-e2cd-46b6-ba28-2f36b30539a9','6967091c-09c6-4455-9f1e-d0de318bacc5','011ef02c-abea-476d-afdc-d1aa8a456b94','0f617540-5680-480c-aaf3-0663c17c3c7d','1dfe0061-746b-4bd7-807c-393fe5c7599d','20f21bd0-eb3e-4898-ae1f-eb994f9ce823','45781b84-093b-41c7-b5a4-c521f343bf21','47d35057-b1fb-4106-8218-7e551497420e','491b500b-26a2-425b-b142-00773f1d1938','5cf34496-6bc3-4c8d-9c6a-7c037f48669f','70ffc637-2162-484a-b863-3a1a1469f106','7a09e78a-8000-459e-9d79-aa21db135138','823a8248-b7d7-4dbe-a619-2969ca453f1e','8afe0061-746b-4bd7-807c-393fe5c7599d','8ea6732d-0ef9-489d-bf11-20673183a0c2','9481dc6b-c4e9-4207-a30c-65c3ac302bf5','995331ea-092b-4b71-8122-a0c65214c765','9d5c6390-a690-4d6d-8aaa-c60a772b4550','a26ac91f-c263-49f1-8171-9821bc4d2da5','a71ff6e3-1b33-4e11-94f1-5b94d786b5ab','a7b7f95b-1924-4189-840e-b5c407545908','ae155453-72b2-4247-8da5-dced5270f29b','bdc024d8-7712-48ff-b86e-292be1df0d9f','d3b0e6c7-0601-4651-851f-7ef4bea1aa6d','d8f9089c-c3a5-4d77-9c37-ae248e134e42','d9af077d-b729-4971-84b8-f86f390789c1','da04a859-199c-42cf-ab5d-6132bc529161','dc898f2e-1810-4d93-9db0-f381778d45e1','f254514a-26f4-4d29-83af-711c27d4862d','f34c024a-b446-464e-add0-558c9eb8a3c8','fa537969-017a-4816-a317-b5883305c723')\"\n",
    "\n",
    "df_apps = pd.read_sql(sql_apps,conn_laurel)\n",
    "df_questions = pd.read_sql(sql_questions,conn_laurel)\n",
    "\n",
    "df = pd.merge(df_apps,df_questions,on=['application_id','cohort_id','applicant_id','nd_key'],how='inner')"
   ]
  },
  {
   "cell_type": "code",
   "execution_count": 3,
   "metadata": {},
   "outputs": [],
   "source": [
    "# programming languages\n",
    "data = df\n",
    "for i in (['python','java','cplus','probability','statistics','linear algebra','computer science','machine learning']):\n",
    "    if i == 'cplus':\n",
    "        j = 'c\\+\\+' \n",
    "    else:\n",
    "        j = i\n",
    "    d = df_questions.copy()\n",
    "    d[i] = 0\n",
    "    d[i] = np.where(d['response'].str.lower().str.contains(j),1,d[i])\n",
    "    d[i] = np.where(d['question_prompt'].str.lower().str.contains(j)&d['response'].str.match('.*[1-9].*'),1,d[i])\n",
    "    o_i = d.groupby('application_id').agg({i:'max'}).reset_index()\n",
    "    data = pd.merge(data,o_i,on=['application_id'],how='inner')"
   ]
  },
  {
   "cell_type": "code",
   "execution_count": 4,
   "metadata": {},
   "outputs": [
    {
     "data": {
      "text/plain": [
       "nd_key              application_status\n",
       "nd001-connect       paid                     10\n",
       "nd002-connect       paid                    200\n",
       "nd004-connect-reno  graduated                30\n",
       "                    paid                    170\n",
       "nd009-connect       paid                    286\n",
       "nd013               graduated                40\n",
       "                    paid                  26792\n",
       "                    term completed         7591\n",
       "nd209               graduated                48\n",
       "                    paid                  14230\n",
       "                    term completed         1274\n",
       "nd889               paid                  10848\n",
       "                    term completed          270\n",
       "Name: application_id, dtype: int64"
      ]
     },
     "execution_count": 4,
     "metadata": {},
     "output_type": "execute_result"
    }
   ],
   "source": [
    "data.groupby(['nd_key','application_status'])['application_id'].count()"
   ]
  },
  {
   "cell_type": "code",
   "execution_count": 5,
   "metadata": {},
   "outputs": [],
   "source": [
    "data['status'] = data['application_status'].map({'graduated':1,'term completed':1,'paid':0})"
   ]
  },
  {
   "cell_type": "code",
   "execution_count": 6,
   "metadata": {},
   "outputs": [
    {
     "data": {
      "text/plain": [
       "status\n",
       "0    52536\n",
       "1     9253\n",
       "Name: application_id, dtype: int64"
      ]
     },
     "execution_count": 6,
     "metadata": {},
     "output_type": "execute_result"
    }
   ],
   "source": [
    "data.groupby(['status'])['application_id'].count()"
   ]
  },
  {
   "cell_type": "code",
   "execution_count": 7,
   "metadata": {},
   "outputs": [
    {
     "data": {
      "text/plain": [
       "status  application_type\n",
       "0       connect               666\n",
       "        term                51870\n",
       "1       connect                30\n",
       "        term                 9223\n",
       "Name: application_id, dtype: int64"
      ]
     },
     "execution_count": 7,
     "metadata": {},
     "output_type": "execute_result"
    }
   ],
   "source": [
    "data.groupby(['status','application_type'])['application_id'].count()"
   ]
  },
  {
   "cell_type": "code",
   "execution_count": 19,
   "metadata": {},
   "outputs": [],
   "source": [
    "df_connect = data.loc[data['application_type']=='connect']\n",
    "df_connect_grad = df_connect.loc[df_connect['status']==1]\n",
    "df_connect_enrol = df_connect.loc[df_connect['status']==0]\n",
    "df_general = data.loc[data['application_type']=='term']\n",
    "df_general_grad = df_general.loc[df_general['status']==1]\n",
    "df_general_enrol = df_general.loc[df_general['status']==0]"
   ]
  },
  {
   "cell_type": "code",
   "execution_count": 15,
   "metadata": {},
   "outputs": [
    {
     "data": {
      "text/plain": [
       "30"
      ]
     },
     "execution_count": 15,
     "metadata": {},
     "output_type": "execute_result"
    }
   ],
   "source": [
    "n_grad = df_connect_grad.shape[0]\n",
    "n_grad"
   ]
  },
  {
   "cell_type": "code",
   "execution_count": 23,
   "metadata": {},
   "outputs": [],
   "source": [
    "df_connect_enrol_2 = df_connect_enrol.iloc[random.sample(range(df_connect_enrol.shape[0]),n_grad),:]\n",
    "df_general_grad_2 = df_general_grad.iloc[random.sample(range(df_general_grad.shape[0]),n_grad),:]\n",
    "df_general_enrol_2 = df_general_enrol.iloc[random.sample(range(df_general_enrol.shape[0]),n_grad),:]"
   ]
  },
  {
   "cell_type": "code",
   "execution_count": 24,
   "metadata": {
    "collapsed": true
   },
   "outputs": [],
   "source": [
    "df = pd.concat([df_connect_grad,df_connect_enrol_2,df_general_grad_2,df_general_enrol_2],axis=0)"
   ]
  },
  {
   "cell_type": "code",
   "execution_count": 26,
   "metadata": {},
   "outputs": [
    {
     "data": {
      "text/plain": [
       "status  application_type\n",
       "0       connect             30\n",
       "        term                30\n",
       "1       connect             30\n",
       "        term                30\n",
       "Name: application_id, dtype: int64"
      ]
     },
     "execution_count": 26,
     "metadata": {},
     "output_type": "execute_result"
    }
   ],
   "source": [
    "df.groupby(['status','application_type'])['application_id'].count()"
   ]
  },
  {
   "cell_type": "code",
   "execution_count": 27,
   "metadata": {},
   "outputs": [
    {
     "data": {
      "text/plain": [
       "Index(['application_id', 'cohort_id', 'applicant_id', 'nd_key',\n",
       "       'application_type', 'applicant_country', 'applicant_geo',\n",
       "       'application_status', 'user_age', 'cohort_open_to_notify',\n",
       "       'cohort_open_to_close', 'cohort_open_month', 'application_month',\n",
       "       'apply_before_start', 'apply_to_submit', 'submit_to_decision',\n",
       "       'submit_to_notify', 'notify_to_pay', 'price', 'question_id',\n",
       "       'question_prompt', 'response', 'q_r', 'python', 'java', 'cplus',\n",
       "       'probability', 'statistics', 'linear algebra', 'computer science',\n",
       "       'machine learning', 'status'],\n",
       "      dtype='object')"
      ]
     },
     "execution_count": 27,
     "metadata": {},
     "output_type": "execute_result"
    }
   ],
   "source": [
    "df.columns"
   ]
  },
  {
   "cell_type": "code",
   "execution_count": 28,
   "metadata": {
    "collapsed": true
   },
   "outputs": [],
   "source": [
    "cols = ['python', 'java', 'cplus','probability', 'statistics', 'linear algebra', 'computer science','machine learning']"
   ]
  },
  {
   "cell_type": "code",
   "execution_count": 32,
   "metadata": {},
   "outputs": [
    {
     "name": "stdout",
     "output_type": "stream",
     "text": [
      "Warning: Maximum number of iterations has been exceeded.\n",
      "         Current function value: 0.341716\n",
      "         Iterations: 35\n",
      "                           Logit Regression Results                           \n",
      "==============================================================================\n",
      "Dep. Variable:                 status   No. Observations:                  696\n",
      "Model:                          Logit   Df Residuals:                      688\n",
      "Method:                           MLE   Df Model:                            7\n",
      "Date:                Sun, 12 Nov 2017   Pseudo R-squ.:                 -0.9232\n",
      "Time:                        21:20:57   Log-Likelihood:                -237.83\n",
      "converged:                      False   LL-Null:                       -123.67\n",
      "                                        LLR p-value:                     1.000\n",
      "====================================================================================\n",
      "                       coef    std err          z      P>|z|      [0.025      0.975]\n",
      "------------------------------------------------------------------------------------\n",
      "python              -0.8760      0.240     -3.645      0.000      -1.347      -0.405\n",
      "java                -0.5694      0.252     -2.261      0.024      -1.063      -0.076\n",
      "cplus              -36.4561   2.07e+07  -1.76e-06      1.000   -4.06e+07    4.06e+07\n",
      "probability         21.2927   3.89e+04      0.001      1.000   -7.62e+04    7.63e+04\n",
      "statistics         -22.5647   3.89e+04     -0.001      1.000   -7.63e+04    7.62e+04\n",
      "linear algebra     -24.5381   5.12e+04     -0.000      1.000      -1e+05       1e+05\n",
      "computer science     0.3352      0.376      0.891      0.373      -0.403       1.073\n",
      "machine learning    -8.5713      5.540     -1.547      0.122     -19.429       2.287\n",
      "====================================================================================\n",
      "\n",
      "Possibly complete quasi-separation: A fraction 0.21 of observations can be\n",
      "perfectly predicted. This might indicate that there is complete\n",
      "quasi-separation. In this case some parameters will not be identified.\n"
     ]
    },
    {
     "name": "stderr",
     "output_type": "stream",
     "text": [
      "/anaconda/lib/python3.6/site-packages/statsmodels/base/model.py:496: ConvergenceWarning: Maximum Likelihood optimization failed to converge. Check mle_retvals\n",
      "  \"Check mle_retvals\", ConvergenceWarning)\n"
     ]
    }
   ],
   "source": [
    "# Logistic Regression on Connect\n",
    "logit = sm.Logit(df_connect['status'], df_connect[cols])\n",
    "result = logit.fit()\n",
    "print(result.summary())"
   ]
  },
  {
   "cell_type": "code",
   "execution_count": 33,
   "metadata": {},
   "outputs": [
    {
     "name": "stdout",
     "output_type": "stream",
     "text": [
      "Optimization terminated successfully.\n",
      "         Current function value: 0.451875\n",
      "         Iterations 7\n",
      "                           Logit Regression Results                           \n",
      "==============================================================================\n",
      "Dep. Variable:                 status   No. Observations:                61093\n",
      "Model:                          Logit   Df Residuals:                    61085\n",
      "Method:                           MLE   Df Model:                            7\n",
      "Date:                Sun, 12 Nov 2017   Pseudo R-squ.:                -0.06478\n",
      "Time:                        21:21:51   Log-Likelihood:                -27606.\n",
      "converged:                       True   LL-Null:                       -25927.\n",
      "                                        LLR p-value:                     1.000\n",
      "====================================================================================\n",
      "                       coef    std err          z      P>|z|      [0.025      0.975]\n",
      "------------------------------------------------------------------------------------\n",
      "python               0.9821      0.034     28.815      0.000       0.915       1.049\n",
      "java                -0.3292      0.076     -4.315      0.000      -0.479      -0.180\n",
      "cplus               -0.4734      0.032    -14.621      0.000      -0.537      -0.410\n",
      "probability          2.6122      0.350      7.465      0.000       1.926       3.298\n",
      "statistics          -2.9985      0.349     -8.583      0.000      -3.683      -2.314\n",
      "linear algebra      -0.6243      0.042    -14.920      0.000      -0.706      -0.542\n",
      "computer science    -1.2657      0.025    -49.637      0.000      -1.316      -1.216\n",
      "machine learning     0.0983      0.024      4.047      0.000       0.051       0.146\n",
      "====================================================================================\n"
     ]
    }
   ],
   "source": [
    "# Logistic Regression on General\n",
    "logit = sm.Logit(df_general['status'], df_general[cols])\n",
    "result = logit.fit()\n",
    "print(result.summary())"
   ]
  },
  {
   "cell_type": "markdown",
   "metadata": {},
   "source": [
    "## Two Logistic Regression Models show that programming skills are very significant influencing the graducation of general nanodegree; connect however at the other hand, the graducation does not reply as heavily as general nanodegree, on programming skills."
   ]
  }
 ],
 "metadata": {
  "kernelspec": {
   "display_name": "Python 3",
   "language": "python",
   "name": "python3"
  },
  "language_info": {
   "codemirror_mode": {
    "name": "ipython",
    "version": 3
   },
   "file_extension": ".py",
   "mimetype": "text/x-python",
   "name": "python",
   "nbconvert_exporter": "python",
   "pygments_lexer": "ipython3",
   "version": "3.6.1"
  }
 },
 "nbformat": 4,
 "nbformat_minor": 2
}
