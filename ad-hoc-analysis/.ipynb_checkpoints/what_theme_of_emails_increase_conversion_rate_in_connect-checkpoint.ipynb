{
 "cells": [
  {
   "cell_type": "markdown",
   "metadata": {},
   "source": [
    "# What Theme of Emails increase Conversion Rate in Connect?"
   ]
  },
  {
   "cell_type": "markdown",
   "metadata": {},
   "source": [
    "## Four problems to solve:\n",
    "* Does theme of emails effect conversion rate?\n",
    "* Does time of emails effect conversion rate?\n",
    "* Does combination of theme and time of emails effect conversion rate?\n",
    "* Does number of emails received effect conversion rate?\n",
    "* Suggestions on further experiment."
   ]
  },
  {
   "cell_type": "code",
   "execution_count": null,
   "metadata": {
    "collapsed": true
   },
   "outputs": [],
   "source": []
  },
  {
   "cell_type": "code",
   "execution_count": 44,
   "metadata": {
    "collapsed": true
   },
   "outputs": [],
   "source": [
    "import pandas as pd\n",
    "import numpy as np\n",
    "from scipy import stats\n",
    "from math import sqrt\n",
    "#import seaborn as sns"
   ]
  },
  {
   "cell_type": "markdown",
   "metadata": {},
   "source": [
    "Data:"
   ]
  },
  {
   "cell_type": "code",
   "execution_count": 26,
   "metadata": {},
   "outputs": [
    {
     "data": {
      "text/html": [
       "<div>\n",
       "<style>\n",
       "    .dataframe thead tr:only-child th {\n",
       "        text-align: right;\n",
       "    }\n",
       "\n",
       "    .dataframe thead th {\n",
       "        text-align: left;\n",
       "    }\n",
       "\n",
       "    .dataframe tbody tr th {\n",
       "        vertical-align: top;\n",
       "    }\n",
       "</style>\n",
       "<table border=\"1\" class=\"dataframe\">\n",
       "  <thead>\n",
       "    <tr style=\"text-align: right;\">\n",
       "      <th></th>\n",
       "      <th>EmailAddress</th>\n",
       "      <th>Date Sent</th>\n",
       "      <th>List</th>\n",
       "      <th>Lead_Source</th>\n",
       "      <th>Theme</th>\n",
       "      <th>Enrolled</th>\n",
       "    </tr>\n",
       "  </thead>\n",
       "  <tbody>\n",
       "    <tr>\n",
       "      <th>0</th>\n",
       "      <td>imayes@juniper.net</td>\n",
       "      <td>Sept, 2017</td>\n",
       "      <td>Connect application extended email list--&gt;IPND</td>\n",
       "      <td>App_Created_Sept</td>\n",
       "      <td>cancelled_program</td>\n",
       "      <td>0</td>\n",
       "    </tr>\n",
       "    <tr>\n",
       "      <th>1</th>\n",
       "      <td>pandyanandan007@gmail.com</td>\n",
       "      <td>Sept, 2017</td>\n",
       "      <td>Connect application extended email list--&gt;IPND</td>\n",
       "      <td>App_Created_Sept</td>\n",
       "      <td>cancelled_program</td>\n",
       "      <td>0</td>\n",
       "    </tr>\n",
       "    <tr>\n",
       "      <th>2</th>\n",
       "      <td>chrisdidato@gmail.com</td>\n",
       "      <td>Sept, 2017</td>\n",
       "      <td>Connect application extended email list--&gt;IPND</td>\n",
       "      <td>App_Created_Sept</td>\n",
       "      <td>cancelled_program</td>\n",
       "      <td>0</td>\n",
       "    </tr>\n",
       "    <tr>\n",
       "      <th>3</th>\n",
       "      <td>muthurengan@gmail.com</td>\n",
       "      <td>Sept, 2017</td>\n",
       "      <td>Connect application extended email list--&gt;IPND</td>\n",
       "      <td>App_Created_Sept</td>\n",
       "      <td>cancelled_program</td>\n",
       "      <td>0</td>\n",
       "    </tr>\n",
       "    <tr>\n",
       "      <th>4</th>\n",
       "      <td>minda_aguhob@post.harvard.edu</td>\n",
       "      <td>Sept, 2017</td>\n",
       "      <td>Connect application extended email list--&gt;IPND</td>\n",
       "      <td>App_Created_Sept</td>\n",
       "      <td>cancelled_program</td>\n",
       "      <td>0</td>\n",
       "    </tr>\n",
       "  </tbody>\n",
       "</table>\n",
       "</div>"
      ],
      "text/plain": [
       "                    EmailAddress   Date Sent  \\\n",
       "0             imayes@juniper.net  Sept, 2017   \n",
       "1      pandyanandan007@gmail.com  Sept, 2017   \n",
       "2          chrisdidato@gmail.com  Sept, 2017   \n",
       "3          muthurengan@gmail.com  Sept, 2017   \n",
       "4  minda_aguhob@post.harvard.edu  Sept, 2017   \n",
       "\n",
       "                                             List       Lead_Source  \\\n",
       "0  Connect application extended email list-->IPND  App_Created_Sept   \n",
       "1  Connect application extended email list-->IPND  App_Created_Sept   \n",
       "2  Connect application extended email list-->IPND  App_Created_Sept   \n",
       "3  Connect application extended email list-->IPND  App_Created_Sept   \n",
       "4  Connect application extended email list-->IPND  App_Created_Sept   \n",
       "\n",
       "               Theme  Enrolled  \n",
       "0  cancelled_program         0  \n",
       "1  cancelled_program         0  \n",
       "2  cancelled_program         0  \n",
       "3  cancelled_program         0  \n",
       "4  cancelled_program         0  "
      ]
     },
     "execution_count": 26,
     "metadata": {},
     "output_type": "execute_result"
    }
   ],
   "source": [
    "df = pd.read_csv('connect_email_scrubbed_list.csv')\n",
    "df.head()"
   ]
  },
  {
   "cell_type": "code",
   "execution_count": null,
   "metadata": {
    "collapsed": true
   },
   "outputs": [],
   "source": []
  },
  {
   "cell_type": "markdown",
   "metadata": {},
   "source": [
    "### Answer question 1: Does theme of emails effect conversion rate?"
   ]
  },
  {
   "cell_type": "markdown",
   "metadata": {},
   "source": [
    "Combined \"Not_Too_Late\" to \"not_too_late\" and \"personal_app_invite\" to \"personal_invite_to_apply\" in \"Theme\":"
   ]
  },
  {
   "cell_type": "code",
   "execution_count": 13,
   "metadata": {},
   "outputs": [
    {
     "data": {
      "text/plain": [
       "Theme                      Enrolled\n",
       "cancelled_program          0            24\n",
       "deadline_extended          0           107\n",
       "                           1             2\n",
       "not_too_late               0            23\n",
       "                           1            17\n",
       "personal_invite_to_apply   0           629\n",
       "                           1            20\n",
       "personal_invite_to_submit  0             4\n",
       "Name: EmailAddress, dtype: int64"
      ]
     },
     "execution_count": 13,
     "metadata": {},
     "output_type": "execute_result"
    }
   ],
   "source": [
    "df['Theme'] = df['Theme'].map({'Not_Too_Late':'not_too_late',\n",
    "                               'personal_app_invite':'personal_invite_to_apply',\n",
    "                               'cancelled_program':'cancelled_program',\n",
    "                               'deadline_extended':'deadline_extended',\n",
    "                               'personal_invite_to_apply':'personal_invite_to_apply',\n",
    "                               'personal_invite_to_submit':'personal_invite_to_submit'\n",
    "                              })\n",
    "df.groupby(['Theme','Enrolled'])['EmailAddress'].count()"
   ]
  },
  {
   "cell_type": "markdown",
   "metadata": {},
   "source": [
    "There are 5 Themes: \n",
    "    * cancelled_program\n",
    "    * deadline_extended\n",
    "    * not_too_late\n",
    "    * personal_invite_to_apply\n",
    "    * personal_invite_to_submit\n",
    "Among these 5, \"cancelled_program\" and \"personal_invite_to_submit\" will be excluded from this analysis."
   ]
  },
  {
   "cell_type": "markdown",
   "metadata": {},
   "source": [
    "Compute the conversion rate for each of 3 groups:\n",
    "    1 - deadline_extended\n",
    "    2 - not_too_late\n",
    "    3 - personal_invite_to_apply"
   ]
  },
  {
   "cell_type": "code",
   "execution_count": 32,
   "metadata": {},
   "outputs": [
    {
     "name": "stdout",
     "output_type": "stream",
     "text": [
      "109 students received deadline_extended emails, 2 of them enrolled. (1.8%)\n",
      "528 students received not_too_late emails, 40 of them enrolled. (7.6%)\n",
      "79 students received personal_invite_to_apply emails, 3 of them enrolled. (3.8%)\n"
     ]
    }
   ],
   "source": [
    "n1 = df.loc[df['Theme']=='deadline_extended'].shape[0]\n",
    "obs_v1 = df.loc[(df['Theme']=='deadline_extended') & (df['Enrolled']==1)].shape[0]\n",
    "\n",
    "n2 = df.loc[df['Theme']=='not_too_late'].shape[0]\n",
    "obs_v2 = df.loc[(df['Theme']=='not_too_late') & (df['Enrolled']==1)].shape[0]\n",
    "\n",
    "n3 = df.loc[df['Theme']=='personal_invite_to_apply'].shape[0]\n",
    "obs_v3 = df.loc[(df['Theme']=='personal_invite_to_apply') & (df['Enrolled']==1)].shape[0]\n",
    "\n",
    "print(\"{0} students received deadline_extended emails, {1} of them enrolled. ({2:.1%})\".format(n1,obs_v1,obs_v1/n1))\n",
    "print(\"{0} students received not_too_late emails, {1} of them enrolled. ({2:.1%})\".format(n2,obs_v2,obs_v2/n2))\n",
    "print(\"{0} students received personal_invite_to_apply emails, {1} of them enrolled. ({2:.1%})\".format(n3,obs_v3,obs_v3/n3))"
   ]
  },
  {
   "cell_type": "markdown",
   "metadata": {},
   "source": [
    "Just by looking at the conversion rate, theme not_too_late has a conversion rate of 42.5%, way higher than deadline_extended (1.8%) and personal_invite_to_apply (3.1%). One thing to notice is that theme not_too_late has lowest students exposure."
   ]
  },
  {
   "cell_type": "markdown",
   "metadata": {},
   "source": [
    "Let's calculate the 95% CI for all 3 groups:"
   ]
  },
  {
   "cell_type": "code",
   "execution_count": 33,
   "metadata": {},
   "outputs": [
    {
     "name": "stdout",
     "output_type": "stream",
     "text": [
      "for student received deadline_extended emails, 95% of CI conversion rate: [1.59%,2.08%]\n",
      "for student received not_too_late emails, 95% of CI conversion rate: [7.48%,7.67%]\n",
      "for student received personal_invite_to_apply emails, 95% of CI conversion rate: [3.32%,4.27%]\n"
     ]
    }
   ],
   "source": [
    "# mean and standard variance\n",
    "m1 = obs_v1/n1\n",
    "m2 = obs_v2/n2\n",
    "m3 = obs_v3/n3\n",
    "sd1 = (obs_v1/n1*(1-obs_v1/n1))/n1\n",
    "sd2 = (obs_v2/n2*(1-obs_v2/n2))/n2\n",
    "sd3 = (obs_v3/n3*(1-obs_v3/n3))/n3\n",
    "# 95% CI:\n",
    "g1_lower = m1-1.96*np.sqrt(sd1/n1)\n",
    "g1_upper = m1+1.96*np.sqrt(sd1/n1)\n",
    "g2_lower = m2-1.96*np.sqrt(sd2/n2)\n",
    "g2_upper = m2+1.96*np.sqrt(sd2/n2)\n",
    "g3_lower = m3-1.96*np.sqrt(sd3/n3)\n",
    "g3_upper = m3+1.96*np.sqrt(sd3/n3)\n",
    "\n",
    "print(\"for student received deadline_extended emails, 95% of CI conversion rate: [{0:.2%},{1:.2%}]\".format(g1_lower,g1_upper))\n",
    "print(\"for student received not_too_late emails, 95% of CI conversion rate: [{0:.2%},{1:.2%}]\".format(g2_lower,g2_upper))\n",
    "print(\"for student received personal_invite_to_apply emails, 95% of CI conversion rate: [{0:.2%},{1:.2%}]\".format(g3_lower,g3_upper))"
   ]
  },
  {
   "cell_type": "markdown",
   "metadata": {},
   "source": [
    "T-test between deadline_extended and not_too_late:"
   ]
  },
  {
   "cell_type": "code",
   "execution_count": 34,
   "metadata": {},
   "outputs": [
    {
     "name": "stdout",
     "output_type": "stream",
     "text": [
      "t stats is 2.2062746908246575; 95% t score is 1.6472567893565855\n"
     ]
    }
   ],
   "source": [
    "s_t = np.sqrt(((n1-1)*n1*sd1+(n2-1)*n2*sd2)/(n1+n2-2))\n",
    "t = (m2-m1)/(s_t*np.sqrt(1/n1+1/n2))\n",
    "tscore = stats.t.ppf(.95,n1+n2-2)\n",
    "print(\"t stats is {0}; 95% t score is {1}\".format(t,tscore))"
   ]
  },
  {
   "cell_type": "markdown",
   "metadata": {},
   "source": [
    "T-test between not_too_late and personal_invite_to_apply:"
   ]
  },
  {
   "cell_type": "code",
   "execution_count": 35,
   "metadata": {},
   "outputs": [
    {
     "name": "stdout",
     "output_type": "stream",
     "text": [
      "t stats is -1.2219255109196285; 95% t score is 1.6473761381549312\n"
     ]
    }
   ],
   "source": [
    "s_t = np.sqrt(((n2-1)*n2*sd2+(n3-1)*n3*sd3)/(n2+n3-2))\n",
    "t = (m3-m2)/(s_t*np.sqrt(1/n2+1/n3))\n",
    "tscore = stats.t.ppf(.95,n2+n3-2)\n",
    "print(\"t stats is {0}; 95% t score is {1}\".format(t,tscore))"
   ]
  },
  {
   "cell_type": "markdown",
   "metadata": {},
   "source": [
    "T-test between deadline_extended and personal_invite_to_apply:"
   ]
  },
  {
   "cell_type": "code",
   "execution_count": 36,
   "metadata": {},
   "outputs": [
    {
     "name": "stdout",
     "output_type": "stream",
     "text": [
      "t stats is 0.8272764526766723; 95% t score is 1.6530871383957708\n"
     ]
    }
   ],
   "source": [
    "s_t = np.sqrt(((n1-1)*n1*sd1+(n3-1)*n3*sd3)/(n1+n3-2))\n",
    "t = (m3-m1)/(s_t*np.sqrt(1/n1+1/n3))\n",
    "tscore = stats.t.ppf(.95,n1+n3-2)\n",
    "print(\"t stats is {0}; 95% t score is {1}\".format(t,tscore))"
   ]
  },
  {
   "cell_type": "markdown",
   "metadata": {},
   "source": [
    "### Result:\n",
    "    * Theme not_too_late is significant more efficient than deadline_extended and personal_invite_to_apply.\n",
    "    * There's no significant difference between deadline_extended and personal_invite_to_apply."
   ]
  },
  {
   "cell_type": "code",
   "execution_count": null,
   "metadata": {
    "collapsed": true
   },
   "outputs": [],
   "source": []
  },
  {
   "cell_type": "markdown",
   "metadata": {},
   "source": [
    "### Answer Question 2: Does time of emails effect conversion rate?"
   ]
  },
  {
   "cell_type": "code",
   "execution_count": 27,
   "metadata": {},
   "outputs": [
    {
     "data": {
      "text/plain": [
       "Date Sent   Enrolled\n",
       "Aug, 2017   0           463\n",
       "            1             8\n",
       "Dec, 2017   0           193\n",
       "            1            18\n",
       "Nov, 2017   0            80\n",
       "            1             3\n",
       "Oct, 2017   0           476\n",
       "            1            49\n",
       "Sept, 2017  0            63\n",
       "            1             1\n",
       "Name: EmailAddress, dtype: int64"
      ]
     },
     "execution_count": 27,
     "metadata": {},
     "output_type": "execute_result"
    }
   ],
   "source": [
    "df.groupby(['Date Sent','Enrolled'])['EmailAddress'].count()"
   ]
  },
  {
   "cell_type": "markdown",
   "metadata": {},
   "source": [
    "There're 5 months' data collected in this file: Aug, Sep, Oct, Nov and Dec.\n",
    "Compute the conversion rate of these 5 months:\n",
    "    1 - Aug\n",
    "    2 - Sep\n",
    "    3 - Oct\n",
    "    4 - Nov\n",
    "    5 - Dec"
   ]
  },
  {
   "cell_type": "code",
   "execution_count": 48,
   "metadata": {},
   "outputs": [
    {
     "name": "stdout",
     "output_type": "stream",
     "text": [
      "471 students received emails in Aug, 8 of them enrolled. (1.7%)\n",
      "64 students received emails in Sept, 1 of them enrolled. (1.6%)\n",
      "525 students received emails in Oct, 49 of them enrolled. (9.3%)\n",
      "83 students received emails in Nov, 3 of them enrolled. (3.6%)\n",
      "211 students received emails in Dec, 18 of them enrolled. (8.5%)\n"
     ]
    }
   ],
   "source": [
    "n1 = df.loc[df['Date Sent']=='Aug, 2017'].shape[0]\n",
    "obs_v1 = df.loc[(df['Date Sent']=='Aug, 2017') & (df['Enrolled']==1)].shape[0]\n",
    "\n",
    "n2 = df.loc[df['Date Sent']=='Sept, 2017'].shape[0]\n",
    "obs_v2 = df.loc[(df['Date Sent']=='Sept, 2017') & (df['Enrolled']==1)].shape[0]\n",
    "\n",
    "n3 = df.loc[df['Date Sent']=='Oct, 2017'].shape[0]\n",
    "obs_v3 = df.loc[(df['Date Sent']=='Oct, 2017') & (df['Enrolled']==1)].shape[0]\n",
    "\n",
    "n4 = df.loc[df['Date Sent']=='Nov, 2017'].shape[0]\n",
    "obs_v4 = df.loc[(df['Date Sent']=='Nov, 2017') & (df['Enrolled']==1)].shape[0]\n",
    "\n",
    "n5 = df.loc[df['Date Sent']=='Dec, 2017'].shape[0]\n",
    "obs_v5 = df.loc[(df['Date Sent']=='Dec, 2017') & (df['Enrolled']==1)].shape[0]\n",
    "\n",
    "print(\"{0} students received emails in Aug, {1} of them enrolled. ({2:.1%})\".format(n1,obs_v1,obs_v1/n1))\n",
    "print(\"{0} students received emails in Sept, {1} of them enrolled. ({2:.1%})\".format(n2,obs_v2,obs_v2/n2))\n",
    "print(\"{0} students received emails in Oct, {1} of them enrolled. ({2:.1%})\".format(n3,obs_v3,obs_v3/n3))\n",
    "print(\"{0} students received emails in Nov, {1} of them enrolled. ({2:.1%})\".format(n4,obs_v4,obs_v4/n4))\n",
    "print(\"{0} students received emails in Dec, {1} of them enrolled. ({2:.1%})\".format(n5,obs_v5,obs_v5/n5))"
   ]
  },
  {
   "cell_type": "markdown",
   "metadata": {},
   "source": [
    "We sent out 500+ emails in Oct, 471 emails in Aug and 211 emails in Dec. Conversion rate in Oct is the highest (9.3%)."
   ]
  },
  {
   "cell_type": "markdown",
   "metadata": {},
   "source": [
    "Compute 95% CI:"
   ]
  },
  {
   "cell_type": "code",
   "execution_count": 49,
   "metadata": {},
   "outputs": [
    {
     "name": "stdout",
     "output_type": "stream",
     "text": [
      "for student received emails in Aug, 95% of CI conversion rate: [1.64%,1.75%]\n",
      "for student received emails in Sept, 95% of CI conversion rate: [1.18%,1.94%]\n",
      "for student received emails in Oct, 95% of CI conversion rate: [9.22%,9.44%]\n",
      "for student received emails in Nov, 95% of CI conversion rate: [3.17%,4.06%]\n",
      "for student received emails in Dec, 95% of CI conversion rate: [8.27%,8.79%]\n"
     ]
    }
   ],
   "source": [
    "n = [n1,n2,n3,n4,n5]\n",
    "obs = [obs_v1,obs_v2,obs_v3,obs_v4,obs_v5]\n",
    "month = ['Aug','Sept','Oct','Nov','Dec']\n",
    "m = []\n",
    "sd = []\n",
    "g_lower = []\n",
    "g_upper = []\n",
    "\n",
    "for i in range(5):\n",
    "    m.append(obs[i]/n[i])\n",
    "    sd.append((obs[i]/n[i]*(1-obs[i]/n[i]))/n[i])\n",
    "    g_lower.append(m[i]-1.96*sqrt(sd[i]/n[i]))\n",
    "    g_upper.append(m[i]+1.96*sqrt(sd[i]/n[i]))\n",
    "    print(\"for student received emails in {0}, 95% of CI conversion rate: [{1:.2%},{2:.2%}]\".format(month[i],g_lower[i],g_upper[i]))"
   ]
  },
  {
   "cell_type": "markdown",
   "metadata": {},
   "source": [
    "T-test:"
   ]
  },
  {
   "cell_type": "code",
   "execution_count": 61,
   "metadata": {},
   "outputs": [
    {
     "data": {
      "text/plain": [
       "-0.079382374041016043"
      ]
     },
     "execution_count": 61,
     "metadata": {},
     "output_type": "execute_result"
    }
   ],
   "source": [
    "t[0][1]"
   ]
  },
  {
   "cell_type": "code",
   "execution_count": 67,
   "metadata": {},
   "outputs": [
    {
     "name": "stdout",
     "output_type": "stream",
     "text": [
      "t-test for Aug and Sept: t stats is -0.07938; 95% t score is 1.648\n",
      "t-test for Aug and Oct: t stats is 5.25; 95% t score is 1.646\n",
      "t-test for Aug and Nov: t stats is 1.156; 95% t score is 1.648\n",
      "t-test for Aug and Dec: t stats is 4.369; 95% t score is 1.647\n",
      "t-test for Sept and Oct: t stats is 2.112; 95% t score is 1.647\n",
      "t-test for Sept and Nov: t stats is 0.7594; 95% t score is 1.655\n",
      "t-test for Sept and Dec: t stats is 1.937; 95% t score is 1.65\n",
      "t-test for Oct and Nov: t stats is -1.735; 95% t score is 1.647\n",
      "t-test for Oct and Dec: t stats is -0.3423; 95% t score is 1.647\n",
      "t-test for Nov and Dec: t stats is 1.478; 95% t score is 1.65\n"
     ]
    }
   ],
   "source": [
    "t = [ [0]*5 ] * 5\n",
    "t_score = [ [0]*5 ] * 5\n",
    "for i in range(5):\n",
    "    for j in range(5):\n",
    "        if i < j:\n",
    "            s_t = np.sqrt(((n[i]-1)*n[i]*sd[i]+(n[j]-1)*n[j]*sd[j])/(n[i]+n[j]-2))\n",
    "            t[i][j] = (m[j]-m[i])/(s_t*np.sqrt(1/n[i]+1/n[j]))\n",
    "            t_score[i][j] = stats.t.ppf(.95,n[i]+n[j]-2)\n",
    "            print(\"t-test for {0} and {1}: t stats is {2:.4}; 95% t score is {3:.4}\".format(month[i],month[j],t[i][j],t_score[i][j]))"
   ]
  },
  {
   "cell_type": "markdown",
   "metadata": {},
   "source": [
    "### Result:\n",
    "    * Recall conversion rate:\n",
    "        * Aug (471): 1.7%\n",
    "        * Sept (64): 1.6%\n",
    "        * Oct (525): 9.3%\n",
    "        * Nov (83): 3.6%\n",
    "        * Dec (211): 8.5%\n",
    "    * Conversion rate significant different:\n",
    "        * Aug and Oct\n",
    "        * Aug and Dec\n",
    "        * Sept and Oct\n",
    "        * Sept and Dec\n",
    "        * Oct and Nov\n",
    "    * Conversion rate not significant different:\n",
    "        * Aug and Sept\n",
    "        * Aug and Nov\n",
    "        * Sept and Nov\n",
    "        * Oct and Dec\n",
    "        * Nov and Dec\n",
    "    * It seems Aug has good amount of emails sent to our students, but only gets 1.7% conversion rate, seems low.\n",
    "    * Q4 has higher conversion rate than Q3 in general.\n",
    "    * In Q4, Oct and Dec seem to have higher conversion rate than in Nov."
   ]
  },
  {
   "cell_type": "code",
   "execution_count": null,
   "metadata": {
    "collapsed": true
   },
   "outputs": [],
   "source": []
  },
  {
   "cell_type": "code",
   "execution_count": null,
   "metadata": {
    "collapsed": true
   },
   "outputs": [],
   "source": []
  },
  {
   "cell_type": "code",
   "execution_count": null,
   "metadata": {
    "collapsed": true
   },
   "outputs": [],
   "source": []
  },
  {
   "cell_type": "code",
   "execution_count": null,
   "metadata": {
    "collapsed": true
   },
   "outputs": [],
   "source": []
  }
 ],
 "metadata": {
  "kernelspec": {
   "display_name": "Python 3",
   "language": "python",
   "name": "python3"
  },
  "language_info": {
   "codemirror_mode": {
    "name": "ipython",
    "version": 3
   },
   "file_extension": ".py",
   "mimetype": "text/x-python",
   "name": "python",
   "nbconvert_exporter": "python",
   "pygments_lexer": "ipython3",
   "version": "3.6.1"
  }
 },
 "nbformat": 4,
 "nbformat_minor": 2
}
