{
 "cells": [
  {
   "cell_type": "markdown",
   "metadata": {},
   "source": [
    "# What Theme of Emails increase Conversion Rate in Connect?"
   ]
  },
  {
   "cell_type": "markdown",
   "metadata": {},
   "source": [
    "## Five problems to solve:\n",
    "* Does theme of emails effect conversion rate?\n",
    "* Does time of emails effect conversion rate?\n",
    "* Does combination of theme and time of emails effect conversion rate?\n",
    "* Does number of emails received effect conversion rate?\n",
    "* Suggestions on further experiment."
   ]
  },
  {
   "cell_type": "markdown",
   "metadata": {},
   "source": []
  },
  {
   "cell_type": "code",
   "execution_count": 123,
   "metadata": {
    "collapsed": true
   },
   "outputs": [],
   "source": [
    "import pandas as pd\n",
    "import numpy as np\n",
    "from scipy import stats\n",
    "from math import sqrt"
   ]
  },
  {
   "cell_type": "markdown",
   "metadata": {},
   "source": [
    "Data:"
   ]
  },
  {
   "cell_type": "code",
   "execution_count": 78,
   "metadata": {},
   "outputs": [
    {
     "data": {
      "text/html": [
       "<div>\n",
       "<style>\n",
       "    .dataframe thead tr:only-child th {\n",
       "        text-align: right;\n",
       "    }\n",
       "\n",
       "    .dataframe thead th {\n",
       "        text-align: left;\n",
       "    }\n",
       "\n",
       "    .dataframe tbody tr th {\n",
       "        vertical-align: top;\n",
       "    }\n",
       "</style>\n",
       "<table border=\"1\" class=\"dataframe\">\n",
       "  <thead>\n",
       "    <tr style=\"text-align: right;\">\n",
       "      <th></th>\n",
       "      <th>EmailAddress</th>\n",
       "      <th>Date Sent</th>\n",
       "      <th>List</th>\n",
       "      <th>Lead_Source</th>\n",
       "      <th>Theme</th>\n",
       "      <th>Enrolled</th>\n",
       "    </tr>\n",
       "  </thead>\n",
       "  <tbody>\n",
       "    <tr>\n",
       "      <th>0</th>\n",
       "      <td>imayes@juniper.net</td>\n",
       "      <td>Sept, 2017</td>\n",
       "      <td>Connect application extended email list--&gt;IPND</td>\n",
       "      <td>App_Created_Sept</td>\n",
       "      <td>cancelled_program</td>\n",
       "      <td>0</td>\n",
       "    </tr>\n",
       "    <tr>\n",
       "      <th>1</th>\n",
       "      <td>pandyanandan007@gmail.com</td>\n",
       "      <td>Sept, 2017</td>\n",
       "      <td>Connect application extended email list--&gt;IPND</td>\n",
       "      <td>App_Created_Sept</td>\n",
       "      <td>cancelled_program</td>\n",
       "      <td>0</td>\n",
       "    </tr>\n",
       "    <tr>\n",
       "      <th>2</th>\n",
       "      <td>chrisdidato@gmail.com</td>\n",
       "      <td>Sept, 2017</td>\n",
       "      <td>Connect application extended email list--&gt;IPND</td>\n",
       "      <td>App_Created_Sept</td>\n",
       "      <td>cancelled_program</td>\n",
       "      <td>0</td>\n",
       "    </tr>\n",
       "    <tr>\n",
       "      <th>3</th>\n",
       "      <td>muthurengan@gmail.com</td>\n",
       "      <td>Sept, 2017</td>\n",
       "      <td>Connect application extended email list--&gt;IPND</td>\n",
       "      <td>App_Created_Sept</td>\n",
       "      <td>cancelled_program</td>\n",
       "      <td>0</td>\n",
       "    </tr>\n",
       "    <tr>\n",
       "      <th>4</th>\n",
       "      <td>minda_aguhob@post.harvard.edu</td>\n",
       "      <td>Sept, 2017</td>\n",
       "      <td>Connect application extended email list--&gt;IPND</td>\n",
       "      <td>App_Created_Sept</td>\n",
       "      <td>cancelled_program</td>\n",
       "      <td>0</td>\n",
       "    </tr>\n",
       "  </tbody>\n",
       "</table>\n",
       "</div>"
      ],
      "text/plain": [
       "                    EmailAddress   Date Sent  \\\n",
       "0             imayes@juniper.net  Sept, 2017   \n",
       "1      pandyanandan007@gmail.com  Sept, 2017   \n",
       "2          chrisdidato@gmail.com  Sept, 2017   \n",
       "3          muthurengan@gmail.com  Sept, 2017   \n",
       "4  minda_aguhob@post.harvard.edu  Sept, 2017   \n",
       "\n",
       "                                             List       Lead_Source  \\\n",
       "0  Connect application extended email list-->IPND  App_Created_Sept   \n",
       "1  Connect application extended email list-->IPND  App_Created_Sept   \n",
       "2  Connect application extended email list-->IPND  App_Created_Sept   \n",
       "3  Connect application extended email list-->IPND  App_Created_Sept   \n",
       "4  Connect application extended email list-->IPND  App_Created_Sept   \n",
       "\n",
       "               Theme  Enrolled  \n",
       "0  cancelled_program         0  \n",
       "1  cancelled_program         0  \n",
       "2  cancelled_program         0  \n",
       "3  cancelled_program         0  \n",
       "4  cancelled_program         0  "
      ]
     },
     "execution_count": 78,
     "metadata": {},
     "output_type": "execute_result"
    }
   ],
   "source": [
    "df = pd.read_csv('connect_email_scrubbed_list.csv')\n",
    "df.head()"
   ]
  },
  {
   "cell_type": "markdown",
   "metadata": {},
   "source": []
  },
  {
   "cell_type": "markdown",
   "metadata": {},
   "source": [
    "### Answer question 1: Does theme of emails effect conversion rate?"
   ]
  },
  {
   "cell_type": "markdown",
   "metadata": {},
   "source": [
    "Combined \"Not_Too_Late\" to \"not_too_late\" and \"personal_app_invite\" to \"personal_invite_to_apply\" in \"Theme\":"
   ]
  },
  {
   "cell_type": "code",
   "execution_count": 83,
   "metadata": {},
   "outputs": [
    {
     "data": {
      "text/html": [
       "<div>\n",
       "<style>\n",
       "    .dataframe thead tr:only-child th {\n",
       "        text-align: right;\n",
       "    }\n",
       "\n",
       "    .dataframe thead th {\n",
       "        text-align: left;\n",
       "    }\n",
       "\n",
       "    .dataframe tbody tr th {\n",
       "        vertical-align: top;\n",
       "    }\n",
       "</style>\n",
       "<table border=\"1\" class=\"dataframe\">\n",
       "  <thead>\n",
       "    <tr style=\"text-align: right;\">\n",
       "      <th>Enrolled</th>\n",
       "      <th>0</th>\n",
       "      <th>1</th>\n",
       "    </tr>\n",
       "    <tr>\n",
       "      <th>Theme</th>\n",
       "      <th></th>\n",
       "      <th></th>\n",
       "    </tr>\n",
       "  </thead>\n",
       "  <tbody>\n",
       "    <tr>\n",
       "      <th>cancelled_program</th>\n",
       "      <td>24.0</td>\n",
       "      <td>NaN</td>\n",
       "    </tr>\n",
       "    <tr>\n",
       "      <th>deadline_extended</th>\n",
       "      <td>107.0</td>\n",
       "      <td>2.0</td>\n",
       "    </tr>\n",
       "    <tr>\n",
       "      <th>not_too_late</th>\n",
       "      <td>511.0</td>\n",
       "      <td>57.0</td>\n",
       "    </tr>\n",
       "    <tr>\n",
       "      <th>personal_invite_to_apply</th>\n",
       "      <td>629.0</td>\n",
       "      <td>20.0</td>\n",
       "    </tr>\n",
       "    <tr>\n",
       "      <th>personal_invite_to_submit</th>\n",
       "      <td>4.0</td>\n",
       "      <td>NaN</td>\n",
       "    </tr>\n",
       "  </tbody>\n",
       "</table>\n",
       "</div>"
      ],
      "text/plain": [
       "Enrolled                       0     1\n",
       "Theme                                 \n",
       "cancelled_program           24.0   NaN\n",
       "deadline_extended          107.0   2.0\n",
       "not_too_late               511.0  57.0\n",
       "personal_invite_to_apply   629.0  20.0\n",
       "personal_invite_to_submit    4.0   NaN"
      ]
     },
     "execution_count": 83,
     "metadata": {},
     "output_type": "execute_result"
    }
   ],
   "source": [
    "df['Theme'] = df['Theme'].map({'Not_Too_Late':'not_too_late',\n",
    "                               'personal_app_invite':'personal_invite_to_apply',\n",
    "                               'cancelled_program':'cancelled_program',\n",
    "                               'not_too_late':'not_too_late',\n",
    "                               'deadline_extended':'deadline_extended',\n",
    "                               'personal_invite_to_apply':'personal_invite_to_apply',\n",
    "                               'personal_invite_to_submit':'personal_invite_to_submit'\n",
    "                              })\n",
    "df.groupby(['Theme','Enrolled'])['EmailAddress'].count().unstack(level=1)"
   ]
  },
  {
   "cell_type": "markdown",
   "metadata": {},
   "source": [
    "There are 5 Themes: \n",
    "    * cancelled_program\n",
    "    * deadline_extended\n",
    "    * not_too_late\n",
    "    * personal_invite_to_apply\n",
    "    * personal_invite_to_submit\n",
    "Among these 5, \"cancelled_program\" and \"personal_invite_to_submit\" will be excluded from this analysis."
   ]
  },
  {
   "cell_type": "markdown",
   "metadata": {},
   "source": [
    "Compute the conversion rate for each of 3 groups:\n",
    "    1 - deadline_extended\n",
    "    2 - not_too_late\n",
    "    3 - personal_invite_to_apply"
   ]
  },
  {
   "cell_type": "code",
   "execution_count": 84,
   "metadata": {},
   "outputs": [
    {
     "name": "stdout",
     "output_type": "stream",
     "text": [
      "109 students received deadline_extended emails, 2 of them enrolled. (1.8%)\n",
      "568 students received not_too_late emails, 57 of them enrolled. (10.0%)\n",
      "649 students received personal_invite_to_apply emails, 20 of them enrolled. (3.1%)\n"
     ]
    }
   ],
   "source": [
    "n1 = df.loc[df['Theme']=='deadline_extended'].shape[0]\n",
    "obs_v1 = df.loc[(df['Theme']=='deadline_extended') & (df['Enrolled']==1)].shape[0]\n",
    "\n",
    "n2 = df.loc[df['Theme']=='not_too_late'].shape[0]\n",
    "obs_v2 = df.loc[(df['Theme']=='not_too_late') & (df['Enrolled']==1)].shape[0]\n",
    "\n",
    "n3 = df.loc[df['Theme']=='personal_invite_to_apply'].shape[0]\n",
    "obs_v3 = df.loc[(df['Theme']=='personal_invite_to_apply') & (df['Enrolled']==1)].shape[0]\n",
    "\n",
    "print(\"{0} students received deadline_extended emails, {1} of them enrolled. ({2:.1%})\".format(n1,obs_v1,obs_v1/n1))\n",
    "print(\"{0} students received not_too_late emails, {1} of them enrolled. ({2:.1%})\".format(n2,obs_v2,obs_v2/n2))\n",
    "print(\"{0} students received personal_invite_to_apply emails, {1} of them enrolled. ({2:.1%})\".format(n3,obs_v3,obs_v3/n3))"
   ]
  },
  {
   "cell_type": "markdown",
   "metadata": {},
   "source": [
    "Just by looking at the conversion rate, theme not_too_late has a conversion rate of 42.5%, way higher than deadline_extended (1.8%) and personal_invite_to_apply (3.1%). One thing to notice is that theme not_too_late has lowest students exposure."
   ]
  },
  {
   "cell_type": "markdown",
   "metadata": {},
   "source": [
    "Let's calculate the 95% CI for all 3 groups:"
   ]
  },
  {
   "cell_type": "code",
   "execution_count": 85,
   "metadata": {},
   "outputs": [
    {
     "name": "stdout",
     "output_type": "stream",
     "text": [
      "for student received deadline_extended emails, 95% of CI conversion rate: [1.59%,2.08%]\n",
      "for student received not_too_late emails, 95% of CI conversion rate: [9.93%,10.14%]\n",
      "for student received personal_invite_to_apply emails, 95% of CI conversion rate: [3.03%,3.13%]\n"
     ]
    }
   ],
   "source": [
    "# mean and standard variance\n",
    "m1 = obs_v1/n1\n",
    "m2 = obs_v2/n2\n",
    "m3 = obs_v3/n3\n",
    "sd1 = (obs_v1/n1*(1-obs_v1/n1))/n1\n",
    "sd2 = (obs_v2/n2*(1-obs_v2/n2))/n2\n",
    "sd3 = (obs_v3/n3*(1-obs_v3/n3))/n3\n",
    "# 95% CI:\n",
    "g1_lower = m1-1.96*np.sqrt(sd1/n1)\n",
    "g1_upper = m1+1.96*np.sqrt(sd1/n1)\n",
    "g2_lower = m2-1.96*np.sqrt(sd2/n2)\n",
    "g2_upper = m2+1.96*np.sqrt(sd2/n2)\n",
    "g3_lower = m3-1.96*np.sqrt(sd3/n3)\n",
    "g3_upper = m3+1.96*np.sqrt(sd3/n3)\n",
    "\n",
    "print(\"for student received deadline_extended emails, 95% of CI conversion rate: [{0:.2%},{1:.2%}]\".format(g1_lower,g1_upper))\n",
    "print(\"for student received not_too_late emails, 95% of CI conversion rate: [{0:.2%},{1:.2%}]\".format(g2_lower,g2_upper))\n",
    "print(\"for student received personal_invite_to_apply emails, 95% of CI conversion rate: [{0:.2%},{1:.2%}]\".format(g3_lower,g3_upper))"
   ]
  },
  {
   "cell_type": "markdown",
   "metadata": {},
   "source": [
    "T-test between deadline_extended and not_too_late:"
   ]
  },
  {
   "cell_type": "code",
   "execution_count": 86,
   "metadata": {},
   "outputs": [
    {
     "name": "stdout",
     "output_type": "stream",
     "text": [
      "t stats is 2.795034714714805; 95% t score is 1.6471141829675946\n"
     ]
    }
   ],
   "source": [
    "s_t = np.sqrt(((n1-1)*n1*sd1+(n2-1)*n2*sd2)/(n1+n2-2))\n",
    "t = (m2-m1)/(s_t*np.sqrt(1/n1+1/n2))\n",
    "tscore = stats.t.ppf(.95,n1+n2-2)\n",
    "print(\"t stats is {0}; 95% t score is {1}\".format(t,tscore))"
   ]
  },
  {
   "cell_type": "markdown",
   "metadata": {},
   "source": [
    "T-test between not_too_late and personal_invite_to_apply:"
   ]
  },
  {
   "cell_type": "code",
   "execution_count": 87,
   "metadata": {},
   "outputs": [
    {
     "name": "stdout",
     "output_type": "stream",
     "text": [
      "t stats is -5.022470896919387; 95% t score is 1.646108720535874\n"
     ]
    }
   ],
   "source": [
    "s_t = np.sqrt(((n2-1)*n2*sd2+(n3-1)*n3*sd3)/(n2+n3-2))\n",
    "t = (m3-m2)/(s_t*np.sqrt(1/n2+1/n3))\n",
    "tscore = stats.t.ppf(.95,n2+n3-2)\n",
    "print(\"t stats is {0}; 95% t score is {1}\".format(t,tscore))"
   ]
  },
  {
   "cell_type": "markdown",
   "metadata": {},
   "source": [
    "T-test between deadline_extended and personal_invite_to_apply:"
   ]
  },
  {
   "cell_type": "code",
   "execution_count": 88,
   "metadata": {},
   "outputs": [
    {
     "name": "stdout",
     "output_type": "stream",
     "text": [
      "t stats is 0.7175939162507401; 95% t score is 1.6468716817714208\n"
     ]
    }
   ],
   "source": [
    "s_t = np.sqrt(((n1-1)*n1*sd1+(n3-1)*n3*sd3)/(n1+n3-2))\n",
    "t = (m3-m1)/(s_t*np.sqrt(1/n1+1/n3))\n",
    "tscore = stats.t.ppf(.95,n1+n3-2)\n",
    "print(\"t stats is {0}; 95% t score is {1}\".format(t,tscore))"
   ]
  },
  {
   "cell_type": "markdown",
   "metadata": {},
   "source": [
    "### Result:\n",
    "    * Theme not_too_late is significant more efficient than deadline_extended and personal_invite_to_apply.\n",
    "    * There's no significant difference between deadline_extended and personal_invite_to_apply."
   ]
  },
  {
   "cell_type": "markdown",
   "metadata": {},
   "source": []
  },
  {
   "cell_type": "markdown",
   "metadata": {},
   "source": [
    "### Answer Question 2: Does time of emails effect conversion rate?"
   ]
  },
  {
   "cell_type": "code",
   "execution_count": 89,
   "metadata": {},
   "outputs": [
    {
     "data": {
      "text/html": [
       "<div>\n",
       "<style>\n",
       "    .dataframe thead tr:only-child th {\n",
       "        text-align: right;\n",
       "    }\n",
       "\n",
       "    .dataframe thead th {\n",
       "        text-align: left;\n",
       "    }\n",
       "\n",
       "    .dataframe tbody tr th {\n",
       "        vertical-align: top;\n",
       "    }\n",
       "</style>\n",
       "<table border=\"1\" class=\"dataframe\">\n",
       "  <thead>\n",
       "    <tr style=\"text-align: right;\">\n",
       "      <th>Enrolled</th>\n",
       "      <th>0</th>\n",
       "      <th>1</th>\n",
       "    </tr>\n",
       "    <tr>\n",
       "      <th>Date Sent</th>\n",
       "      <th></th>\n",
       "      <th></th>\n",
       "    </tr>\n",
       "  </thead>\n",
       "  <tbody>\n",
       "    <tr>\n",
       "      <th>Aug, 2017</th>\n",
       "      <td>463</td>\n",
       "      <td>8</td>\n",
       "    </tr>\n",
       "    <tr>\n",
       "      <th>Dec, 2017</th>\n",
       "      <td>193</td>\n",
       "      <td>18</td>\n",
       "    </tr>\n",
       "    <tr>\n",
       "      <th>Nov, 2017</th>\n",
       "      <td>80</td>\n",
       "      <td>3</td>\n",
       "    </tr>\n",
       "    <tr>\n",
       "      <th>Oct, 2017</th>\n",
       "      <td>476</td>\n",
       "      <td>49</td>\n",
       "    </tr>\n",
       "    <tr>\n",
       "      <th>Sept, 2017</th>\n",
       "      <td>63</td>\n",
       "      <td>1</td>\n",
       "    </tr>\n",
       "  </tbody>\n",
       "</table>\n",
       "</div>"
      ],
      "text/plain": [
       "Enrolled      0   1\n",
       "Date Sent          \n",
       "Aug, 2017   463   8\n",
       "Dec, 2017   193  18\n",
       "Nov, 2017    80   3\n",
       "Oct, 2017   476  49\n",
       "Sept, 2017   63   1"
      ]
     },
     "execution_count": 89,
     "metadata": {},
     "output_type": "execute_result"
    }
   ],
   "source": [
    "df.groupby(['Date Sent','Enrolled'])['EmailAddress'].count().unstack(level=1)"
   ]
  },
  {
   "cell_type": "markdown",
   "metadata": {},
   "source": [
    "There're 5 months' data collected in this file: Aug, Sep, Oct, Nov and Dec.\n",
    "Compute the conversion rate of these 5 months:\n",
    "    1 - Aug\n",
    "    2 - Sep\n",
    "    3 - Oct\n",
    "    4 - Nov\n",
    "    5 - Dec"
   ]
  },
  {
   "cell_type": "code",
   "execution_count": 48,
   "metadata": {},
   "outputs": [
    {
     "name": "stdout",
     "output_type": "stream",
     "text": [
      "471 students received emails in Aug, 8 of them enrolled. (1.7%)\n",
      "64 students received emails in Sept, 1 of them enrolled. (1.6%)\n",
      "525 students received emails in Oct, 49 of them enrolled. (9.3%)\n",
      "83 students received emails in Nov, 3 of them enrolled. (3.6%)\n",
      "211 students received emails in Dec, 18 of them enrolled. (8.5%)\n"
     ]
    }
   ],
   "source": [
    "n1 = df.loc[df['Date Sent']=='Aug, 2017'].shape[0]\n",
    "obs_v1 = df.loc[(df['Date Sent']=='Aug, 2017') & (df['Enrolled']==1)].shape[0]\n",
    "\n",
    "n2 = df.loc[df['Date Sent']=='Sept, 2017'].shape[0]\n",
    "obs_v2 = df.loc[(df['Date Sent']=='Sept, 2017') & (df['Enrolled']==1)].shape[0]\n",
    "\n",
    "n3 = df.loc[df['Date Sent']=='Oct, 2017'].shape[0]\n",
    "obs_v3 = df.loc[(df['Date Sent']=='Oct, 2017') & (df['Enrolled']==1)].shape[0]\n",
    "\n",
    "n4 = df.loc[df['Date Sent']=='Nov, 2017'].shape[0]\n",
    "obs_v4 = df.loc[(df['Date Sent']=='Nov, 2017') & (df['Enrolled']==1)].shape[0]\n",
    "\n",
    "n5 = df.loc[df['Date Sent']=='Dec, 2017'].shape[0]\n",
    "obs_v5 = df.loc[(df['Date Sent']=='Dec, 2017') & (df['Enrolled']==1)].shape[0]\n",
    "\n",
    "print(\"{0} students received emails in Aug, {1} of them enrolled. ({2:.1%})\".format(n1,obs_v1,obs_v1/n1))\n",
    "print(\"{0} students received emails in Sept, {1} of them enrolled. ({2:.1%})\".format(n2,obs_v2,obs_v2/n2))\n",
    "print(\"{0} students received emails in Oct, {1} of them enrolled. ({2:.1%})\".format(n3,obs_v3,obs_v3/n3))\n",
    "print(\"{0} students received emails in Nov, {1} of them enrolled. ({2:.1%})\".format(n4,obs_v4,obs_v4/n4))\n",
    "print(\"{0} students received emails in Dec, {1} of them enrolled. ({2:.1%})\".format(n5,obs_v5,obs_v5/n5))"
   ]
  },
  {
   "cell_type": "markdown",
   "metadata": {},
   "source": [
    "We sent out 500+ emails in Oct, 471 emails in Aug and 211 emails in Dec. Conversion rate in Oct is the highest (9.3%)."
   ]
  },
  {
   "cell_type": "markdown",
   "metadata": {},
   "source": [
    "Compute 95% CI:"
   ]
  },
  {
   "cell_type": "code",
   "execution_count": 49,
   "metadata": {},
   "outputs": [
    {
     "name": "stdout",
     "output_type": "stream",
     "text": [
      "for student received emails in Aug, 95% of CI conversion rate: [1.64%,1.75%]\n",
      "for student received emails in Sept, 95% of CI conversion rate: [1.18%,1.94%]\n",
      "for student received emails in Oct, 95% of CI conversion rate: [9.22%,9.44%]\n",
      "for student received emails in Nov, 95% of CI conversion rate: [3.17%,4.06%]\n",
      "for student received emails in Dec, 95% of CI conversion rate: [8.27%,8.79%]\n"
     ]
    }
   ],
   "source": [
    "n = [n1,n2,n3,n4,n5]\n",
    "obs = [obs_v1,obs_v2,obs_v3,obs_v4,obs_v5]\n",
    "month = ['Aug','Sept','Oct','Nov','Dec']\n",
    "m = []\n",
    "sd = []\n",
    "g_lower = []\n",
    "g_upper = []\n",
    "\n",
    "for i in range(5):\n",
    "    m.append(obs[i]/n[i])\n",
    "    sd.append((obs[i]/n[i]*(1-obs[i]/n[i]))/n[i])\n",
    "    g_lower.append(m[i]-1.96*sqrt(sd[i]/n[i]))\n",
    "    g_upper.append(m[i]+1.96*sqrt(sd[i]/n[i]))\n",
    "    print(\"for student received emails in {0}, 95% of CI conversion rate: [{1:.2%},{2:.2%}]\".format(month[i],g_lower[i],g_upper[i]))"
   ]
  },
  {
   "cell_type": "markdown",
   "metadata": {},
   "source": [
    "T-test:"
   ]
  },
  {
   "cell_type": "code",
   "execution_count": 67,
   "metadata": {},
   "outputs": [
    {
     "name": "stdout",
     "output_type": "stream",
     "text": [
      "t-test for Aug and Sept: t stats is -0.07938; 95% t score is 1.648\n",
      "t-test for Aug and Oct: t stats is 5.25; 95% t score is 1.646\n",
      "t-test for Aug and Nov: t stats is 1.156; 95% t score is 1.648\n",
      "t-test for Aug and Dec: t stats is 4.369; 95% t score is 1.647\n",
      "t-test for Sept and Oct: t stats is 2.112; 95% t score is 1.647\n",
      "t-test for Sept and Nov: t stats is 0.7594; 95% t score is 1.655\n",
      "t-test for Sept and Dec: t stats is 1.937; 95% t score is 1.65\n",
      "t-test for Oct and Nov: t stats is -1.735; 95% t score is 1.647\n",
      "t-test for Oct and Dec: t stats is -0.3423; 95% t score is 1.647\n",
      "t-test for Nov and Dec: t stats is 1.478; 95% t score is 1.65\n"
     ]
    }
   ],
   "source": [
    "t = [ [0]*5 ] * 5\n",
    "t_score = [ [0]*5 ] * 5\n",
    "for i in range(5):\n",
    "    for j in range(5):\n",
    "        if i < j:\n",
    "            s_t = np.sqrt(((n[i]-1)*n[i]*sd[i]+(n[j]-1)*n[j]*sd[j])/(n[i]+n[j]-2))\n",
    "            t[i][j] = (m[j]-m[i])/(s_t*np.sqrt(1/n[i]+1/n[j]))\n",
    "            t_score[i][j] = stats.t.ppf(.95,n[i]+n[j]-2)\n",
    "            print(\"t-test for {0} and {1}: t stats is {2:.4}; 95% t score is {3:.4}\".format(month[i],month[j],t[i][j],t_score[i][j]))"
   ]
  },
  {
   "cell_type": "markdown",
   "metadata": {},
   "source": [
    "### Result:\n",
    "    * Recall conversion rate:\n",
    "        * Aug (471): 1.7%\n",
    "        * Sept (64): 1.6%\n",
    "        * Oct (525): 9.3%\n",
    "        * Nov (83): 3.6%\n",
    "        * Dec (211): 8.5%\n",
    "    * Conversion rate significant different:\n",
    "        * Aug and Oct\n",
    "        * Aug and Dec\n",
    "        * Sept and Oct\n",
    "        * Sept and Dec\n",
    "        * Oct and Nov\n",
    "    * Conversion rate not significant different:\n",
    "        * Aug and Sept\n",
    "        * Aug and Nov\n",
    "        * Sept and Nov\n",
    "        * Oct and Dec\n",
    "        * Nov and Dec\n",
    "    * It seems Aug has good amount of emails sent to our students, but only gets 1.7% conversion rate, seems low.\n",
    "    * Q4 has higher conversion rate than Q3 in general.\n",
    "    * In Q4, Oct and Dec seem to have higher conversion rate than in Nov."
   ]
  },
  {
   "cell_type": "markdown",
   "metadata": {},
   "source": []
  },
  {
   "cell_type": "markdown",
   "metadata": {},
   "source": [
    "### Answer Question 3: Does combination of theme and time of emails effect conversion rate?"
   ]
  },
  {
   "cell_type": "code",
   "execution_count": 90,
   "metadata": {},
   "outputs": [
    {
     "data": {
      "text/html": [
       "<div>\n",
       "<style>\n",
       "    .dataframe thead tr:only-child th {\n",
       "        text-align: right;\n",
       "    }\n",
       "\n",
       "    .dataframe thead th {\n",
       "        text-align: left;\n",
       "    }\n",
       "\n",
       "    .dataframe tbody tr th {\n",
       "        vertical-align: top;\n",
       "    }\n",
       "</style>\n",
       "<table border=\"1\" class=\"dataframe\">\n",
       "  <thead>\n",
       "    <tr style=\"text-align: right;\">\n",
       "      <th></th>\n",
       "      <th>Enrolled</th>\n",
       "      <th>0</th>\n",
       "      <th>1</th>\n",
       "    </tr>\n",
       "    <tr>\n",
       "      <th>Date Sent</th>\n",
       "      <th>Theme</th>\n",
       "      <th></th>\n",
       "      <th></th>\n",
       "    </tr>\n",
       "  </thead>\n",
       "  <tbody>\n",
       "    <tr>\n",
       "      <th rowspan=\"2\" valign=\"top\">Aug, 2017</th>\n",
       "      <th>deadline_extended</th>\n",
       "      <td>68.0</td>\n",
       "      <td>1.0</td>\n",
       "    </tr>\n",
       "    <tr>\n",
       "      <th>personal_invite_to_apply</th>\n",
       "      <td>395.0</td>\n",
       "      <td>7.0</td>\n",
       "    </tr>\n",
       "    <tr>\n",
       "      <th>Dec, 2017</th>\n",
       "      <th>not_too_late</th>\n",
       "      <td>193.0</td>\n",
       "      <td>18.0</td>\n",
       "    </tr>\n",
       "    <tr>\n",
       "      <th rowspan=\"2\" valign=\"top\">Nov, 2017</th>\n",
       "      <th>personal_invite_to_apply</th>\n",
       "      <td>76.0</td>\n",
       "      <td>3.0</td>\n",
       "    </tr>\n",
       "    <tr>\n",
       "      <th>personal_invite_to_submit</th>\n",
       "      <td>4.0</td>\n",
       "      <td>NaN</td>\n",
       "    </tr>\n",
       "    <tr>\n",
       "      <th rowspan=\"2\" valign=\"top\">Oct, 2017</th>\n",
       "      <th>not_too_late</th>\n",
       "      <td>318.0</td>\n",
       "      <td>39.0</td>\n",
       "    </tr>\n",
       "    <tr>\n",
       "      <th>personal_invite_to_apply</th>\n",
       "      <td>158.0</td>\n",
       "      <td>10.0</td>\n",
       "    </tr>\n",
       "    <tr>\n",
       "      <th rowspan=\"2\" valign=\"top\">Sept, 2017</th>\n",
       "      <th>cancelled_program</th>\n",
       "      <td>24.0</td>\n",
       "      <td>NaN</td>\n",
       "    </tr>\n",
       "    <tr>\n",
       "      <th>deadline_extended</th>\n",
       "      <td>39.0</td>\n",
       "      <td>1.0</td>\n",
       "    </tr>\n",
       "  </tbody>\n",
       "</table>\n",
       "</div>"
      ],
      "text/plain": [
       "Enrolled                                  0     1\n",
       "Date Sent  Theme                                 \n",
       "Aug, 2017  deadline_extended           68.0   1.0\n",
       "           personal_invite_to_apply   395.0   7.0\n",
       "Dec, 2017  not_too_late               193.0  18.0\n",
       "Nov, 2017  personal_invite_to_apply    76.0   3.0\n",
       "           personal_invite_to_submit    4.0   NaN\n",
       "Oct, 2017  not_too_late               318.0  39.0\n",
       "           personal_invite_to_apply   158.0  10.0\n",
       "Sept, 2017 cancelled_program           24.0   NaN\n",
       "           deadline_extended           39.0   1.0"
      ]
     },
     "execution_count": 90,
     "metadata": {},
     "output_type": "execute_result"
    }
   ],
   "source": [
    "df.groupby(['Date Sent','Theme','Enrolled'])['EmailAddress'].count().unstack(level=2)"
   ]
  },
  {
   "cell_type": "markdown",
   "metadata": {},
   "source": [
    "Remember that we are having high conversion rate for theme \"not_too_late\" and in Oct.\n",
    "Please check Question 5 for further comments."
   ]
  },
  {
   "cell_type": "markdown",
   "metadata": {},
   "source": []
  },
  {
   "cell_type": "markdown",
   "metadata": {},
   "source": [
    "### Answer Question 4: Does number of emails received effect conversion rate?"
   ]
  },
  {
   "cell_type": "code",
   "execution_count": 103,
   "metadata": {},
   "outputs": [],
   "source": [
    "num_emails_received = df.groupby(['EmailAddress'])['List'].count().reset_index()\n",
    "num_emails_received.columns = ['EmailAddress','num_emails_received']"
   ]
  },
  {
   "cell_type": "code",
   "execution_count": 105,
   "metadata": {},
   "outputs": [
    {
     "data": {
      "text/html": [
       "<div>\n",
       "<style>\n",
       "    .dataframe thead tr:only-child th {\n",
       "        text-align: right;\n",
       "    }\n",
       "\n",
       "    .dataframe thead th {\n",
       "        text-align: left;\n",
       "    }\n",
       "\n",
       "    .dataframe tbody tr th {\n",
       "        vertical-align: top;\n",
       "    }\n",
       "</style>\n",
       "<table border=\"1\" class=\"dataframe\">\n",
       "  <thead>\n",
       "    <tr style=\"text-align: right;\">\n",
       "      <th></th>\n",
       "      <th>EmailAddress</th>\n",
       "      <th>Date Sent</th>\n",
       "      <th>List</th>\n",
       "      <th>Lead_Source</th>\n",
       "      <th>Theme</th>\n",
       "      <th>Enrolled</th>\n",
       "      <th>num_emails_received</th>\n",
       "    </tr>\n",
       "  </thead>\n",
       "  <tbody>\n",
       "    <tr>\n",
       "      <th>0</th>\n",
       "      <td>imayes@juniper.net</td>\n",
       "      <td>Sept, 2017</td>\n",
       "      <td>Connect application extended email list--&gt;IPND</td>\n",
       "      <td>App_Created_Sept</td>\n",
       "      <td>cancelled_program</td>\n",
       "      <td>0</td>\n",
       "      <td>1</td>\n",
       "    </tr>\n",
       "    <tr>\n",
       "      <th>1</th>\n",
       "      <td>pandyanandan007@gmail.com</td>\n",
       "      <td>Sept, 2017</td>\n",
       "      <td>Connect application extended email list--&gt;IPND</td>\n",
       "      <td>App_Created_Sept</td>\n",
       "      <td>cancelled_program</td>\n",
       "      <td>0</td>\n",
       "      <td>2</td>\n",
       "    </tr>\n",
       "    <tr>\n",
       "      <th>2</th>\n",
       "      <td>chrisdidato@gmail.com</td>\n",
       "      <td>Sept, 2017</td>\n",
       "      <td>Connect application extended email list--&gt;IPND</td>\n",
       "      <td>App_Created_Sept</td>\n",
       "      <td>cancelled_program</td>\n",
       "      <td>0</td>\n",
       "      <td>2</td>\n",
       "    </tr>\n",
       "    <tr>\n",
       "      <th>3</th>\n",
       "      <td>muthurengan@gmail.com</td>\n",
       "      <td>Sept, 2017</td>\n",
       "      <td>Connect application extended email list--&gt;IPND</td>\n",
       "      <td>App_Created_Sept</td>\n",
       "      <td>cancelled_program</td>\n",
       "      <td>0</td>\n",
       "      <td>1</td>\n",
       "    </tr>\n",
       "    <tr>\n",
       "      <th>4</th>\n",
       "      <td>minda_aguhob@post.harvard.edu</td>\n",
       "      <td>Sept, 2017</td>\n",
       "      <td>Connect application extended email list--&gt;IPND</td>\n",
       "      <td>App_Created_Sept</td>\n",
       "      <td>cancelled_program</td>\n",
       "      <td>0</td>\n",
       "      <td>1</td>\n",
       "    </tr>\n",
       "  </tbody>\n",
       "</table>\n",
       "</div>"
      ],
      "text/plain": [
       "                    EmailAddress   Date Sent  \\\n",
       "0             imayes@juniper.net  Sept, 2017   \n",
       "1      pandyanandan007@gmail.com  Sept, 2017   \n",
       "2          chrisdidato@gmail.com  Sept, 2017   \n",
       "3          muthurengan@gmail.com  Sept, 2017   \n",
       "4  minda_aguhob@post.harvard.edu  Sept, 2017   \n",
       "\n",
       "                                             List       Lead_Source  \\\n",
       "0  Connect application extended email list-->IPND  App_Created_Sept   \n",
       "1  Connect application extended email list-->IPND  App_Created_Sept   \n",
       "2  Connect application extended email list-->IPND  App_Created_Sept   \n",
       "3  Connect application extended email list-->IPND  App_Created_Sept   \n",
       "4  Connect application extended email list-->IPND  App_Created_Sept   \n",
       "\n",
       "               Theme  Enrolled  num_emails_received  \n",
       "0  cancelled_program         0                    1  \n",
       "1  cancelled_program         0                    2  \n",
       "2  cancelled_program         0                    2  \n",
       "3  cancelled_program         0                    1  \n",
       "4  cancelled_program         0                    1  "
      ]
     },
     "execution_count": 105,
     "metadata": {},
     "output_type": "execute_result"
    }
   ],
   "source": [
    "df1 = pd.merge(df,num_emails_received,on=['EmailAddress'],how='left')\n",
    "df1.head()"
   ]
  },
  {
   "cell_type": "code",
   "execution_count": 107,
   "metadata": {},
   "outputs": [
    {
     "data": {
      "text/html": [
       "<div>\n",
       "<style>\n",
       "    .dataframe thead tr:only-child th {\n",
       "        text-align: right;\n",
       "    }\n",
       "\n",
       "    .dataframe thead th {\n",
       "        text-align: left;\n",
       "    }\n",
       "\n",
       "    .dataframe tbody tr th {\n",
       "        vertical-align: top;\n",
       "    }\n",
       "</style>\n",
       "<table border=\"1\" class=\"dataframe\">\n",
       "  <thead>\n",
       "    <tr style=\"text-align: right;\">\n",
       "      <th>Enrolled</th>\n",
       "      <th>0</th>\n",
       "      <th>1</th>\n",
       "    </tr>\n",
       "    <tr>\n",
       "      <th>num_emails_received</th>\n",
       "      <th></th>\n",
       "      <th></th>\n",
       "    </tr>\n",
       "  </thead>\n",
       "  <tbody>\n",
       "    <tr>\n",
       "      <th>1</th>\n",
       "      <td>735.0</td>\n",
       "      <td>21.0</td>\n",
       "    </tr>\n",
       "    <tr>\n",
       "      <th>2</th>\n",
       "      <td>198.0</td>\n",
       "      <td>44.0</td>\n",
       "    </tr>\n",
       "    <tr>\n",
       "      <th>3</th>\n",
       "      <td>177.0</td>\n",
       "      <td>6.0</td>\n",
       "    </tr>\n",
       "    <tr>\n",
       "      <th>4</th>\n",
       "      <td>112.0</td>\n",
       "      <td>8.0</td>\n",
       "    </tr>\n",
       "    <tr>\n",
       "      <th>5</th>\n",
       "      <td>40.0</td>\n",
       "      <td>NaN</td>\n",
       "    </tr>\n",
       "    <tr>\n",
       "      <th>6</th>\n",
       "      <td>6.0</td>\n",
       "      <td>NaN</td>\n",
       "    </tr>\n",
       "    <tr>\n",
       "      <th>7</th>\n",
       "      <td>7.0</td>\n",
       "      <td>NaN</td>\n",
       "    </tr>\n",
       "  </tbody>\n",
       "</table>\n",
       "</div>"
      ],
      "text/plain": [
       "Enrolled                 0     1\n",
       "num_emails_received             \n",
       "1                    735.0  21.0\n",
       "2                    198.0  44.0\n",
       "3                    177.0   6.0\n",
       "4                    112.0   8.0\n",
       "5                     40.0   NaN\n",
       "6                      6.0   NaN\n",
       "7                      7.0   NaN"
      ]
     },
     "execution_count": 107,
     "metadata": {},
     "output_type": "execute_result"
    }
   ],
   "source": [
    "df1.groupby(['num_emails_received','Enrolled'])['EmailAddress'].count().unstack(level=1)"
   ]
  },
  {
   "cell_type": "code",
   "execution_count": 110,
   "metadata": {},
   "outputs": [
    {
     "name": "stdout",
     "output_type": "stream",
     "text": [
      "756 students received 1 email, 21 of them enrolled. (2.8%)\n",
      "242 students received 2 emails, 44 of them enrolled. (18.2%)\n"
     ]
    }
   ],
   "source": [
    "n1 = df1.loc[df1['num_emails_received']==1].shape[0]\n",
    "obs_v1 = df1.loc[(df1['num_emails_received']==1) & (df1['Enrolled']==1)].shape[0]\n",
    "\n",
    "n2 = df1.loc[df1['num_emails_received']==2].shape[0]\n",
    "obs_v2 = df1.loc[(df1['num_emails_received']==2) & (df1['Enrolled']==1)].shape[0]\n",
    "\n",
    "print(\"{0} students received 1 email, {1} of them enrolled. ({2:.1%})\".format(n1,obs_v1,obs_v1/n1))\n",
    "print(\"{0} students received 2 emails, {1} of them enrolled. ({2:.1%})\".format(n2,obs_v2,obs_v2/n2))"
   ]
  },
  {
   "cell_type": "markdown",
   "metadata": {},
   "source": [
    "Looks like 1 or 2 emails receiver have relative higher conversation rate than the rest. Especially for students who received 2 emails, conversion rate is 18%."
   ]
  },
  {
   "cell_type": "markdown",
   "metadata": {},
   "source": []
  },
  {
   "cell_type": "markdown",
   "metadata": {},
   "source": [
    "### Answer Question 5: Suggestions on further experiment."
   ]
  },
  {
   "cell_type": "markdown",
   "metadata": {},
   "source": [
    "By Status of Students:\n",
    "* For student who already applied and we are sending emails to them for enrollment is more sensitive than students who send emails in general to encourage them to apply.\n",
    "\n",
    "By Month:\n",
    "* If we look closer, the reason causing Q3's conversion rate lower than Q4 is because the 'not_too_late' emails are sending out in Q4.\n",
    "\n",
    "By Email Theme:\n",
    "* For email 'deadline_extended', we sent out 68 emails in Aug, 39 emails in Sept. There's only 2 students converted.\n",
    "* For email \"personal_invite_to_apply\", conversion rate in Oct (10/158) is higher than Aug (7/395) and Nov (3/76). We can do a further investigation in this to see if it's month sensitive. Might want to double check if there's more cohorts open in Oct. Or where are the list of students coming from."
   ]
  },
  {
   "cell_type": "code",
   "execution_count": 111,
   "metadata": {},
   "outputs": [
    {
     "data": {
      "text/plain": [
       "array(['App_Created_Sept', 'Info_session_Oct_30', 'app_created_Oct',\n",
       "       'app_created_Aug', 'Created_app_Aug', 'app_created_aug',\n",
       "       'info_session_Oct_30', 'app_created_Sept_FEND', 'created_app_Oct',\n",
       "       'created_app_DAND', 'created_app_MLND', 'created_submitted_app_Dec'], dtype=object)"
      ]
     },
     "execution_count": 111,
     "metadata": {},
     "output_type": "execute_result"
    }
   ],
   "source": [
    "df['Lead_Source'].unique()"
   ]
  },
  {
   "cell_type": "markdown",
   "metadata": {},
   "source": [
    "#### What can we do next:\n",
    "* I think Theme is more effecient than time (month) to conversion rate.\n",
    "* Is Lead_Source effecting conversion rate?\n",
    "* Is new ND / stable ND (have reviews/reputation already) effecting conversion rate?\n",
    "* Same as location, is new city / stable city effecting conversion rate?"
   ]
  },
  {
   "cell_type": "markdown",
   "metadata": {},
   "source": []
  },
  {
   "cell_type": "markdown",
   "metadata": {},
   "source": [
    "### Let's do a lead_status t-test in current data."
   ]
  },
  {
   "cell_type": "code",
   "execution_count": 113,
   "metadata": {},
   "outputs": [
    {
     "data": {
      "text/html": [
       "<div>\n",
       "<style>\n",
       "    .dataframe thead tr:only-child th {\n",
       "        text-align: right;\n",
       "    }\n",
       "\n",
       "    .dataframe thead th {\n",
       "        text-align: left;\n",
       "    }\n",
       "\n",
       "    .dataframe tbody tr th {\n",
       "        vertical-align: top;\n",
       "    }\n",
       "</style>\n",
       "<table border=\"1\" class=\"dataframe\">\n",
       "  <thead>\n",
       "    <tr style=\"text-align: right;\">\n",
       "      <th>Enrolled</th>\n",
       "      <th>0</th>\n",
       "      <th>1</th>\n",
       "    </tr>\n",
       "    <tr>\n",
       "      <th>Lead_Source</th>\n",
       "      <th></th>\n",
       "      <th></th>\n",
       "    </tr>\n",
       "  </thead>\n",
       "  <tbody>\n",
       "    <tr>\n",
       "      <th>App_Created</th>\n",
       "      <td>924</td>\n",
       "      <td>51</td>\n",
       "    </tr>\n",
       "    <tr>\n",
       "      <th>App_Submitted</th>\n",
       "      <td>193</td>\n",
       "      <td>18</td>\n",
       "    </tr>\n",
       "    <tr>\n",
       "      <th>Info_Session</th>\n",
       "      <td>158</td>\n",
       "      <td>10</td>\n",
       "    </tr>\n",
       "  </tbody>\n",
       "</table>\n",
       "</div>"
      ],
      "text/plain": [
       "Enrolled         0   1\n",
       "Lead_Source           \n",
       "App_Created    924  51\n",
       "App_Submitted  193  18\n",
       "Info_Session   158  10"
      ]
     },
     "execution_count": 113,
     "metadata": {},
     "output_type": "execute_result"
    }
   ],
   "source": [
    "df['Lead_Source'] = df['Lead_Source'].map({'App_Created_Sept':'App_Created',\n",
    "                                           'Info_session_Oct_30':'Info_Session',\n",
    "                                           'app_created_Oct':'App_Created',\n",
    "                                           'app_created_Aug':'App_Created',\n",
    "                                           'Created_app_Aug':'App_Created',\n",
    "                                           'app_created_aug':'App_Created',\n",
    "                                           'info_session_Oct_30':'Info_Session',\n",
    "                                           'app_created_Sept_FEND':'App_Created',\n",
    "                                           'created_app_Oct':'App_Created',\n",
    "                                           'created_app_DAND':'App_Created',\n",
    "                                           'created_app_MLND':'App_Created',\n",
    "                                           'created_submitted_app_Dec':'App_Submitted'\n",
    "                                          })\n",
    "df.groupby(['Lead_Source','Enrolled'])['EmailAddress'].count().unstack(level=1)"
   ]
  },
  {
   "cell_type": "code",
   "execution_count": 120,
   "metadata": {},
   "outputs": [
    {
     "name": "stdout",
     "output_type": "stream",
     "text": [
      "App_Created students received 975 email, 51 of them enrolled. (5.2%)\n",
      "App_Submitted students received 211 email, 18 of them enrolled. (8.5%)\n",
      "Info_Session students received 168 email, 10 of them enrolled. (6.0%)\n"
     ]
    }
   ],
   "source": [
    "n = []\n",
    "obs = []\n",
    "lead_source = ['App_Created','App_Submitted','Info_Session']\n",
    "\n",
    "for i in range(len(lead_source)):\n",
    "    n.append(df.loc[df['Lead_Source']==lead_source[i]].shape[0])\n",
    "    obs.append(df.loc[(df['Lead_Source']==lead_source[i]) & (df['Enrolled']==1)].shape[0])\n",
    "    print(\"{0} students received {1} email, {2} of them enrolled. ({3:.1%})\".format(lead_source[i],n[i],obs[i],obs[i]/n[i]))"
   ]
  },
  {
   "cell_type": "code",
   "execution_count": 121,
   "metadata": {},
   "outputs": [
    {
     "name": "stdout",
     "output_type": "stream",
     "text": [
      "for student received App_Created emails, 95% of CI conversion rate: [5.19%,5.28%]\n",
      "for student received App_Submitted emails, 95% of CI conversion rate: [8.27%,8.79%]\n",
      "for student received Info_Session emails, 95% of CI conversion rate: [5.68%,6.23%]\n"
     ]
    }
   ],
   "source": [
    "m = []\n",
    "sd = []\n",
    "g_lower = []\n",
    "g_upper = []\n",
    "\n",
    "for i in range(len(lead_source)):\n",
    "    m.append(obs[i]/n[i])\n",
    "    sd.append((obs[i]/n[i]*(1-obs[i]/n[i]))/n[i])\n",
    "    g_lower.append(m[i]-1.96*sqrt(sd[i]/n[i]))\n",
    "    g_upper.append(m[i]+1.96*sqrt(sd[i]/n[i]))\n",
    "    print(\"for student received {0} emails, 95% of CI conversion rate: [{1:.2%},{2:.2%}]\".format(lead_source[i],g_lower[i],g_upper[i]))"
   ]
  },
  {
   "cell_type": "code",
   "execution_count": 122,
   "metadata": {},
   "outputs": [
    {
     "name": "stdout",
     "output_type": "stream",
     "text": [
      "t-test for App_Created and App_Submitted: t stats is 1.86; 95% t score is 1.646\n",
      "t-test for App_Created and Info_Session: t stats is 0.3844; 95% t score is 1.646\n",
      "t-test for App_Submitted and Info_Session: t stats is -0.9544; 95% t score is 1.649\n"
     ]
    }
   ],
   "source": [
    "t = [ [0]*3 ] * 3\n",
    "t_score = [ [0]*3 ] * 3\n",
    "for i in range(len(lead_source)):\n",
    "    for j in range(len(lead_source)):\n",
    "        if i < j:\n",
    "            s_t = np.sqrt(((n[i]-1)*n[i]*sd[i]+(n[j]-1)*n[j]*sd[j])/(n[i]+n[j]-2))\n",
    "            t[i][j] = (m[j]-m[i])/(s_t*np.sqrt(1/n[i]+1/n[j]))\n",
    "            t_score[i][j] = stats.t.ppf(.95,n[i]+n[j]-2)\n",
    "            print(\"t-test for {0} and {1}: t stats is {2:.4}; 95% t score is {3:.4}\".format(lead_source[i],lead_source[j],t[i][j],t_score[i][j]))"
   ]
  },
  {
   "cell_type": "markdown",
   "metadata": {},
   "source": [
    "### Results:\n",
    "    * Students who submitted apps is sensitive to emails than students who hasn't submitted."
   ]
  },
  {
   "cell_type": "markdown",
   "metadata": {},
   "source": []
  },
  {
   "cell_type": "markdown",
   "metadata": {},
   "source": [
    "### If we look at lead_source combined with Theme - personal_invite_to_apply/submit?"
   ]
  },
  {
   "cell_type": "code",
   "execution_count": 125,
   "metadata": {},
   "outputs": [
    {
     "data": {
      "text/html": [
       "<div>\n",
       "<style>\n",
       "    .dataframe thead tr:only-child th {\n",
       "        text-align: right;\n",
       "    }\n",
       "\n",
       "    .dataframe thead th {\n",
       "        text-align: left;\n",
       "    }\n",
       "\n",
       "    .dataframe tbody tr th {\n",
       "        vertical-align: top;\n",
       "    }\n",
       "</style>\n",
       "<table border=\"1\" class=\"dataframe\">\n",
       "  <thead>\n",
       "    <tr style=\"text-align: right;\">\n",
       "      <th></th>\n",
       "      <th>Enrolled</th>\n",
       "      <th>0</th>\n",
       "      <th>1</th>\n",
       "    </tr>\n",
       "    <tr>\n",
       "      <th>Lead_Source</th>\n",
       "      <th>Theme</th>\n",
       "      <th></th>\n",
       "      <th></th>\n",
       "    </tr>\n",
       "  </thead>\n",
       "  <tbody>\n",
       "    <tr>\n",
       "      <th>App_Created</th>\n",
       "      <th>personal_invite_to_apply</th>\n",
       "      <td>471</td>\n",
       "      <td>10</td>\n",
       "    </tr>\n",
       "    <tr>\n",
       "      <th>Info_Session</th>\n",
       "      <th>personal_invite_to_apply</th>\n",
       "      <td>158</td>\n",
       "      <td>10</td>\n",
       "    </tr>\n",
       "  </tbody>\n",
       "</table>\n",
       "</div>"
      ],
      "text/plain": [
       "Enrolled                                 0   1\n",
       "Lead_Source  Theme                            \n",
       "App_Created  personal_invite_to_apply  471  10\n",
       "Info_Session personal_invite_to_apply  158  10"
      ]
     },
     "execution_count": 125,
     "metadata": {},
     "output_type": "execute_result"
    }
   ],
   "source": [
    "df[df['Theme']=='personal_invite_to_apply'].groupby(['Lead_Source','Theme','Enrolled'])['EmailAddress'].count().unstack(level=2)"
   ]
  },
  {
   "cell_type": "markdown",
   "metadata": {},
   "source": [
    "For Students who already have an app, conversation rate: 10/471 = 2.12%.\n",
    "For Students who might not have an app, conversion rate: 10/158 = 6.33%.\n",
    "\n",
    "Conclusion: Students who make the effort to attend an info-session have higher conversion rate than general students."
   ]
  }
 ],
 "metadata": {
  "kernelspec": {
   "display_name": "Python 3",
   "language": "python",
   "name": "python3"
  },
  "language_info": {
   "codemirror_mode": {
    "name": "ipython",
    "version": 3
   },
   "file_extension": ".py",
   "mimetype": "text/x-python",
   "name": "python",
   "nbconvert_exporter": "python",
   "pygments_lexer": "ipython3",
   "version": "3.6.1"
  }
 },
 "nbformat": 4,
 "nbformat_minor": 2
}
