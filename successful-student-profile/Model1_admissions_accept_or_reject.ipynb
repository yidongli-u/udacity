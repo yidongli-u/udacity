{
 "cells": [
  {
   "cell_type": "markdown",
   "metadata": {},
   "source": [
    "# Model1 - Amissions: Accept or Reject?"
   ]
  },
  {
   "cell_type": "markdown",
   "metadata": {},
   "source": [
    "## Based on findings from feature selections work files: \n",
    " * Successful Student Profile - feature selection.ipynb \n",
    " * Successful Student Profile - feature selection 2 with clustering.ipynb)\n",
    "\n",
    "## Let's build our first model!"
   ]
  },
  {
   "cell_type": "markdown",
   "metadata": {
    "collapsed": true
   },
   "source": [
    "Output: % of graduation of each students\n",
    " * assumptions: our data visibility stops after student submit the application\n",
    "       means we know when the cohort is open, close, start; when student apply, submit; but we don't know when we are going to accept/reject and notify the student, when the student going to put down payment\n",
    "\n",
    "Methods: Logistics Regression / Decision Tree\n",
    "\n",
    "Features:\n",
    " * user_age : account created with Udacity\n",
    " * apply_before_start : days student apply before cohort start\n",
    " * apply_to_submit : days from apply to submit application\n",
    " * "
   ]
  },
  {
   "cell_type": "code",
   "execution_count": null,
   "metadata": {
    "collapsed": true
   },
   "outputs": [],
   "source": []
  },
  {
   "cell_type": "code",
   "execution_count": null,
   "metadata": {
    "collapsed": true
   },
   "outputs": [],
   "source": []
  }
 ],
 "metadata": {
  "kernelspec": {
   "display_name": "Python 3",
   "language": "python",
   "name": "python3"
  },
  "language_info": {
   "codemirror_mode": {
    "name": "ipython",
    "version": 3
   },
   "file_extension": ".py",
   "mimetype": "text/x-python",
   "name": "python",
   "nbconvert_exporter": "python",
   "pygments_lexer": "ipython3",
   "version": "3.6.1"
  }
 },
 "nbformat": 4,
 "nbformat_minor": 2
}
