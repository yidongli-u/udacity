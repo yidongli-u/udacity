{
 "cells": [
  {
   "cell_type": "markdown",
   "metadata": {},
   "source": [
    "# Model1 - Amissions: Accept or Reject?"
   ]
  },
  {
   "cell_type": "markdown",
   "metadata": {},
   "source": [
    "## Based on findings from feature selections work files: \n",
    " * successful-student-profile/feature-selection-1.ipynb \n",
    " * successful-student-profile/feature-selection-2-with-clustering.ipynb\n",
    " * successful-student-profile/feature-selection-3-with-ND-separated.ipynb\n",
    " * successful-student-profile/apps-goal-text-analysis-NB.ipynb\n",
    "\n",
    "## Let's build our first model!"
   ]
  },
  {
   "cell_type": "markdown",
   "metadata": {
    "collapsed": true
   },
   "source": [
    "Output: % of graduation of each students\n",
    " * assumptions: our data visibility stops after student submit the application\n",
    "       means we know when the cohort is open, close, start; when student apply, submit; but we don't know when we are going to accept/reject and notify the student, when the student going to put down payment\n",
    "\n",
    "Approach: ND separated; application type separated\n",
    "\n",
    "Methods: Logistics Regression / Decision Tree\n",
    "\n",
    "Features:\n",
    " * user_age : account created with Udacity\n",
    " * cohort_open_to_notify\n",
    " * cohort_open_to_close\n",
    " * apply_before_start : days student apply before cohort start\n",
    " * apply_to_submit : days from apply to submit application\n",
    " * num_course_enrolled\n",
    " \n",
    " * education\n",
    " * employment\n",
    " * professional experience\n",
    " * python, java, c++, porbability, statistics, linear algebra, computer science, machine learning\n",
    " \n",
    " * mentioned programming skills / technology in goal"
   ]
  },
  {
   "cell_type": "code",
   "execution_count": 25,
   "metadata": {
    "collapsed": true
   },
   "outputs": [],
   "source": [
    "import psycopg2\n",
    "import pandas as pd\n",
    "import numpy as np\n",
    "import seaborn as sns\n",
    "from sklearn.model_selection import KFold\n",
    "from sklearn import linear_model,tree,svm,ensemble\n",
    "from sklearn.metrics import accuracy_score\n",
    "import statsmodels.api as sm\n",
    "import random\n",
    "import re\n",
    "import matplotlib.pyplot as plt\n",
    "%matplotlib inline"
   ]
  },
  {
   "cell_type": "code",
   "execution_count": 2,
   "metadata": {
    "collapsed": true
   },
   "outputs": [],
   "source": [
    "laurel = open('conn_laurel.txt', 'r')\n",
    "hardy = open('conn_hardy.txt', 'r')\n",
    "conn_laurel = psycopg2.connect(laurel.read())\n",
    "conn_hardy = psycopg2.connect(hardy.read())\n",
    "\n",
    "sql_apps = open('successful-student-profile-apps.sql', 'r')\n",
    "sql_courses = open('successful-student-profile-courses.sql', 'r')\n",
    "sql_questions = open('successful-student-profile-questions.sql', 'r')\n",
    "\n",
    "df_apps = pd.read_sql(sql_apps.read(),conn_laurel)\n",
    "df_courses = pd.read_sql(sql_courses.read(),conn_hardy)\n",
    "df_questions = pd.read_sql(sql_questions.read(),conn_laurel)"
   ]
  },
  {
   "cell_type": "code",
   "execution_count": 3,
   "metadata": {},
   "outputs": [
    {
     "data": {
      "text/plain": [
       "nd_key              application_status\n",
       "nd001-connect       paid                     1\n",
       "nd002-connect       paid                    20\n",
       "nd004-connect-reno  graduated                4\n",
       "                    paid                    16\n",
       "nd009-connect       paid                    27\n",
       "nd013               graduated                4\n",
       "                    paid                  2663\n",
       "                    term completed         780\n",
       "nd209               graduated                4\n",
       "                    paid                  1160\n",
       "                    term completed         117\n",
       "nd889               paid                  1175\n",
       "                    term completed          29\n",
       "Name: application_id, dtype: int64"
      ]
     },
     "execution_count": 3,
     "metadata": {},
     "output_type": "execute_result"
    }
   ],
   "source": [
    "df_apps.groupby(['nd_key','application_status'])['application_id'].count()"
   ]
  },
  {
   "cell_type": "code",
   "execution_count": 4,
   "metadata": {
    "collapsed": true
   },
   "outputs": [],
   "source": [
    "df = pd.merge(df_apps,df_courses,on=['application_id','cohort_id','applicant_id','nd_key'],how='left')"
   ]
  },
  {
   "cell_type": "markdown",
   "metadata": {},
   "source": [
    "## Based on the pivot above, let's pick nd013 as pilot to model."
   ]
  },
  {
   "cell_type": "code",
   "execution_count": 87,
   "metadata": {},
   "outputs": [
    {
     "name": "stdout",
     "output_type": "stream",
     "text": [
      "(3447, 24)\n"
     ]
    },
    {
     "data": {
      "text/plain": [
       "Index(['application_id', 'cohort_id', 'applicant_id', 'nd_key',\n",
       "       'application_type', 'applicant_country', 'applicant_geo',\n",
       "       'application_status', 'user_age', 'cohort_open_to_notify',\n",
       "       'cohort_open_to_close', 'cohort_open_month', 'application_month',\n",
       "       'apply_before_start', 'apply_to_submit', 'submit_to_decision',\n",
       "       'submit_to_notify', 'notify_to_pay', 'price', 'num_courses',\n",
       "       'num_course_finished', 'num_course_enrolled', 'user_study_age',\n",
       "       'status'],\n",
       "      dtype='object')"
      ]
     },
     "execution_count": 87,
     "metadata": {},
     "output_type": "execute_result"
    }
   ],
   "source": [
    "df_nd013 = df.query(\"nd_key == 'nd013'\")\n",
    "df_nd013 = df_nd013.assign(status = df_nd013['application_status'].map({'graduated':1,'term completed':1,'paid':0}))\n",
    "print(df_nd013.shape)\n",
    "df_nd013.columns"
   ]
  },
  {
   "cell_type": "code",
   "execution_count": 88,
   "metadata": {},
   "outputs": [
    {
     "data": {
      "text/plain": [
       "cohort_id  application_status\n",
       "18         graduated               4\n",
       "           paid                  619\n",
       "           term completed        492\n",
       "220        paid                  322\n",
       "47         paid                  544\n",
       "           term completed        266\n",
       "88         paid                  781\n",
       "           term completed         19\n",
       "89         paid                  397\n",
       "           term completed          3\n",
       "Name: application_id, dtype: int64"
      ]
     },
     "execution_count": 88,
     "metadata": {},
     "output_type": "execute_result"
    }
   ],
   "source": [
    "df_nd013.groupby(['cohort_id','application_status'])['application_id'].count()"
   ]
  },
  {
   "cell_type": "code",
   "execution_count": 89,
   "metadata": {},
   "outputs": [
    {
     "data": {
      "text/plain": [
       "(1925, 24)"
      ]
     },
     "execution_count": 89,
     "metadata": {},
     "output_type": "execute_result"
    }
   ],
   "source": [
    "# among cohorts 18,47,88,89,220, cohort 18 and 47 are closed. cohort 88 is closing in Dec\n",
    "df_nd013 = df_nd013.loc[(df_nd013['cohort_id']=='18') | (df_nd013['cohort_id']=='47')]\n",
    "df_nd013.shape"
   ]
  },
  {
   "cell_type": "code",
   "execution_count": 90,
   "metadata": {
    "collapsed": true
   },
   "outputs": [],
   "source": [
    "# only columns we care about\n",
    "cols = ['status','application_id','user_age','cohort_open_to_notify','cohort_open_to_close'\n",
    "        ,'apply_before_start','apply_to_submit','num_course_enrolled']\n",
    "df_nd013 = df_nd013[cols]"
   ]
  },
  {
   "cell_type": "code",
   "execution_count": 91,
   "metadata": {
    "collapsed": true
   },
   "outputs": [],
   "source": [
    "# from questions_responses\n",
    "# categorical\n",
    "df1 = df_nd013\n",
    "categories = {'education':'48e7b492-62b4-4d99-b596-80d68f2966ae'\n",
    "             ,'employment':'fba3666b-db04-46e9-8f3d-2a303f13e0a5'\n",
    "             ,'professional_experience':'6967091c-09c6-4455-9f1e-d0de318bacc5'\n",
    "             ,'goal':'779c3b6c-3648-423b-8d3f-8a4f36f23e2a'}\n",
    "for i,qr_id in categories.items():\n",
    "    d = df_questions.copy()\n",
    "    d[i] = 0\n",
    "    d[i] = np.where(d['question_id']==qr_id,d['response'],'0')\n",
    "    o_i = d.groupby('application_id').agg({i:'max'}).reset_index()\n",
    "    o_i = o_i[o_i.iloc[:,1] != '0']\n",
    "    o_i = o_i[o_i.iloc[:,1] != 'Other']\n",
    "    #df1 = pd.merge(df1,o_i,on=['application_id'],how='inner')\n",
    "    d_i = pd.get_dummies(o_i[i])\n",
    "    df_i = pd.concat([o_i['application_id'],d_i],axis=1)\n",
    "    df1 = pd.merge(df1,df_i,on='application_id',how='left')"
   ]
  },
  {
   "cell_type": "code",
   "execution_count": 92,
   "metadata": {
    "collapsed": true
   },
   "outputs": [],
   "source": [
    "# from questions_responses\n",
    "# programming languages\n",
    "data = df1\n",
    "for i in (['python','java','cplus','probability','statistics','linear algebra','computer science','machine learning']):\n",
    "    if i == 'cplus':\n",
    "        j = 'c\\+\\+' \n",
    "    else:\n",
    "        j = i\n",
    "    d = df_questions.copy()\n",
    "    d[i] = 0\n",
    "    d[i] = np.where(d['response'].str.lower().str.contains(j),1,d[i])\n",
    "    d[i] = np.where(d['question_prompt'].str.lower().str.contains(j)&d['response'].str.match('.*[1-9].*'),1,d[i])\n",
    "    o_i = d.groupby('application_id').agg({i:'max'}).reset_index()\n",
    "    data = pd.merge(data,o_i,on=['application_id'],how='left')"
   ]
  },
  {
   "cell_type": "code",
   "execution_count": 93,
   "metadata": {
    "scrolled": false
   },
   "outputs": [
    {
     "name": "stdout",
     "output_type": "stream",
     "text": [
      "Index(['status', 'application_id', 'user_age', 'cohort_open_to_notify',\n",
      "       'cohort_open_to_close', 'apply_before_start', 'apply_to_submit',\n",
      "       'num_course_enrolled', 'Bachelor's degree', 'High school degree',\n",
      "       'Master's degree', 'PhD', 'Self employed', 'Student', 'Unemployed',\n",
      "       'Yes, full time', 'Yes, part time or contract', '1-2+ years',\n",
      "       '3-5 years', '5+ years', '< 1 year',\n",
      "       'I have no professional experience',\n",
      "       'General interest in the topic (personal growth and enrichment)',\n",
      "       'Grow skills for my current role',\n",
      "       'Help move from academia to industry',\n",
      "       'Help prepare for an advanced degree',\n",
      "       'Start a new career in this field', 'python', 'java', 'cplus',\n",
      "       'probability', 'statistics', 'linear algebra', 'computer science',\n",
      "       'machine learning'],\n",
      "      dtype='object')\n"
     ]
    }
   ],
   "source": [
    "print(data.columns)"
   ]
  },
  {
   "cell_type": "code",
   "execution_count": 94,
   "metadata": {
    "collapsed": true
   },
   "outputs": [],
   "source": [
    "# from goals : text\n",
    "#data\n",
    "df_goal = df_questions.loc[df_questions['question_id'].isin(['2ad03aaa-1b35-4381-9c43-907b1b4eba67','6afe0061-746b-4bd7-807c-393fe5c7599d'])]"
   ]
  },
  {
   "cell_type": "code",
   "execution_count": 95,
   "metadata": {
    "collapsed": true
   },
   "outputs": [],
   "source": [
    "def text_process(x):\n",
    "    import string\n",
    "    import nltk\n",
    "    from nltk.corpus import stopwords\n",
    "    stopWords = set(stopwords.words('english'))   \n",
    "    x = x.lower()\n",
    "    x.translate(str.maketrans('', '', string.punctuation))\n",
    "    return ' '.join([w for w in x.split() if w not in stopWords])"
   ]
  },
  {
   "cell_type": "code",
   "execution_count": 96,
   "metadata": {
    "collapsed": true
   },
   "outputs": [],
   "source": [
    "# mentioned ND\n",
    "nd_words = ['self driving','ai','artificial intelligence','robotics','vr','ar','machine learning','deep learning']\n",
    "# technology related?\n",
    "technology_words = ['computer science','machine learning','deep learning']\n",
    "# some other words?\n",
    "other_words = ['knowledge','learn','program','skills','experience','engineering','industry','data','field'\n",
    "              ,'technology','vision','autonomous','project','projects']\n",
    "\n",
    "df_goal = df_goal.assign(goal = df_goal['response'].apply(lambda x: text_process(x)))\n",
    "\n",
    "words = {'nd_words': ['self driving','ai','artificial intelligence','robotics','vr','ar','machine learning','deep learning']\n",
    "        ,'technology_words': ['computer science','machine learning','deep learning']\n",
    "        ,'other_words': ['knowledge','learn','program','skills','experience','engineering','industry','data','field'\n",
    "              ,'technology','vision','autonomous','project','projects']}"
   ]
  },
  {
   "cell_type": "code",
   "execution_count": 97,
   "metadata": {
    "collapsed": true
   },
   "outputs": [],
   "source": [
    "for i,word_list in words.items():\n",
    "    d = df_goal.copy()\n",
    "    d[i] = 0\n",
    "    d[i] = df_goal['response'].apply(lambda x: 1 if any(w in x for w in word_list) else 0)\n",
    "    o = d.groupby('application_id').agg({i:'max'}).reset_index()\n",
    "    data = pd.merge(data,o,on=['application_id'],how='left')"
   ]
  },
  {
   "cell_type": "code",
   "execution_count": null,
   "metadata": {
    "collapsed": true
   },
   "outputs": [],
   "source": []
  },
  {
   "cell_type": "code",
   "execution_count": 135,
   "metadata": {
    "collapsed": true
   },
   "outputs": [],
   "source": [
    "# split into training and test data set\n",
    "data = data.fillna(0)\n",
    "ratio = 0.1\n",
    "N = data.shape[0]\n",
    "index = random.sample(range(N),int(ratio*N))\n",
    "TEST = data[data.index.isin(index)].reset_index()\n",
    "TRAIN = data[~data.index.isin(index)].reset_index()\n",
    "X_train = TRAIN.iloc[:,3:]\n",
    "y_train = TRAIN.iloc[:,1]\n",
    "X_test = TEST.iloc[:,3:]\n",
    "y_test = TEST.iloc[:,1]"
   ]
  },
  {
   "cell_type": "code",
   "execution_count": 113,
   "metadata": {},
   "outputs": [
    {
     "data": {
      "text/plain": [
       "status\n",
       "0    1034\n",
       "1     699\n",
       "Name: user_age, dtype: int64"
      ]
     },
     "execution_count": 113,
     "metadata": {},
     "output_type": "execute_result"
    }
   ],
   "source": [
    "TRAIN.groupby(['status'])['user_age'].count()"
   ]
  },
  {
   "cell_type": "code",
   "execution_count": 160,
   "metadata": {},
   "outputs": [
    {
     "data": {
      "text/plain": [
       "0.6760154738878144"
      ]
     },
     "execution_count": 160,
     "metadata": {},
     "output_type": "execute_result"
    }
   ],
   "source": [
    "699/1034"
   ]
  },
  {
   "cell_type": "code",
   "execution_count": 114,
   "metadata": {
    "scrolled": false
   },
   "outputs": [
    {
     "data": {
      "text/plain": [
       "status\n",
       "0    129\n",
       "1     63\n",
       "Name: user_age, dtype: int64"
      ]
     },
     "execution_count": 114,
     "metadata": {},
     "output_type": "execute_result"
    }
   ],
   "source": [
    "TEST.groupby(['status'])['user_age'].count()"
   ]
  },
  {
   "cell_type": "code",
   "execution_count": 137,
   "metadata": {
    "scrolled": true
   },
   "outputs": [
    {
     "data": {
      "text/html": [
       "<div>\n",
       "<style>\n",
       "    .dataframe thead tr:only-child th {\n",
       "        text-align: right;\n",
       "    }\n",
       "\n",
       "    .dataframe thead th {\n",
       "        text-align: left;\n",
       "    }\n",
       "\n",
       "    .dataframe tbody tr th {\n",
       "        vertical-align: top;\n",
       "    }\n",
       "</style>\n",
       "<table border=\"1\" class=\"dataframe\">\n",
       "  <thead>\n",
       "    <tr style=\"text-align: right;\">\n",
       "      <th></th>\n",
       "      <th>user_age</th>\n",
       "      <th>cohort_open_to_notify</th>\n",
       "      <th>cohort_open_to_close</th>\n",
       "      <th>apply_before_start</th>\n",
       "      <th>apply_to_submit</th>\n",
       "      <th>num_course_enrolled</th>\n",
       "      <th>Bachelor's degree</th>\n",
       "      <th>High school degree</th>\n",
       "      <th>Master's degree</th>\n",
       "      <th>PhD</th>\n",
       "      <th>...</th>\n",
       "      <th>java</th>\n",
       "      <th>cplus</th>\n",
       "      <th>probability</th>\n",
       "      <th>statistics</th>\n",
       "      <th>linear algebra</th>\n",
       "      <th>computer science</th>\n",
       "      <th>machine learning</th>\n",
       "      <th>nd_words</th>\n",
       "      <th>technology_words</th>\n",
       "      <th>other_words</th>\n",
       "    </tr>\n",
       "  </thead>\n",
       "  <tbody>\n",
       "    <tr>\n",
       "      <th>0</th>\n",
       "      <td>152</td>\n",
       "      <td>65</td>\n",
       "      <td>56</td>\n",
       "      <td>52</td>\n",
       "      <td>0.0</td>\n",
       "      <td>0.0</td>\n",
       "      <td>0.0</td>\n",
       "      <td>0.0</td>\n",
       "      <td>1.0</td>\n",
       "      <td>0.0</td>\n",
       "      <td>...</td>\n",
       "      <td>0</td>\n",
       "      <td>1</td>\n",
       "      <td>1</td>\n",
       "      <td>1</td>\n",
       "      <td>1</td>\n",
       "      <td>1</td>\n",
       "      <td>1</td>\n",
       "      <td>1.0</td>\n",
       "      <td>0.0</td>\n",
       "      <td>1.0</td>\n",
       "    </tr>\n",
       "    <tr>\n",
       "      <th>1</th>\n",
       "      <td>233</td>\n",
       "      <td>88</td>\n",
       "      <td>70</td>\n",
       "      <td>41</td>\n",
       "      <td>1.0</td>\n",
       "      <td>6.0</td>\n",
       "      <td>1.0</td>\n",
       "      <td>0.0</td>\n",
       "      <td>0.0</td>\n",
       "      <td>0.0</td>\n",
       "      <td>...</td>\n",
       "      <td>0</td>\n",
       "      <td>1</td>\n",
       "      <td>1</td>\n",
       "      <td>1</td>\n",
       "      <td>1</td>\n",
       "      <td>1</td>\n",
       "      <td>1</td>\n",
       "      <td>1.0</td>\n",
       "      <td>1.0</td>\n",
       "      <td>1.0</td>\n",
       "    </tr>\n",
       "    <tr>\n",
       "      <th>2</th>\n",
       "      <td>252</td>\n",
       "      <td>65</td>\n",
       "      <td>56</td>\n",
       "      <td>49</td>\n",
       "      <td>0.0</td>\n",
       "      <td>0.0</td>\n",
       "      <td>1.0</td>\n",
       "      <td>0.0</td>\n",
       "      <td>0.0</td>\n",
       "      <td>0.0</td>\n",
       "      <td>...</td>\n",
       "      <td>0</td>\n",
       "      <td>1</td>\n",
       "      <td>1</td>\n",
       "      <td>1</td>\n",
       "      <td>1</td>\n",
       "      <td>1</td>\n",
       "      <td>1</td>\n",
       "      <td>1.0</td>\n",
       "      <td>0.0</td>\n",
       "      <td>1.0</td>\n",
       "    </tr>\n",
       "    <tr>\n",
       "      <th>3</th>\n",
       "      <td>217</td>\n",
       "      <td>88</td>\n",
       "      <td>70</td>\n",
       "      <td>57</td>\n",
       "      <td>0.0</td>\n",
       "      <td>0.0</td>\n",
       "      <td>0.0</td>\n",
       "      <td>0.0</td>\n",
       "      <td>1.0</td>\n",
       "      <td>0.0</td>\n",
       "      <td>...</td>\n",
       "      <td>0</td>\n",
       "      <td>1</td>\n",
       "      <td>1</td>\n",
       "      <td>1</td>\n",
       "      <td>1</td>\n",
       "      <td>1</td>\n",
       "      <td>1</td>\n",
       "      <td>1.0</td>\n",
       "      <td>0.0</td>\n",
       "      <td>1.0</td>\n",
       "    </tr>\n",
       "    <tr>\n",
       "      <th>4</th>\n",
       "      <td>168</td>\n",
       "      <td>65</td>\n",
       "      <td>56</td>\n",
       "      <td>36</td>\n",
       "      <td>0.0</td>\n",
       "      <td>0.0</td>\n",
       "      <td>0.0</td>\n",
       "      <td>0.0</td>\n",
       "      <td>1.0</td>\n",
       "      <td>0.0</td>\n",
       "      <td>...</td>\n",
       "      <td>0</td>\n",
       "      <td>1</td>\n",
       "      <td>1</td>\n",
       "      <td>1</td>\n",
       "      <td>1</td>\n",
       "      <td>1</td>\n",
       "      <td>1</td>\n",
       "      <td>1.0</td>\n",
       "      <td>0.0</td>\n",
       "      <td>1.0</td>\n",
       "    </tr>\n",
       "  </tbody>\n",
       "</table>\n",
       "<p>5 rows × 36 columns</p>\n",
       "</div>"
      ],
      "text/plain": [
       "   user_age  cohort_open_to_notify  cohort_open_to_close  apply_before_start  \\\n",
       "0       152                     65                    56                  52   \n",
       "1       233                     88                    70                  41   \n",
       "2       252                     65                    56                  49   \n",
       "3       217                     88                    70                  57   \n",
       "4       168                     65                    56                  36   \n",
       "\n",
       "   apply_to_submit  num_course_enrolled  Bachelor's degree  \\\n",
       "0              0.0                  0.0                0.0   \n",
       "1              1.0                  6.0                1.0   \n",
       "2              0.0                  0.0                1.0   \n",
       "3              0.0                  0.0                0.0   \n",
       "4              0.0                  0.0                0.0   \n",
       "\n",
       "   High school degree  Master's degree  PhD     ...       java  cplus  \\\n",
       "0                 0.0              1.0  0.0     ...          0      1   \n",
       "1                 0.0              0.0  0.0     ...          0      1   \n",
       "2                 0.0              0.0  0.0     ...          0      1   \n",
       "3                 0.0              1.0  0.0     ...          0      1   \n",
       "4                 0.0              1.0  0.0     ...          0      1   \n",
       "\n",
       "   probability  statistics  linear algebra  computer science  \\\n",
       "0            1           1               1                 1   \n",
       "1            1           1               1                 1   \n",
       "2            1           1               1                 1   \n",
       "3            1           1               1                 1   \n",
       "4            1           1               1                 1   \n",
       "\n",
       "   machine learning  nd_words  technology_words  other_words  \n",
       "0                 1       1.0               0.0          1.0  \n",
       "1                 1       1.0               1.0          1.0  \n",
       "2                 1       1.0               0.0          1.0  \n",
       "3                 1       1.0               0.0          1.0  \n",
       "4                 1       1.0               0.0          1.0  \n",
       "\n",
       "[5 rows x 36 columns]"
      ]
     },
     "execution_count": 137,
     "metadata": {},
     "output_type": "execute_result"
    }
   ],
   "source": [
    "X_train.head()"
   ]
  },
  {
   "cell_type": "code",
   "execution_count": 136,
   "metadata": {},
   "outputs": [
    {
     "data": {
      "text/plain": [
       "0    1\n",
       "1    1\n",
       "2    0\n",
       "3    1\n",
       "4    0\n",
       "Name: status, dtype: int64"
      ]
     },
     "execution_count": 136,
     "metadata": {},
     "output_type": "execute_result"
    }
   ],
   "source": [
    "y_train.head()"
   ]
  },
  {
   "cell_type": "code",
   "execution_count": 116,
   "metadata": {
    "collapsed": true
   },
   "outputs": [],
   "source": [
    "# build 5 models:\n",
    "clf1 = linear_model.LogisticRegression()\n",
    "clf2 = tree.DecisionTreeClassifier()\n",
    "clf3 = svm.SVC()\n",
    "clf4 = ensemble.RandomForestClassifier()\n",
    "clf5 = ensemble.GradientBoostingClassifier()"
   ]
  },
  {
   "cell_type": "code",
   "execution_count": 138,
   "metadata": {
    "collapsed": true
   },
   "outputs": [],
   "source": [
    "def train_predict(learner, X_train, y_train, X_test, y_test): \n",
    "    from sklearn.metrics import accuracy_score,confusion_matrix\n",
    "    results = {}\n",
    "    learner = learner.fit(X_train,y_train)\n",
    "    predictions_test = learner.predict(X_test)\n",
    "    predictions_train = learner.predict(X_train)\n",
    "    results['acc_train'] = accuracy_score(y_train,predictions_train)\n",
    "    results['acc_test'] = accuracy_score(y_test,predictions_test)\n",
    "    results['confusion_matrix_test'] = confusion_matrix(y_test,predictions_test)\n",
    "    print(\"{} trained on {} samples.\".format(learner.__class__.__name__,X_train.shape[0]))\n",
    "    return results"
   ]
  },
  {
   "cell_type": "code",
   "execution_count": 139,
   "metadata": {},
   "outputs": [
    {
     "name": "stdout",
     "output_type": "stream",
     "text": [
      "LogisticRegression trained on 1386 samples.\n",
      "LogisticRegression trained on 1386 samples.\n",
      "LogisticRegression trained on 1386 samples.\n",
      "LogisticRegression trained on 1387 samples.\n",
      "LogisticRegression trained on 1387 samples.\n",
      "DecisionTreeClassifier trained on 1386 samples.\n",
      "DecisionTreeClassifier trained on 1386 samples.\n",
      "DecisionTreeClassifier trained on 1386 samples.\n",
      "DecisionTreeClassifier trained on 1387 samples.\n",
      "DecisionTreeClassifier trained on 1387 samples.\n",
      "SVC trained on 1386 samples.\n",
      "SVC trained on 1386 samples.\n",
      "SVC trained on 1386 samples.\n",
      "SVC trained on 1387 samples.\n",
      "SVC trained on 1387 samples.\n",
      "RandomForestClassifier trained on 1386 samples.\n",
      "RandomForestClassifier trained on 1386 samples.\n",
      "RandomForestClassifier trained on 1386 samples.\n",
      "RandomForestClassifier trained on 1387 samples.\n",
      "RandomForestClassifier trained on 1387 samples.\n",
      "GradientBoostingClassifier trained on 1386 samples.\n",
      "GradientBoostingClassifier trained on 1386 samples.\n",
      "GradientBoostingClassifier trained on 1386 samples.\n",
      "GradientBoostingClassifier trained on 1387 samples.\n",
      "GradientBoostingClassifier trained on 1387 samples.\n"
     ]
    }
   ],
   "source": [
    "# 5-fold CV:\n",
    "kf = KFold(n_splits = 5, shuffle = False, random_state = 42)\n",
    "results = {}\n",
    "\n",
    "for clf in [clf1,clf2,clf3,clf4,clf5]:\n",
    "    clf_name = clf.__class__.__name__\n",
    "    results[clf_name] = {}\n",
    "    for i,index in zip(range(kf.get_n_splits()),kf.split(X_train)):\n",
    "        x_training,x_validate = X_train.iloc[index[0],:],X_train.iloc[index[1],:]\n",
    "        y_training,y_validate = y_train.iloc[index[0]],y_train.iloc[index[1]]\n",
    "        results[clf_name][i] = train_predict(clf,x_training,y_training,x_validate,y_validate)"
   ]
  },
  {
   "cell_type": "code",
   "execution_count": 142,
   "metadata": {
    "scrolled": true
   },
   "outputs": [
    {
     "data": {
      "text/plain": [
       "{'DecisionTreeClassifier': {0: {'acc_test': 0.5389048991354467,\n",
       "   'acc_train': 0.99494949494949492,\n",
       "   'confusion_matrix_test': array([[130,  82],\n",
       "          [ 78,  57]])},\n",
       "  1: {'acc_test': 0.51585014409221897,\n",
       "   'acc_train': 0.99062049062049062,\n",
       "   'confusion_matrix_test': array([[128,  78],\n",
       "          [ 90,  51]])},\n",
       "  2: {'acc_test': 0.51008645533141206,\n",
       "   'acc_train': 0.99494949494949492,\n",
       "   'confusion_matrix_test': array([[117, 105],\n",
       "          [ 65,  60]])},\n",
       "  3: {'acc_test': 0.53468208092485547,\n",
       "   'acc_train': 0.99351117519826959,\n",
       "   'confusion_matrix_test': array([[123,  89],\n",
       "          [ 72,  62]])},\n",
       "  4: {'acc_test': 0.49710982658959535,\n",
       "   'acc_train': 0.99134823359769286,\n",
       "   'confusion_matrix_test': array([[124,  84],\n",
       "          [ 90,  48]])}},\n",
       " 'GradientBoostingClassifier': {0: {'acc_test': 0.57636887608069165,\n",
       "   'acc_train': 0.71356421356421351,\n",
       "   'confusion_matrix_test': array([[175,  37],\n",
       "          [110,  25]])},\n",
       "  1: {'acc_test': 0.56195965417867433,\n",
       "   'acc_train': 0.72438672438672436,\n",
       "   'confusion_matrix_test': array([[172,  34],\n",
       "          [118,  23]])},\n",
       "  2: {'acc_test': 0.59365994236311237,\n",
       "   'acc_train': 0.72150072150072153,\n",
       "   'confusion_matrix_test': array([[169,  53],\n",
       "          [ 88,  37]])},\n",
       "  3: {'acc_test': 0.60982658959537572,\n",
       "   'acc_train': 0.70511896178803168,\n",
       "   'confusion_matrix_test': array([[187,  25],\n",
       "          [110,  24]])},\n",
       "  4: {'acc_test': 0.63872832369942201,\n",
       "   'acc_train': 0.70728190338860852,\n",
       "   'confusion_matrix_test': array([[185,  23],\n",
       "          [102,  36]])}},\n",
       " 'LogisticRegression': {0: {'acc_test': 0.57636887608069165,\n",
       "   'acc_train': 0.62481962481962483,\n",
       "   'confusion_matrix_test': array([[173,  39],\n",
       "          [108,  27]])},\n",
       "  1: {'acc_test': 0.57925072046109505,\n",
       "   'acc_train': 0.6262626262626263,\n",
       "   'confusion_matrix_test': array([[178,  28],\n",
       "          [118,  23]])},\n",
       "  2: {'acc_test': 0.59365994236311237,\n",
       "   'acc_train': 0.61832611832611828,\n",
       "   'confusion_matrix_test': array([[173,  49],\n",
       "          [ 92,  33]])},\n",
       "  3: {'acc_test': 0.63294797687861271,\n",
       "   'acc_train': 0.62581110310021626,\n",
       "   'confusion_matrix_test': array([[189,  23],\n",
       "          [104,  30]])},\n",
       "  4: {'acc_test': 0.59248554913294793,\n",
       "   'acc_train': 0.62581110310021626,\n",
       "   'confusion_matrix_test': array([[186,  22],\n",
       "          [119,  19]])}},\n",
       " 'RandomForestClassifier': {0: {'acc_test': 0.59077809798270897,\n",
       "   'acc_train': 0.96681096681096679,\n",
       "   'confusion_matrix_test': array([[164,  48],\n",
       "          [ 94,  41]])},\n",
       "  1: {'acc_test': 0.56772334293948123,\n",
       "   'acc_train': 0.96897546897546893,\n",
       "   'confusion_matrix_test': array([[163,  43],\n",
       "          [107,  34]])},\n",
       "  2: {'acc_test': 0.57925072046109505,\n",
       "   'acc_train': 0.97546897546897549,\n",
       "   'confusion_matrix_test': array([[161,  61],\n",
       "          [ 85,  40]])},\n",
       "  3: {'acc_test': 0.60693641618497107,\n",
       "   'acc_train': 0.96683489545782264,\n",
       "   'confusion_matrix_test': array([[171,  41],\n",
       "          [ 95,  39]])},\n",
       "  4: {'acc_test': 0.60693641618497107,\n",
       "   'acc_train': 0.97188175919250175,\n",
       "   'confusion_matrix_test': array([[166,  42],\n",
       "          [ 94,  44]])}},\n",
       " 'SVC': {0: {'acc_test': 0.59365994236311237,\n",
       "   'acc_train': 0.70274170274170278,\n",
       "   'confusion_matrix_test': array([[187,  25],\n",
       "          [116,  19]])},\n",
       "  1: {'acc_test': 0.56772334293948123,\n",
       "   'acc_train': 0.6933621933621934,\n",
       "   'confusion_matrix_test': array([[182,  24],\n",
       "          [126,  15]])},\n",
       "  2: {'acc_test': 0.59942363112391928,\n",
       "   'acc_train': 0.69408369408369408,\n",
       "   'confusion_matrix_test': array([[193,  29],\n",
       "          [110,  15]])},\n",
       "  3: {'acc_test': 0.58959537572254339,\n",
       "   'acc_train': 0.68709444844989187,\n",
       "   'confusion_matrix_test': array([[193,  19],\n",
       "          [123,  11]])},\n",
       "  4: {'acc_test': 0.5722543352601156,\n",
       "   'acc_train': 0.69646719538572455,\n",
       "   'confusion_matrix_test': array([[178,  30],\n",
       "          [118,  20]])}}}"
      ]
     },
     "execution_count": 142,
     "metadata": {},
     "output_type": "execute_result"
    }
   ],
   "source": [
    "results"
   ]
  },
  {
   "cell_type": "code",
   "execution_count": 156,
   "metadata": {},
   "outputs": [
    {
     "name": "stdout",
     "output_type": "stream",
     "text": [
      "0 LogisticRegression 0 acc_test 0.576368876081\n",
      "1 DecisionTreeClassifier 0 acc_test 0.538904899135\n",
      "2 SVC 0 acc_test 0.593659942363\n",
      "3 RandomForestClassifier 0 acc_test 0.590778097983\n",
      "4 GradientBoostingClassifier 0 acc_test 0.576368876081\n"
     ]
    }
   ],
   "source": [
    "for k, learner in enumerate(results.keys()):\n",
    "    for j, metric in enumerate(['acc_test']):\n",
    "        print(k,learner,j,metric,np.mean(results[learner][j][metric]))"
   ]
  },
  {
   "cell_type": "code",
   "execution_count": 153,
   "metadata": {},
   "outputs": [
    {
     "data": {
      "text/plain": [
       "0.5949426129833999"
      ]
     },
     "execution_count": 153,
     "metadata": {},
     "output_type": "execute_result"
    }
   ],
   "source": [
    "np.mean([0.576368876081,0.579250720461,0.593659942363,0.632947976879,0.592485549133])"
   ]
  },
  {
   "cell_type": "code",
   "execution_count": 159,
   "metadata": {},
   "outputs": [
    {
     "name": "stdout",
     "output_type": "stream",
     "text": [
      "0 LogisticRegression acc_test 0.576368876081\n",
      "0 LogisticRegression acc_test 0.579250720461\n",
      "0 LogisticRegression acc_test 0.593659942363\n",
      "0 LogisticRegression acc_test 0.632947976879\n",
      "0 LogisticRegression acc_test 0.592485549133\n",
      "1 DecisionTreeClassifier acc_test 0.538904899135\n",
      "1 DecisionTreeClassifier acc_test 0.515850144092\n",
      "1 DecisionTreeClassifier acc_test 0.510086455331\n",
      "1 DecisionTreeClassifier acc_test 0.534682080925\n",
      "1 DecisionTreeClassifier acc_test 0.49710982659\n",
      "2 SVC acc_test 0.593659942363\n",
      "2 SVC acc_test 0.567723342939\n",
      "2 SVC acc_test 0.599423631124\n",
      "2 SVC acc_test 0.589595375723\n",
      "2 SVC acc_test 0.57225433526\n",
      "3 RandomForestClassifier acc_test 0.590778097983\n",
      "3 RandomForestClassifier acc_test 0.567723342939\n",
      "3 RandomForestClassifier acc_test 0.579250720461\n",
      "3 RandomForestClassifier acc_test 0.606936416185\n",
      "3 RandomForestClassifier acc_test 0.606936416185\n",
      "4 GradientBoostingClassifier acc_test 0.576368876081\n",
      "4 GradientBoostingClassifier acc_test 0.561959654179\n",
      "4 GradientBoostingClassifier acc_test 0.593659942363\n",
      "4 GradientBoostingClassifier acc_test 0.609826589595\n",
      "4 GradientBoostingClassifier acc_test 0.638728323699\n"
     ]
    }
   ],
   "source": [
    "for k,learner in enumerate(results.keys()):\n",
    "    for i in np.arange(5):\n",
    "        print(k,learner,'acc_test',np.mean(results[learner][i]['acc_test']))"
   ]
  },
  {
   "cell_type": "code",
   "execution_count": null,
   "metadata": {
    "collapsed": true
   },
   "outputs": [],
   "source": []
  },
  {
   "cell_type": "code",
   "execution_count": null,
   "metadata": {
    "collapsed": true
   },
   "outputs": [],
   "source": []
  },
  {
   "cell_type": "code",
   "execution_count": null,
   "metadata": {
    "collapsed": true
   },
   "outputs": [],
   "source": []
  },
  {
   "cell_type": "code",
   "execution_count": null,
   "metadata": {
    "collapsed": true
   },
   "outputs": [],
   "source": []
  },
  {
   "cell_type": "code",
   "execution_count": 17,
   "metadata": {},
   "outputs": [
    {
     "data": {
      "text/plain": [
       "0.578125"
      ]
     },
     "execution_count": 17,
     "metadata": {},
     "output_type": "execute_result"
    }
   ],
   "source": [
    "clf = linear_model.LogisticRegression()\n",
    "clf.fit(X_train,y_train)\n",
    "predictions = clf.predict(X_test)\n",
    "accuracy_score(y_test, predictions)"
   ]
  },
  {
   "cell_type": "code",
   "execution_count": null,
   "metadata": {
    "collapsed": true
   },
   "outputs": [],
   "source": []
  },
  {
   "cell_type": "code",
   "execution_count": 18,
   "metadata": {},
   "outputs": [
    {
     "data": {
      "text/html": [
       "<div>\n",
       "<style>\n",
       "    .dataframe thead tr:only-child th {\n",
       "        text-align: right;\n",
       "    }\n",
       "\n",
       "    .dataframe thead th {\n",
       "        text-align: left;\n",
       "    }\n",
       "\n",
       "    .dataframe tbody tr th {\n",
       "        vertical-align: top;\n",
       "    }\n",
       "</style>\n",
       "<table border=\"1\" class=\"dataframe\">\n",
       "  <thead>\n",
       "    <tr style=\"text-align: right;\">\n",
       "      <th></th>\n",
       "      <th>count</th>\n",
       "      <th>mean</th>\n",
       "      <th>std</th>\n",
       "      <th>min</th>\n",
       "      <th>25%</th>\n",
       "      <th>50%</th>\n",
       "      <th>75%</th>\n",
       "      <th>max</th>\n",
       "    </tr>\n",
       "  </thead>\n",
       "  <tbody>\n",
       "    <tr>\n",
       "      <th>user_age</th>\n",
       "      <td>1733.0</td>\n",
       "      <td>207.871898</td>\n",
       "      <td>36.328432</td>\n",
       "      <td>148.0</td>\n",
       "      <td>175.0</td>\n",
       "      <td>208.0</td>\n",
       "      <td>236.0</td>\n",
       "      <td>272.0</td>\n",
       "    </tr>\n",
       "    <tr>\n",
       "      <th>cohort_open_to_notify</th>\n",
       "      <td>1733.0</td>\n",
       "      <td>78.271783</td>\n",
       "      <td>11.365972</td>\n",
       "      <td>65.0</td>\n",
       "      <td>65.0</td>\n",
       "      <td>88.0</td>\n",
       "      <td>88.0</td>\n",
       "      <td>88.0</td>\n",
       "    </tr>\n",
       "    <tr>\n",
       "      <th>cohort_open_to_close</th>\n",
       "      <td>1733.0</td>\n",
       "      <td>64.078477</td>\n",
       "      <td>6.918418</td>\n",
       "      <td>56.0</td>\n",
       "      <td>56.0</td>\n",
       "      <td>70.0</td>\n",
       "      <td>70.0</td>\n",
       "      <td>70.0</td>\n",
       "    </tr>\n",
       "    <tr>\n",
       "      <th>apply_before_start</th>\n",
       "      <td>1733.0</td>\n",
       "      <td>39.718407</td>\n",
       "      <td>19.945199</td>\n",
       "      <td>0.0</td>\n",
       "      <td>23.0</td>\n",
       "      <td>43.0</td>\n",
       "      <td>55.0</td>\n",
       "      <td>70.0</td>\n",
       "    </tr>\n",
       "    <tr>\n",
       "      <th>apply_to_submit</th>\n",
       "      <td>1733.0</td>\n",
       "      <td>4.726486</td>\n",
       "      <td>11.053261</td>\n",
       "      <td>0.0</td>\n",
       "      <td>0.0</td>\n",
       "      <td>0.0</td>\n",
       "      <td>2.0</td>\n",
       "      <td>67.0</td>\n",
       "    </tr>\n",
       "    <tr>\n",
       "      <th>num_course_enrolled</th>\n",
       "      <td>1733.0</td>\n",
       "      <td>0.275822</td>\n",
       "      <td>2.479495</td>\n",
       "      <td>0.0</td>\n",
       "      <td>0.0</td>\n",
       "      <td>0.0</td>\n",
       "      <td>0.0</td>\n",
       "      <td>92.0</td>\n",
       "    </tr>\n",
       "    <tr>\n",
       "      <th>Bachelor's degree</th>\n",
       "      <td>1733.0</td>\n",
       "      <td>0.313329</td>\n",
       "      <td>0.463981</td>\n",
       "      <td>0.0</td>\n",
       "      <td>0.0</td>\n",
       "      <td>0.0</td>\n",
       "      <td>1.0</td>\n",
       "      <td>1.0</td>\n",
       "    </tr>\n",
       "    <tr>\n",
       "      <th>High school degree</th>\n",
       "      <td>1733.0</td>\n",
       "      <td>0.037507</td>\n",
       "      <td>0.190056</td>\n",
       "      <td>0.0</td>\n",
       "      <td>0.0</td>\n",
       "      <td>0.0</td>\n",
       "      <td>0.0</td>\n",
       "      <td>1.0</td>\n",
       "    </tr>\n",
       "    <tr>\n",
       "      <th>Master's degree</th>\n",
       "      <td>1733.0</td>\n",
       "      <td>0.491056</td>\n",
       "      <td>0.500064</td>\n",
       "      <td>0.0</td>\n",
       "      <td>0.0</td>\n",
       "      <td>0.0</td>\n",
       "      <td>1.0</td>\n",
       "      <td>1.0</td>\n",
       "    </tr>\n",
       "    <tr>\n",
       "      <th>PhD</th>\n",
       "      <td>1733.0</td>\n",
       "      <td>0.136180</td>\n",
       "      <td>0.343079</td>\n",
       "      <td>0.0</td>\n",
       "      <td>0.0</td>\n",
       "      <td>0.0</td>\n",
       "      <td>0.0</td>\n",
       "      <td>1.0</td>\n",
       "    </tr>\n",
       "    <tr>\n",
       "      <th>Self employed</th>\n",
       "      <td>1733.0</td>\n",
       "      <td>0.064051</td>\n",
       "      <td>0.244914</td>\n",
       "      <td>0.0</td>\n",
       "      <td>0.0</td>\n",
       "      <td>0.0</td>\n",
       "      <td>0.0</td>\n",
       "      <td>1.0</td>\n",
       "    </tr>\n",
       "    <tr>\n",
       "      <th>Student</th>\n",
       "      <td>1733.0</td>\n",
       "      <td>0.134449</td>\n",
       "      <td>0.341232</td>\n",
       "      <td>0.0</td>\n",
       "      <td>0.0</td>\n",
       "      <td>0.0</td>\n",
       "      <td>0.0</td>\n",
       "      <td>1.0</td>\n",
       "    </tr>\n",
       "    <tr>\n",
       "      <th>Unemployed</th>\n",
       "      <td>1733.0</td>\n",
       "      <td>0.046163</td>\n",
       "      <td>0.209898</td>\n",
       "      <td>0.0</td>\n",
       "      <td>0.0</td>\n",
       "      <td>0.0</td>\n",
       "      <td>0.0</td>\n",
       "      <td>1.0</td>\n",
       "    </tr>\n",
       "    <tr>\n",
       "      <th>Yes, full time</th>\n",
       "      <td>1733.0</td>\n",
       "      <td>0.686671</td>\n",
       "      <td>0.463981</td>\n",
       "      <td>0.0</td>\n",
       "      <td>0.0</td>\n",
       "      <td>1.0</td>\n",
       "      <td>1.0</td>\n",
       "      <td>1.0</td>\n",
       "    </tr>\n",
       "    <tr>\n",
       "      <th>Yes, part time or contract</th>\n",
       "      <td>1733.0</td>\n",
       "      <td>0.057703</td>\n",
       "      <td>0.233249</td>\n",
       "      <td>0.0</td>\n",
       "      <td>0.0</td>\n",
       "      <td>0.0</td>\n",
       "      <td>0.0</td>\n",
       "      <td>1.0</td>\n",
       "    </tr>\n",
       "    <tr>\n",
       "      <th>1-2+ years</th>\n",
       "      <td>1733.0</td>\n",
       "      <td>0.200808</td>\n",
       "      <td>0.400720</td>\n",
       "      <td>0.0</td>\n",
       "      <td>0.0</td>\n",
       "      <td>0.0</td>\n",
       "      <td>0.0</td>\n",
       "      <td>1.0</td>\n",
       "    </tr>\n",
       "    <tr>\n",
       "      <th>3-5 years</th>\n",
       "      <td>1733.0</td>\n",
       "      <td>0.162724</td>\n",
       "      <td>0.369220</td>\n",
       "      <td>0.0</td>\n",
       "      <td>0.0</td>\n",
       "      <td>0.0</td>\n",
       "      <td>0.0</td>\n",
       "      <td>1.0</td>\n",
       "    </tr>\n",
       "    <tr>\n",
       "      <th>5+ years</th>\n",
       "      <td>1733.0</td>\n",
       "      <td>0.484132</td>\n",
       "      <td>0.499892</td>\n",
       "      <td>0.0</td>\n",
       "      <td>0.0</td>\n",
       "      <td>0.0</td>\n",
       "      <td>1.0</td>\n",
       "      <td>1.0</td>\n",
       "    </tr>\n",
       "    <tr>\n",
       "      <th>&lt; 1 year</th>\n",
       "      <td>1733.0</td>\n",
       "      <td>0.097519</td>\n",
       "      <td>0.296748</td>\n",
       "      <td>0.0</td>\n",
       "      <td>0.0</td>\n",
       "      <td>0.0</td>\n",
       "      <td>0.0</td>\n",
       "      <td>1.0</td>\n",
       "    </tr>\n",
       "    <tr>\n",
       "      <th>I have no professional experience</th>\n",
       "      <td>1733.0</td>\n",
       "      <td>0.054818</td>\n",
       "      <td>0.227691</td>\n",
       "      <td>0.0</td>\n",
       "      <td>0.0</td>\n",
       "      <td>0.0</td>\n",
       "      <td>0.0</td>\n",
       "      <td>1.0</td>\n",
       "    </tr>\n",
       "    <tr>\n",
       "      <th>General interest in the topic (personal growth and enrichment)</th>\n",
       "      <td>1733.0</td>\n",
       "      <td>0.128102</td>\n",
       "      <td>0.334299</td>\n",
       "      <td>0.0</td>\n",
       "      <td>0.0</td>\n",
       "      <td>0.0</td>\n",
       "      <td>0.0</td>\n",
       "      <td>1.0</td>\n",
       "    </tr>\n",
       "    <tr>\n",
       "      <th>Grow skills for my current role</th>\n",
       "      <td>1733.0</td>\n",
       "      <td>0.303520</td>\n",
       "      <td>0.459910</td>\n",
       "      <td>0.0</td>\n",
       "      <td>0.0</td>\n",
       "      <td>0.0</td>\n",
       "      <td>1.0</td>\n",
       "      <td>1.0</td>\n",
       "    </tr>\n",
       "    <tr>\n",
       "      <th>Help move from academia to industry</th>\n",
       "      <td>1733.0</td>\n",
       "      <td>0.079631</td>\n",
       "      <td>0.270799</td>\n",
       "      <td>0.0</td>\n",
       "      <td>0.0</td>\n",
       "      <td>0.0</td>\n",
       "      <td>0.0</td>\n",
       "      <td>1.0</td>\n",
       "    </tr>\n",
       "    <tr>\n",
       "      <th>Help prepare for an advanced degree</th>\n",
       "      <td>1733.0</td>\n",
       "      <td>0.027121</td>\n",
       "      <td>0.162482</td>\n",
       "      <td>0.0</td>\n",
       "      <td>0.0</td>\n",
       "      <td>0.0</td>\n",
       "      <td>0.0</td>\n",
       "      <td>1.0</td>\n",
       "    </tr>\n",
       "    <tr>\n",
       "      <th>Start a new career in this field</th>\n",
       "      <td>1733.0</td>\n",
       "      <td>0.454126</td>\n",
       "      <td>0.498035</td>\n",
       "      <td>0.0</td>\n",
       "      <td>0.0</td>\n",
       "      <td>0.0</td>\n",
       "      <td>1.0</td>\n",
       "      <td>1.0</td>\n",
       "    </tr>\n",
       "    <tr>\n",
       "      <th>python</th>\n",
       "      <td>1733.0</td>\n",
       "      <td>0.974033</td>\n",
       "      <td>0.159081</td>\n",
       "      <td>0.0</td>\n",
       "      <td>1.0</td>\n",
       "      <td>1.0</td>\n",
       "      <td>1.0</td>\n",
       "      <td>1.0</td>\n",
       "    </tr>\n",
       "    <tr>\n",
       "      <th>java</th>\n",
       "      <td>1733.0</td>\n",
       "      <td>0.027121</td>\n",
       "      <td>0.162482</td>\n",
       "      <td>0.0</td>\n",
       "      <td>0.0</td>\n",
       "      <td>0.0</td>\n",
       "      <td>0.0</td>\n",
       "      <td>1.0</td>\n",
       "    </tr>\n",
       "    <tr>\n",
       "      <th>cplus</th>\n",
       "      <td>1733.0</td>\n",
       "      <td>0.928448</td>\n",
       "      <td>0.257819</td>\n",
       "      <td>0.0</td>\n",
       "      <td>1.0</td>\n",
       "      <td>1.0</td>\n",
       "      <td>1.0</td>\n",
       "      <td>1.0</td>\n",
       "    </tr>\n",
       "    <tr>\n",
       "      <th>probability</th>\n",
       "      <td>1733.0</td>\n",
       "      <td>0.937103</td>\n",
       "      <td>0.242847</td>\n",
       "      <td>0.0</td>\n",
       "      <td>1.0</td>\n",
       "      <td>1.0</td>\n",
       "      <td>1.0</td>\n",
       "      <td>1.0</td>\n",
       "    </tr>\n",
       "    <tr>\n",
       "      <th>statistics</th>\n",
       "      <td>1733.0</td>\n",
       "      <td>0.937680</td>\n",
       "      <td>0.241805</td>\n",
       "      <td>0.0</td>\n",
       "      <td>1.0</td>\n",
       "      <td>1.0</td>\n",
       "      <td>1.0</td>\n",
       "      <td>1.0</td>\n",
       "    </tr>\n",
       "    <tr>\n",
       "      <th>linear algebra</th>\n",
       "      <td>1733.0</td>\n",
       "      <td>0.937103</td>\n",
       "      <td>0.242847</td>\n",
       "      <td>0.0</td>\n",
       "      <td>1.0</td>\n",
       "      <td>1.0</td>\n",
       "      <td>1.0</td>\n",
       "      <td>1.0</td>\n",
       "    </tr>\n",
       "    <tr>\n",
       "      <th>computer science</th>\n",
       "      <td>1733.0</td>\n",
       "      <td>0.926140</td>\n",
       "      <td>0.261619</td>\n",
       "      <td>0.0</td>\n",
       "      <td>1.0</td>\n",
       "      <td>1.0</td>\n",
       "      <td>1.0</td>\n",
       "      <td>1.0</td>\n",
       "    </tr>\n",
       "    <tr>\n",
       "      <th>machine learning</th>\n",
       "      <td>1733.0</td>\n",
       "      <td>0.774380</td>\n",
       "      <td>0.418111</td>\n",
       "      <td>0.0</td>\n",
       "      <td>1.0</td>\n",
       "      <td>1.0</td>\n",
       "      <td>1.0</td>\n",
       "      <td>1.0</td>\n",
       "    </tr>\n",
       "    <tr>\n",
       "      <th>nd_words</th>\n",
       "      <td>1733.0</td>\n",
       "      <td>0.961916</td>\n",
       "      <td>0.191455</td>\n",
       "      <td>0.0</td>\n",
       "      <td>1.0</td>\n",
       "      <td>1.0</td>\n",
       "      <td>1.0</td>\n",
       "      <td>1.0</td>\n",
       "    </tr>\n",
       "    <tr>\n",
       "      <th>technology_words</th>\n",
       "      <td>1733.0</td>\n",
       "      <td>0.328332</td>\n",
       "      <td>0.469742</td>\n",
       "      <td>0.0</td>\n",
       "      <td>0.0</td>\n",
       "      <td>0.0</td>\n",
       "      <td>1.0</td>\n",
       "      <td>1.0</td>\n",
       "    </tr>\n",
       "    <tr>\n",
       "      <th>other_words</th>\n",
       "      <td>1733.0</td>\n",
       "      <td>0.934218</td>\n",
       "      <td>0.247972</td>\n",
       "      <td>0.0</td>\n",
       "      <td>1.0</td>\n",
       "      <td>1.0</td>\n",
       "      <td>1.0</td>\n",
       "      <td>1.0</td>\n",
       "    </tr>\n",
       "  </tbody>\n",
       "</table>\n",
       "</div>"
      ],
      "text/plain": [
       "                                                     count        mean  \\\n",
       "user_age                                            1733.0  207.871898   \n",
       "cohort_open_to_notify                               1733.0   78.271783   \n",
       "cohort_open_to_close                                1733.0   64.078477   \n",
       "apply_before_start                                  1733.0   39.718407   \n",
       "apply_to_submit                                     1733.0    4.726486   \n",
       "num_course_enrolled                                 1733.0    0.275822   \n",
       "Bachelor's degree                                   1733.0    0.313329   \n",
       "High school degree                                  1733.0    0.037507   \n",
       "Master's degree                                     1733.0    0.491056   \n",
       "PhD                                                 1733.0    0.136180   \n",
       "Self employed                                       1733.0    0.064051   \n",
       "Student                                             1733.0    0.134449   \n",
       "Unemployed                                          1733.0    0.046163   \n",
       "Yes, full time                                      1733.0    0.686671   \n",
       "Yes, part time or contract                          1733.0    0.057703   \n",
       "1-2+ years                                          1733.0    0.200808   \n",
       "3-5 years                                           1733.0    0.162724   \n",
       "5+ years                                            1733.0    0.484132   \n",
       "< 1 year                                            1733.0    0.097519   \n",
       "I have no professional experience                   1733.0    0.054818   \n",
       "General interest in the topic (personal growth ...  1733.0    0.128102   \n",
       "Grow skills for my current role                     1733.0    0.303520   \n",
       "Help move from academia to industry                 1733.0    0.079631   \n",
       "Help prepare for an advanced degree                 1733.0    0.027121   \n",
       "Start a new career in this field                    1733.0    0.454126   \n",
       "python                                              1733.0    0.974033   \n",
       "java                                                1733.0    0.027121   \n",
       "cplus                                               1733.0    0.928448   \n",
       "probability                                         1733.0    0.937103   \n",
       "statistics                                          1733.0    0.937680   \n",
       "linear algebra                                      1733.0    0.937103   \n",
       "computer science                                    1733.0    0.926140   \n",
       "machine learning                                    1733.0    0.774380   \n",
       "nd_words                                            1733.0    0.961916   \n",
       "technology_words                                    1733.0    0.328332   \n",
       "other_words                                         1733.0    0.934218   \n",
       "\n",
       "                                                          std    min    25%  \\\n",
       "user_age                                            36.328432  148.0  175.0   \n",
       "cohort_open_to_notify                               11.365972   65.0   65.0   \n",
       "cohort_open_to_close                                 6.918418   56.0   56.0   \n",
       "apply_before_start                                  19.945199    0.0   23.0   \n",
       "apply_to_submit                                     11.053261    0.0    0.0   \n",
       "num_course_enrolled                                  2.479495    0.0    0.0   \n",
       "Bachelor's degree                                    0.463981    0.0    0.0   \n",
       "High school degree                                   0.190056    0.0    0.0   \n",
       "Master's degree                                      0.500064    0.0    0.0   \n",
       "PhD                                                  0.343079    0.0    0.0   \n",
       "Self employed                                        0.244914    0.0    0.0   \n",
       "Student                                              0.341232    0.0    0.0   \n",
       "Unemployed                                           0.209898    0.0    0.0   \n",
       "Yes, full time                                       0.463981    0.0    0.0   \n",
       "Yes, part time or contract                           0.233249    0.0    0.0   \n",
       "1-2+ years                                           0.400720    0.0    0.0   \n",
       "3-5 years                                            0.369220    0.0    0.0   \n",
       "5+ years                                             0.499892    0.0    0.0   \n",
       "< 1 year                                             0.296748    0.0    0.0   \n",
       "I have no professional experience                    0.227691    0.0    0.0   \n",
       "General interest in the topic (personal growth ...   0.334299    0.0    0.0   \n",
       "Grow skills for my current role                      0.459910    0.0    0.0   \n",
       "Help move from academia to industry                  0.270799    0.0    0.0   \n",
       "Help prepare for an advanced degree                  0.162482    0.0    0.0   \n",
       "Start a new career in this field                     0.498035    0.0    0.0   \n",
       "python                                               0.159081    0.0    1.0   \n",
       "java                                                 0.162482    0.0    0.0   \n",
       "cplus                                                0.257819    0.0    1.0   \n",
       "probability                                          0.242847    0.0    1.0   \n",
       "statistics                                           0.241805    0.0    1.0   \n",
       "linear algebra                                       0.242847    0.0    1.0   \n",
       "computer science                                     0.261619    0.0    1.0   \n",
       "machine learning                                     0.418111    0.0    1.0   \n",
       "nd_words                                             0.191455    0.0    1.0   \n",
       "technology_words                                     0.469742    0.0    0.0   \n",
       "other_words                                          0.247972    0.0    1.0   \n",
       "\n",
       "                                                      50%    75%    max  \n",
       "user_age                                            208.0  236.0  272.0  \n",
       "cohort_open_to_notify                                88.0   88.0   88.0  \n",
       "cohort_open_to_close                                 70.0   70.0   70.0  \n",
       "apply_before_start                                   43.0   55.0   70.0  \n",
       "apply_to_submit                                       0.0    2.0   67.0  \n",
       "num_course_enrolled                                   0.0    0.0   92.0  \n",
       "Bachelor's degree                                     0.0    1.0    1.0  \n",
       "High school degree                                    0.0    0.0    1.0  \n",
       "Master's degree                                       0.0    1.0    1.0  \n",
       "PhD                                                   0.0    0.0    1.0  \n",
       "Self employed                                         0.0    0.0    1.0  \n",
       "Student                                               0.0    0.0    1.0  \n",
       "Unemployed                                            0.0    0.0    1.0  \n",
       "Yes, full time                                        1.0    1.0    1.0  \n",
       "Yes, part time or contract                            0.0    0.0    1.0  \n",
       "1-2+ years                                            0.0    0.0    1.0  \n",
       "3-5 years                                             0.0    0.0    1.0  \n",
       "5+ years                                              0.0    1.0    1.0  \n",
       "< 1 year                                              0.0    0.0    1.0  \n",
       "I have no professional experience                     0.0    0.0    1.0  \n",
       "General interest in the topic (personal growth ...    0.0    0.0    1.0  \n",
       "Grow skills for my current role                       0.0    1.0    1.0  \n",
       "Help move from academia to industry                   0.0    0.0    1.0  \n",
       "Help prepare for an advanced degree                   0.0    0.0    1.0  \n",
       "Start a new career in this field                      0.0    1.0    1.0  \n",
       "python                                                1.0    1.0    1.0  \n",
       "java                                                  0.0    0.0    1.0  \n",
       "cplus                                                 1.0    1.0    1.0  \n",
       "probability                                           1.0    1.0    1.0  \n",
       "statistics                                            1.0    1.0    1.0  \n",
       "linear algebra                                        1.0    1.0    1.0  \n",
       "computer science                                      1.0    1.0    1.0  \n",
       "machine learning                                      1.0    1.0    1.0  \n",
       "nd_words                                              1.0    1.0    1.0  \n",
       "technology_words                                      0.0    1.0    1.0  \n",
       "other_words                                           1.0    1.0    1.0  "
      ]
     },
     "execution_count": 18,
     "metadata": {},
     "output_type": "execute_result"
    }
   ],
   "source": [
    "features = X_train.describe().T\n",
    "features"
   ]
  },
  {
   "cell_type": "code",
   "execution_count": 19,
   "metadata": {
    "scrolled": false
   },
   "outputs": [
    {
     "name": "stdout",
     "output_type": "stream",
     "text": [
      "Warning: Maximum number of iterations has been exceeded.\n",
      "         Current function value: 0.641564\n",
      "         Iterations: 35\n",
      "                           Logit Regression Results                           \n",
      "==============================================================================\n",
      "Dep. Variable:                 status   No. Observations:                 1733\n",
      "Model:                          Logit   Df Residuals:                     1698\n",
      "Method:                           MLE   Df Model:                           34\n",
      "Date:                Wed, 15 Nov 2017   Pseudo R-squ.:                 0.04532\n",
      "Time:                        13:42:25   Log-Likelihood:                -1111.8\n",
      "converged:                      False   LL-Null:                       -1164.6\n",
      "                                        LLR p-value:                 2.954e-09\n",
      "==================================================================================================================================\n",
      "                                                                     coef    std err          z      P>|z|      [0.025      0.975]\n",
      "----------------------------------------------------------------------------------------------------------------------------------\n",
      "user_age                                                           0.0018      0.004      0.483      0.629      -0.006       0.009\n",
      "cohort_open_to_notify                                              0.1395   4.42e+04   3.15e-06      1.000   -8.67e+04    8.67e+04\n",
      "cohort_open_to_close                                              -0.2045   7.27e+04  -2.81e-06      1.000   -1.42e+05    1.42e+05\n",
      "apply_before_start                                                 0.0023      0.005      0.515      0.607      -0.007       0.011\n",
      "apply_to_submit                                                    0.0043      0.005      0.893      0.372      -0.005       0.014\n",
      "num_course_enrolled                                               -0.0151      0.030     -0.506      0.613      -0.073       0.043\n",
      "Bachelor's degree                                                  0.0524      0.372      0.141      0.888      -0.678       0.782\n",
      "High school degree                                                -0.2176      0.468     -0.465      0.642      -1.135       0.700\n",
      "Master's degree                                                    0.3859      0.369      1.046      0.296      -0.337       1.109\n",
      "PhD                                                                0.7628      0.388      1.968      0.049       0.003       1.523\n",
      "Self employed                                                     -0.6334      0.527     -1.201      0.230      -1.667       0.400\n",
      "Student                                                           -0.8753      0.513     -1.707      0.088      -1.880       0.130\n",
      "Unemployed                                                        -1.0685      0.546     -1.957      0.050      -2.139       0.002\n",
      "Yes, full time                                                    -1.0396      0.494     -2.105      0.035      -2.008      -0.071\n",
      "Yes, part time or contract                                        -1.0116      0.534     -1.894      0.058      -2.058       0.035\n",
      "1-2+ years                                                         0.0125   1.19e+06   1.05e-08      1.000   -2.34e+06    2.34e+06\n",
      "3-5 years                                                          0.0707   1.19e+06   5.92e-08      1.000   -2.34e+06    2.34e+06\n",
      "5+ years                                                           0.2568   1.19e+06   2.15e-07      1.000   -2.34e+06    2.34e+06\n",
      "< 1 year                                                          -0.0203   1.19e+06   -1.7e-08      1.000   -2.34e+06    2.34e+06\n",
      "I have no professional experience                                 -0.3372   1.19e+06  -2.82e-07      1.000   -2.34e+06    2.34e+06\n",
      "General interest in the topic (personal growth and enrichment)    -0.0543      0.609     -0.089      0.929      -1.248       1.140\n",
      "Grow skills for my current role                                    0.2782      0.600      0.464      0.643      -0.898       1.454\n",
      "Help move from academia to industry                                0.0985      0.622      0.158      0.874      -1.120       1.317\n",
      "Help prepare for an advanced degree                               -0.3886      0.684     -0.568      0.570      -1.729       0.952\n",
      "Start a new career in this field                                   0.0822      0.596      0.138      0.890      -1.087       1.251\n",
      "python                                                             1.1238      0.427      2.634      0.008       0.288       1.960\n",
      "java                                                              -0.1039      0.322     -0.323      0.747      -0.734       0.526\n",
      "cplus                                                              0.2671      0.208      1.281      0.200      -0.141       0.676\n",
      "probability                                                       16.9751   7820.999      0.002      0.998   -1.53e+04    1.53e+04\n",
      "statistics                                                       -16.7378   7820.999     -0.002      0.998   -1.53e+04    1.53e+04\n",
      "linear algebra                                                     0.0247      0.241      0.103      0.918      -0.447       0.497\n",
      "computer science                                                  -0.2570      0.197     -1.303      0.193      -0.644       0.130\n",
      "machine learning                                                   0.3311      0.134      2.476      0.013       0.069       0.593\n",
      "nd_words                                                           0.0114      0.275      0.041      0.967      -0.528       0.551\n",
      "technology_words                                                  -0.0247      0.116     -0.213      0.831      -0.252       0.203\n",
      "other_words                                                        0.0962      0.212      0.454      0.650      -0.319       0.511\n",
      "==================================================================================================================================\n"
     ]
    },
    {
     "name": "stderr",
     "output_type": "stream",
     "text": [
      "/anaconda/lib/python3.6/site-packages/statsmodels/base/model.py:496: ConvergenceWarning: Maximum Likelihood optimization failed to converge. Check mle_retvals\n",
      "  \"Check mle_retvals\", ConvergenceWarning)\n"
     ]
    }
   ],
   "source": [
    "logit = sm.Logit(y_train,X_train)\n",
    "result = logit.fit()\n",
    "print(result.summary())"
   ]
  },
  {
   "cell_type": "code",
   "execution_count": null,
   "metadata": {
    "collapsed": true
   },
   "outputs": [],
   "source": []
  }
 ],
 "metadata": {
  "kernelspec": {
   "display_name": "Python 3",
   "language": "python",
   "name": "python3"
  },
  "language_info": {
   "codemirror_mode": {
    "name": "ipython",
    "version": 3
   },
   "file_extension": ".py",
   "mimetype": "text/x-python",
   "name": "python",
   "nbconvert_exporter": "python",
   "pygments_lexer": "ipython3",
   "version": "3.6.1"
  }
 },
 "nbformat": 4,
 "nbformat_minor": 2
}
