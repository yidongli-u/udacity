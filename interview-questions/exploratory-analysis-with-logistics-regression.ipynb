{
 "cells": [
  {
   "cell_type": "markdown",
   "metadata": {},
   "source": [
    "Hi there,\n",
    "\n",
    "In this file, you are going to load 2 files: applications.csv and questions.csv, generate some descriptive analysis."
   ]
  },
  {
   "cell_type": "markdown",
   "metadata": {},
   "source": [
    "Now, first step, please import libraries you think you will need. You will need some libraries to process tables, create bar charts, etc. You will be asked to create a logistics regression model at Question 6. You can always import libraries when needed."
   ]
  },
  {
   "cell_type": "code",
   "execution_count": null,
   "metadata": {
    "collapsed": true
   },
   "outputs": [],
   "source": []
  },
  {
   "cell_type": "markdown",
   "metadata": {},
   "source": [
    "Read csv files : applications.csv as \"applications\" and questions.csv as \"questions\"."
   ]
  },
  {
   "cell_type": "code",
   "execution_count": null,
   "metadata": {
    "collapsed": true
   },
   "outputs": [],
   "source": []
  },
  {
   "cell_type": "markdown",
   "metadata": {},
   "source": [
    "Please get some sense from the 2 tables you just loaded. You can use any functions as your prefer. You might want to know what columns are in the tables, what are their types, how big are the dataset, even some records for you to grasp the idea."
   ]
  },
  {
   "cell_type": "code",
   "execution_count": null,
   "metadata": {},
   "outputs": [],
   "source": []
  },
  {
   "cell_type": "markdown",
   "metadata": {},
   "source": [
    "As you notice, there is a columns shared in both tables. You are right, it's the primiary key. You might want to use this information to join the tables.\n",
    "Also, if there's no values, for example, if there's no value in \"submitted_at\" that means the applicant started an application but didn't submit it. Or if there's no value under \"response\", that means the applicant didn't give a response."
   ]
  },
  {
   "cell_type": "markdown",
   "metadata": {},
   "source": [
    "Now, here comes the first questions.\n",
    "Question1. How many applicant submitted their application? How many didn't?\n",
    "(suggestions: create a new column called \"submitted\" with values 1 (submitted) and 0 (didn't submit))"
   ]
  },
  {
   "cell_type": "code",
   "execution_count": null,
   "metadata": {},
   "outputs": [],
   "source": []
  },
  {
   "cell_type": "markdown",
   "metadata": {},
   "source": [
    "Questions2. What’s the frequency distribution of applicants by different\n",
    "    a. education\n",
    "    b. purpose\n",
    "    c. combination of education and purpose\n",
    "(please there's no values in \"response\", please use \"No Reponse\")\n",
    "(suggestion: the output table after joining will be better to look like: applicant_id, application_created_at, submitted_at, education, purpose)"
   ]
  },
  {
   "cell_type": "code",
   "execution_count": null,
   "metadata": {
    "scrolled": true
   },
   "outputs": [],
   "source": []
  },
  {
   "cell_type": "markdown",
   "metadata": {},
   "source": [
    "Question3. What's the min and max of application_created_at in applications?"
   ]
  },
  {
   "cell_type": "code",
   "execution_count": null,
   "metadata": {},
   "outputs": [],
   "source": []
  },
  {
   "cell_type": "markdown",
   "metadata": {},
   "source": [
    "Question4. For those applicants submitted their applications, let’s build a table, and generate a heatmap - For applicants who applied on Jun 20 2017, what proportion of them submit the application in the 1st week (Jun 21 – Jun 27 2016), in the 2nd week (Jun 28 – Jul 4 2016), in the 3rd week (Jul 5 – Jun 11 2017) etc. all the way upto 6 weeks. Calculate averagely, % of application submition in each week, then create a heatmap."
   ]
  },
  {
   "cell_type": "code",
   "execution_count": null,
   "metadata": {},
   "outputs": [],
   "source": []
  },
  {
   "cell_type": "markdown",
   "metadata": {},
   "source": [
    "Question5. Similar to the table you created in Q4, what if we were to build it for just two days – 27th June 2017 and 19th Sep 2017, but segmented by education? Depict this graphically. Does the submition vary by different education?"
   ]
  },
  {
   "cell_type": "code",
   "execution_count": null,
   "metadata": {},
   "outputs": [],
   "source": []
  },
  {
   "cell_type": "markdown",
   "metadata": {},
   "source": [
    "Question6. In Question1, you created a column called \"submitted\" (1/0), now use \"education\" and \"purpose\" to create a logistics regression model to predict \"submitted\". Please exclude \"No Response\" and \"Other\" in the model. Are \"education\" or \"purpose\" affecting \"submitted\"? What's your suggestion?"
   ]
  },
  {
   "cell_type": "code",
   "execution_count": null,
   "metadata": {},
   "outputs": [],
   "source": []
  }
 ],
 "metadata": {
  "kernelspec": {
   "display_name": "Python 3",
   "language": "python",
   "name": "python3"
  },
  "language_info": {
   "codemirror_mode": {
    "name": "ipython",
    "version": 3
   },
   "file_extension": ".py",
   "mimetype": "text/x-python",
   "name": "python",
   "nbconvert_exporter": "python",
   "pygments_lexer": "ipython3",
   "version": "3.6.1"
  }
 },
 "nbformat": 4,
 "nbformat_minor": 2
}
