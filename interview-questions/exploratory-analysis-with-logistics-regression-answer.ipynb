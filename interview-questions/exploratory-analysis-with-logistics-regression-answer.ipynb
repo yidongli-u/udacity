{
 "cells": [
  {
   "cell_type": "markdown",
   "metadata": {},
   "source": [
    "Hi there,\n",
    "\n",
    "In this file, you are going to load 2 files: applications.csv and questions.csv, generate some descriptive analysis."
   ]
  },
  {
   "cell_type": "markdown",
   "metadata": {},
   "source": [
    "Now, first step, please import libraries you think you will need. You will need some libraries to process tables, create bar charts, etc. You will be asked to create a logistics regression model at Question 6. You can always import libraries when needed."
   ]
  },
  {
   "cell_type": "code",
   "execution_count": 1,
   "metadata": {
    "collapsed": true
   },
   "outputs": [],
   "source": [
    "import pandas as pd\n",
    "import seaborn as sns\n",
    "import os \n",
    "import numpy as np\n",
    "import matplotlib.pyplot as plt\n",
    "\n",
    "%matplotlib inline"
   ]
  },
  {
   "cell_type": "markdown",
   "metadata": {},
   "source": [
    "Read csv files : applications.csv as \"applications\" and questions.csv as \"questions\"."
   ]
  },
  {
   "cell_type": "code",
   "execution_count": 2,
   "metadata": {
    "collapsed": true
   },
   "outputs": [],
   "source": [
    "applications = pd.read_csv('applications.csv')\n",
    "questions = pd.read_csv('questions.csv')"
   ]
  },
  {
   "cell_type": "markdown",
   "metadata": {},
   "source": [
    "Please get some sense from the 2 tables you just loaded. You can use any functions as your prefer. You might want to know what columns are in the tables, what are their types, how big are the dataset, even some records for you to grasp the idea."
   ]
  },
  {
   "cell_type": "code",
   "execution_count": 3,
   "metadata": {},
   "outputs": [
    {
     "name": "stdout",
     "output_type": "stream",
     "text": [
      "(2000, 3)\n",
      "applicant_id              object\n",
      "application_created_at    object\n",
      "submitted_at              object\n",
      "dtype: object\n",
      "  applicant_id application_created_at submitted_at\n",
      "0   6889992485             2017-09-20   2017-09-20\n",
      "1   9661824773             2017-08-30          NaN\n",
      "2  10901109380             2017-09-17          NaN\n",
      "3   4654038743             2017-08-29   2017-08-29\n",
      "4  10334260734             2017-08-13          NaN\n"
     ]
    }
   ],
   "source": [
    "print(applications.shape)\n",
    "print(applications.dtypes)\n",
    "print(applications.head(5))"
   ]
  },
  {
   "cell_type": "code",
   "execution_count": 4,
   "metadata": {},
   "outputs": [
    {
     "name": "stdout",
     "output_type": "stream",
     "text": [
      "(3966, 3)\n",
      "applicant_id    object\n",
      "question        object\n",
      "response        object\n",
      "dtype: object\n",
      "  applicant_id   question                         response\n",
      "0   6730769363  education                Bachelor's degree\n",
      "1  10921465866    purpose                              NaN\n",
      "2  10770974651    purpose  Grow skills for my current role\n",
      "3  10807426036  education                            Other\n",
      "4  10339949523  education                  Master's degree\n"
     ]
    }
   ],
   "source": [
    "print(questions.shape)\n",
    "print(questions.dtypes)\n",
    "print(questions.head(5))"
   ]
  },
  {
   "cell_type": "markdown",
   "metadata": {},
   "source": [
    "As you notice, there is a columns shared in both tables. You are right, it's the primiary key. You might want to use this information to join the tables.\n",
    "Also, if there's no values, for example, if there's no value in \"submitted_at\" that means the applicant started an application but didn't submit it. Or if there's no value under \"response\", that means the applicant didn't give a response."
   ]
  },
  {
   "cell_type": "markdown",
   "metadata": {},
   "source": [
    "Now, here comes the first questions.\n",
    "Question1. How many applicant submitted their application? How many didn't?\n",
    "(suggestions: create a new column called \"submitted\" with values 1 (submitted) and 0 (didn't submit))"
   ]
  },
  {
   "cell_type": "code",
   "execution_count": 5,
   "metadata": {},
   "outputs": [
    {
     "data": {
      "text/html": [
       "<div>\n",
       "<style>\n",
       "    .dataframe thead tr:only-child th {\n",
       "        text-align: right;\n",
       "    }\n",
       "\n",
       "    .dataframe thead th {\n",
       "        text-align: left;\n",
       "    }\n",
       "\n",
       "    .dataframe tbody tr th {\n",
       "        vertical-align: top;\n",
       "    }\n",
       "</style>\n",
       "<table border=\"1\" class=\"dataframe\">\n",
       "  <thead>\n",
       "    <tr style=\"text-align: right;\">\n",
       "      <th></th>\n",
       "      <th>submitted</th>\n",
       "      <th>applicant_id</th>\n",
       "    </tr>\n",
       "  </thead>\n",
       "  <tbody>\n",
       "    <tr>\n",
       "      <th>0</th>\n",
       "      <td>0</td>\n",
       "      <td>500</td>\n",
       "    </tr>\n",
       "    <tr>\n",
       "      <th>1</th>\n",
       "      <td>1</td>\n",
       "      <td>1500</td>\n",
       "    </tr>\n",
       "  </tbody>\n",
       "</table>\n",
       "</div>"
      ],
      "text/plain": [
       "   submitted  applicant_id\n",
       "0          0           500\n",
       "1          1          1500"
      ]
     },
     "execution_count": 5,
     "metadata": {},
     "output_type": "execute_result"
    }
   ],
   "source": [
    "applications['application_created_at'] = pd.to_datetime(applications.application_created_at)\n",
    "applications['submitted_at'] = pd.to_datetime(applications.submitted_at)\n",
    "applications['submitted'] = np.where(applications['submitted_at'].isnull(), 0, 1)\n",
    "applications.groupby('submitted').agg({'applicant_id': lambda x: len(set(x))}).reset_index()"
   ]
  },
  {
   "cell_type": "markdown",
   "metadata": {},
   "source": [
    "Questions2. What’s the frequency distribution of applicants by different\n",
    "    a. education\n",
    "    b. purpose\n",
    "    c. combination of education and purpose\n",
    "(please there's no values in \"response\", please use \"No Reponse\")\n",
    "(suggestion: the output table after joining will be better to look like: applicant_id, application_created_at, submitted_at, education, purpose)"
   ]
  },
  {
   "cell_type": "code",
   "execution_count": 6,
   "metadata": {
    "scrolled": true
   },
   "outputs": [
    {
     "data": {
      "text/html": [
       "<div>\n",
       "<style>\n",
       "    .dataframe thead tr:only-child th {\n",
       "        text-align: right;\n",
       "    }\n",
       "\n",
       "    .dataframe thead th {\n",
       "        text-align: left;\n",
       "    }\n",
       "\n",
       "    .dataframe tbody tr th {\n",
       "        vertical-align: top;\n",
       "    }\n",
       "</style>\n",
       "<table border=\"1\" class=\"dataframe\">\n",
       "  <thead>\n",
       "    <tr style=\"text-align: right;\">\n",
       "      <th></th>\n",
       "      <th>applicant_id</th>\n",
       "      <th>application_created_at</th>\n",
       "      <th>submitted_at</th>\n",
       "      <th>submitted</th>\n",
       "      <th>question</th>\n",
       "      <th>response</th>\n",
       "      <th>response_</th>\n",
       "    </tr>\n",
       "  </thead>\n",
       "  <tbody>\n",
       "    <tr>\n",
       "      <th>0</th>\n",
       "      <td>6889992485</td>\n",
       "      <td>2017-09-20</td>\n",
       "      <td>2017-09-20</td>\n",
       "      <td>1</td>\n",
       "      <td>education</td>\n",
       "      <td>Bachelor's degree</td>\n",
       "      <td>Bachelor's degree</td>\n",
       "    </tr>\n",
       "    <tr>\n",
       "      <th>1</th>\n",
       "      <td>6889992485</td>\n",
       "      <td>2017-09-20</td>\n",
       "      <td>2017-09-20</td>\n",
       "      <td>1</td>\n",
       "      <td>purpose</td>\n",
       "      <td>Help move from academia to industry</td>\n",
       "      <td>Help move from academia to industry</td>\n",
       "    </tr>\n",
       "    <tr>\n",
       "      <th>2</th>\n",
       "      <td>9661824773</td>\n",
       "      <td>2017-08-30</td>\n",
       "      <td>NaT</td>\n",
       "      <td>0</td>\n",
       "      <td>purpose</td>\n",
       "      <td>NaN</td>\n",
       "      <td>No Response</td>\n",
       "    </tr>\n",
       "    <tr>\n",
       "      <th>3</th>\n",
       "      <td>9661824773</td>\n",
       "      <td>2017-08-30</td>\n",
       "      <td>NaT</td>\n",
       "      <td>0</td>\n",
       "      <td>education</td>\n",
       "      <td>NaN</td>\n",
       "      <td>No Response</td>\n",
       "    </tr>\n",
       "    <tr>\n",
       "      <th>4</th>\n",
       "      <td>10901109380</td>\n",
       "      <td>2017-09-17</td>\n",
       "      <td>NaT</td>\n",
       "      <td>0</td>\n",
       "      <td>purpose</td>\n",
       "      <td>NaN</td>\n",
       "      <td>No Response</td>\n",
       "    </tr>\n",
       "  </tbody>\n",
       "</table>\n",
       "</div>"
      ],
      "text/plain": [
       "  applicant_id application_created_at submitted_at  submitted   question  \\\n",
       "0   6889992485             2017-09-20   2017-09-20          1  education   \n",
       "1   6889992485             2017-09-20   2017-09-20          1    purpose   \n",
       "2   9661824773             2017-08-30          NaT          0    purpose   \n",
       "3   9661824773             2017-08-30          NaT          0  education   \n",
       "4  10901109380             2017-09-17          NaT          0    purpose   \n",
       "\n",
       "                              response                            response_  \n",
       "0                    Bachelor's degree                    Bachelor's degree  \n",
       "1  Help move from academia to industry  Help move from academia to industry  \n",
       "2                                  NaN                          No Response  \n",
       "3                                  NaN                          No Response  \n",
       "4                                  NaN                          No Response  "
      ]
     },
     "execution_count": 6,
     "metadata": {},
     "output_type": "execute_result"
    }
   ],
   "source": [
    "# join tables - method 1, but hard to do c\n",
    "df = pd.merge(applications,questions,on='applicant_id')\n",
    "df['response_'] = np.where(df['response'].isnull(),'No Response',df['response'])\n",
    "df.head()"
   ]
  },
  {
   "cell_type": "code",
   "execution_count": 7,
   "metadata": {},
   "outputs": [
    {
     "data": {
      "text/html": [
       "<div>\n",
       "<style>\n",
       "    .dataframe thead tr:only-child th {\n",
       "        text-align: right;\n",
       "    }\n",
       "\n",
       "    .dataframe thead th {\n",
       "        text-align: left;\n",
       "    }\n",
       "\n",
       "    .dataframe tbody tr th {\n",
       "        vertical-align: top;\n",
       "    }\n",
       "</style>\n",
       "<table border=\"1\" class=\"dataframe\">\n",
       "  <thead>\n",
       "    <tr style=\"text-align: right;\">\n",
       "      <th></th>\n",
       "      <th>applicant_id</th>\n",
       "      <th>application_created_at</th>\n",
       "      <th>submitted_at</th>\n",
       "      <th>submitted</th>\n",
       "      <th>education</th>\n",
       "      <th>purpose</th>\n",
       "    </tr>\n",
       "  </thead>\n",
       "  <tbody>\n",
       "    <tr>\n",
       "      <th>0</th>\n",
       "      <td>6889992485</td>\n",
       "      <td>2017-09-20</td>\n",
       "      <td>2017-09-20</td>\n",
       "      <td>1</td>\n",
       "      <td>Bachelor's degree</td>\n",
       "      <td>Help move from academia to industry</td>\n",
       "    </tr>\n",
       "    <tr>\n",
       "      <th>1</th>\n",
       "      <td>9661824773</td>\n",
       "      <td>2017-08-30</td>\n",
       "      <td>NaT</td>\n",
       "      <td>0</td>\n",
       "      <td>No Response</td>\n",
       "      <td>No Response</td>\n",
       "    </tr>\n",
       "    <tr>\n",
       "      <th>2</th>\n",
       "      <td>10901109380</td>\n",
       "      <td>2017-09-17</td>\n",
       "      <td>NaT</td>\n",
       "      <td>0</td>\n",
       "      <td>No Response</td>\n",
       "      <td>No Response</td>\n",
       "    </tr>\n",
       "    <tr>\n",
       "      <th>3</th>\n",
       "      <td>4654038743</td>\n",
       "      <td>2017-08-29</td>\n",
       "      <td>2017-08-29</td>\n",
       "      <td>1</td>\n",
       "      <td>Master's degree</td>\n",
       "      <td>General interest in the topic (personal growth...</td>\n",
       "    </tr>\n",
       "    <tr>\n",
       "      <th>4</th>\n",
       "      <td>10334260734</td>\n",
       "      <td>2017-08-13</td>\n",
       "      <td>NaT</td>\n",
       "      <td>0</td>\n",
       "      <td>No Response</td>\n",
       "      <td>No Response</td>\n",
       "    </tr>\n",
       "  </tbody>\n",
       "</table>\n",
       "</div>"
      ],
      "text/plain": [
       "  applicant_id application_created_at submitted_at  submitted  \\\n",
       "0   6889992485             2017-09-20   2017-09-20          1   \n",
       "1   9661824773             2017-08-30          NaT          0   \n",
       "2  10901109380             2017-09-17          NaT          0   \n",
       "3   4654038743             2017-08-29   2017-08-29          1   \n",
       "4  10334260734             2017-08-13          NaT          0   \n",
       "\n",
       "           education                                            purpose  \n",
       "0  Bachelor's degree                Help move from academia to industry  \n",
       "1        No Response                                        No Response  \n",
       "2        No Response                                        No Response  \n",
       "3    Master's degree  General interest in the topic (personal growth...  \n",
       "4        No Response                                        No Response  "
      ]
     },
     "execution_count": 7,
     "metadata": {},
     "output_type": "execute_result"
    }
   ],
   "source": [
    "#education\n",
    "educations = questions.loc[questions['question']=='education'].reset_index()\n",
    "educations['education'] = np.where(educations['response'].isnull(),'No Response',educations['response'])\n",
    "educations.columns = ['index','applicant_id','question','response','education']\n",
    "educations = educations.loc[:,('applicant_id','education')]\n",
    "#purpose\n",
    "purposes = questions.loc[questions['question']=='purpose'].reset_index()\n",
    "purposes['purpose'] = np.where(purposes['response'].isnull(),'No Response',purposes['response'])\n",
    "purposes.columns = ['index','applicant_id','question','response','purpose']\n",
    "purposes = purposes.loc[:,('applicant_id','purpose')]\n",
    "#join\n",
    "questions_ = pd.merge(educations,purposes,on='applicant_id')\n",
    "df = pd.merge(applications,questions_,how='left',on='applicant_id')\n",
    "df.head()"
   ]
  },
  {
   "cell_type": "code",
   "execution_count": 8,
   "metadata": {},
   "outputs": [
    {
     "data": {
      "text/plain": [
       "<matplotlib.axes._subplots.AxesSubplot at 0x119a34400>"
      ]
     },
     "execution_count": 8,
     "metadata": {},
     "output_type": "execute_result"
    },
    {
     "data": {
      "image/png": "[encoded data removed]",
      "text/plain": [
       "<matplotlib.figure.Figure at 0x119a596a0>"
      ]
     },
     "metadata": {},
     "output_type": "display_data"
    }
   ],
   "source": [
    "# education\n",
    "sns.barplot(data=df.groupby('education').agg({'applicant_id':lambda x:len(set(x))}).reset_index(),\n",
    "            x='education',y='applicant_id')"
   ]
  },
  {
   "cell_type": "code",
   "execution_count": 9,
   "metadata": {},
   "outputs": [
    {
     "data": {
      "text/plain": [
       "<matplotlib.axes._subplots.AxesSubplot at 0x11cf18f98>"
      ]
     },
     "execution_count": 9,
     "metadata": {},
     "output_type": "execute_result"
    },
    {
     "data": {
      "image/png": "[encoded data removed]",
      "text/plain": [
       "<matplotlib.figure.Figure at 0x11cee3ef0>"
      ]
     },
     "metadata": {},
     "output_type": "display_data"
    }
   ],
   "source": [
    "# purpose\n",
    "sns.barplot(data=df.groupby('purpose').agg({'applicant_id':lambda x:len(set(x))}).reset_index(),\n",
    "            x='purpose',y='applicant_id')"
   ]
  },
  {
   "cell_type": "code",
   "execution_count": 10,
   "metadata": {},
   "outputs": [
    {
     "data": {
      "text/plain": [
       "<matplotlib.axes._subplots.AxesSubplot at 0x11d0bd390>"
      ]
     },
     "execution_count": 10,
     "metadata": {},
     "output_type": "execute_result"
    },
    {
     "data": {
      "image/png": "[encoded data removed]",
      "text/plain": [
       "<matplotlib.figure.Figure at 0x11d0aed30>"
      ]
     },
     "metadata": {},
     "output_type": "display_data"
    }
   ],
   "source": [
    "# combination of education and purpose\n",
    "c = df.groupby(['education', 'purpose']).agg({'applicant_id': lambda x: len(set(x))}).reset_index()\n",
    "c['education+purpose'] = c['education']+c['purpose']\n",
    "sns.barplot(data=c, x='education+purpose', y='applicant_id')"
   ]
  },
  {
   "cell_type": "markdown",
   "metadata": {},
   "source": [
    "Question3. What's the min and max of application_created_at in applications?"
   ]
  },
  {
   "cell_type": "code",
   "execution_count": 11,
   "metadata": {},
   "outputs": [
    {
     "name": "stdout",
     "output_type": "stream",
     "text": [
      "2017-06-20 00:00:00\n",
      "2017-09-27 00:00:00\n"
     ]
    }
   ],
   "source": [
    "print(applications['application_created_at'].min())\n",
    "print(applications['application_created_at'].max())"
   ]
  },
  {
   "cell_type": "markdown",
   "metadata": {},
   "source": [
    "Question4. For those applicants submitted their applications, let’s build a table, and generate a heatmap - For applicants who applied on Jun 20 2017, what proportion of them submit the application in the 1st week (Jun 21 – Jun 27 2016), in the 2nd week (Jun 28 – Jul 4 2016), in the 3rd week (Jul 5 – Jun 11 2017) etc. all the way upto 6 weeks. Calculate averagely, % of application submition in each week, then create a heatmap."
   ]
  },
  {
   "cell_type": "code",
   "execution_count": 12,
   "metadata": {},
   "outputs": [
    {
     "name": "stderr",
     "output_type": "stream",
     "text": [
      "/anaconda/lib/python3.6/site-packages/ipykernel_launcher.py:2: SettingWithCopyWarning: \n",
      "A value is trying to be set on a copy of a slice from a DataFrame.\n",
      "Try using .loc[row_indexer,col_indexer] = value instead\n",
      "\n",
      "See the caveats in the documentation: http://pandas.pydata.org/pandas-docs/stable/indexing.html#indexing-view-versus-copy\n",
      "  \n",
      "/anaconda/lib/python3.6/site-packages/ipykernel_launcher.py:3: SettingWithCopyWarning: \n",
      "A value is trying to be set on a copy of a slice from a DataFrame.\n",
      "Try using .loc[row_indexer,col_indexer] = value instead\n",
      "\n",
      "See the caveats in the documentation: http://pandas.pydata.org/pandas-docs/stable/indexing.html#indexing-view-versus-copy\n",
      "  This is separate from the ipykernel package so we can avoid doing imports until\n"
     ]
    },
    {
     "data": {
      "text/html": [
       "<div>\n",
       "<style>\n",
       "    .dataframe thead tr:only-child th {\n",
       "        text-align: right;\n",
       "    }\n",
       "\n",
       "    .dataframe thead th {\n",
       "        text-align: left;\n",
       "    }\n",
       "\n",
       "    .dataframe tbody tr th {\n",
       "        vertical-align: top;\n",
       "    }\n",
       "</style>\n",
       "<table border=\"1\" class=\"dataframe\">\n",
       "  <thead>\n",
       "    <tr style=\"text-align: right;\">\n",
       "      <th></th>\n",
       "      <th>applicant_id</th>\n",
       "      <th>application_created_at</th>\n",
       "      <th>submitted_at</th>\n",
       "      <th>submitted</th>\n",
       "      <th>education</th>\n",
       "      <th>purpose</th>\n",
       "      <th>weeks_between</th>\n",
       "    </tr>\n",
       "  </thead>\n",
       "  <tbody>\n",
       "    <tr>\n",
       "      <th>0</th>\n",
       "      <td>6889992485</td>\n",
       "      <td>2017-09-20</td>\n",
       "      <td>2017-09-20</td>\n",
       "      <td>1</td>\n",
       "      <td>Bachelor's degree</td>\n",
       "      <td>Help move from academia to industry</td>\n",
       "      <td>0.0</td>\n",
       "    </tr>\n",
       "    <tr>\n",
       "      <th>3</th>\n",
       "      <td>4654038743</td>\n",
       "      <td>2017-08-29</td>\n",
       "      <td>2017-08-29</td>\n",
       "      <td>1</td>\n",
       "      <td>Master's degree</td>\n",
       "      <td>General interest in the topic (personal growth...</td>\n",
       "      <td>0.0</td>\n",
       "    </tr>\n",
       "    <tr>\n",
       "      <th>6</th>\n",
       "      <td>10756434754</td>\n",
       "      <td>2017-07-11</td>\n",
       "      <td>2017-07-11</td>\n",
       "      <td>1</td>\n",
       "      <td>Master's degree</td>\n",
       "      <td>Start a new career in this field</td>\n",
       "      <td>0.0</td>\n",
       "    </tr>\n",
       "    <tr>\n",
       "      <th>7</th>\n",
       "      <td>6772779398</td>\n",
       "      <td>2017-07-25</td>\n",
       "      <td>2017-07-25</td>\n",
       "      <td>1</td>\n",
       "      <td>Master's degree</td>\n",
       "      <td>General interest in the topic (personal growth...</td>\n",
       "      <td>0.0</td>\n",
       "    </tr>\n",
       "    <tr>\n",
       "      <th>11</th>\n",
       "      <td>4660478614</td>\n",
       "      <td>2017-07-25</td>\n",
       "      <td>2017-07-25</td>\n",
       "      <td>1</td>\n",
       "      <td>Master's degree</td>\n",
       "      <td>Start a new career in this field</td>\n",
       "      <td>0.0</td>\n",
       "    </tr>\n",
       "  </tbody>\n",
       "</table>\n",
       "</div>"
      ],
      "text/plain": [
       "   applicant_id application_created_at submitted_at  submitted  \\\n",
       "0    6889992485             2017-09-20   2017-09-20          1   \n",
       "3    4654038743             2017-08-29   2017-08-29          1   \n",
       "6   10756434754             2017-07-11   2017-07-11          1   \n",
       "7    6772779398             2017-07-25   2017-07-25          1   \n",
       "11   4660478614             2017-07-25   2017-07-25          1   \n",
       "\n",
       "            education                                            purpose  \\\n",
       "0   Bachelor's degree                Help move from academia to industry   \n",
       "3     Master's degree  General interest in the topic (personal growth...   \n",
       "6     Master's degree                   Start a new career in this field   \n",
       "7     Master's degree  General interest in the topic (personal growth...   \n",
       "11    Master's degree                   Start a new career in this field   \n",
       "\n",
       "    weeks_between  \n",
       "0             0.0  \n",
       "3             0.0  \n",
       "6             0.0  \n",
       "7             0.0  \n",
       "11            0.0  "
      ]
     },
     "execution_count": 12,
     "metadata": {},
     "output_type": "execute_result"
    }
   ],
   "source": [
    "df_ = df.loc[df['submitted']==1]\n",
    "df_['weeks_between'] = df_.submitted_at - df_.application_created_at\n",
    "df_['weeks_between'] = np.ceil(df_.weeks_between.dt.days/7)\n",
    "df_.head()"
   ]
  },
  {
   "cell_type": "code",
   "execution_count": 13,
   "metadata": {},
   "outputs": [],
   "source": [
    "df_ = df_.query('weeks_between <= 6')"
   ]
  },
  {
   "cell_type": "code",
   "execution_count": 14,
   "metadata": {},
   "outputs": [],
   "source": [
    "df_2 = df_.groupby(['application_created_at', 'weeks_between']).agg({'applicant_id': lambda x: len(set(x))}).reset_index()\n",
    "\n",
    "df_2 = df_2.pivot_table(index='application_created_at', columns='weeks_between', aggfunc=lambda x: x).fillna(0)\n",
    "df_2.columns = df_2.columns.droplevel(0)"
   ]
  },
  {
   "cell_type": "code",
   "execution_count": 15,
   "metadata": {
    "collapsed": true
   },
   "outputs": [],
   "source": [
    "df_apply = df_.groupby(['application_created_at']).agg({'applicant_id':lambda x: x.nunique()})"
   ]
  },
  {
   "cell_type": "code",
   "execution_count": 16,
   "metadata": {},
   "outputs": [
    {
     "data": {
      "text/html": [
       "<div>\n",
       "<style>\n",
       "    .dataframe thead tr:only-child th {\n",
       "        text-align: right;\n",
       "    }\n",
       "\n",
       "    .dataframe thead th {\n",
       "        text-align: left;\n",
       "    }\n",
       "\n",
       "    .dataframe tbody tr th {\n",
       "        vertical-align: top;\n",
       "    }\n",
       "</style>\n",
       "<table border=\"1\" class=\"dataframe\">\n",
       "  <thead>\n",
       "    <tr style=\"text-align: right;\">\n",
       "      <th></th>\n",
       "      <th># apply</th>\n",
       "      <th>% submit in 0th week</th>\n",
       "      <th>% submit in 1th week</th>\n",
       "      <th>% submit in 2th week</th>\n",
       "      <th>% submit in 3th week</th>\n",
       "      <th>% submit in 4th week</th>\n",
       "      <th>% submit in 5th week</th>\n",
       "      <th>% submit in 6th week</th>\n",
       "    </tr>\n",
       "    <tr>\n",
       "      <th>application_created_at</th>\n",
       "      <th></th>\n",
       "      <th></th>\n",
       "      <th></th>\n",
       "      <th></th>\n",
       "      <th></th>\n",
       "      <th></th>\n",
       "      <th></th>\n",
       "      <th></th>\n",
       "    </tr>\n",
       "  </thead>\n",
       "  <tbody>\n",
       "    <tr>\n",
       "      <th>2017-06-20</th>\n",
       "      <td>10</td>\n",
       "      <td>0.500000</td>\n",
       "      <td>0.100000</td>\n",
       "      <td>0.000000</td>\n",
       "      <td>0.200000</td>\n",
       "      <td>0.100000</td>\n",
       "      <td>0.000000</td>\n",
       "      <td>0.100000</td>\n",
       "    </tr>\n",
       "    <tr>\n",
       "      <th>2017-06-21</th>\n",
       "      <td>21</td>\n",
       "      <td>0.857143</td>\n",
       "      <td>0.000000</td>\n",
       "      <td>0.000000</td>\n",
       "      <td>0.047619</td>\n",
       "      <td>0.000000</td>\n",
       "      <td>0.047619</td>\n",
       "      <td>0.047619</td>\n",
       "    </tr>\n",
       "    <tr>\n",
       "      <th>2017-06-22</th>\n",
       "      <td>17</td>\n",
       "      <td>0.588235</td>\n",
       "      <td>0.176471</td>\n",
       "      <td>0.000000</td>\n",
       "      <td>0.058824</td>\n",
       "      <td>0.058824</td>\n",
       "      <td>0.058824</td>\n",
       "      <td>0.058824</td>\n",
       "    </tr>\n",
       "    <tr>\n",
       "      <th>2017-06-23</th>\n",
       "      <td>21</td>\n",
       "      <td>0.619048</td>\n",
       "      <td>0.095238</td>\n",
       "      <td>0.000000</td>\n",
       "      <td>0.000000</td>\n",
       "      <td>0.190476</td>\n",
       "      <td>0.047619</td>\n",
       "      <td>0.047619</td>\n",
       "    </tr>\n",
       "    <tr>\n",
       "      <th>2017-06-24</th>\n",
       "      <td>7</td>\n",
       "      <td>0.714286</td>\n",
       "      <td>0.142857</td>\n",
       "      <td>0.000000</td>\n",
       "      <td>0.000000</td>\n",
       "      <td>0.000000</td>\n",
       "      <td>0.000000</td>\n",
       "      <td>0.142857</td>\n",
       "    </tr>\n",
       "    <tr>\n",
       "      <th>2017-06-25</th>\n",
       "      <td>13</td>\n",
       "      <td>0.615385</td>\n",
       "      <td>0.230769</td>\n",
       "      <td>0.000000</td>\n",
       "      <td>0.076923</td>\n",
       "      <td>0.076923</td>\n",
       "      <td>0.000000</td>\n",
       "      <td>0.000000</td>\n",
       "    </tr>\n",
       "    <tr>\n",
       "      <th>2017-06-26</th>\n",
       "      <td>11</td>\n",
       "      <td>0.727273</td>\n",
       "      <td>0.090909</td>\n",
       "      <td>0.090909</td>\n",
       "      <td>0.000000</td>\n",
       "      <td>0.000000</td>\n",
       "      <td>0.090909</td>\n",
       "      <td>0.000000</td>\n",
       "    </tr>\n",
       "    <tr>\n",
       "      <th>2017-06-27</th>\n",
       "      <td>12</td>\n",
       "      <td>0.750000</td>\n",
       "      <td>0.000000</td>\n",
       "      <td>0.083333</td>\n",
       "      <td>0.083333</td>\n",
       "      <td>0.000000</td>\n",
       "      <td>0.083333</td>\n",
       "      <td>0.000000</td>\n",
       "    </tr>\n",
       "    <tr>\n",
       "      <th>2017-06-28</th>\n",
       "      <td>16</td>\n",
       "      <td>0.625000</td>\n",
       "      <td>0.062500</td>\n",
       "      <td>0.000000</td>\n",
       "      <td>0.062500</td>\n",
       "      <td>0.000000</td>\n",
       "      <td>0.250000</td>\n",
       "      <td>0.000000</td>\n",
       "    </tr>\n",
       "    <tr>\n",
       "      <th>2017-06-29</th>\n",
       "      <td>26</td>\n",
       "      <td>0.769231</td>\n",
       "      <td>0.038462</td>\n",
       "      <td>0.000000</td>\n",
       "      <td>0.038462</td>\n",
       "      <td>0.076923</td>\n",
       "      <td>0.076923</td>\n",
       "      <td>0.000000</td>\n",
       "    </tr>\n",
       "  </tbody>\n",
       "</table>\n",
       "</div>"
      ],
      "text/plain": [
       "                        # apply  % submit in 0th week  % submit in 1th week  \\\n",
       "application_created_at                                                        \n",
       "2017-06-20                   10              0.500000              0.100000   \n",
       "2017-06-21                   21              0.857143              0.000000   \n",
       "2017-06-22                   17              0.588235              0.176471   \n",
       "2017-06-23                   21              0.619048              0.095238   \n",
       "2017-06-24                    7              0.714286              0.142857   \n",
       "2017-06-25                   13              0.615385              0.230769   \n",
       "2017-06-26                   11              0.727273              0.090909   \n",
       "2017-06-27                   12              0.750000              0.000000   \n",
       "2017-06-28                   16              0.625000              0.062500   \n",
       "2017-06-29                   26              0.769231              0.038462   \n",
       "\n",
       "                        % submit in 2th week  % submit in 3th week  \\\n",
       "application_created_at                                               \n",
       "2017-06-20                          0.000000              0.200000   \n",
       "2017-06-21                          0.000000              0.047619   \n",
       "2017-06-22                          0.000000              0.058824   \n",
       "2017-06-23                          0.000000              0.000000   \n",
       "2017-06-24                          0.000000              0.000000   \n",
       "2017-06-25                          0.000000              0.076923   \n",
       "2017-06-26                          0.090909              0.000000   \n",
       "2017-06-27                          0.083333              0.083333   \n",
       "2017-06-28                          0.000000              0.062500   \n",
       "2017-06-29                          0.000000              0.038462   \n",
       "\n",
       "                        % submit in 4th week  % submit in 5th week  \\\n",
       "application_created_at                                               \n",
       "2017-06-20                          0.100000              0.000000   \n",
       "2017-06-21                          0.000000              0.047619   \n",
       "2017-06-22                          0.058824              0.058824   \n",
       "2017-06-23                          0.190476              0.047619   \n",
       "2017-06-24                          0.000000              0.000000   \n",
       "2017-06-25                          0.076923              0.000000   \n",
       "2017-06-26                          0.000000              0.090909   \n",
       "2017-06-27                          0.000000              0.083333   \n",
       "2017-06-28                          0.000000              0.250000   \n",
       "2017-06-29                          0.076923              0.076923   \n",
       "\n",
       "                        % submit in 6th week  \n",
       "application_created_at                        \n",
       "2017-06-20                          0.100000  \n",
       "2017-06-21                          0.047619  \n",
       "2017-06-22                          0.058824  \n",
       "2017-06-23                          0.047619  \n",
       "2017-06-24                          0.142857  \n",
       "2017-06-25                          0.000000  \n",
       "2017-06-26                          0.000000  \n",
       "2017-06-27                          0.000000  \n",
       "2017-06-28                          0.000000  \n",
       "2017-06-29                          0.000000  "
      ]
     },
     "execution_count": 16,
     "metadata": {},
     "output_type": "execute_result"
    }
   ],
   "source": [
    "df_3 = pd.concat([df_apply, df_2], axis=1).apply(lambda x: x/x['applicant_id'], axis=1).drop('applicant_id', axis=1)\n",
    "df_3.columns = ['% submit in {}th week'.format(int(i)) for i in df_3.columns]\n",
    "df_3 = pd.concat([df_apply.rename(columns={'applicant_id': '# apply'}), df_3], axis=1)\n",
    "df_3.head(10)"
   ]
  },
  {
   "cell_type": "code",
   "execution_count": 17,
   "metadata": {},
   "outputs": [
    {
     "data": {
      "text/plain": [
       "# apply                 14.960000\n",
       "% submit in 0th week     0.790215\n",
       "% submit in 1th week     0.114520\n",
       "% submit in 2th week     0.028895\n",
       "% submit in 3th week     0.027098\n",
       "% submit in 4th week     0.015941\n",
       "% submit in 5th week     0.015441\n",
       "% submit in 6th week     0.007890\n",
       "dtype: float64"
      ]
     },
     "execution_count": 17,
     "metadata": {},
     "output_type": "execute_result"
    }
   ],
   "source": [
    "df_3.mean(axis = 0)"
   ]
  },
  {
   "cell_type": "code",
   "execution_count": 18,
   "metadata": {
    "scrolled": true
   },
   "outputs": [
    {
     "data": {
      "text/plain": [
       "<matplotlib.axes._subplots.AxesSubplot at 0x11d205fd0>"
      ]
     },
     "execution_count": 18,
     "metadata": {},
     "output_type": "execute_result"
    },
    {
     "data": {
      "image/png": "[encoded data removed]",
      "text/plain": [
       "<matplotlib.figure.Figure at 0x11d1e5a90>"
      ]
     },
     "metadata": {},
     "output_type": "display_data"
    }
   ],
   "source": [
    "fig, ax = plt.subplots(figsize=(10, 30))\n",
    "sns.heatmap(df_3.iloc[:, range(1, df_3.shape[1])])"
   ]
  },
  {
   "cell_type": "markdown",
   "metadata": {},
   "source": [
    "Question5. Similar to the table you created in Q4, what if we were to build it for just two days – 27th June 2017 and 19th Sep 2017, but segmented by education? Depict this graphically. Does the submition vary by different education?"
   ]
  },
  {
   "cell_type": "code",
   "execution_count": 19,
   "metadata": {},
   "outputs": [
    {
     "data": {
      "text/plain": [
       "2017-09-19    33\n",
       "2017-06-27    16\n",
       "Name: application_created_at, dtype: int64"
      ]
     },
     "execution_count": 19,
     "metadata": {},
     "output_type": "execute_result"
    }
   ],
   "source": [
    "df_5 = df.query('application_created_at==\"2017-06-27\" | application_created_at== \"2017-09-19\"').copy()\n",
    "df_5.application_created_at.value_counts()"
   ]
  },
  {
   "cell_type": "code",
   "execution_count": 24,
   "metadata": {},
   "outputs": [],
   "source": [
    "# calculate weeks between apply and submit\n",
    "df_5['weeks_between'] = df_5.submitted_at - df_5.application_created_at\n",
    "df_5['weeks_between'] = np.ceil(df_5.weeks_between.dt.days/7)"
   ]
  },
  {
   "cell_type": "code",
   "execution_count": 25,
   "metadata": {
    "collapsed": true
   },
   "outputs": [],
   "source": [
    "df_5_2 = df_5.groupby(['application_created_at','education','weeks_between']).agg({'applicant_id': lambda x: len(set(x))}).reset_index()\n",
    "\n",
    "df_5_2 = df_5_2.pivot_table(index=['application_created_at','education'], columns='weeks_between', aggfunc=lambda x: x).fillna(0)\n",
    "df_5_2.columns = df_5_2.columns.droplevel(0)"
   ]
  },
  {
   "cell_type": "code",
   "execution_count": 26,
   "metadata": {
    "collapsed": true
   },
   "outputs": [],
   "source": [
    "df_5_apply = df_5.groupby(['application_created_at','education']).agg({'applicant_id':lambda x: x.nunique()})"
   ]
  },
  {
   "cell_type": "code",
   "execution_count": 27,
   "metadata": {},
   "outputs": [
    {
     "data": {
      "text/html": [
       "<div>\n",
       "<style>\n",
       "    .dataframe thead tr:only-child th {\n",
       "        text-align: right;\n",
       "    }\n",
       "\n",
       "    .dataframe thead th {\n",
       "        text-align: left;\n",
       "    }\n",
       "\n",
       "    .dataframe tbody tr th {\n",
       "        vertical-align: top;\n",
       "    }\n",
       "</style>\n",
       "<table border=\"1\" class=\"dataframe\">\n",
       "  <thead>\n",
       "    <tr style=\"text-align: right;\">\n",
       "      <th></th>\n",
       "      <th></th>\n",
       "      <th># apply</th>\n",
       "      <th>% submit in 0th week</th>\n",
       "      <th>% submit in 1th week</th>\n",
       "      <th>% submit in 2th week</th>\n",
       "      <th>% submit in 3th week</th>\n",
       "      <th>% submit in 5th week</th>\n",
       "    </tr>\n",
       "    <tr>\n",
       "      <th>application_created_at</th>\n",
       "      <th>education</th>\n",
       "      <th></th>\n",
       "      <th></th>\n",
       "      <th></th>\n",
       "      <th></th>\n",
       "      <th></th>\n",
       "      <th></th>\n",
       "    </tr>\n",
       "  </thead>\n",
       "  <tbody>\n",
       "    <tr>\n",
       "      <th rowspan=\"5\" valign=\"top\">2017-06-27</th>\n",
       "      <th>Bachelor's degree</th>\n",
       "      <td>6</td>\n",
       "      <td>0.833333</td>\n",
       "      <td>0.000</td>\n",
       "      <td>0.000000</td>\n",
       "      <td>0.000000</td>\n",
       "      <td>0.166667</td>\n",
       "    </tr>\n",
       "    <tr>\n",
       "      <th>High school degree</th>\n",
       "      <td>1</td>\n",
       "      <td>1.000000</td>\n",
       "      <td>0.000</td>\n",
       "      <td>0.000000</td>\n",
       "      <td>0.000000</td>\n",
       "      <td>0.000000</td>\n",
       "    </tr>\n",
       "    <tr>\n",
       "      <th>Master's degree</th>\n",
       "      <td>6</td>\n",
       "      <td>0.333333</td>\n",
       "      <td>0.000</td>\n",
       "      <td>0.166667</td>\n",
       "      <td>0.166667</td>\n",
       "      <td>0.000000</td>\n",
       "    </tr>\n",
       "    <tr>\n",
       "      <th>No Response</th>\n",
       "      <td>2</td>\n",
       "      <td>NaN</td>\n",
       "      <td>NaN</td>\n",
       "      <td>NaN</td>\n",
       "      <td>NaN</td>\n",
       "      <td>NaN</td>\n",
       "    </tr>\n",
       "    <tr>\n",
       "      <th>Other</th>\n",
       "      <td>1</td>\n",
       "      <td>1.000000</td>\n",
       "      <td>0.000</td>\n",
       "      <td>0.000000</td>\n",
       "      <td>0.000000</td>\n",
       "      <td>0.000000</td>\n",
       "    </tr>\n",
       "    <tr>\n",
       "      <th rowspan=\"5\" valign=\"top\">2017-09-19</th>\n",
       "      <th>Bachelor's degree</th>\n",
       "      <td>13</td>\n",
       "      <td>0.923077</td>\n",
       "      <td>0.000</td>\n",
       "      <td>0.000000</td>\n",
       "      <td>0.000000</td>\n",
       "      <td>0.000000</td>\n",
       "    </tr>\n",
       "    <tr>\n",
       "      <th>High school degree</th>\n",
       "      <td>7</td>\n",
       "      <td>0.857143</td>\n",
       "      <td>0.000</td>\n",
       "      <td>0.000000</td>\n",
       "      <td>0.000000</td>\n",
       "      <td>0.000000</td>\n",
       "    </tr>\n",
       "    <tr>\n",
       "      <th>Master's degree</th>\n",
       "      <td>8</td>\n",
       "      <td>0.875000</td>\n",
       "      <td>0.125</td>\n",
       "      <td>0.000000</td>\n",
       "      <td>0.000000</td>\n",
       "      <td>0.000000</td>\n",
       "    </tr>\n",
       "    <tr>\n",
       "      <th>No Response</th>\n",
       "      <td>3</td>\n",
       "      <td>NaN</td>\n",
       "      <td>NaN</td>\n",
       "      <td>NaN</td>\n",
       "      <td>NaN</td>\n",
       "      <td>NaN</td>\n",
       "    </tr>\n",
       "    <tr>\n",
       "      <th>PhD</th>\n",
       "      <td>2</td>\n",
       "      <td>1.000000</td>\n",
       "      <td>0.000</td>\n",
       "      <td>0.000000</td>\n",
       "      <td>0.000000</td>\n",
       "      <td>0.000000</td>\n",
       "    </tr>\n",
       "  </tbody>\n",
       "</table>\n",
       "</div>"
      ],
      "text/plain": [
       "                                           # apply  % submit in 0th week  \\\n",
       "application_created_at education                                           \n",
       "2017-06-27             Bachelor's degree         6              0.833333   \n",
       "                       High school degree        1              1.000000   \n",
       "                       Master's degree           6              0.333333   \n",
       "                       No Response               2                   NaN   \n",
       "                       Other                     1              1.000000   \n",
       "2017-09-19             Bachelor's degree        13              0.923077   \n",
       "                       High school degree        7              0.857143   \n",
       "                       Master's degree           8              0.875000   \n",
       "                       No Response               3                   NaN   \n",
       "                       PhD                       2              1.000000   \n",
       "\n",
       "                                           % submit in 1th week  \\\n",
       "application_created_at education                                  \n",
       "2017-06-27             Bachelor's degree                  0.000   \n",
       "                       High school degree                 0.000   \n",
       "                       Master's degree                    0.000   \n",
       "                       No Response                          NaN   \n",
       "                       Other                              0.000   \n",
       "2017-09-19             Bachelor's degree                  0.000   \n",
       "                       High school degree                 0.000   \n",
       "                       Master's degree                    0.125   \n",
       "                       No Response                          NaN   \n",
       "                       PhD                                0.000   \n",
       "\n",
       "                                           % submit in 2th week  \\\n",
       "application_created_at education                                  \n",
       "2017-06-27             Bachelor's degree               0.000000   \n",
       "                       High school degree              0.000000   \n",
       "                       Master's degree                 0.166667   \n",
       "                       No Response                          NaN   \n",
       "                       Other                           0.000000   \n",
       "2017-09-19             Bachelor's degree               0.000000   \n",
       "                       High school degree              0.000000   \n",
       "                       Master's degree                 0.000000   \n",
       "                       No Response                          NaN   \n",
       "                       PhD                             0.000000   \n",
       "\n",
       "                                           % submit in 3th week  \\\n",
       "application_created_at education                                  \n",
       "2017-06-27             Bachelor's degree               0.000000   \n",
       "                       High school degree              0.000000   \n",
       "                       Master's degree                 0.166667   \n",
       "                       No Response                          NaN   \n",
       "                       Other                           0.000000   \n",
       "2017-09-19             Bachelor's degree               0.000000   \n",
       "                       High school degree              0.000000   \n",
       "                       Master's degree                 0.000000   \n",
       "                       No Response                          NaN   \n",
       "                       PhD                             0.000000   \n",
       "\n",
       "                                           % submit in 5th week  \n",
       "application_created_at education                                 \n",
       "2017-06-27             Bachelor's degree               0.166667  \n",
       "                       High school degree              0.000000  \n",
       "                       Master's degree                 0.000000  \n",
       "                       No Response                          NaN  \n",
       "                       Other                           0.000000  \n",
       "2017-09-19             Bachelor's degree               0.000000  \n",
       "                       High school degree              0.000000  \n",
       "                       Master's degree                 0.000000  \n",
       "                       No Response                          NaN  \n",
       "                       PhD                             0.000000  "
      ]
     },
     "execution_count": 27,
     "metadata": {},
     "output_type": "execute_result"
    }
   ],
   "source": [
    "df_5_3 = pd.concat([df_5_apply, df_5_2], axis=1).apply(lambda x: x/x['applicant_id'], axis=1).drop('applicant_id', axis=1)\n",
    "df_5_3.columns = ['% submit in {}th week'.format(int(i)) for i in df_5_3.columns]\n",
    "df_5_3 = pd.concat([df_5_apply.rename(columns={'applicant_id': '# apply'}), df_5_3], axis=1)\n",
    "df_5_3.head(10)"
   ]
  },
  {
   "cell_type": "markdown",
   "metadata": {},
   "source": [
    "Question6. In Question1, you created a column called \"submitted\" (1/0), now use \"education\" and \"purpose\" to create a logistics regression model to predict \"submitted\". Please exclude \"No Response\" and \"Other\" in the model. Are \"education\" or \"purpose\" affecting \"submitted\"? What's your suggestion?"
   ]
  },
  {
   "cell_type": "code",
   "execution_count": 28,
   "metadata": {},
   "outputs": [
    {
     "name": "stderr",
     "output_type": "stream",
     "text": [
      "/anaconda/lib/python3.6/site-packages/statsmodels/compat/pandas.py:56: FutureWarning: The pandas.core.datetools module is deprecated and will be removed in a future version. Please use the pandas.tseries module instead.\n",
      "  from pandas.core import datetools\n"
     ]
    }
   ],
   "source": [
    "import statsmodels.api as sm"
   ]
  },
  {
   "cell_type": "code",
   "execution_count": 29,
   "metadata": {
    "collapsed": true
   },
   "outputs": [],
   "source": [
    "education_dummies = pd.get_dummies(df.education)\n",
    "purpose_dummies = pd.get_dummies(df.purpose)\n",
    "data = pd.concat([df.submitted,education_dummies,purpose_dummies],axis=1)"
   ]
  },
  {
   "cell_type": "code",
   "execution_count": 30,
   "metadata": {
    "scrolled": true
   },
   "outputs": [],
   "source": [
    "train_cols = [\"Bachelor's degree\",\"High school degree\",\"Master's degree\",\"PhD\"\n",
    "              ,\"General interest in the topic (personal growth and enrichment)\",\"Grow skills for my current role\"\n",
    "              ,\"Help move from academia to industry\",\"Help prepare for an advanced degree\"\n",
    "              ,\"Start a new career in this field\"]\n",
    "logit = sm.Logit(data['submitted'],data[train_cols])"
   ]
  },
  {
   "cell_type": "code",
   "execution_count": 31,
   "metadata": {},
   "outputs": [
    {
     "name": "stdout",
     "output_type": "stream",
     "text": [
      "Optimization terminated successfully.\n",
      "         Current function value: 0.305477\n",
      "         Iterations 8\n"
     ]
    },
    {
     "data": {
      "text/html": [
       "<table class=\"simpletable\">\n",
       "<caption>Logit Regression Results</caption>\n",
       "<tr>\n",
       "  <th>Dep. Variable:</th>     <td>submitted</td>    <th>  No. Observations:  </th>   <td>  2000</td>  \n",
       "</tr>\n",
       "<tr>\n",
       "  <th>Model:</th>               <td>Logit</td>      <th>  Df Residuals:      </th>   <td>  1991</td>  \n",
       "</tr>\n",
       "<tr>\n",
       "  <th>Method:</th>               <td>MLE</td>       <th>  Df Model:          </th>   <td>     8</td>  \n",
       "</tr>\n",
       "<tr>\n",
       "  <th>Date:</th>          <td>Thu, 28 Sep 2017</td> <th>  Pseudo R-squ.:     </th>   <td>0.4568</td>  \n",
       "</tr>\n",
       "<tr>\n",
       "  <th>Time:</th>              <td>14:45:03</td>     <th>  Log-Likelihood:    </th>  <td> -610.95</td> \n",
       "</tr>\n",
       "<tr>\n",
       "  <th>converged:</th>           <td>True</td>       <th>  LL-Null:           </th>  <td> -1124.7</td> \n",
       "</tr>\n",
       "<tr>\n",
       "  <th> </th>                      <td> </td>        <th>  LLR p-value:       </th> <td>1.787e-216</td>\n",
       "</tr>\n",
       "</table>\n",
       "<table class=\"simpletable\">\n",
       "<tr>\n",
       "                                 <td></td>                                   <th>coef</th>     <th>std err</th>      <th>z</th>      <th>P>|z|</th>  <th>[0.025</th>    <th>0.975]</th>  \n",
       "</tr>\n",
       "<tr>\n",
       "  <th>Bachelor's degree</th>                                              <td>   -1.1579</td> <td>    0.238</td> <td>   -4.874</td> <td> 0.000</td> <td>   -1.624</td> <td>   -0.692</td>\n",
       "</tr>\n",
       "<tr>\n",
       "  <th>High school degree</th>                                             <td>   -1.1547</td> <td>    0.269</td> <td>   -4.301</td> <td> 0.000</td> <td>   -1.681</td> <td>   -0.628</td>\n",
       "</tr>\n",
       "<tr>\n",
       "  <th>Master's degree</th>                                                <td>   -0.6247</td> <td>    0.268</td> <td>   -2.327</td> <td> 0.020</td> <td>   -1.151</td> <td>   -0.098</td>\n",
       "</tr>\n",
       "<tr>\n",
       "  <th>PhD</th>                                                            <td>   -0.9503</td> <td>    0.559</td> <td>   -1.699</td> <td> 0.089</td> <td>   -2.046</td> <td>    0.146</td>\n",
       "</tr>\n",
       "<tr>\n",
       "  <th>General interest in the topic (personal growth and enrichment)</th> <td>    3.4971</td> <td>    0.317</td> <td>   11.038</td> <td> 0.000</td> <td>    2.876</td> <td>    4.118</td>\n",
       "</tr>\n",
       "<tr>\n",
       "  <th>Grow skills for my current role</th>                                <td>    4.1568</td> <td>    0.320</td> <td>   12.973</td> <td> 0.000</td> <td>    3.529</td> <td>    4.785</td>\n",
       "</tr>\n",
       "<tr>\n",
       "  <th>Help move from academia to industry</th>                            <td>    4.0909</td> <td>    0.503</td> <td>    8.132</td> <td> 0.000</td> <td>    3.105</td> <td>    5.077</td>\n",
       "</tr>\n",
       "<tr>\n",
       "  <th>Help prepare for an advanced degree</th>                            <td>    4.6627</td> <td>    0.621</td> <td>    7.508</td> <td> 0.000</td> <td>    3.446</td> <td>    5.880</td>\n",
       "</tr>\n",
       "<tr>\n",
       "  <th>Start a new career in this field</th>                               <td>    3.7141</td> <td>    0.265</td> <td>   14.037</td> <td> 0.000</td> <td>    3.196</td> <td>    4.233</td>\n",
       "</tr>\n",
       "</table>"
      ],
      "text/plain": [
       "<class 'statsmodels.iolib.summary.Summary'>\n",
       "\"\"\"\n",
       "                           Logit Regression Results                           \n",
       "==============================================================================\n",
       "Dep. Variable:              submitted   No. Observations:                 2000\n",
       "Model:                          Logit   Df Residuals:                     1991\n",
       "Method:                           MLE   Df Model:                            8\n",
       "Date:                Thu, 28 Sep 2017   Pseudo R-squ.:                  0.4568\n",
       "Time:                        14:45:03   Log-Likelihood:                -610.95\n",
       "converged:                       True   LL-Null:                       -1124.7\n",
       "                                        LLR p-value:                1.787e-216\n",
       "==================================================================================================================================\n",
       "                                                                     coef    std err          z      P>|z|      [0.025      0.975]\n",
       "----------------------------------------------------------------------------------------------------------------------------------\n",
       "Bachelor's degree                                                 -1.1579      0.238     -4.874      0.000      -1.624      -0.692\n",
       "High school degree                                                -1.1547      0.269     -4.301      0.000      -1.681      -0.628\n",
       "Master's degree                                                   -0.6247      0.268     -2.327      0.020      -1.151      -0.098\n",
       "PhD                                                               -0.9503      0.559     -1.699      0.089      -2.046       0.146\n",
       "General interest in the topic (personal growth and enrichment)     3.4971      0.317     11.038      0.000       2.876       4.118\n",
       "Grow skills for my current role                                    4.1568      0.320     12.973      0.000       3.529       4.785\n",
       "Help move from academia to industry                                4.0909      0.503      8.132      0.000       3.105       5.077\n",
       "Help prepare for an advanced degree                                4.6627      0.621      7.508      0.000       3.446       5.880\n",
       "Start a new career in this field                                   3.7141      0.265     14.037      0.000       3.196       4.233\n",
       "==================================================================================================================================\n",
       "\"\"\""
      ]
     },
     "execution_count": 31,
     "metadata": {},
     "output_type": "execute_result"
    }
   ],
   "source": [
    "logit.fit().summary()"
   ]
  }
 ],
 "metadata": {
  "kernelspec": {
   "display_name": "Python 3",
   "language": "python",
   "name": "python3"
  },
  "language_info": {
   "codemirror_mode": {
    "name": "ipython",
    "version": 3
   },
   "file_extension": ".py",
   "mimetype": "text/x-python",
   "name": "python",
   "nbconvert_exporter": "python",
   "pygments_lexer": "ipython3",
   "version": "3.6.1"
  }
 },
 "nbformat": 4,
 "nbformat_minor": 2
}
